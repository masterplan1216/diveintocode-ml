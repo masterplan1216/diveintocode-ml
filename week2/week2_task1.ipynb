{
 "cells": [
  {
   "cell_type": "markdown",
   "metadata": {},
   "source": [
    "## **二次元配列と勾配問題**"
   ]
  },
  {
   "cell_type": "markdown",
   "metadata": {},
   "source": [
    "**【問題1】1次関数**  \n",
    "$x$が-50から50の範囲で次の式を考えます。\n",
    "\n",
    "$$\n",
    "y=\\frac{1}{2}x+1\n",
    "$$\n",
    "\n",
    "-50から50まで0.1間隔のxを表すndarrayと、各要素に対するyを表すndarrayを作成してください。"
   ]
  },
  {
   "cell_type": "code",
   "execution_count": 1,
   "metadata": {},
   "outputs": [],
   "source": [
    "import numpy as np\n",
    "import matplotlib.pyplot as plt\n",
    "from decimal import Decimal, ROUND_HALF_UP, ROUND_HALF_EVEN\n",
    "import math\n",
    "np.set_printoptions(threshold=100) "
   ]
  },
  {
   "cell_type": "code",
   "execution_count": 2,
   "metadata": {},
   "outputs": [
    {
     "name": "stdout",
     "output_type": "stream",
     "text": [
      "[-50.  -49.9 -49.8 ...  49.8  49.9  50. ]\n",
      "(1001,)\n"
     ]
    }
   ],
   "source": [
    "x_ndarray = np.arange(-50, 50.1, 0.1)\n",
    "print(x_ndarray)\n",
    "print(x_ndarray.shape)"
   ]
  },
  {
   "cell_type": "code",
   "execution_count": 3,
   "metadata": {},
   "outputs": [
    {
     "name": "stdout",
     "output_type": "stream",
     "text": [
      "[-24.   -23.95 -23.9  ...  25.9   25.95  26.  ]\n",
      "(1001,)\n"
     ]
    }
   ],
   "source": [
    "y_ndarray = (1/2)*x_ndarray + 1\n",
    "print(y_ndarray)\n",
    "print(y_ndarray.shape)"
   ]
  },
  {
   "cell_type": "markdown",
   "metadata": {},
   "source": [
    "***"
   ]
  },
  {
   "cell_type": "markdown",
   "metadata": {},
   "source": [
    "**【問題2】配列の結合**  \n",
    "問題1で作成したndarrayを結合し、(1001, 2)の形の配列にしてください。0列目にx、1列目にyが来るようにします。"
   ]
  },
  {
   "cell_type": "code",
   "execution_count": 4,
   "metadata": {
    "scrolled": true
   },
   "outputs": [
    {
     "name": "stdout",
     "output_type": "stream",
     "text": [
      "[[-50.   -24.  ]\n",
      " [-49.9  -23.95]\n",
      " [-49.8  -23.9 ]\n",
      " ...\n",
      " [ 49.8   25.9 ]\n",
      " [ 49.9   25.95]\n",
      " [ 50.    26.  ]]\n",
      "(1001, 2)\n"
     ]
    }
   ],
   "source": [
    "x_ndarray = x_ndarray.reshape(1001, 1)\n",
    "y_ndarray = y_ndarray.reshape(1001, 1)\n",
    "\n",
    "xy_ndarray = np.concatenate((x_ndarray, y_ndarray), axis=1)\n",
    "print(xy_ndarray)\n",
    "print(xy_ndarray.shape)"
   ]
  },
  {
   "cell_type": "markdown",
   "metadata": {},
   "source": [
    "***"
   ]
  },
  {
   "cell_type": "markdown",
   "metadata": {},
   "source": [
    "**【問題3】勾配を求める**  \n",
    "各x座標における勾配を求めます。ここで勾配はyの変化量をxの変化量で割ることで計算します。  \n",
    "![代替テキスト](https://t.gyazo.com/teams/diveintocode/7fd04c4808b8a0150a49c908e21f3cd2.png)  \n",
    "\n",
    "各変化量は以下の図のように隣同士の要素の差から近似的に求めます。\n",
    "![](https://t.gyazo.com/teams/diveintocode/398d8c5b4b1bd4151dea6488059226a1.png)  \n",
    "\n",
    "《注意》  \n",
    "- 厳密に各点における勾配を求めるには極限（微分）を利用する必要があります\n",
    "- 勾配はx座標の間隔を使うので、xの要素数に対して一つ少なくなります"
   ]
  },
  {
   "cell_type": "code",
   "execution_count": 5,
   "metadata": {},
   "outputs": [
    {
     "name": "stdout",
     "output_type": "stream",
     "text": [
      "[[0.5]\n",
      " [0.5]\n",
      " [0.5]\n",
      " ...\n",
      " [0.5]\n",
      " [0.5]\n",
      " [0.5]]\n",
      "1000\n"
     ]
    }
   ],
   "source": [
    "gradient_ndarray = (y_ndarray[1:] - y_ndarray[:-1]) / (x_ndarray[1:] - x_ndarray[:-1]) \n",
    "print(gradient_ndarray)\n",
    "print(len(gradient_ndarray))"
   ]
  },
  {
   "cell_type": "markdown",
   "metadata": {},
   "source": [
    "各x座標における勾配は0.5"
   ]
  },
  {
   "cell_type": "markdown",
   "metadata": {},
   "source": [
    "***"
   ]
  },
  {
   "cell_type": "markdown",
   "metadata": {},
   "source": [
    "**【問題4】グラフを描く**  \n",
    "1次関数のグラフをMatplotlibを用いて描いてください。また、それとは別に横軸をx、縦軸を勾配としたグラフも描いてください。"
   ]
  },
  {
   "cell_type": "code",
   "execution_count": 6,
   "metadata": {},
   "outputs": [
    {
     "data": {
      "image/png": "[encoded data removed]",
      "text/plain": [
       "<Figure size 432x288 with 1 Axes>"
      ]
     },
     "metadata": {
      "needs_background": "light"
     },
     "output_type": "display_data"
    }
   ],
   "source": [
    "plt.plot(x_ndarray, y_ndarray)\n",
    "plt.title(\"y = (1/2)x + 1\")\n",
    "plt.xlabel(\"x\")\n",
    "plt.ylabel(\"y\")\n",
    "plt.show()"
   ]
  },
  {
   "cell_type": "code",
   "execution_count": 7,
   "metadata": {},
   "outputs": [
    {
     "data": {
      "image/png": "[encoded data removed]",
      "text/plain": [
       "<Figure size 432x288 with 1 Axes>"
      ]
     },
     "metadata": {
      "needs_background": "light"
     },
     "output_type": "display_data"
    }
   ],
   "source": [
    "plt.plot(x_ndarray[:-1], gradient_ndarray)\n",
    "plt.title(\"y = 0.5\")\n",
    "plt.xlabel(\"x\")\n",
    "plt.ylabel(\"gradient\") #勾配\n",
    "plt.show()"
   ]
  },
  {
   "cell_type": "markdown",
   "metadata": {},
   "source": [
    "***"
   ]
  },
  {
   "cell_type": "markdown",
   "metadata": {},
   "source": [
    "**【問題5】Pythonの関数化**  \n",
    "問題1から問題3までの範囲をまとめて行うPythonの関数を雛形を参考に作成してください。\n",
    "\n",
    "\n",
    "そして、以下の3式の勾配を0.1間隔で求めてndarrayで出力してください。  \n",
    "\n",
    "$$\n",
    "y = x^2~~~~~(-50 \\leq x \\leq 50)\n",
    "$$  \n",
    "$$\n",
    "y = 2x^2 + 2^x~~~~~(-50 \\leq x \\leq 50)\n",
    "$$  \n",
    "$$\n",
    "y = \\sin (x^\\frac{1}{2})~~~~~(0 \\leq x \\leq 50)\n",
    "$$  \n",
    "\n",
    "また、問題4と同様にグラフを描いてください。\n",
    "\n",
    "ndarrayに対して三角関数のsinの計算を行うには np.sin()を用います。  \n",
    "\n",
    "[numpy.sin — NumPy v1.19 Manual](https://numpy.org/doc/stable/reference/generated/numpy.sin.html#numpy.sin)"
   ]
  },
  {
   "cell_type": "code",
   "execution_count": 8,
   "metadata": {},
   "outputs": [],
   "source": [
    "def compute_gradient(function, x_range=(-50, 50.1, 0.1)):\n",
    "    \"\"\"\n",
    "    変化量を使い勾配を計算する。\n",
    "\n",
    "    Parameters\n",
    "    ----------------\n",
    "    function : function\n",
    "    求めたい関数、xのndarrayを入れるとyのndarrayを返すもの。\n",
    "    x_range : tuple\n",
    "    np.arange()の引数と同じ方法で範囲を指定する。\n",
    "\n",
    "    Returns\n",
    "    ----------------\n",
    "    array_xy：ndarray, shape(n, 2)\n",
    "        xとyを結合したもの。nはx_rangeに依存する。\n",
    "    gradient：ndarray, shape(n-1,)\n",
    "        関数の勾配。差をとるため要素は1つ減る\n",
    "    \"\"\"\n",
    "    array_x = np.arange(x_range[0], x_range[1], x_range[2])\n",
    "    array_y = function(array_x)\n",
    "    \n",
    "    row_num = (x_range[1] - x_range[0])/x_range[2] #この行の計算でなぜか「1001」ではなく「1000.99...」になる\n",
    "    row_num = Decimal(str(row_num)).quantize(Decimal(\"0\"), rounding=ROUND_HALF_UP) #上記の理由で四捨五入して「1001」にする\n",
    "    \n",
    "    array_x = array_x.reshape(int(row_num), 1) #Decimal型の代入不可につきint型へ変換\n",
    "    array_y = array_y.reshape(int(row_num), 1)\n",
    "\n",
    "    array_xy = np.concatenate((array_x, array_y), axis=1)\n",
    "    \n",
    "    gradient = (array_y[1:] - array_y[:-1]) / (array_x[1:] - array_x[:-1])\n",
    "    \n",
    "    return array_xy, gradient\n",
    "\n",
    "def function1(array_x):\n",
    "    \"\"\"\n",
    "    array_yを作る関数\n",
    "    -------------------\n",
    "    y = (1/2)x + 1 \n",
    "    \"\"\"\n",
    "    array_y = (1/2)*array_x + 1\n",
    "    \n",
    "    return array_y\n",
    "\n",
    "def function2(array_x):\n",
    "    \"\"\"\n",
    "    array_yを作る関数\n",
    "    -------------------\n",
    "    y = x^2\n",
    "    \"\"\"\n",
    "    array_y = array_x**2\n",
    "    \n",
    "    return array_y\n",
    "\n",
    "def function3(array_x):\n",
    "    \"\"\"\n",
    "    array_yを作る関数\n",
    "    -------------------\n",
    "    y = 2x^2 + 2^x\n",
    "    \"\"\"\n",
    "    array_y = 2*(array_x**2) + 2**array_x\n",
    "    \n",
    "    return array_y\n",
    "\n",
    "def function4(array_x):\n",
    "    \"\"\"\n",
    "    array_yを作る関数\n",
    "    追記：作成時には、np.sin()の存在を忘れていた・・\n",
    "    -------------------\n",
    "    y = sin(x^\\frac{1}{2})\n",
    "    \"\"\"\n",
    "    array_y = np.array([])\n",
    "    \n",
    "    for i in range(len(array_x)):\n",
    "        y_values = math.sin(array_x[i]**(1/2))\n",
    "        array_y = np.append(array_y, y_values) \n",
    "    \n",
    "    return array_y\n",
    "\n",
    "def function5(array_x):\n",
    "    \"\"\"\n",
    "    array_yを作る関数\n",
    "    np.sin()でも作成してみる\n",
    "    -------------------\n",
    "    y = sin(x^\\frac{1}{2})\n",
    "    \"\"\"\n",
    "    array_y = np.sin(array_x**(1/2)) \n",
    "    \n",
    "    return array_y"
   ]
  },
  {
   "cell_type": "markdown",
   "metadata": {},
   "source": [
    "$\n",
    "y=\\frac{1}{2}x+1~~~~~(-50 \\leq x \\leq 50)\n",
    "$  \n",
    "xの間隔：0.1  \n",
    "勾配ndarrayは、"
   ]
  },
  {
   "cell_type": "code",
   "execution_count": 9,
   "metadata": {
    "scrolled": true
   },
   "outputs": [
    {
     "name": "stdout",
     "output_type": "stream",
     "text": [
      "[[0.5]\n",
      " [0.5]\n",
      " [0.5]\n",
      " ...\n",
      " [0.5]\n",
      " [0.5]\n",
      " [0.5]]\n"
     ]
    }
   ],
   "source": [
    "array_xy, gradient = compute_gradient(function1)\n",
    "#print(array_xy)\n",
    "#print(\"--------------------------------------------------------------\")\n",
    "print(gradient)"
   ]
  },
  {
   "cell_type": "markdown",
   "metadata": {},
   "source": [
    "$\n",
    "y = x^2~~~~~(-50 \\leq x \\leq 50)\n",
    "$  \n",
    "xの間隔：0.1  \n",
    "勾配ndarrayは、"
   ]
  },
  {
   "cell_type": "code",
   "execution_count": 10,
   "metadata": {},
   "outputs": [
    {
     "name": "stdout",
     "output_type": "stream",
     "text": [
      "[[-99.9]\n",
      " [-99.7]\n",
      " [-99.5]\n",
      " ...\n",
      " [ 99.5]\n",
      " [ 99.7]\n",
      " [ 99.9]]\n"
     ]
    },
    {
     "data": {
      "image/png": "[encoded data removed]",
      "text/plain": [
       "<Figure size 432x288 with 1 Axes>"
      ]
     },
     "metadata": {
      "needs_background": "light"
     },
     "output_type": "display_data"
    },
    {
     "data": {
      "image/png": "[encoded data removed]",
      "text/plain": [
       "<Figure size 432x288 with 1 Axes>"
      ]
     },
     "metadata": {
      "needs_background": "light"
     },
     "output_type": "display_data"
    }
   ],
   "source": [
    "#np.set_printoptions(threshold=3000) \n",
    "array_xy, gradient = compute_gradient(function2)\n",
    "#print(array_xy)\n",
    "#print(\"--------------------------------------------------------------\")\n",
    "print(gradient)\n",
    "\n",
    "plt.plot(array_xy[:, 0], array_xy[:, 1])\n",
    "plt.title(\"y = x^2\")\n",
    "plt.xlabel(\"x\")\n",
    "plt.ylabel(\"y\")\n",
    "plt.show()\n",
    "\n",
    "plt.plot(array_xy[1:, 0], gradient)\n",
    "plt.title(\"y = x^2 Derivative\")\n",
    "plt.xlabel(\"x\")\n",
    "plt.ylabel(\"gradient\")\n",
    "plt.show()"
   ]
  },
  {
   "cell_type": "markdown",
   "metadata": {},
   "source": [
    "$\n",
    "y = 2x^2 + 2^x~~~~~(-50 \\leq x \\leq 50)\n",
    "$  \n",
    "xの間隔：0.1  \n",
    "勾配ndarrayは、"
   ]
  },
  {
   "cell_type": "code",
   "execution_count": 11,
   "metadata": {},
   "outputs": [
    {
     "name": "stdout",
     "output_type": "stream",
     "text": [
      "[[-1.99800000e+02]\n",
      " [-1.99400000e+02]\n",
      " [-1.99000000e+02]\n",
      " ...\n",
      " [ 6.56379007e+14]\n",
      " [ 7.03489601e+14]\n",
      " [ 7.53981486e+14]]\n"
     ]
    },
    {
     "data": {
      "image/png": "[encoded data removed]",
      "text/plain": [
       "<Figure size 432x288 with 1 Axes>"
      ]
     },
     "metadata": {
      "needs_background": "light"
     },
     "output_type": "display_data"
    },
    {
     "data": {
      "image/png": "[encoded data removed]",
      "text/plain": [
       "<Figure size 432x288 with 1 Axes>"
      ]
     },
     "metadata": {
      "needs_background": "light"
     },
     "output_type": "display_data"
    }
   ],
   "source": [
    "array_xy, gradient = compute_gradient(function3)\n",
    "#print(array_xy)\n",
    "#print(\"--------------------------------------------------------------\")\n",
    "print(gradient)\n",
    "\n",
    "plt.plot(array_xy[:, 0], array_xy[:, 1])\n",
    "plt.title(\"y = 2x^2 + 2^x\")\n",
    "plt.xlabel(\"x\")\n",
    "plt.ylabel(\"y\")\n",
    "plt.show()\n",
    "\n",
    "plt.plot(array_xy[1:, 0], gradient)\n",
    "plt.title(\"y = 2x^2 + 2^x Derivative\")\n",
    "plt.xlabel(\"x\")\n",
    "plt.ylabel(\"gradient\")\n",
    "plt.show()"
   ]
  },
  {
   "cell_type": "markdown",
   "metadata": {},
   "source": [
    "$\n",
    "y = \\sin (x^\\frac{1}{2})~~~~~(0 \\leq x \\leq 50)\n",
    "$  \n",
    "xの間隔：0.1  \n",
    "勾配ndarrayは、"
   ]
  },
  {
   "cell_type": "code",
   "execution_count": 12,
   "metadata": {
    "scrolled": false
   },
   "outputs": [
    {
     "name": "stdout",
     "output_type": "stream",
     "text": [
      "[[3.10983593]\n",
      " [1.21471246]\n",
      " [0.88289461]\n",
      " ...\n",
      " [0.05128261]\n",
      " [0.05088227]\n",
      " [0.05048058]]\n"
     ]
    },
    {
     "data": {
      "image/png": "[encoded data removed]",
      "text/plain": [
       "<Figure size 432x288 with 1 Axes>"
      ]
     },
     "metadata": {
      "needs_background": "light"
     },
     "output_type": "display_data"
    },
    {
     "data": {
      "image/png": "[encoded data removed]",
      "text/plain": [
       "<Figure size 432x288 with 1 Axes>"
      ]
     },
     "metadata": {
      "needs_background": "light"
     },
     "output_type": "display_data"
    }
   ],
   "source": [
    "array_xy, gradient = compute_gradient(function4, (0, 50, 0.1))\n",
    "#print(array_xy)\n",
    "#print(\"--------------------------------------------------------------\")\n",
    "print(gradient)\n",
    "\n",
    "plt.plot(array_xy[:, 0], array_xy[:, 1])\n",
    "plt.title(\"y = sin(x^(1/2))\")\n",
    "plt.xlabel(\"x\")\n",
    "plt.ylabel(\"y\")\n",
    "plt.show()\n",
    "\n",
    "plt.plot(array_xy[1:, 0], gradient)\n",
    "plt.title(\"y = sin(x^(1/2)) Derivative\")\n",
    "plt.xlabel(\"x\")\n",
    "plt.ylabel(\"gradient\")\n",
    "plt.show()"
   ]
  },
  {
   "cell_type": "markdown",
   "metadata": {},
   "source": [
    "***"
   ]
  },
  {
   "cell_type": "markdown",
   "metadata": {},
   "source": [
    "**【問題6】最小値を求める**  \n",
    "問題5で扱った関数のyの最小値を求めます。xの範囲も問題5と同様とします。\n",
    "\n",
    "\n",
    "今回は勾配降下法ではなく、ndarrayのminメソッド、argminメソッドを用いてください。minメソッドは最小値を、argminメソッドは最小値のインデックスを取得することができます。\n",
    "\n",
    "\n",
    "また、最小のyをとる前後の勾配を表示してください。\n",
    "\n",
    "[numpy.ndarray.min — NumPy v1.19 Manual](https://numpy.org/doc/stable/reference/generated/numpy.ndarray.min.html)  \n",
    "[numpy.ndarray.argmin — NumPy v1.19 Manual](https://numpy.org/doc/stable/reference/generated/numpy.ndarray.argmin.html)"
   ]
  },
  {
   "cell_type": "markdown",
   "metadata": {},
   "source": [
    "- $y = x^2~~~~~(-50 \\leq x \\leq 50)~~~~~$の最小値と、その前後の勾配"
   ]
  },
  {
   "cell_type": "code",
   "execution_count": 13,
   "metadata": {},
   "outputs": [
    {
     "name": "stdout",
     "output_type": "stream",
     "text": [
      "最小値は5.048709793414476e-25\n",
      "最小値のインデックスは500\n",
      "最小のyをとる前後の勾配は[-0.3],[0.1]\n",
      "※1.勾配は「任意の地点のインデックス」-「任意の地点のインデックス - 1」の関係で算出している。\n"
     ]
    }
   ],
   "source": [
    "array_xy, gradient = compute_gradient(function2, x_range=(-50, 50.1, 0.1))\n",
    "\n",
    "print(\"最小値は{}\".format(np.min(function2(np.arange(-50, 50.1, 0.1)))))\n",
    "\n",
    "min_index = np.argmin(function2(np.arange(-50, 50.1, 0.1)))\n",
    "print(\"最小値のインデックスは{}\".format(min_index))\n",
    "\n",
    "front_gradient = gradient[min_index - 2] #※1より\n",
    "back_gradient = gradient[min_index] #※1より\n",
    "print(\"最小のyをとる前後の勾配は{},{}\".format(front_gradient, back_gradient))\n",
    "print(\"※1.勾配は「任意の地点のインデックス」-「任意の地点のインデックス - 1」の関係で算出している。\")"
   ]
  },
  {
   "cell_type": "markdown",
   "metadata": {},
   "source": [
    "- $y = 2x^2 + 2^x~~~~~(-50 \\leq x \\leq 50)~~~~~$の最小値と、その前後の勾配"
   ]
  },
  {
   "cell_type": "code",
   "execution_count": 14,
   "metadata": {},
   "outputs": [
    {
     "name": "stdout",
     "output_type": "stream",
     "text": [
      "最小値は0.9505505632959851\n",
      "最小値のインデックスは498\n",
      "最小のyをとる前後の勾配は[-0.85605887],[0.02482428]\n",
      "※1.勾配は「任意の地点のインデックス」-「任意の地点のインデックス - 1」の関係で算出している。\n"
     ]
    }
   ],
   "source": [
    "array_xy, gradient = compute_gradient(function3, x_range=(-50, 50.1, 0.1))\n",
    "\n",
    "print(\"最小値は{}\".format(np.min(function3(np.arange(-50, 50.1, 0.1)))))\n",
    "\n",
    "min_index = np.argmin(function3(np.arange(-50, 50.1, 0.1)))\n",
    "print(\"最小値のインデックスは{}\".format(min_index))\n",
    "\n",
    "front_gradient = gradient[min_index - 2] #※1より\n",
    "back_gradient = gradient[min_index] #※1より\n",
    "print(\"最小のyをとる前後の勾配は{},{}\".format(front_gradient, back_gradient))\n",
    "print(\"※1.勾配は「任意の地点のインデックス」-「任意の地点のインデックス - 1」の関係で算出している。\")"
   ]
  },
  {
   "cell_type": "markdown",
   "metadata": {},
   "source": [
    "- $y = \\sin (x^\\frac{1}{2})~~~~~(0 \\leq x \\leq 50)~~~~~$の最小値と、その前後の勾配"
   ]
  },
  {
   "cell_type": "code",
   "execution_count": 15,
   "metadata": {
    "scrolled": true
   },
   "outputs": [
    {
     "name": "stdout",
     "output_type": "stream",
     "text": [
      "最小値は-0.9999997540298113\n",
      "最小値のインデックスは222\n",
      "最小のyをとる前後の勾配は[-0.00177271],[0.00048745]\n",
      "※1.勾配は「任意の地点のインデックス」-「任意の地点のインデックス - 1」の関係で算出している。\n"
     ]
    }
   ],
   "source": [
    "array_xy, gradient = compute_gradient(function4, x_range=(0, 50.1, 0.1))\n",
    "\n",
    "print(\"最小値は{}\".format(np.min(function4(np.arange(0, 50.1, 0.1)))))\n",
    "\n",
    "min_index = np.argmin(function4(np.arange(0, 50.1, 0.1)))\n",
    "print(\"最小値のインデックスは{}\".format(min_index))\n",
    "\n",
    "front_gradient = gradient[min_index - 2] #※1より\n",
    "back_gradient = gradient[min_index] #※1より\n",
    "print(\"最小のyをとる前後の勾配は{},{}\".format(front_gradient, back_gradient))\n",
    "print(\"※1.勾配は「任意の地点のインデックス」-「任意の地点のインデックス - 1」の関係で算出している。\")"
   ]
  }
 ],
 "metadata": {
  "kernelspec": {
   "display_name": "Python 3",
   "language": "python",
   "name": "python3"
  },
  "language_info": {
   "codemirror_mode": {
    "name": "ipython",
    "version": 3
   },
   "file_extension": ".py",
   "mimetype": "text/x-python",
   "name": "python",
   "nbconvert_exporter": "python",
   "pygments_lexer": "ipython3",
   "version": "3.7.2"
  }
 },
 "nbformat": 4,
 "nbformat_minor": 2
}
