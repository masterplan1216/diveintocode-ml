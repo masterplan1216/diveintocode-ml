{
 "cells": [
  {
   "cell_type": "markdown",
   "metadata": {},
   "source": [
    "## **小麦とチェス盤問題**"
   ]
  },
  {
   "cell_type": "markdown",
   "metadata": {},
   "source": [
    "曽呂利新左衛門の米の逸話に似たものとして、小麦とチェス盤の話があります。これを題材に多次元配列を扱うための数値計算ライブラリ NumPy の使い方に慣れていきます。  \n",
    "8×8マスのチェス盤の上に、小麦の粒を1, 2, 4と順番に置いていくと最終的な小麦の数はどのようになるかという問題です。"
   ]
  },
  {
   "cell_type": "markdown",
   "metadata": {},
   "source": [
    "**◇少ないマスで考える**  \n",
    "まずは4マスの板に小麦の粒を並べていくことを考えます。配列（リスト）の1つの要素を1つのマスに見立てています。\n",
    "\n",
    "\n",
    "Pythonのリストとfor文を使い次のように作ることができます。  \n",
    "《サンプルコード》"
   ]
  },
  {
   "cell_type": "code",
   "execution_count": 1,
   "metadata": {},
   "outputs": [],
   "source": [
    "n_squares = 4\n",
    "small_board_list = [1]\n",
    "for _ in range(n_squares - 1):\n",
    "    small_board_list.append(2*small_board_list[-1])\n",
    "print(\"4マスの板に小麦を並べる（リスト）：{}\".format(small_board_list))"
   ]
  },
  {
   "cell_type": "markdown",
   "metadata": {},
   "source": [
    "このリストにnp.array()を使うことで、ndarrayを作成することができます。"
   ]
  },
  {
   "cell_type": "code",
   "execution_count": 2,
   "metadata": {},
   "outputs": [
    {
     "name": "stdout",
     "output_type": "stream",
     "text": [
      "4マスの板に小麦を並べる（ndarray）：[1 2 4 8]\n"
     ]
    }
   ],
   "source": [
    "import numpy as np\n",
    "small_board_ndarray = np.array(small_board_list)\n",
    "print(\"4マスの板に小麦を並べる（ndarray）：{}\".format(small_board_ndarray))"
   ]
  },
  {
   "cell_type": "markdown",
   "metadata": {},
   "source": [
    "***"
   ]
  },
  {
   "cell_type": "markdown",
   "metadata": {},
   "source": [
    "**【問題1】2×2マスのチェス盤の小麦の数**  \n",
    "2×2マスのチェス盤をndarrayによって表現し、各マスの小麦の数を計算してください。左上のマスに小麦を1つ置いた後、その右が2つ、左下が4つ、右下が8つという風に進みます。\n",
    "\n",
    "\n",
    "サンプルコードで作成したndarrayのshapeの変形を行ってください。"
   ]
  },
  {
   "cell_type": "code",
   "execution_count": 3,
   "metadata": {},
   "outputs": [
    {
     "name": "stdout",
     "output_type": "stream",
     "text": [
      "2×2マスのチェス盤をndarrayによって表現すると、\n",
      "[[1 2]\n",
      " [4 8]]\n"
     ]
    }
   ],
   "source": [
    "board_2_2_ndarray = small_board_ndarray.reshape(2, 2)\n",
    "print(\"2×2マスのチェス盤をndarrayによって表現すると、\\n{}\".format(board_2_2_ndarray))"
   ]
  },
  {
   "cell_type": "markdown",
   "metadata": {},
   "source": [
    "***"
   ]
  },
  {
   "cell_type": "markdown",
   "metadata": {},
   "source": [
    "**【問題2】n×mマスへの拡張**  \n",
    "n×mマスのチェス盤の小麦の数を記したndarrayを返す関数を作成してください。そして、この関数を使い8×8マスのチェス盤の小麦の数を求めてください。"
   ]
  },
  {
   "cell_type": "code",
   "execution_count": 4,
   "metadata": {},
   "outputs": [],
   "source": [
    "def create_n_m_ndarray(n, m):\n",
    "    \"\"\"\n",
    "    nとmを与えると、n×mマスのチェス盤の小麦の数を記したndarrayを返す関数\n",
    "    \n",
    "    Parameter\n",
    "    ----------\n",
    "    n：int\n",
    "    m：int\n",
    "    \n",
    "    Return\n",
    "    ---------\n",
    "    n_m_ndarray：n×mマスのチェス盤の小麦の数を記したndarray\n",
    "    \"\"\"\n",
    "    #ndarrayの元となるリストを作成する\n",
    "    squares = n*m\n",
    "    squares_list = []\n",
    "    for i in range(squares):\n",
    "        squares_list.append(2**i)\n",
    "    \n",
    "    #ndarrayを作成する\n",
    "    n_m_ndarray = np.array(squares_list)\n",
    "    \n",
    "    #ndarrayをn×mに変形する\n",
    "    n_m_ndarray = n_m_ndarray.reshape(n, m)\n",
    "    \n",
    "    return n_m_ndarray"
   ]
  },
  {
   "cell_type": "code",
   "execution_count": 5,
   "metadata": {
    "scrolled": true
   },
   "outputs": [
    {
     "name": "stdout",
     "output_type": "stream",
     "text": [
      "8×8マスのチェス盤の小麦の数を記したndarrayは、\n",
      "[[1.00e+00 2.00e+00 4.00e+00 8.00e+00 1.60e+01 3.20e+01 6.40e+01 1.28e+02]\n",
      " [2.56e+02 5.12e+02 1.02e+03 2.05e+03 4.10e+03 8.19e+03 1.64e+04 3.28e+04]\n",
      " [6.55e+04 1.31e+05 2.62e+05 5.24e+05 1.05e+06 2.10e+06 4.19e+06 8.39e+06]\n",
      " [1.68e+07 3.36e+07 6.71e+07 1.34e+08 2.68e+08 5.37e+08 1.07e+09 2.15e+09]\n",
      " [4.29e+09 8.59e+09 1.72e+10 3.44e+10 6.87e+10 1.37e+11 2.75e+11 5.50e+11]\n",
      " [1.10e+12 2.20e+12 4.40e+12 8.80e+12 1.76e+13 3.52e+13 7.04e+13 1.41e+14]\n",
      " [2.81e+14 5.63e+14 1.13e+15 2.25e+15 4.50e+15 9.01e+15 1.80e+16 3.60e+16]\n",
      " [7.21e+16 1.44e+17 2.88e+17 5.76e+17 1.15e+18 2.31e+18 4.61e+18 9.22e+18]]\n"
     ]
    }
   ],
   "source": [
    "np.set_printoptions(precision=2) #小数点以下の表示桁数を2桁に\n",
    "#np.get_printoptions() #現在の表示形式の確認\n",
    "\n",
    "board_8_8_ndarray = create_n_m_ndarray(8, 8)\n",
    "print(\"8×8マスのチェス盤の小麦の数を記したndarrayは、\\n{}\".format(board_8_8_ndarray))"
   ]
  },
  {
   "cell_type": "markdown",
   "metadata": {},
   "source": [
    "***"
   ]
  },
  {
   "cell_type": "markdown",
   "metadata": {},
   "source": [
    "**【問題3】小麦の数の合計**  \n",
    "8×8マスのチェス盤の小麦の数の合計を求めてください。また、各列の平均を求め、それを棒グラフで可視化してください。"
   ]
  },
  {
   "cell_type": "code",
   "execution_count": 6,
   "metadata": {},
   "outputs": [
    {
     "name": "stdout",
     "output_type": "stream",
     "text": [
      "合計は1.8446744073709552e+19\n"
     ]
    }
   ],
   "source": [
    "print(\"合計は{}\".format(board_8_8_ndarray.sum()))"
   ]
  },
  {
   "cell_type": "code",
   "execution_count": 7,
   "metadata": {},
   "outputs": [
    {
     "name": "stdout",
     "output_type": "stream",
     "text": [
      "各列の平均は[9.04e+15 1.81e+16 3.62e+16 7.23e+16 1.45e+17 2.89e+17 5.79e+17 1.16e+18]\n"
     ]
    }
   ],
   "source": [
    "print(\"各列の平均は{}\".format(board_8_8_ndarray.mean(axis=0)))"
   ]
  },
  {
   "cell_type": "code",
   "execution_count": 8,
   "metadata": {},
   "outputs": [
    {
     "data": {
      "image/png": "[encoded data removed]",
      "text/plain": [
       "<Figure size 432x288 with 1 Axes>"
      ]
     },
     "metadata": {
      "needs_background": "light"
     },
     "output_type": "display_data"
    }
   ],
   "source": [
    "import matplotlib.pyplot as plt\n",
    "%matplotlib inline\n",
    "plt.xlabel(\"column\")\n",
    "plt.ylabel(\"average\")\n",
    "plt.title(\"Average of each column\")\n",
    "plt.bar(np.arange(1, 8+1), board_8_8_ndarray.mean(axis=0))\n",
    "plt.show()"
   ]
  },
  {
   "cell_type": "markdown",
   "metadata": {},
   "source": [
    "***"
   ]
  },
  {
   "cell_type": "markdown",
   "metadata": {},
   "source": [
    "**【問題4】小麦の数のヒートマップ**  \n",
    "8×8マスのチェス盤の小麦の数をヒートマップとして可視化してください。  \n",
    "\n",
    "ヒートマップとはデータを可視化するために、行列型の数字データの強弱を色で視覚化する方法です。値が小さいところが紫、大きいところが黄色になっています。"
   ]
  },
  {
   "cell_type": "code",
   "execution_count": 9,
   "metadata": {},
   "outputs": [
    {
     "data": {
      "image/png": "[encoded data removed]",
      "text/plain": [
       "<Figure size 432x288 with 1 Axes>"
      ]
     },
     "metadata": {
      "needs_background": "light"
     },
     "output_type": "display_data"
    }
   ],
   "source": [
    "plt.xlabel(\"column\") #列\n",
    "plt.ylabel(\"row\") #行\n",
    "plt.title(\"heatmap\")\n",
    "plt.pcolor(board_8_8_ndarray)\n",
    "plt.show()"
   ]
  },
  {
   "cell_type": "markdown",
   "metadata": {},
   "source": [
    "***"
   ]
  },
  {
   "cell_type": "markdown",
   "metadata": {},
   "source": [
    "**【問題5】後半は前半の何倍か**  \n",
    "チェス盤の後半にある小麦の数は前半にある小麦の数の何倍かを求めてください。前半とは配列の0から3行目、後半は4から7行目です。"
   ]
  },
  {
   "cell_type": "code",
   "execution_count": 10,
   "metadata": {},
   "outputs": [
    {
     "name": "stdout",
     "output_type": "stream",
     "text": [
      "4294967296.0倍\n"
     ]
    }
   ],
   "source": [
    "#前半の小麦数\n",
    "front_half = board_8_8_ndarray[:4, :].sum()\n",
    "\n",
    "#後半の小麦数\n",
    "back_half = board_8_8_ndarray[4:8, :].sum()\n",
    "\n",
    "\n",
    "print(\"{}倍\".format(back_half/front_half))"
   ]
  },
  {
   "cell_type": "markdown",
   "metadata": {},
   "source": [
    "***"
   ]
  },
  {
   "cell_type": "markdown",
   "metadata": {},
   "source": [
    "**【補足】**  \n",
    "●「Pythonのリスト+for文」以外でndarrayを作成する方法"
   ]
  },
  {
   "cell_type": "code",
   "execution_count": 11,
   "metadata": {},
   "outputs": [
    {
     "name": "stdout",
     "output_type": "stream",
     "text": [
      "4マスの板に小麦を並べる（ndarray）：[1 2 4 8]\n"
     ]
    }
   ],
   "source": [
    "# np.append()\n",
    "n_squares = 4\n",
    "small_board_ndarray = np.array([1])\n",
    "for _ in range(n_squares - 1):\n",
    "    small_board_ndarray = np.append(small_board_ndarray, 2*small_board_ndarray[-1])\n",
    "print(\"4マスの板に小麦を並べる（ndarray）：{}\".format(small_board_ndarray))"
   ]
  },
  {
   "cell_type": "code",
   "execution_count": 12,
   "metadata": {},
   "outputs": [
    {
     "name": "stdout",
     "output_type": "stream",
     "text": [
      "4マスの板に小麦を並べる（ndarray）：[1 2 4 8]\n"
     ]
    }
   ],
   "source": [
    "#ブロードキャスト\n",
    "n_squares = 4\n",
    "indices_of_squares = np.arange(n_squares)\n",
    "small_board_ndarray = 2**indices_of_squares\n",
    "print(\"4マスの板に小麦を並べる（ndarray）：{}\".format(small_board_ndarray))"
   ]
  },
  {
   "cell_type": "markdown",
   "metadata": {},
   "source": [
    "●ndarrayの型"
   ]
  },
  {
   "cell_type": "code",
   "execution_count": 13,
   "metadata": {
    "scrolled": true
   },
   "outputs": [
    {
     "name": "stdout",
     "output_type": "stream",
     "text": [
      "最後のマスの小麦の数：-9223372036854775808\n"
     ]
    },
    {
     "name": "stderr",
     "output_type": "stream",
     "text": [
      "/Users/itonaoki/.pyenv/versions/anaconda3-5.3.1/lib/python3.7/site-packages/ipykernel_launcher.py:4: RuntimeWarning: overflow encountered in long_scalars\n",
      "  after removing the cwd from sys.path.\n"
     ]
    }
   ],
   "source": [
    "n_squares = 64\n",
    "board_ndarray = np.array([1])\n",
    "for _ in range(n_squares - 1):\n",
    "    board_ndarray = np.append(board_ndarray, 2*board_ndarray[-1])\n",
    "print(\"最後のマスの小麦の数：{}\".format(board_ndarray[-1])) # -9223372036854775808"
   ]
  },
  {
   "cell_type": "markdown",
   "metadata": {},
   "source": [
    "最後の64マス目が-9223372036854775808と負の数になり明らかに間違っています。このndarrayの型を見ると、次のように int64 です。"
   ]
  },
  {
   "cell_type": "code",
   "execution_count": 14,
   "metadata": {},
   "outputs": [
    {
     "name": "stdout",
     "output_type": "stream",
     "text": [
      "int64\n"
     ]
    }
   ],
   "source": [
    "print(board_ndarray.dtype) # .dtype"
   ]
  },
  {
   "cell_type": "markdown",
   "metadata": {},
   "source": [
    "int64は64ビットの整数型で、-9,223,372,036,854,775,808 ~ 9,223,372,036,854,775,807 の範囲の整数値しか扱えないことを示しています。この値は -2の64乗から2の64乗-1 です。そのため、2の64乗になる64マス目の値が範囲外となり、負の値として出てきてしまっているのです。\n",
    "\n",
    "\n",
    "Pythonの整数型（int）にはこのような制限がありませんが、ndarrayは高速な計算が行える反面、こういった制約があり、型で扱える範囲を意識しておく必要があります。\n",
    "\n",
    "\n",
    "今回は正の値しか利用しないため、 uint64 を使用することで解決します。 0 ~ 18,446,744,073,709,551,615 を扱うことができます。astypeメソッドを使うことで型を変換できるので、累乗の計算前にこれを使いndarrayをuint64型にしておきます。"
   ]
  },
  {
   "cell_type": "code",
   "execution_count": 15,
   "metadata": {},
   "outputs": [
    {
     "name": "stdout",
     "output_type": "stream",
     "text": [
      "最後のマスの小麦の数：9223372036854775808\n"
     ]
    }
   ],
   "source": [
    "n_squares = 64\n",
    "indices_of_squares = np.arange(n_squares).astype(np.uint64) #astypeメソッド\n",
    "board_ndarray = 2**indices_of_squares\n",
    "print(\"最後のマスの小麦の数：{}\".format(board_ndarray[-1]))"
   ]
  },
  {
   "cell_type": "markdown",
   "metadata": {},
   "source": [
    "***"
   ]
  },
  {
   "cell_type": "markdown",
   "metadata": {},
   "source": [
    "**【問題6】他の計算方法によるn×mマスへの拡張**  \n",
    "問題2と同様の「n×mマスのチェス盤の小麦の数を記したndarrayを返す関数」を、np.append()を使ったものと、ブロードキャストを使ったもので新たに作成してください。\n",
    "\n",
    "\n",
    "それらの関数を使い8×8マスのチェス盤の小麦の数を再び求めてください。"
   ]
  },
  {
   "cell_type": "markdown",
   "metadata": {},
   "source": [
    "●np.append()"
   ]
  },
  {
   "cell_type": "code",
   "execution_count": 16,
   "metadata": {},
   "outputs": [],
   "source": [
    "def append_n_m_ndarray(n, m):\n",
    "    n_squares = n*m\n",
    "    n_m_ndarray = np.array([]) #空のndarray作成可能\n",
    "    \n",
    "    for i in range(n_squares):\n",
    "        n_m_ndarray = np.append(n_m_ndarray, 2**i)\n",
    "        \n",
    "    n_m_ndarray = n_m_ndarray.reshape(n, m)\n",
    "    return n_m_ndarray"
   ]
  },
  {
   "cell_type": "code",
   "execution_count": 17,
   "metadata": {},
   "outputs": [
    {
     "name": "stdout",
     "output_type": "stream",
     "text": [
      "[[1.00e+00 2.00e+00 4.00e+00 8.00e+00 1.60e+01 3.20e+01 6.40e+01 1.28e+02]\n",
      " [2.56e+02 5.12e+02 1.02e+03 2.05e+03 4.10e+03 8.19e+03 1.64e+04 3.28e+04]\n",
      " [6.55e+04 1.31e+05 2.62e+05 5.24e+05 1.05e+06 2.10e+06 4.19e+06 8.39e+06]\n",
      " [1.68e+07 3.36e+07 6.71e+07 1.34e+08 2.68e+08 5.37e+08 1.07e+09 2.15e+09]\n",
      " [4.29e+09 8.59e+09 1.72e+10 3.44e+10 6.87e+10 1.37e+11 2.75e+11 5.50e+11]\n",
      " [1.10e+12 2.20e+12 4.40e+12 8.80e+12 1.76e+13 3.52e+13 7.04e+13 1.41e+14]\n",
      " [2.81e+14 5.63e+14 1.13e+15 2.25e+15 4.50e+15 9.01e+15 1.80e+16 3.60e+16]\n",
      " [7.21e+16 1.44e+17 2.88e+17 5.76e+17 1.15e+18 2.31e+18 4.61e+18 9.22e+18]]\n",
      "float64\n"
     ]
    }
   ],
   "source": [
    "print(append_n_m_ndarray(8, 8))\n",
    "print(append_n_m_ndarray(8, 8).dtype)"
   ]
  },
  {
   "cell_type": "markdown",
   "metadata": {},
   "source": [
    "●ブロードキャスト"
   ]
  },
  {
   "cell_type": "code",
   "execution_count": 18,
   "metadata": {},
   "outputs": [],
   "source": [
    "def bloadcast_n_m_ndarray(n, m):\n",
    "    indices_ndarray = np.arange(n*m).astype(np.float64)\n",
    "    n_m_ndarray = 2**indices_ndarray\n",
    "    \n",
    "    n_m_ndarray = n_m_ndarray.reshape(n, m)\n",
    "    return n_m_ndarray\n",
    "\n",
    "#自動でdtypeがint64型になってしまったので、.astype(np.float64)を追加した\n",
    "#.astype(np.float64)をreshape()の行に挿入すると、ndarrayを表示させた時の各要素間のスペースの数が変わった"
   ]
  },
  {
   "cell_type": "code",
   "execution_count": 19,
   "metadata": {
    "scrolled": true
   },
   "outputs": [
    {
     "name": "stdout",
     "output_type": "stream",
     "text": [
      "[[1.00e+00 2.00e+00 4.00e+00 8.00e+00 1.60e+01 3.20e+01 6.40e+01 1.28e+02]\n",
      " [2.56e+02 5.12e+02 1.02e+03 2.05e+03 4.10e+03 8.19e+03 1.64e+04 3.28e+04]\n",
      " [6.55e+04 1.31e+05 2.62e+05 5.24e+05 1.05e+06 2.10e+06 4.19e+06 8.39e+06]\n",
      " [1.68e+07 3.36e+07 6.71e+07 1.34e+08 2.68e+08 5.37e+08 1.07e+09 2.15e+09]\n",
      " [4.29e+09 8.59e+09 1.72e+10 3.44e+10 6.87e+10 1.37e+11 2.75e+11 5.50e+11]\n",
      " [1.10e+12 2.20e+12 4.40e+12 8.80e+12 1.76e+13 3.52e+13 7.04e+13 1.41e+14]\n",
      " [2.81e+14 5.63e+14 1.13e+15 2.25e+15 4.50e+15 9.01e+15 1.80e+16 3.60e+16]\n",
      " [7.21e+16 1.44e+17 2.88e+17 5.76e+17 1.15e+18 2.31e+18 4.61e+18 9.22e+18]]\n",
      "float64\n"
     ]
    }
   ],
   "source": [
    "print(bloadcast_n_m_ndarray(8, 8))\n",
    "print(bloadcast_n_m_ndarray(8, 8).dtype)"
   ]
  },
  {
   "cell_type": "markdown",
   "metadata": {},
   "source": [
    "***"
   ]
  },
  {
   "cell_type": "markdown",
   "metadata": {},
   "source": [
    "**【問題7】計算時間の比較**  \n",
    "3種類の方法を見てきました。それぞれの計算時間をJupyter Notebookの%%timeitを用いて計測し、比較と考察を行ってください。\n",
    "\n",
    "\n",
    "%%timeitはセル内のコードを複数回実行し、その平均実行時間を出力する働きをします。"
   ]
  },
  {
   "cell_type": "code",
   "execution_count": 20,
   "metadata": {},
   "outputs": [
    {
     "name": "stdout",
     "output_type": "stream",
     "text": [
      "23.8 µs ± 458 ns per loop (mean ± std. dev. of 7 runs, 10000 loops each)\n"
     ]
    }
   ],
   "source": [
    "%%timeit\n",
    "create_n_m_ndarray(8, 8) #Pythonのリスト + for文"
   ]
  },
  {
   "cell_type": "code",
   "execution_count": 21,
   "metadata": {},
   "outputs": [
    {
     "name": "stdout",
     "output_type": "stream",
     "text": [
      "206 µs ± 3.95 µs per loop (mean ± std. dev. of 7 runs, 1000 loops each)\n"
     ]
    }
   ],
   "source": [
    "%%timeit\n",
    "append_n_m_ndarray(8, 8) # np.append()"
   ]
  },
  {
   "cell_type": "code",
   "execution_count": 22,
   "metadata": {},
   "outputs": [
    {
     "name": "stdout",
     "output_type": "stream",
     "text": [
      "3.1 µs ± 55.5 ns per loop (mean ± std. dev. of 7 runs, 100000 loops each)\n"
     ]
    }
   ],
   "source": [
    "%%timeit\n",
    "bloadcast_n_m_ndarray(8, 8) #ブロードキャスト"
   ]
  },
  {
   "cell_type": "markdown",
   "metadata": {},
   "source": [
    "※$µs=10^{-6}$, $ns=10^{-9}$  \n",
    "\n",
    "計算速度の比較  \n",
    "「ブロードキャスト」＜「Pythonリスト+for文」＜ 「np.append()」  \n",
    "  \n",
    "●考察  \n",
    "①ブロードキャスト  \n",
    "指数のndarrayを作成 → ブロードキャストでndarray更新 → reshape\n",
    "\n",
    "②Pythonのリスト+for文  \n",
    "空のリストを作成 → for文でリストにappend → リストをndarrayへ変換 → reshape\n",
    "  \n",
    "③np.append()  \n",
    "空のndarrayを作成 → for文でndarrayにappend → reshape  \n",
    "\n",
    "②と③を比較すると、  \n",
    "②はリストをndarrayに変換するという工程が余計にあるにも関わらず、③の方が約8倍も遅いので、  \n",
    "「for文でndarrayにappendする」のは余程時間が掛かるということがわかる。  \n",
    "①はfor文やappendを使っていないため処理が早いと考えられる。"
   ]
  }
 ],
 "metadata": {
  "kernelspec": {
   "display_name": "Python 3",
   "language": "python",
   "name": "python3"
  },
  "language_info": {
   "codemirror_mode": {
    "name": "ipython",
    "version": 3
   },
   "file_extension": ".py",
   "mimetype": "text/x-python",
   "name": "python",
   "nbconvert_exporter": "python",
   "pygments_lexer": "ipython3",
   "version": "3.7.2"
  }
 },
 "nbformat": 4,
 "nbformat_minor": 2
}
