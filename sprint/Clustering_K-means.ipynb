{
 "cells": [
  {
   "cell_type": "markdown",
   "metadata": {},
   "source": [
    "##### Sprintの目的\n",
    "- スクラッチを通してK-meansを理解する\n",
    "- クラスタ分析を行う"
   ]
  },
  {
   "cell_type": "code",
   "execution_count": 1,
   "metadata": {},
   "outputs": [],
   "source": [
    "import pandas as pd\n",
    "import matplotlib.pyplot as plt\n",
    "import seaborn as sns\n",
    "import numpy as np\n",
    "%matplotlib inline\n",
    "\n",
    "from decimal import Decimal, ROUND_HALF_UP\n",
    "\n",
    "from sklearn.model_selection import train_test_split\n",
    "from sklearn.preprocessing import StandardScaler\n",
    "\n",
    "#np.set_printoptions(threshold=0)"
   ]
  },
  {
   "cell_type": "markdown",
   "metadata": {},
   "source": [
    "K-meansのクラスをスクラッチで作成していきます。NumPyなど最低限のライブラリのみを使いアルゴリズムを実装していきます。\n",
    "\n",
    "\n",
    "以下に雛形を用意してあります。このScratchKMeansクラスにコードを書き加えていってください。\n",
    "\n",
    "    class ScratchKMeans():\n",
    "        \"\"\"\n",
    "        K-meansのスクラッチ実装\n",
    "\n",
    "        Parameters\n",
    "        ----------\n",
    "        n_clusters : int\n",
    "          クラスタ数\n",
    "        n_init : int\n",
    "          中心点の初期値を何回変えて計算するか\n",
    "        max_iter : int\n",
    "          1回の計算で最大何イテレーションするか\n",
    "        tol : float\n",
    "          イテレーションを終了する基準となる中心点と重心の許容誤差\n",
    "        verbose : bool\n",
    "          学習過程を出力する場合はTrue\n",
    "        \"\"\"\n",
    "        def __init__(self, n_clusters, n_init, max_iter, tol, verbose=False):\n",
    "            # ハイパーパラメータを属性として記録\n",
    "            self.n_clusters = n_clusters\n",
    "            self.n_init = n_init\n",
    "            self.max_iter = max_iter\n",
    "            self.tol  tol\n",
    "            self.verbose = verbose\n",
    "        def fit(self, X):\n",
    "            \"\"\"\n",
    "            K-meansによるクラスタリングを計算\n",
    "            Parameters\n",
    "            ----------\n",
    "            X : 次の形のndarray, shape (n_samples, n_features)\n",
    "                訓練データの特徴量\n",
    "            \"\"\"\n",
    "            if self.verbose:\n",
    "                #verboseをTrueにした際は学習過程を出力\n",
    "                print()\n",
    "            pass\n",
    "        def predict(self, X):\n",
    "            \"\"\"\n",
    "            入力されたデータがどのクラスタに属するかを計算\n",
    "            \"\"\"\n",
    "            pass\n",
    "            return\n"
   ]
  },
  {
   "cell_type": "markdown",
   "metadata": {},
   "source": [
    "### 完成クラス"
   ]
  },
  {
   "cell_type": "code",
   "execution_count": 2,
   "metadata": {},
   "outputs": [],
   "source": [
    "class ScratchKMeans():\n",
    "    \"\"\"\n",
    "    K-meansのスクラッチ実装\n",
    "\n",
    "    Parameters\n",
    "    ----------\n",
    "    n_clusters : int\n",
    "      クラスタ数\n",
    "    n_init : int\n",
    "      中心点の初期値を何回変えて計算するか\n",
    "    max_iter : int\n",
    "      1回の計算で最大何イテレーションするか\n",
    "    tol : float\n",
    "      イテレーションを終了する基準となる中心点と重心の許容誤差\n",
    "    verbose : bool\n",
    "      学習過程を出力する場合はTrue\n",
    "    \"\"\"\n",
    "    def __init__(self, n_clusters, n_init, max_iter, tol, verbose=False):\n",
    "        # ハイパーパラメータを属性として記録\n",
    "        self.n_clusters = n_clusters\n",
    "        self.n_init = n_init\n",
    "        self.max_iter = max_iter\n",
    "        self.tol = tol\n",
    "        self.verbose = verbose\n",
    "        \n",
    "    def fit(self, X):\n",
    "        \"\"\"\n",
    "        K-meansによるクラスタリングを計算\n",
    "        Parameters\n",
    "        ----------\n",
    "        X : 次の形のndarray, shape (n_samples, n_features)\n",
    "            訓練データの特徴量\n",
    "        \"\"\"\n",
    "        sse_list = []\n",
    "        myu_list = []\n",
    "        \n",
    "        for _ in range(self.n_init): #中心点の初期値を変える回数分ループ\n",
    "            self.myu = self.init_myu_(X, self.n_clusters) #初期の中心点作成\n",
    "            self.cluster = self.clustering(self.myu, X) #初期中心点でのクラスタ割り当て\n",
    "\n",
    "            for i in range(self.max_iter): #設定したイテレーション数ループ\n",
    "                new_myu = self.center_gravity(self.myu, self.cluster, X) #中心点の更新値（重心へ移動）\n",
    "                #中心点と重心の差の合計がtol以下でbreak\n",
    "                #そうでない場合は中心点を更新\n",
    "                if np.sum(np.abs(new_myu - self.myu)) <= self.tol:\n",
    "                    break\n",
    "                else:\n",
    "                    self.myu = new_myu #中心点の更新\n",
    "                    self.cluster = self.clustering(self.myu, X) #更新した重心にてクラスタ再割り当て\n",
    "            \n",
    "            sse_list.append(sse_score(self.myu, self.cluster, X))\n",
    "            myu_list.append(self.myu)\n",
    "        \n",
    "        self.best_myu = myu_list[sse_list.index(min(sse_list))] #最小sseの中心点保持\n",
    "        self.best_sse = min(sse_list) #最小のsse保持\n",
    "        self.myu_list = myu_list\n",
    "        \n",
    "        if self.verbose:\n",
    "            #verboseをTrueにした際は学習過程を出力\n",
    "            print()\n",
    "        pass\n",
    "    \n",
    "    #問題7\n",
    "    def predict(self, X):\n",
    "        \"\"\"\n",
    "        入力されたデータがどのクラスタに属するかを計算\n",
    "        \n",
    "        Return\n",
    "        ----------\n",
    "        cluster：ndarray(n_samples, )\n",
    "            所属クラスタ\n",
    "        \"\"\"\n",
    "        cluster = clustering(self.myu, X)\n",
    "        return cluster\n",
    "    \n",
    "    #問題1\n",
    "    def init_myu_(self, X, k):\n",
    "        \"\"\"\n",
    "        データの中からランダムな中心点μをk個作成する関数\n",
    "        Parameter\n",
    "        ----------\n",
    "        X：ndarray(n_samples, n_features)\n",
    "            使うデータ\n",
    "        k：int\n",
    "            作成する中心点μの数(クラスタ数)\n",
    "\n",
    "        Return\n",
    "        ----------\n",
    "        init_myu：ndarray(n_clusters, n_features)\n",
    "            中心点μ\n",
    "        \"\"\"\n",
    "        m = len(X) #サンプル数\n",
    "        idx = np.random.randint(m, size=k) #0以上m未満の整数をk個ランダムに生成\n",
    "\n",
    "        init_myu = X[idx, :]\n",
    "\n",
    "        return init_myu\n",
    "    \n",
    "    #問題3\n",
    "    def clustering(self, myu, X):\n",
    "        \"\"\"\n",
    "        各中心点とデータのベクトルからユークリッド距離を計算して、\n",
    "        最も近い中心点のクラスタに割り当てる関数\n",
    "\n",
    "        Parameter\n",
    "        ----------\n",
    "        myu：ndarray(n_clusters, n_features)\n",
    "            中心点μ\n",
    "        X：ndarray(n_samples, n_features)\n",
    "            使うデータ\n",
    "\n",
    "        Return\n",
    "        ----------\n",
    "        cluster：ndarray(n_samples, )\n",
    "            所属クラスタ\n",
    "        \"\"\"\n",
    "        cluster = np.zeros(X.shape[0])\n",
    "\n",
    "        for i in range(X.shape[0]):\n",
    "            distance_list = [] #リストの初期化\n",
    "            for myu_ in myu:\n",
    "                distance = np.linalg.norm((X[i] - myu_), ord=2)\n",
    "                distance_list.append(distance)\n",
    "            cluster[i] = distance_list.index(min(distance_list)) + 1 #所属クラスタ(int:1~k)の決定\n",
    "\n",
    "        return cluster\n",
    "    \n",
    "    #問題4\n",
    "    def center_gravity(self, myu, cluster, X):\n",
    "        \"\"\"\n",
    "        各クラスタの中心点を、各クラスタの重心に移動させる関数\n",
    "\n",
    "        Parameter\n",
    "        ----------\n",
    "        myu：ndarray(n_clusters, n_features)\n",
    "            中心点μ\n",
    "        cluster：ndarray(n_samples, )\n",
    "            所属クラスタ\n",
    "        X：ndarray(n_samples, n_features)\n",
    "            使うデータ\n",
    "\n",
    "        Return\n",
    "        ----------\n",
    "        new_myu：ndarray(n_clusters, n_features)\n",
    "            重心\n",
    "        \"\"\"\n",
    "        #保存用配列\n",
    "        new_myu = np.zeros((len(myu), X.shape[1]))\n",
    "\n",
    "        #clusters = np.unique(cluster)\n",
    "\n",
    "        #Xの最終列に所属クラスタを追加\n",
    "        X_ = np.concatenate([X, cluster.reshape(-1, 1)], axis=1)\n",
    "\n",
    "        #クラスタ毎にXデータ抜き出す\n",
    "        for i in range(len(myu)):\n",
    "            X__ = X_[np.where(X_[:, -1]==(i + 1))[0], :-1] # (i+1)クラスタの行を抜き出す\n",
    "            new_myu[i] = np.mean(X__, axis=0) #抜き出したndarrayの列方向の平均をとる\n",
    "\n",
    "        return new_myu\n"
   ]
  },
  {
   "cell_type": "markdown",
   "metadata": {},
   "source": [
    "クラスタリングを実験するための人工データセットを作成するコードを用意しています。\n",
    "\n",
    "\n",
    "このmake_blobs関数は正解ラベルも出力してますが、今回は使用しません。使用しないことを明示するために、 _（アンダースコア） で受け取っています。"
   ]
  },
  {
   "cell_type": "code",
   "execution_count": 3,
   "metadata": {
    "scrolled": true
   },
   "outputs": [
    {
     "data": {
      "text/plain": [
       "array([[ 0.72086751,  3.71347124],\n",
       "       [-1.89468423,  7.96898545],\n",
       "       [ 1.35678894,  4.36462484],\n",
       "       ...,\n",
       "       [-1.56102482,  3.77455362],\n",
       "       [-0.78782636,  7.99482384],\n",
       "       [-0.30022483,  4.63059663]])"
      ]
     },
     "metadata": {},
     "output_type": "display_data"
    },
    {
     "name": "stdout",
     "output_type": "stream",
     "text": [
      "(100, 2)\n"
     ]
    },
    {
     "data": {
      "text/plain": [
       "array([0, 3, 0, ..., 2, 3, 0])"
      ]
     },
     "metadata": {},
     "output_type": "display_data"
    },
    {
     "name": "stdout",
     "output_type": "stream",
     "text": [
      "(100,)\n"
     ]
    }
   ],
   "source": [
    "from sklearn.datasets import make_blobs\n",
    "X, _ = make_blobs(n_samples=100, n_features=2, centers=4, cluster_std=0.5, shuffle=True, random_state=0)\n",
    "\n",
    "np.set_printoptions(threshold=0) # nparrayの省略表示\n",
    "display(X)\n",
    "print(X.shape)\n",
    "display(_)\n",
    "print(_.shape)"
   ]
  },
  {
   "cell_type": "code",
   "execution_count": 4,
   "metadata": {},
   "outputs": [
    {
     "data": {
      "image/png": "[encoded data removed]",
      "text/plain": [
       "<Figure size 432x288 with 1 Axes>"
      ]
     },
     "metadata": {
      "needs_background": "light"
     },
     "output_type": "display_data"
    }
   ],
   "source": [
    "plt.scatter(X[:, 0], X[:, 1])\n",
    "plt.show()"
   ]
  },
  {
   "cell_type": "markdown",
   "metadata": {},
   "source": [
    "K-meansの学習に必要な要素を順番に作成していきます。"
   ]
  },
  {
   "cell_type": "markdown",
   "metadata": {},
   "source": [
    "### 【問題1】中心点の初期値を決める\n",
    "入力されたデータから $K$ 個の中心点 $\\mu_1$ から $\\mu_K$ の初期値を決めるコードを作成してください。$K$ は指定したクラスタ数です。\n",
    "\n",
    "\n",
    "最もシンプルな初期値の決定方法は、データ点 $X_n$ の中からランダムに $K$ 個選ぶことです。今回はこれを実装してください。\n",
    "\n",
    "\n",
    "K-meansの学習結果は中心点 $\\mu$ の初期値に影響を受けます。そのため、学習時には複数個の初期値で計算を行います。"
   ]
  },
  {
   "cell_type": "markdown",
   "metadata": {},
   "source": [
    "#### 回答"
   ]
  },
  {
   "cell_type": "code",
   "execution_count": 5,
   "metadata": {},
   "outputs": [],
   "source": [
    "def init_myu_(X, k):\n",
    "    \"\"\"\n",
    "    データの中からランダムな中心点μをk個作成する関数\n",
    "    Parameter\n",
    "    ----------\n",
    "    X：ndarray(n_samples, n_features)\n",
    "        使うデータ\n",
    "    k：int\n",
    "        作成する中心点μの数(クラスタ数)\n",
    "    \n",
    "    Return\n",
    "    ----------\n",
    "    init_myu：ndarray(n_clusters, n_features)\n",
    "        中心点μ\n",
    "    \"\"\"\n",
    "    m = len(X) #サンプル数\n",
    "    np.random.seed(1)\n",
    "    idx = np.random.randint(m, size=k) #0以上m未満の整数をk個ランダムに生成\n",
    "    \n",
    "    init_myu = X[idx, :]\n",
    "    \n",
    "    return init_myu"
   ]
  },
  {
   "cell_type": "markdown",
   "metadata": {},
   "source": [
    "### 【問題2】SSEを求める関数の作成\n",
    "クラスタ内誤差平方和（SSE, Sum of Squared Errors）を計算する関数を作成してください。\n",
    "\n",
    "\n",
    "K-meansはこのSSEを最小化する $r_{nk}$ と $\\mu_k$ を求めることが目的となります。複数個の初期値で計算したクラスタリング結果から、どれを最終的に採用するかを決める際にこのSSEを求める関数を使用します。\n",
    "\n",
    "$$\n",
    "SSE = \\sum_{n=1}^{N}\\sum_{k=1}^{K}r_{nk}||X_n - μ_k||^2\n",
    "$$\n",
    "\n",
    "\n",
    "$n$ : データ点のインデックス\n",
    "\n",
    "\n",
    "$k$ : クラスタのインデックス\n",
    "\n",
    "\n",
    "$X_n$ : $n$番目のデータ点\n",
    "\n",
    "\n",
    "$\\mu_k$ : $k$番目の中心点\n",
    "\n",
    "\n",
    "$r_{nk}$ : データ点$X_n$がクラスタ$k$に所属していたら1、そうでなければ0"
   ]
  },
  {
   "cell_type": "markdown",
   "metadata": {},
   "source": [
    "#### 回答"
   ]
  },
  {
   "cell_type": "code",
   "execution_count": 6,
   "metadata": {},
   "outputs": [],
   "source": [
    "def sse_score(myu, cluster, X):\n",
    "    \"\"\"\n",
    "    クラスタ内誤差平方和（Sum of Squared Errors）を計算する関数\n",
    "    \n",
    "    Parameter\n",
    "    ----------\n",
    "    myu：ndarray(n_clusters, n_features)\n",
    "        中心点μ\n",
    "    cluster：ndarray(n_samples, )\n",
    "        所属クラスタ\n",
    "    X：ndarray(n_samples, n_features)\n",
    "        使用するデータ\n",
    "    \n",
    "    Return\n",
    "    ----------\n",
    "    sse：float\n",
    "        クラスタ内誤差平方和\n",
    "    \"\"\"\n",
    "    sse = 0\n",
    "    for i in range(X.shape[0]): #サンプル数分ループ\n",
    "        for i_ in range(myu.shape[0]): #中心点の数分ループ\n",
    "            if cluster[i] == (i_+1):\n",
    "                rnk = 1\n",
    "            else:\n",
    "                rnk = 0\n",
    "            sse += rnk*np.linalg.norm((X[i] - myu[i_]), ord=2)\n",
    "    \n",
    "    return sse"
   ]
  },
  {
   "cell_type": "markdown",
   "metadata": {},
   "source": [
    "### 【問題3】クラスタへの割り当て\n",
    "全てのデータ点 $X_n$ を最も近い中心点 $\\mu_k$ に割り当てるコードを作成してください。\n",
    "\n",
    "\n",
    "K-menasにおける 近い とは点と点のユークリッド距離が小さくなることです。ユークリッド距離とはピタゴラスの定理（三平方の定理）で求められるものですが、ベクトル $p,q$ に対しては以下の数式で表現できます。\n",
    "\n",
    "$$\n",
    "||q -p|| = \\sqrt{(q - p)(q - p)}\n",
    "$$\n",
    "\n",
    "NumPyにはこの関数がnp.linalg.normとして用意されているため使用してください。\n",
    "\n",
    "\n",
    "[numpy.linalg.norm — NumPy v1.17 Manual](https://docs.scipy.org/doc/numpy/reference/generated/numpy.linalg.norm.html)\n",
    "\n",
    "\n",
    "中心点 $\\mu_k$ を固定した上でSSEを最小化していることになりますが、SSE自体を求める必要はありません。"
   ]
  },
  {
   "cell_type": "markdown",
   "metadata": {},
   "source": [
    "#### 回答"
   ]
  },
  {
   "cell_type": "code",
   "execution_count": 7,
   "metadata": {},
   "outputs": [],
   "source": [
    "def clustering(init_myu, X):\n",
    "    \"\"\"\n",
    "    各中心点とデータのベクトルからユークリッド距離を計算して、\n",
    "    最も近い中心点のクラスタに割り当てる関数\n",
    "    \n",
    "    Parameter\n",
    "    ----------\n",
    "    init_myu：ndarray(n_clusters, n_features)\n",
    "        中心点μ\n",
    "    X：ndarray(n_samples, n_features)\n",
    "        使うデータ\n",
    "    \n",
    "    Return\n",
    "    ----------\n",
    "    cluster：ndarray(n_samples, )\n",
    "        所属クラスタ\n",
    "    \"\"\"\n",
    "    cluster = np.zeros(X.shape[0])\n",
    "    \n",
    "    for i in range(X.shape[0]):\n",
    "        distance_list = [] #リストの初期化\n",
    "        for myu in init_myu:\n",
    "            distance = np.linalg.norm((X[i] - myu), ord=2)\n",
    "            distance_list.append(distance)\n",
    "        cluster[i] = distance_list.index(min(distance_list)) + 1 #所属クラスタ(int:1~k)の決定\n",
    "    \n",
    "    return cluster"
   ]
  },
  {
   "cell_type": "markdown",
   "metadata": {},
   "source": [
    "### 【問題4】中心点の移動\n",
    "中心点 $\\mu_k$ を $k$ 番目のクラスタに割り当てられる全てのデータ点 $X_n$ の平均値（重心）に移動するコードを作成してください。\n",
    "\n",
    "\n",
    "クラスタの割り当て $r_{nk}$ を固定した上でSSEを最小化していることになりますが、SSE自体を求める必要はありません。"
   ]
  },
  {
   "cell_type": "markdown",
   "metadata": {},
   "source": [
    "#### 回答"
   ]
  },
  {
   "cell_type": "code",
   "execution_count": 8,
   "metadata": {},
   "outputs": [],
   "source": [
    "def center_gravity(myu, cluster, X):\n",
    "    \"\"\"\n",
    "    各クラスタの中心点を、各クラスタの重心に移動させる関数\n",
    "    \n",
    "    Parameter\n",
    "    ----------\n",
    "    myu：ndarray(n_clusters, n_features)\n",
    "        中心点μ\n",
    "    cluster：ndarray(n_samples, )\n",
    "        所属クラスタ\n",
    "    X：ndarray(n_samples, n_features)\n",
    "        使うデータ\n",
    "    \n",
    "    Return\n",
    "    ----------\n",
    "    new_myu：ndarray(n_clusters, n_features)\n",
    "        重心\n",
    "    \"\"\"\n",
    "    #保存用配列\n",
    "    new_myu = np.zeros((len(myu), X.shape[1]))\n",
    "    \n",
    "    #clusters = np.unique(cluster)\n",
    "    \n",
    "    #Xの最終列に所属クラスタを追加\n",
    "    X_ = np.concatenate([X, cluster.reshape(-1, 1)], axis=1)\n",
    "    \n",
    "    #クラスター毎にXデータ抜き出す\n",
    "    for i in range(len(myu)):\n",
    "        X__ = X_[np.where(X_[:, -1]==(i + 1))[0], :-1] # (i+1)クラスタの行を抜き出す\n",
    "        new_myu[i] = np.mean(X__, axis=0) #抜き出したndarrayの列方向の平均をとる\n",
    "    \n",
    "    return new_myu"
   ]
  },
  {
   "cell_type": "markdown",
   "metadata": {},
   "source": [
    "### 【問題5】繰り返し\n",
    "クラスタへの割り当てと中心点の移動を繰り返すことで学習を行うコードを作成してください。\n",
    "\n",
    "\n",
    "次のどれかの条件を満たしたらこれを止めます。\n",
    "\n",
    "\n",
    "- 繰り返しが指定した回数に到達する。（雛形では引数max_iter）\n",
    "- 中心点 $\\mu_k$ と重心の差の合計が指定した許容値以下になる。（雛形では引数tol）"
   ]
  },
  {
   "cell_type": "markdown",
   "metadata": {},
   "source": [
    "#### 回答\n",
    "ScratchKMeansクラスのfitメソッド内に記載"
   ]
  },
  {
   "cell_type": "markdown",
   "metadata": {},
   "source": [
    "### 【問題6】異なる初期値で計算\n",
    "問題5の繰り返しを、指定した回数初期値を変更して計算するコードを作成してください。回数は雛形では引数n_initで指定します。\n",
    "\n",
    "\n",
    "複数計算した中でSSEが最小になったものが最終的な学習結果となるため、その時の中心点 $\\mu_k$ を保持しておきます。"
   ]
  },
  {
   "cell_type": "markdown",
   "metadata": {},
   "source": [
    "#### 回答\n",
    "ScratchKMeansクラスのfitメソッド内に記載"
   ]
  },
  {
   "cell_type": "markdown",
   "metadata": {},
   "source": [
    "### 【問題7】推定\n",
    "新たなデータに対してどのクラスタに所属するかの推定の際は、学習時の1つ目のフェーズと同じことを行います。\n",
    "\n",
    "\n",
    "- データ点 $X_n$ と学習で決まった中心点 $\\mu_k$ に対し、 $SSE$ を最小化する $r_{nk}$ を選ぶ。\n",
    "\n",
    "具体的には次のことです。\n",
    "\n",
    "\n",
    "- データ点 $X_n$ を最も近い $\\mu_k$ に割り当てる。"
   ]
  },
  {
   "cell_type": "markdown",
   "metadata": {},
   "source": [
    "#### 回答\n",
    "ScratchKMeansクラスのpredictメソッド内に記載"
   ]
  },
  {
   "cell_type": "code",
   "execution_count": 23,
   "metadata": {
    "scrolled": true
   },
   "outputs": [
    {
     "data": {
      "text/plain": [
       "array([1, 4, 1, 1, 1, 1, 3, 4, 1, 4, 4, 4, 4, 4, 4, 2, 2, 3, 3, 2, 1, 4,\n",
       "       3, 2, 1, 3, 3, 1, 2, 2, 2, 4, 2, 2, 3, 1, 4, 2, 4, 3, 1, 3, 4, 3,\n",
       "       3, 4, 2, 3, 1, 1, 1, 2, 3, 3, 3, 4, 4, 2, 2, 4, 4, 2, 2, 1, 2, 4,\n",
       "       3, 3, 2, 1, 4, 2, 1, 4, 1, 1, 3, 3, 2, 2, 2, 4, 3, 1, 2, 3, 2, 2,\n",
       "       1, 1, 1, 3, 1, 3, 3, 4, 4, 3, 4, 1])"
      ]
     },
     "execution_count": 23,
     "metadata": {},
     "output_type": "execute_result"
    }
   ],
   "source": [
    "np.set_printoptions(threshold=np.inf)\n",
    "\n",
    "model = ScratchKMeans(n_clusters=4, n_init=5, max_iter=200, tol=1)\n",
    "model.fit(X)\n",
    "model.predict(X).astype('int')"
   ]
  },
  {
   "cell_type": "code",
   "execution_count": 24,
   "metadata": {},
   "outputs": [
    {
     "data": {
      "image/png": "[encoded data removed]",
      "text/plain": [
       "<Figure size 576x576 with 1 Axes>"
      ]
     },
     "metadata": {
      "needs_background": "light"
     },
     "output_type": "display_data"
    }
   ],
   "source": [
    "y_pred = model.predict(X)\n",
    "y_pred = y_pred.astype('int')\n",
    "\n",
    "c_map = ['r', 'g', 'b', 'k']\n",
    "\n",
    "plt.figure(figsize=(8, 8))\n",
    "\n",
    "for cluster in np.unique(y_pred):\n",
    "    index = np.where(y_pred == cluster)\n",
    "    plt.scatter(X[index, 0], X[index, 1], marker=\"o\", alpha=0.7, c=c_map[cluster-1])\n",
    "\n",
    "plt.show()"
   ]
  },
  {
   "cell_type": "markdown",
   "metadata": {},
   "source": [
    "クラスタリングできている。"
   ]
  },
  {
   "cell_type": "markdown",
   "metadata": {},
   "source": [
    "### 【問題8】エルボー法の実装\n",
    "K-meansにおいて中心点の個数 $k$ は人為的に決める必要がありますが、その判断方法としてエルボー法があります。エルボー法により中心点の個数 $k$ を検討するためのコードを作成してください。\n",
    "\n",
    "\n",
    "SSEを縦軸、クラスタ数 $k$ を横軸にした折れ線グラフを表示します。このためにK-meansのインスタンスからはSSEを取得できるようにしてください。"
   ]
  },
  {
   "cell_type": "markdown",
   "metadata": {},
   "source": [
    "#### 回答"
   ]
  },
  {
   "cell_type": "code",
   "execution_count": 11,
   "metadata": {},
   "outputs": [
    {
     "name": "stderr",
     "output_type": "stream",
     "text": [
      "/Users/itonaoki/.pyenv/versions/anaconda3-5.3.1/lib/python3.7/site-packages/numpy/core/fromnumeric.py:2920: RuntimeWarning: Mean of empty slice.\n",
      "  out=out, **kwargs)\n",
      "/Users/itonaoki/.pyenv/versions/anaconda3-5.3.1/lib/python3.7/site-packages/numpy/core/_methods.py:78: RuntimeWarning: invalid value encountered in true_divide\n",
      "  ret, rcount, out=ret, casting='unsafe', subok=False)\n"
     ]
    },
    {
     "name": "stdout",
     "output_type": "stream",
     "text": [
      "169.51988741812653\n",
      "103.63271391895243\n",
      "62.63796180120853\n",
      "58.89147154546096\n",
      "57.180901476342726\n",
      "51.250545210654494\n",
      "51.01215146925938\n"
     ]
    }
   ],
   "source": [
    "sse_list_ = []\n",
    "\n",
    "max_cluster_num = 9\n",
    "for i in range(2, max_cluster_num):\n",
    "    model = ScratchKMeans(n_clusters=i, n_init=3, max_iter=300, tol=0.0001)\n",
    "    model.fit(X)\n",
    "    sse_list_.append(model.best_sse)\n",
    "\n",
    "for sse in sse_list_:\n",
    "    print(sse)"
   ]
  },
  {
   "cell_type": "code",
   "execution_count": 12,
   "metadata": {},
   "outputs": [
    {
     "data": {
      "image/png": "[encoded data removed]",
      "text/plain": [
       "<Figure size 432x288 with 1 Axes>"
      ]
     },
     "metadata": {
      "needs_background": "light"
     },
     "output_type": "display_data"
    }
   ],
   "source": [
    "plt.plot(sse_list_)\n",
    "plt.xlabel(\"Number of clusters\")\n",
    "plt.ylabel(\"SSE\")\n",
    "plt.xticks([0, 1, 2, 3, 4, 5, 6], [2, 3, 4, 5, 6, 7, 8])\n",
    "plt.show()"
   ]
  },
  {
   "cell_type": "markdown",
   "metadata": {},
   "source": [
    "---"
   ]
  },
  {
   "cell_type": "markdown",
   "metadata": {},
   "source": [
    "クラスタリングを利用法を学ぶために、Wholesale customers Data Setを使用します。\n",
    "\n",
    "\n",
    "[UCI Machine Learning Repository: Wholesale customers Data Set](https://archive.ics.uci.edu/ml/datasets/Wholesale+customers)\n",
    "\n",
    "\n",
    "Data Folderの中からWholesale customers data.csvをダウンロードしてください。これはポルトガルのリスボンにある卸売業者（wholesale）が顧客から集めたデータです。中身は各顧客が年間でミルクや食料品を何ユーロ購入しているかというデータになっています。顧客は小売店やレストランです。RegionとChannelは取り覗き、金額のデータでK-meansを利用します。\n",
    "\n",
    "\n",
    "金額に関する特徴量は6個ありますが、可視化するために次元削減を行います。これに関してはscikit-learnによるPCAのサンプルコードを用意したので利用してください。"
   ]
  },
  {
   "cell_type": "code",
   "execution_count": 13,
   "metadata": {},
   "outputs": [
    {
     "data": {
      "text/html": [
       "<div>\n",
       "<style scoped>\n",
       "    .dataframe tbody tr th:only-of-type {\n",
       "        vertical-align: middle;\n",
       "    }\n",
       "\n",
       "    .dataframe tbody tr th {\n",
       "        vertical-align: top;\n",
       "    }\n",
       "\n",
       "    .dataframe thead th {\n",
       "        text-align: right;\n",
       "    }\n",
       "</style>\n",
       "<table border=\"1\" class=\"dataframe\">\n",
       "  <thead>\n",
       "    <tr style=\"text-align: right;\">\n",
       "      <th></th>\n",
       "      <th>Channel</th>\n",
       "      <th>Region</th>\n",
       "      <th>Fresh</th>\n",
       "      <th>Milk</th>\n",
       "      <th>Grocery</th>\n",
       "      <th>Frozen</th>\n",
       "      <th>Detergents_Paper</th>\n",
       "      <th>Delicassen</th>\n",
       "    </tr>\n",
       "  </thead>\n",
       "  <tbody>\n",
       "    <tr>\n",
       "      <th>0</th>\n",
       "      <td>2</td>\n",
       "      <td>3</td>\n",
       "      <td>12669</td>\n",
       "      <td>9656</td>\n",
       "      <td>7561</td>\n",
       "      <td>214</td>\n",
       "      <td>2674</td>\n",
       "      <td>1338</td>\n",
       "    </tr>\n",
       "    <tr>\n",
       "      <th>1</th>\n",
       "      <td>2</td>\n",
       "      <td>3</td>\n",
       "      <td>7057</td>\n",
       "      <td>9810</td>\n",
       "      <td>9568</td>\n",
       "      <td>1762</td>\n",
       "      <td>3293</td>\n",
       "      <td>1776</td>\n",
       "    </tr>\n",
       "    <tr>\n",
       "      <th>2</th>\n",
       "      <td>2</td>\n",
       "      <td>3</td>\n",
       "      <td>6353</td>\n",
       "      <td>8808</td>\n",
       "      <td>7684</td>\n",
       "      <td>2405</td>\n",
       "      <td>3516</td>\n",
       "      <td>7844</td>\n",
       "    </tr>\n",
       "    <tr>\n",
       "      <th>3</th>\n",
       "      <td>1</td>\n",
       "      <td>3</td>\n",
       "      <td>13265</td>\n",
       "      <td>1196</td>\n",
       "      <td>4221</td>\n",
       "      <td>6404</td>\n",
       "      <td>507</td>\n",
       "      <td>1788</td>\n",
       "    </tr>\n",
       "    <tr>\n",
       "      <th>4</th>\n",
       "      <td>2</td>\n",
       "      <td>3</td>\n",
       "      <td>22615</td>\n",
       "      <td>5410</td>\n",
       "      <td>7198</td>\n",
       "      <td>3915</td>\n",
       "      <td>1777</td>\n",
       "      <td>5185</td>\n",
       "    </tr>\n",
       "  </tbody>\n",
       "</table>\n",
       "</div>"
      ],
      "text/plain": [
       "   Channel  Region  Fresh  Milk  Grocery  Frozen  Detergents_Paper  Delicassen\n",
       "0        2       3  12669  9656     7561     214              2674        1338\n",
       "1        2       3   7057  9810     9568    1762              3293        1776\n",
       "2        2       3   6353  8808     7684    2405              3516        7844\n",
       "3        1       3  13265  1196     4221    6404               507        1788\n",
       "4        2       3  22615  5410     7198    3915              1777        5185"
      ]
     },
     "execution_count": 13,
     "metadata": {},
     "output_type": "execute_result"
    }
   ],
   "source": [
    "original_data = pd.read_csv('Wholesale customers data.csv')\n",
    "original_data.head()"
   ]
  },
  {
   "cell_type": "code",
   "execution_count": 14,
   "metadata": {},
   "outputs": [
    {
     "name": "stdout",
     "output_type": "stream",
     "text": [
      "Channel: [1 2]\n",
      "Region: [1 2 3]\n"
     ]
    }
   ],
   "source": [
    "print(\"Channel:\", np.unique(original_data[\"Channel\"].values))\n",
    "print(\"Region:\", np.unique(original_data[\"Region\"].values))"
   ]
  },
  {
   "cell_type": "markdown",
   "metadata": {},
   "source": [
    "Channel : Horeca(ホテル/レストラン/カフェ), Retail(小売店)  \n",
    "Region : Liston, Oportoor, other"
   ]
  },
  {
   "cell_type": "code",
   "execution_count": 15,
   "metadata": {},
   "outputs": [
    {
     "data": {
      "text/html": [
       "<div>\n",
       "<style scoped>\n",
       "    .dataframe tbody tr th:only-of-type {\n",
       "        vertical-align: middle;\n",
       "    }\n",
       "\n",
       "    .dataframe tbody tr th {\n",
       "        vertical-align: top;\n",
       "    }\n",
       "\n",
       "    .dataframe thead th {\n",
       "        text-align: right;\n",
       "    }\n",
       "</style>\n",
       "<table border=\"1\" class=\"dataframe\">\n",
       "  <thead>\n",
       "    <tr style=\"text-align: right;\">\n",
       "      <th></th>\n",
       "      <th>Fresh</th>\n",
       "      <th>Milk</th>\n",
       "      <th>Grocery</th>\n",
       "      <th>Frozen</th>\n",
       "      <th>Detergents_Paper</th>\n",
       "      <th>Delicassen</th>\n",
       "    </tr>\n",
       "  </thead>\n",
       "  <tbody>\n",
       "    <tr>\n",
       "      <th>0</th>\n",
       "      <td>12669</td>\n",
       "      <td>9656</td>\n",
       "      <td>7561</td>\n",
       "      <td>214</td>\n",
       "      <td>2674</td>\n",
       "      <td>1338</td>\n",
       "    </tr>\n",
       "    <tr>\n",
       "      <th>1</th>\n",
       "      <td>7057</td>\n",
       "      <td>9810</td>\n",
       "      <td>9568</td>\n",
       "      <td>1762</td>\n",
       "      <td>3293</td>\n",
       "      <td>1776</td>\n",
       "    </tr>\n",
       "    <tr>\n",
       "      <th>2</th>\n",
       "      <td>6353</td>\n",
       "      <td>8808</td>\n",
       "      <td>7684</td>\n",
       "      <td>2405</td>\n",
       "      <td>3516</td>\n",
       "      <td>7844</td>\n",
       "    </tr>\n",
       "    <tr>\n",
       "      <th>3</th>\n",
       "      <td>13265</td>\n",
       "      <td>1196</td>\n",
       "      <td>4221</td>\n",
       "      <td>6404</td>\n",
       "      <td>507</td>\n",
       "      <td>1788</td>\n",
       "    </tr>\n",
       "    <tr>\n",
       "      <th>4</th>\n",
       "      <td>22615</td>\n",
       "      <td>5410</td>\n",
       "      <td>7198</td>\n",
       "      <td>3915</td>\n",
       "      <td>1777</td>\n",
       "      <td>5185</td>\n",
       "    </tr>\n",
       "  </tbody>\n",
       "</table>\n",
       "</div>"
      ],
      "text/plain": [
       "   Fresh  Milk  Grocery  Frozen  Detergents_Paper  Delicassen\n",
       "0  12669  9656     7561     214              2674        1338\n",
       "1   7057  9810     9568    1762              3293        1776\n",
       "2   6353  8808     7684    2405              3516        7844\n",
       "3  13265  1196     4221    6404               507        1788\n",
       "4  22615  5410     7198    3915              1777        5185"
      ]
     },
     "execution_count": 15,
     "metadata": {},
     "output_type": "execute_result"
    }
   ],
   "source": [
    "data = original_data.drop([\"Region\", \"Channel\"], axis=1)\n",
    "data.head()"
   ]
  },
  {
   "cell_type": "markdown",
   "metadata": {},
   "source": [
    "金額に関する特徴量は6個ありますが、可視化するために次元削減を行います。これに関してはscikit-learnによるPCAのサンプルコードを用意したので利用してください。"
   ]
  },
  {
   "cell_type": "code",
   "execution_count": 16,
   "metadata": {},
   "outputs": [],
   "source": [
    "from sklearn.decomposition import PCA\n",
    "pca = PCA(n_components = 2)\n",
    "pca = pca.fit(data)\n",
    "data_pca = pca.transform(data)"
   ]
  },
  {
   "cell_type": "code",
   "execution_count": 17,
   "metadata": {},
   "outputs": [
    {
     "name": "stdout",
     "output_type": "stream",
     "text": [
      "[0.45961362 0.86478588 0.93481597 0.97883941 0.99386152 1.        ]\n"
     ]
    },
    {
     "data": {
      "image/png": "[encoded data removed]",
      "text/plain": [
       "<Figure size 432x288 with 1 Axes>"
      ]
     },
     "metadata": {
      "needs_background": "light"
     },
     "output_type": "display_data"
    }
   ],
   "source": [
    "from sklearn.decomposition import PCA\n",
    "import matplotlib.pyplot as plt\n",
    "pca = PCA(n_components=None)\n",
    "pca = pca.fit(data)\n",
    "var_exp = pca.explained_variance_ratio_\n",
    "cum_var_exp = np.cumsum(var_exp)\n",
    "print(cum_var_exp)\n",
    "plt.bar(range(1,7), var_exp, alpha=0.5, align='center', label='individual explained variance')\n",
    "plt.step(range(1,7), cum_var_exp, where='mid', label='cumulative expalined variance')\n",
    "plt.ylabel('Explained variance ratio')\n",
    "plt.xlabel('Principal components')\n",
    "plt.hlines(0.7, 0, 6,  \"blue\", linestyles='dashed')\n",
    "plt.legend(loc='best')\n",
    "plt.grid()\n",
    "plt.show()"
   ]
  },
  {
   "cell_type": "markdown",
   "metadata": {},
   "source": [
    "cumulative expalined variance：累積説明分散  \n",
    "individual explained variance：個人説明差異"
   ]
  },
  {
   "cell_type": "code",
   "execution_count": 18,
   "metadata": {
    "scrolled": true
   },
   "outputs": [
    {
     "data": {
      "text/plain": [
       "array([[   650.02212207,   1585.51909007],\n",
       "       [ -4426.80497937,   4042.45150884],\n",
       "       [ -4841.9987068 ,   2578.762176  ],\n",
       "       ...,\n",
       "       [  4555.11499863,  26201.75860287],\n",
       "       [ -2734.37092005,  -7070.77533531],\n",
       "       [-10370.12531409,  -6161.46490876]])"
      ]
     },
     "metadata": {},
     "output_type": "display_data"
    },
    {
     "data": {
      "text/plain": [
       "(440, 2)"
      ]
     },
     "execution_count": 18,
     "metadata": {},
     "output_type": "execute_result"
    }
   ],
   "source": [
    "np.set_printoptions(threshold=0)\n",
    "display(data_pca)\n",
    "data_pca.shape"
   ]
  },
  {
   "cell_type": "code",
   "execution_count": 19,
   "metadata": {},
   "outputs": [
    {
     "data": {
      "image/png": "[encoded data removed]",
      "text/plain": [
       "<Figure size 432x288 with 1 Axes>"
      ]
     },
     "metadata": {
      "needs_background": "light"
     },
     "output_type": "display_data"
    }
   ],
   "source": [
    "plt.scatter(data_pca[:, 0], data_pca[:, 1])\n",
    "plt.show()"
   ]
  },
  {
   "cell_type": "markdown",
   "metadata": {},
   "source": [
    "データが密集していて、綺麗にクラスタリングできるようには見えない。"
   ]
  },
  {
   "cell_type": "markdown",
   "metadata": {},
   "source": [
    "### 【問題10】クラスタ数kの選択\n",
    "最適だと思われるクラスタ数 \n",
    "k\n",
    " を選択してください。エルボー法やシルエット図を活用する他、人間が後々どう利用したいのかも選択に関わってきます。選択した上で、なぜそれを選んだか説明してください。\n",
    "\n"
   ]
  },
  {
   "cell_type": "code",
   "execution_count": 25,
   "metadata": {
    "scrolled": false
   },
   "outputs": [
    {
     "name": "stderr",
     "output_type": "stream",
     "text": [
      "/Users/itonaoki/.pyenv/versions/anaconda3-5.3.1/lib/python3.7/site-packages/numpy/core/fromnumeric.py:2920: RuntimeWarning: Mean of empty slice.\n",
      "  out=out, **kwargs)\n",
      "/Users/itonaoki/.pyenv/versions/anaconda3-5.3.1/lib/python3.7/site-packages/numpy/core/_methods.py:78: RuntimeWarning: invalid value encountered in true_divide\n",
      "  ret, rcount, out=ret, casting='unsafe', subok=False)\n"
     ]
    },
    {
     "name": "stdout",
     "output_type": "stream",
     "text": [
      "3928114.776098505\n",
      "3369438.7766169803\n",
      "2938928.609496256\n",
      "2725625.577443135\n",
      "2442682.5571414395\n",
      "2210187.3277351484\n",
      "2074631.3749592658\n"
     ]
    },
    {
     "data": {
      "image/png": "[encoded data removed]",
      "text/plain": [
       "<Figure size 432x288 with 1 Axes>"
      ]
     },
     "metadata": {
      "needs_background": "light"
     },
     "output_type": "display_data"
    }
   ],
   "source": [
    "sse_list_ = []\n",
    "\n",
    "max_cluster_num = 10\n",
    "for i in range(3, max_cluster_num):\n",
    "    model = ScratchKMeans(n_clusters=i, n_init=3, max_iter=100, tol=0.0001)\n",
    "    model.fit(data_pca)\n",
    "    sse_list_.append(model.best_sse)\n",
    "\n",
    "for sse in sse_list_:\n",
    "    print(sse)\n",
    "\n",
    "plt.plot(sse_list_)\n",
    "plt.xlabel(\"Number of clusters\")\n",
    "plt.ylabel(\"SSE\")\n",
    "plt.xticks([i for i in range(10-3)], [i for i in range(3, 10)])\n",
    "plt.show()"
   ]
  },
  {
   "cell_type": "code",
   "execution_count": 27,
   "metadata": {},
   "outputs": [
    {
     "name": "stderr",
     "output_type": "stream",
     "text": [
      "/Users/itonaoki/.pyenv/versions/anaconda3-5.3.1/lib/python3.7/site-packages/numpy/core/fromnumeric.py:2920: RuntimeWarning: Mean of empty slice.\n",
      "  out=out, **kwargs)\n",
      "/Users/itonaoki/.pyenv/versions/anaconda3-5.3.1/lib/python3.7/site-packages/numpy/core/_methods.py:78: RuntimeWarning: invalid value encountered in true_divide\n",
      "  ret, rcount, out=ret, casting='unsafe', subok=False)\n"
     ]
    },
    {
     "data": {
      "image/png": "[encoded data removed]",
      "text/plain": [
       "<Figure size 576x576 with 1 Axes>"
      ]
     },
     "metadata": {
      "needs_background": "light"
     },
     "output_type": "display_data"
    }
   ],
   "source": [
    "model_ = ScratchKMeans(n_clusters=5, n_init=5, max_iter=200, tol=1)\n",
    "model_.fit(data_pca)\n",
    "y_pred = model_.predict(data_pca)\n",
    "y_pred = y_pred.astype('int')\n",
    "\n",
    "c_map = ['r', 'g', 'b', 'k', 'y']\n",
    "\n",
    "plt.figure(figsize=(8, 8))\n",
    "\n",
    "for cluster in np.unique(y_pred):\n",
    "    index = np.where(y_pred == cluster)\n",
    "    plt.scatter(data_pca[index, 0], data_pca[index, 1], marker=\"o\", alpha=0.7, c=c_map[cluster-1])\n",
    "\n",
    "plt.show()"
   ]
  },
  {
   "cell_type": "markdown",
   "metadata": {},
   "source": [
    "#### 回答\n",
    "(顕著ではないが)エルボー法の観点から、クラスター数5が最適と考える。\n",
    "\n",
    "卸売業者がデータ収集した目的が、  \n",
    "「どういった層の顧客が高い売上に繋がっているのか把握したい」  \n",
    "だと仮定すると、  \n",
    "今後クラスター毎に営業戦略の立案等進めると思うが、その点から観てもクラスター数5というのは妥当だと考える。"
   ]
  },
  {
   "cell_type": "markdown",
   "metadata": {},
   "source": [
    "### 【問題11】既知のグループとの比較\n",
    "RegionとChannelはK-meansに使用しなかったが、これれらは既知のグループです。クラスタとこれら既知のグループがどう違うかを確認し、説明してください。まずはそれぞれを可視化してください。"
   ]
  },
  {
   "cell_type": "markdown",
   "metadata": {},
   "source": [
    "#### 回答"
   ]
  },
  {
   "cell_type": "code",
   "execution_count": 30,
   "metadata": {},
   "outputs": [
    {
     "data": {
      "text/plain": [
       "3    316\n",
       "1     77\n",
       "2     47\n",
       "Name: Region, dtype: int64"
      ]
     },
     "execution_count": 30,
     "metadata": {},
     "output_type": "execute_result"
    }
   ],
   "source": [
    "original_data['Region'].value_counts()"
   ]
  },
  {
   "cell_type": "markdown",
   "metadata": {},
   "source": [
    "地域はほとんどがother"
   ]
  },
  {
   "cell_type": "code",
   "execution_count": 29,
   "metadata": {},
   "outputs": [
    {
     "data": {
      "text/plain": [
       "1    298\n",
       "2    142\n",
       "Name: Channel, dtype: int64"
      ]
     },
     "execution_count": 29,
     "metadata": {},
     "output_type": "execute_result"
    }
   ],
   "source": [
    "original_data['Channel'].value_counts()"
   ]
  },
  {
   "cell_type": "markdown",
   "metadata": {},
   "source": [
    "卸先はおおよそ2:1の割合でHoreca"
   ]
  },
  {
   "cell_type": "code",
   "execution_count": 54,
   "metadata": {},
   "outputs": [
    {
     "data": {
      "image/png": "[encoded data removed]",
      "text/plain": [
       "<Figure size 576x576 with 1 Axes>"
      ]
     },
     "metadata": {
      "needs_background": "light"
     },
     "output_type": "display_data"
    }
   ],
   "source": [
    "#Channnelで可視化\n",
    "df_pca = pd.DataFrame(data_pca)\n",
    "df_pca[\"Channel\"] = original_data['Channel']\n",
    "\n",
    "df_pca_c1 = df_pca.query(\"Channel == 1\").values\n",
    "df_pca_c2 = df_pca.query(\"Channel == 2\").values\n",
    "\n",
    "plt.figure(figsize=(8, 8))\n",
    "\n",
    "plt.scatter(df_pca_c1[:, 0], df_pca_c1[:, 1], label=\"C1\", alpha=0.5)\n",
    "plt.scatter(df_pca_c2[:, 0], df_pca_c2[:, 1], label=\"C2\", alpha=0.5)\n",
    "plt.legend()\n",
    "plt.show()"
   ]
  },
  {
   "cell_type": "code",
   "execution_count": 58,
   "metadata": {},
   "outputs": [
    {
     "data": {
      "image/png": "[encoded data removed]",
      "text/plain": [
       "<Figure size 576x576 with 1 Axes>"
      ]
     },
     "metadata": {
      "needs_background": "light"
     },
     "output_type": "display_data"
    }
   ],
   "source": [
    "#Regionで可視化\n",
    "df_pca = pd.DataFrame(data_pca)\n",
    "df_pca[\"Region\"] = original_data['Region']\n",
    "\n",
    "df_pca_r1 = df_pca.query(\"Region == 1\").values\n",
    "df_pca_r2 = df_pca.query(\"Region == 2\").values\n",
    "df_pca_r3 = df_pca.query(\"Region == 3\").values\n",
    "\n",
    "plt.figure(figsize=(8, 8))\n",
    "\n",
    "plt.scatter(df_pca_r1[:, 0], df_pca_r1[:, 1], label=\"R1\", alpha=0.5)\n",
    "plt.scatter(df_pca_r2[:, 0], df_pca_r2[:, 1], label=\"R2\", alpha=0.5)\n",
    "plt.scatter(df_pca_r3[:, 0], df_pca_r3[:, 1], label=\"R3\", alpha=0.5)\n",
    "\n",
    "plt.legend()\n",
    "plt.show()"
   ]
  },
  {
   "cell_type": "markdown",
   "metadata": {},
   "source": [
    "#### 回答\n",
    "Channelでは上手く分類できているが、Regionでは分類できていない。  \n",
    "単純にChannel毎に営業戦略を練るのでも結果はついてきそう。  \n",
    "各Channel毎でクラスタリングをすればまた何か特徴が見えてくるかもしれない。  \n",
    "Regionはクラスタリングの観点からは、良い特徴量ではないと言える。"
   ]
  },
  {
   "cell_type": "markdown",
   "metadata": {},
   "source": [
    "### 【問題12】卸売業者にとって有益な情報\n",
    "卸売業者にとって有益な情報を探し出し文章にまとめてください。\n",
    "\n",
    "\n",
    "《ヒント》\n",
    "\n",
    "\n",
    "前処理を行う前のデータを使い、各クラスタの要約統計量を見るなどしてみましょう。また、PCAで次元削減したデータに対してK-meansを使用しましたが、6個の特徴量をそのまま使ったり、一部の特徴量のみを使ったりということも試してみてください。既知のグループとの比較結果も参考にしてください。\n",
    "\n",
    "\n",
    "条件ごとにデータを見る際にはPandasのgroupbyが便利です。\n",
    "\n",
    "\n",
    "[pandas.DataFrame.groupby — pandas 0.23.4 documentation](https://pandas.pydata.org/pandas-docs/stable/generated/pandas.DataFrame.groupby.html)"
   ]
  },
  {
   "cell_type": "markdown",
   "metadata": {},
   "source": [
    "#### 回答"
   ]
  },
  {
   "cell_type": "code",
   "execution_count": 61,
   "metadata": {},
   "outputs": [
    {
     "data": {
      "text/html": [
       "<div>\n",
       "<style scoped>\n",
       "    .dataframe tbody tr th:only-of-type {\n",
       "        vertical-align: middle;\n",
       "    }\n",
       "\n",
       "    .dataframe tbody tr th {\n",
       "        vertical-align: top;\n",
       "    }\n",
       "\n",
       "    .dataframe thead th {\n",
       "        text-align: right;\n",
       "    }\n",
       "</style>\n",
       "<table border=\"1\" class=\"dataframe\">\n",
       "  <thead>\n",
       "    <tr style=\"text-align: right;\">\n",
       "      <th></th>\n",
       "      <th>Channel</th>\n",
       "      <th>Region</th>\n",
       "      <th>Fresh</th>\n",
       "      <th>Milk</th>\n",
       "      <th>Grocery</th>\n",
       "      <th>Frozen</th>\n",
       "      <th>Detergents_Paper</th>\n",
       "      <th>Delicassen</th>\n",
       "    </tr>\n",
       "  </thead>\n",
       "  <tbody>\n",
       "    <tr>\n",
       "      <th>count</th>\n",
       "      <td>440.000000</td>\n",
       "      <td>440.000000</td>\n",
       "      <td>440.000000</td>\n",
       "      <td>440.000000</td>\n",
       "      <td>440.000000</td>\n",
       "      <td>440.000000</td>\n",
       "      <td>440.000000</td>\n",
       "      <td>440.000000</td>\n",
       "    </tr>\n",
       "    <tr>\n",
       "      <th>mean</th>\n",
       "      <td>1.322727</td>\n",
       "      <td>2.543182</td>\n",
       "      <td>12000.297727</td>\n",
       "      <td>5796.265909</td>\n",
       "      <td>7951.277273</td>\n",
       "      <td>3071.931818</td>\n",
       "      <td>2881.493182</td>\n",
       "      <td>1524.870455</td>\n",
       "    </tr>\n",
       "    <tr>\n",
       "      <th>std</th>\n",
       "      <td>0.468052</td>\n",
       "      <td>0.774272</td>\n",
       "      <td>12647.328865</td>\n",
       "      <td>7380.377175</td>\n",
       "      <td>9503.162829</td>\n",
       "      <td>4854.673333</td>\n",
       "      <td>4767.854448</td>\n",
       "      <td>2820.105937</td>\n",
       "    </tr>\n",
       "    <tr>\n",
       "      <th>min</th>\n",
       "      <td>1.000000</td>\n",
       "      <td>1.000000</td>\n",
       "      <td>3.000000</td>\n",
       "      <td>55.000000</td>\n",
       "      <td>3.000000</td>\n",
       "      <td>25.000000</td>\n",
       "      <td>3.000000</td>\n",
       "      <td>3.000000</td>\n",
       "    </tr>\n",
       "    <tr>\n",
       "      <th>25%</th>\n",
       "      <td>1.000000</td>\n",
       "      <td>2.000000</td>\n",
       "      <td>3127.750000</td>\n",
       "      <td>1533.000000</td>\n",
       "      <td>2153.000000</td>\n",
       "      <td>742.250000</td>\n",
       "      <td>256.750000</td>\n",
       "      <td>408.250000</td>\n",
       "    </tr>\n",
       "    <tr>\n",
       "      <th>50%</th>\n",
       "      <td>1.000000</td>\n",
       "      <td>3.000000</td>\n",
       "      <td>8504.000000</td>\n",
       "      <td>3627.000000</td>\n",
       "      <td>4755.500000</td>\n",
       "      <td>1526.000000</td>\n",
       "      <td>816.500000</td>\n",
       "      <td>965.500000</td>\n",
       "    </tr>\n",
       "    <tr>\n",
       "      <th>75%</th>\n",
       "      <td>2.000000</td>\n",
       "      <td>3.000000</td>\n",
       "      <td>16933.750000</td>\n",
       "      <td>7190.250000</td>\n",
       "      <td>10655.750000</td>\n",
       "      <td>3554.250000</td>\n",
       "      <td>3922.000000</td>\n",
       "      <td>1820.250000</td>\n",
       "    </tr>\n",
       "    <tr>\n",
       "      <th>max</th>\n",
       "      <td>2.000000</td>\n",
       "      <td>3.000000</td>\n",
       "      <td>112151.000000</td>\n",
       "      <td>73498.000000</td>\n",
       "      <td>92780.000000</td>\n",
       "      <td>60869.000000</td>\n",
       "      <td>40827.000000</td>\n",
       "      <td>47943.000000</td>\n",
       "    </tr>\n",
       "  </tbody>\n",
       "</table>\n",
       "</div>"
      ],
      "text/plain": [
       "          Channel      Region          Fresh          Milk       Grocery  \\\n",
       "count  440.000000  440.000000     440.000000    440.000000    440.000000   \n",
       "mean     1.322727    2.543182   12000.297727   5796.265909   7951.277273   \n",
       "std      0.468052    0.774272   12647.328865   7380.377175   9503.162829   \n",
       "min      1.000000    1.000000       3.000000     55.000000      3.000000   \n",
       "25%      1.000000    2.000000    3127.750000   1533.000000   2153.000000   \n",
       "50%      1.000000    3.000000    8504.000000   3627.000000   4755.500000   \n",
       "75%      2.000000    3.000000   16933.750000   7190.250000  10655.750000   \n",
       "max      2.000000    3.000000  112151.000000  73498.000000  92780.000000   \n",
       "\n",
       "             Frozen  Detergents_Paper    Delicassen  \n",
       "count    440.000000        440.000000    440.000000  \n",
       "mean    3071.931818       2881.493182   1524.870455  \n",
       "std     4854.673333       4767.854448   2820.105937  \n",
       "min       25.000000          3.000000      3.000000  \n",
       "25%      742.250000        256.750000    408.250000  \n",
       "50%     1526.000000        816.500000    965.500000  \n",
       "75%     3554.250000       3922.000000   1820.250000  \n",
       "max    60869.000000      40827.000000  47943.000000  "
      ]
     },
     "execution_count": 61,
     "metadata": {},
     "output_type": "execute_result"
    }
   ],
   "source": [
    "#要約統計量\n",
    "original_data.describe()"
   ]
  },
  {
   "cell_type": "code",
   "execution_count": 67,
   "metadata": {
    "scrolled": false
   },
   "outputs": [
    {
     "data": {
      "image/png": "[encoded data removed]",
      "text/plain": [
       "<Figure size 576x576 with 1 Axes>"
      ]
     },
     "metadata": {
      "needs_background": "light"
     },
     "output_type": "display_data"
    }
   ],
   "source": [
    "#6個の特徴量をそのまま使ったクラスタリング\n",
    "\n",
    "#display(data)\n",
    "\n",
    "model__ = ScratchKMeans(n_clusters=5, n_init=5, max_iter=200, tol=1)\n",
    "model__.fit(data.values)\n",
    "y_pred = model__.predict(data.values)\n",
    "y_pred = y_pred.astype('int')\n",
    "\n",
    "c_map = ['r', 'g', 'b', 'k', 'y']\n",
    "\n",
    "plt.figure(figsize=(8, 8))\n",
    "\n",
    "for cluster in np.unique(y_pred):\n",
    "    index = np.where(y_pred == cluster)\n",
    "    plt.scatter(data_pca[index, 0], data_pca[index, 1], marker=\"o\", alpha=0.7, c=c_map[cluster-1])\n",
    "\n",
    "plt.show()"
   ]
  },
  {
   "cell_type": "code",
   "execution_count": 76,
   "metadata": {},
   "outputs": [
    {
     "data": {
      "image/png": "[encoded data removed]",
      "text/plain": [
       "<Figure size 576x576 with 1 Axes>"
      ]
     },
     "metadata": {
      "needs_background": "light"
     },
     "output_type": "display_data"
    }
   ],
   "source": [
    "#Freshのみ使ったクラスタリング\n",
    "\n",
    "data_fresh = data[\"Fresh\"]\n",
    "\n",
    "model__ = ScratchKMeans(n_clusters=5, n_init=5, max_iter=200, tol=1)\n",
    "model__.fit(data_fresh.values.reshape(-1, 1))\n",
    "y_pred = model__.predict(data_fresh.values.reshape(-1, 1))\n",
    "y_pred = y_pred.astype('int')\n",
    "\n",
    "c_map = ['r', 'g', 'b', 'k', 'y']\n",
    "\n",
    "plt.figure(figsize=(8, 8))\n",
    "\n",
    "for cluster in np.unique(y_pred):\n",
    "    index = np.where(y_pred == cluster)\n",
    "    plt.scatter(data_pca[index, 0], data_pca[index, 1], marker=\"o\", alpha=0.7, c=c_map[cluster-1])\n",
    "\n",
    "plt.show()"
   ]
  },
  {
   "cell_type": "markdown",
   "metadata": {},
   "source": [
    "- 売り上げの多くを占めているFreshに着目して戦略を練るのがコストパフォーマンスが良さそう\n",
    "- channelをもっと細分化してchannel毎のクラスタリングをすると、Freshのみ使ったクラスタリングと何か関係性が見えてくるかもしれない\n",
    "- channelは顧客先の規模や業種によって分け、各グループ毎に営業戦略を練るのが良いのではないか"
   ]
  }
 ],
 "metadata": {
  "kernelspec": {
   "display_name": "Python 3",
   "language": "python",
   "name": "python3"
  },
  "language_info": {
   "codemirror_mode": {
    "name": "ipython",
    "version": 3
   },
   "file_extension": ".py",
   "mimetype": "text/x-python",
   "name": "python",
   "nbconvert_exporter": "python",
   "pygments_lexer": "ipython3",
   "version": "3.7.2"
  },
  "toc": {
   "base_numbering": 1,
   "nav_menu": {},
   "number_sections": true,
   "sideBar": true,
   "skip_h1_title": false,
   "title_cell": "Table of Contents",
   "title_sidebar": "Contents",
   "toc_cell": false,
   "toc_position": {
    "height": "calc(100% - 180px)",
    "left": "10px",
    "top": "150px",
    "width": "179.188px"
   },
   "toc_section_display": true,
   "toc_window_display": false
  },
  "varInspector": {
   "cols": {
    "lenName": 16,
    "lenType": 16,
    "lenVar": 40
   },
   "kernels_config": {
    "python": {
     "delete_cmd_postfix": "",
     "delete_cmd_prefix": "del ",
     "library": "var_list.py",
     "varRefreshCmd": "print(var_dic_list())"
    },
    "r": {
     "delete_cmd_postfix": ") ",
     "delete_cmd_prefix": "rm(",
     "library": "var_list.r",
     "varRefreshCmd": "cat(var_dic_list()) "
    }
   },
   "types_to_exclude": [
    "module",
    "function",
    "builtin_function_or_method",
    "instance",
    "_Feature"
   ],
   "window_display": false
  }
 },
 "nbformat": 4,
 "nbformat_minor": 2
}
