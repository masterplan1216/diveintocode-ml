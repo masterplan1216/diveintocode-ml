{
 "cells": [
  {
   "cell_type": "markdown",
   "metadata": {},
   "source": [
    "##### Sprintの目的\n",
    "- スクラッチを通してSVMを理解する\n",
    "- 線形モデルと異なる手法に触れる"
   ]
  },
  {
   "cell_type": "markdown",
   "metadata": {},
   "source": [
    "分類のためのサポートベクターマシン（SVM、サポートベクトルマシン）のクラスをスクラッチで作成していきます。NumPyなど最低限のライブラリのみを使いアルゴリズムを実装していきます。\n",
    "\n",
    "\n",
    "SVMには学習時に分類の間違いを認めるソフトマージンSVMと、認めないハードマージンSVMがありますが、ここでは実装が単純なハードマージンSVMを扱います。"
   ]
  },
  {
   "cell_type": "markdown",
   "metadata": {},
   "source": [
    "[サポートベクターマシン(SVM)とは？〜基本からPython実装まで〜](https://kenyu-life.com/2019/02/11/support_vector_machine/)"
   ]
  },
  {
   "cell_type": "code",
   "execution_count": 1,
   "metadata": {},
   "outputs": [],
   "source": [
    "import pandas as pd\n",
    "import matplotlib.pyplot as plt\n",
    "import seaborn as sns\n",
    "import numpy as np\n",
    "%matplotlib inline\n",
    "\n",
    "from decimal import Decimal, ROUND_HALF_UP\n",
    "\n",
    "from sklearn.model_selection import train_test_split\n",
    "from sklearn.preprocessing import StandardScaler\n",
    "from sklearn.linear_model import LinearRegression"
   ]
  },
  {
   "cell_type": "code",
   "execution_count": 2,
   "metadata": {},
   "outputs": [],
   "source": [
    "#シンプルデータセット1\n",
    "\n",
    "np.random.seed(seed=0)\n",
    "n_samples = 500\n",
    "f0 = [-1, 2]\n",
    "f1 = [2, -1]\n",
    "cov = [[1.0,0.8], [0.8, 1.0]]\n",
    "f0 = np.random.multivariate_normal(f0, cov, int(n_samples/2))\n",
    "f1 = np.random.multivariate_normal(f1, cov, int(n_samples/2))\n",
    "X = np.concatenate((f0, f1))\n",
    "y = np.concatenate((np.ones((int(n_samples/2))), np.ones((int(n_samples/2))) *(-1))).astype(np.int)\n",
    "random_index = np.random.permutation(np.arange(n_samples))\n",
    "X = X[random_index]\n",
    "y = y[random_index]"
   ]
  },
  {
   "cell_type": "code",
   "execution_count": 3,
   "metadata": {},
   "outputs": [
    {
     "data": {
      "text/plain": [
       "array([[ 0.77238275, -2.29167329],\n",
       "       [-0.59334945,  1.66788336],\n",
       "       [-2.0764856 ,  0.48746845],\n",
       "       ...,\n",
       "       [ 0.31731679,  2.22551981],\n",
       "       [-1.35919625,  0.89205189],\n",
       "       [ 1.10298263, -0.54852515]])"
      ]
     },
     "metadata": {},
     "output_type": "display_data"
    },
    {
     "data": {
      "text/plain": [
       "(500, 2)"
      ]
     },
     "metadata": {},
     "output_type": "display_data"
    },
    {
     "data": {
      "text/plain": [
       "array([-1,  1,  1, ...,  1,  1, -1])"
      ]
     },
     "metadata": {},
     "output_type": "display_data"
    },
    {
     "data": {
      "text/plain": [
       "(500,)"
      ]
     },
     "metadata": {},
     "output_type": "display_data"
    }
   ],
   "source": [
    "np.set_printoptions(threshold=0) # nparrayの省略表示\n",
    "display(X)\n",
    "display(X.shape)\n",
    "display(y)\n",
    "display(y.shape)"
   ]
  },
  {
   "cell_type": "code",
   "execution_count": 4,
   "metadata": {},
   "outputs": [],
   "source": [
    "class ScratchSVMClassifier():\n",
    "    \"\"\"\n",
    "    SVM分類器のスクラッチ実装\n",
    "\n",
    "    Parameters\n",
    "    ----------\n",
    "    num_iter : int\n",
    "      イテレーション数\n",
    "    lr : float\n",
    "      学習率\n",
    "    kernel : str\n",
    "      カーネルの種類。線形カーネル（linear）か多項式カーネル（polly）\n",
    "    threshold : float\n",
    "      サポートベクターを選ぶための閾値\n",
    "    verbose : bool\n",
    "      学習過程を出力する場合はTrue\n",
    "\n",
    "    Attributes\n",
    "    ----------\n",
    "    self.n_support_vectors : int\n",
    "      サポートベクターの数\n",
    "    self.index_support_vectors : 次の形のndarray, shape (n_support_vectors,)\n",
    "      サポートベクターのインデックス\n",
    "    self.X_sv :  次の形のndarray, shape(n_support_vectors, n_features)\n",
    "      サポートベクターの特徴量\n",
    "    self.lam_sv :  次の形のndarray, shape(n_support_vectors, 1)\n",
    "      サポートベクターの未定乗数\n",
    "    self.y_sv :  次の形のndarray, shape(n_support_vectors, 1)\n",
    "      サポートベクターのラベル\n",
    "    self.lag_lam :  次の形のndarray, shape(n_samples, )\n",
    "      ラグランジュ乗数\n",
    "    \"\"\"\n",
    "    def __init__(self, num_iter, lr, kernel='linear', threshold=1e-5, verbose=False):\n",
    "        # ハイパーパラメータを属性として記録\n",
    "        self.iter = num_iter\n",
    "        self.lr = lr\n",
    "        self.kernel = kernel\n",
    "        self.threshold = threshold\n",
    "        self.verbose = verbose\n",
    "        \n",
    "    def fit(self, X, y, X_val=None, y_val=None):\n",
    "        \"\"\"\n",
    "        SVM分類器を学習する。検証データが入力された場合はそれに対する精度もイテレーションごとに計算する。\n",
    "\n",
    "        Parameters\n",
    "        ----------\n",
    "        X : 次の形のndarray, shape (n_samples, n_features)\n",
    "            訓練データの特徴量\n",
    "        y : 次の形のndarray, shape (n_samples, )\n",
    "            訓練データの正解値\n",
    "        X_val : 次の形のndarray, shape (n_samples, n_features)\n",
    "            検証データの特徴量\n",
    "        y_val : 次の形のndarray, shape (n_samples, )\n",
    "            検証データの正解値\n",
    "        \"\"\"\n",
    "        \n",
    "        #yの値を-1, 1へ置換\n",
    "        y_replace = self._y_change(y)\n",
    "        \n",
    "        #ラグランジュ乗数の初期値設定\n",
    "        self.lag_lam = np.random.rand(X.shape[0])\n",
    "        \n",
    "        #学習\n",
    "        self.n_support_vectors_list = []\n",
    "        \n",
    "        for i in range(self.iter):\n",
    "            #ラグランジュ未定乗数を最急降下にて更新\n",
    "            self.lag_lam = self._lagrange_grad_descent(X, y_replace)\n",
    "            #サポートベクターを決定して、情報を各変数に格納\n",
    "            self.index_support_vectors = np.where(self.lag_lam > self.threshold)[0]\n",
    "            self.n_support_vectors = len(self.index_support_vectors)\n",
    "            self.n_support_vectors_list.append(self.n_support_vectors)\n",
    "            self.lam_sv = self.lag_lam[self.index_support_vectors]\n",
    "            self.X_sv = X[self.index_support_vectors]\n",
    "            self.y_sv = y_replace[self.index_support_vectors]\n",
    "        \n",
    "        if self.verbose:\n",
    "        #verboseをTrueにした際は学習過程を出力\n",
    "            print(\"サポートベクター数の過程：\\n{}\".format(self.n_support_vectors_list))\n",
    "\n",
    "    \n",
    "    #問題3\n",
    "    def predict(self, X):\n",
    "        \"\"\"\n",
    "        SVM分類器を使いラベルを推定する。\n",
    "\n",
    "        Parameters\n",
    "        ----------\n",
    "        X : 次の形のndarray, shape (n_samples, n_features)\n",
    "            サンプル\n",
    "\n",
    "        Returns\n",
    "        -------\n",
    "            次の形のndarray, shape (n_samples, 1)\n",
    "            SVM分類器による推定結果\n",
    "        \"\"\"\n",
    "        # f(x)の計算\n",
    "        fx = np.sum(self.lam_sv.T*self.y_sv.T*self._kernel_func(X, self.X_sv), axis=1)\n",
    "        # 値を1or-1に置換\n",
    "        fx = np.where(fx >= 0, 1, -1)\n",
    "        # 値をもとのラベルへ置換\n",
    "        fx = np.where(fx == fx.max(), self.y_max, self.y_min)\n",
    "        \n",
    "        return fx\n",
    "    \n",
    "    #問題1\n",
    "    def _lagrange_grad_descent(self, X, y):\n",
    "        \"\"\"\n",
    "        ラグランジュ未定乗数を最急降下にて更新する関数\n",
    "        _kernal_func未使用\n",
    "        \n",
    "        Parameters\n",
    "        ----------\n",
    "        X : 次の形のndarray, shape (n_samples, n_features)\n",
    "            サンプル\n",
    "        y：次の形のndarray, shape (n_samples, )\n",
    "        \n",
    "        Returns\n",
    "        new_lam：次の形のndarray, shape(n_samples, 1)\n",
    "        ----------\n",
    "        \n",
    "        \"\"\"   \n",
    "        new_lam = self.lag_lam + self.lr*(1 - np.dot(self._kernel_func(X, X), y*self.lag_lam) * y)\n",
    "        #0未満のラムダの値を0に置換\n",
    "        new_lam = np.where(new_lam < 0, 0, new_lam)\n",
    "        \n",
    "        return new_lam\n",
    "    \n",
    "    \n",
    "    #問題1\n",
    "    def _kernel_func(self, X1, X2):\n",
    "        \"\"\"\n",
    "        カーネル関数による計算結果\n",
    "\n",
    "        Parameters\n",
    "        ----------\n",
    "        X1 : 次の形のndarray, shape (n_samples1, n_features1)\n",
    "          サンプル\n",
    "        X2 : 次の形のndarray, shape (n_samples2, n_features2)\n",
    "          サンプル       \n",
    "\n",
    "        Returns\n",
    "        -------\n",
    "        k_x : 次の形のndarray, shape (n_samples1, n_features2)\n",
    "            カーネル関数の計算結果の行列\n",
    "        \"\"\"\n",
    "        if self.kernel == \"linear\":\n",
    "            k_x = X1@X2.T\n",
    "        elif self.kernel == 'polly':\n",
    "            k_x = (self.p_gamma*(X1@X2.T) + self.p_theta)**self.p_d\n",
    "        else:\n",
    "            raise ValueError\n",
    "\n",
    "        return k_x\n",
    "    \n",
    "    def _y_change(self, y):\n",
    "        \"\"\"\n",
    "        yの値を-1, 1へ置換する関数\n",
    "        \"\"\"\n",
    "        self.y_max = y.max()\n",
    "        self.y_min = y.min()\n",
    "        y_replace = np.where(y == self.y_max, 1, -1)\n",
    "        return y_replace"
   ]
  },
  {
   "cell_type": "markdown",
   "metadata": {},
   "source": [
    "### 【問題1】ラグランジュの未定乗数法による最急降下\n",
    "SVMの学習は、ラグランジュの未定乗数法を用います。サンプル数分のラグランジュ乗数 \n",
    "λ\n",
    " を用意して、以下の式により更新していきます。この計算を行うメソッドをScratchSVMClassifierクラスに実装してください。\n",
    " \n",
    " $$\n",
    " λ_i^{new} = λ_i + α(1 - \\sum_{i=1}^{n}λ_jy_iy_jk(x_i, x_j))\n",
    " $$\n",
    "\n",
    "ここで$k(x_i, x_j)$はカーネル関数です。線形カーネルの場合は次のようになります。他のカーネル関数にも対応できるように、この部分は独立したメソッドとしておきましょう。\n",
    "\n",
    "$$\n",
    "k(x_i, x_j) = x_i^Tx_j\n",
    "$$\n",
    "\n",
    "条件として、更新毎に \n",
    "$λ_i >= 0$を満たす必要があります。満たさない場合は $λ_i=0$とします。\n",
    "\n",
    "i, j：サンプルのインデックス\n",
    "\n",
    "$λ_i^{new}$：更新後のi番目のサンプルのラグランジュ乗数\n",
    "\n",
    "$ λ_i$：更新前のi番目のサンプルのラグランジュ乗数\n",
    "\n",
    "α：学習率\n",
    "\n",
    "$λ_j$：j番目のサンプルのラグランジュ乗数\n",
    "\n",
    "$y_i$：i番目のサンプルのラベル\n",
    "\n",
    "$y_j$：j番目のサンプルのラベル\n",
    "\n",
    "$x_i$：i番目のサンプルの特徴量ベクトル\n",
    "\n",
    "$x_j$： j番目のサンプルの特徴量ベクトル\n",
    "\n",
    "あるサンプルに対しての全てのサンプルとの関係を計算していくことになります。"
   ]
  },
  {
   "cell_type": "code",
   "execution_count": 5,
   "metadata": {},
   "outputs": [],
   "source": [
    "#確認用\n",
    "def kernel_func(X1, X2):\n",
    "    \"\"\"\n",
    "    カーネル関数による計算結果\n",
    "\n",
    "    Parameters\n",
    "    ----------\n",
    "    X1 : 次の形のndarray, shape (n_samples1, n_features1)\n",
    "      サンプル\n",
    "    X2 : 次の形のndarray, shape (n_samples2, n_features2)\n",
    "      サンプル       \n",
    "\n",
    "    Returns\n",
    "    -------\n",
    "    k_x : 次の形のndarray, shape (n_samples1, n_features2)\n",
    "        カーネル関数の計算結果の行列\n",
    "    \"\"\"\n",
    "    k_x = X1@X2.T\n",
    "    return k_x"
   ]
  },
  {
   "cell_type": "code",
   "execution_count": 6,
   "metadata": {},
   "outputs": [],
   "source": [
    "#確認用\n",
    "def lagrange_grad_descent(X, y):\n",
    "    \"\"\"\n",
    "    ラグランジュ未定乗数を最急降下にて更新する関数\n",
    "    _kernal_func未使用\n",
    "\n",
    "    Parameters\n",
    "    ----------\n",
    "    X : 次の形のndarray, shape (n_samples, n_features)\n",
    "        サンプル\n",
    "    y：次の形のndarray, shape (n_samples, )\n",
    "\n",
    "    Returns\n",
    "    new_lam：次の形のndarray, shape(n_samples, 1)\n",
    "    ----------\n",
    "\n",
    "    \"\"\"   \n",
    "    new_lam = lag_lam + 0.001*(1 - np.dot(kernel_func(X, X), y*lag_lam) * y)\n",
    "    #0未満のラムダの値を0に置換\n",
    "    new_lam = np.where(new_lam < 0, 0, new_lam)\n",
    "\n",
    "    return new_lam"
   ]
  },
  {
   "cell_type": "code",
   "execution_count": 7,
   "metadata": {},
   "outputs": [],
   "source": [
    "def y_change(y):\n",
    "    \"\"\"\n",
    "    yの値を-1, 1へ置換する関数\n",
    "    \"\"\"\n",
    "    y_max = y.max()\n",
    "    y_min = y.min()\n",
    "    y_replace = np.where(y == y_max, 1, -1)\n",
    "    return y_replace"
   ]
  },
  {
   "cell_type": "markdown",
   "metadata": {},
   "source": [
    "### 【問題2】サポートベクターの決定\n",
    "計算したラグランジュ乗数 \n",
    "λ\n",
    " が設定した閾値より大きいサンプルをサポートベクターとして扱います。推定時にサポートベクターが必要になります。サポートベクターを決定し、インスタンス変数として保持しておくコードを書いてください。\n",
    "\n",
    "\n",
    "閾値はハイパーパラメータですが、1e-5程度からはじめると良いでしょう。サポートベクターの数を出力させられるようにしておくと学習がうまく行えているかを確認できます。\n",
    "\n"
   ]
  },
  {
   "cell_type": "code",
   "execution_count": 8,
   "metadata": {},
   "outputs": [],
   "source": [
    "#参考（未使用）\n",
    "def _support_vector(self, X, y):\n",
    "    \"\"\"\n",
    "    サポートベクターを決定して、情報を各変数に格納する関数\n",
    "    \"\"\"\n",
    "    self.n_support_vectors_list = []\n",
    "    self.X_sv_list = []\n",
    "    self.lam_sv_list = []\n",
    "\n",
    "    self.index_support_vectors = np.where(self.lag_lam > self.threshold)[0] #サポートベクターのインデックス。閾値より大きいラグランジュ乗数のインデント 取得\n",
    "    self.n_support_vectors = len(self.index_support_vectors) #サポートベクターの数\n",
    "    self.n_support_vectors_list.append(self.n_support_vectors)\n",
    "    self.X_sv = X[self.index_support_vectors] #サポートベクター(の特徴量)\n",
    "    self.X_sv_list.append(self.X_sv)\n",
    "    self.lam_sv = self.lag_lam[self.index_support_vectors]#サポートベクターの未定乗数\n",
    "    self.lam_sv_list.append(self.lam_sv) \n",
    "    self.y_sv = y[self.index_support_vectors]#サポートベクターのラベル"
   ]
  },
  {
   "cell_type": "markdown",
   "metadata": {},
   "source": [
    "### 【問題3】推定\n",
    "推定時には、推定したいデータの特徴量とサポートベクターの特徴量をカーネル関数によって計算します。求めた$f(x)$の符号が分類結果です。\n",
    "\n",
    "$$\n",
    "f(x) = \\sum_{n=1}^{N}λ_ny_{sv_n}k(x, s_n)\n",
    "$$\n",
    "\n",
    "x : 推定したいデータの特徴量ベクトル\n",
    "\n",
    "N : サポートベクターの数\n",
    "\n",
    "n : サポートベクターのインデックス\n",
    "\n",
    "$λ_n$: n番目のサポートベクターのラグランジュ乗数\n",
    "\n",
    "$y_{sv_n}$: n番目のサポートベクターのラベル\n",
    "\n",
    "k(): カーネル関数\n",
    "\n",
    "$s_n$: n番目のサポートベクターの特徴量"
   ]
  },
  {
   "cell_type": "markdown",
   "metadata": {},
   "source": [
    "### 【問題4】学習と推定\n",
    "機械学習スクラッチ入門のSprintで用意したシンプルデータセット1の2値分類に対してスクラッチ実装の学習と推定を行なってください。\n",
    "\n",
    "\n",
    "scikit-learnによる実装と比べ、正しく動いているかを確認してください。\n",
    "\n",
    "\n",
    "AccuracyやPrecision、Recallなどの指標値はscikit-learnを使用してください。"
   ]
  },
  {
   "cell_type": "code",
   "execution_count": 9,
   "metadata": {},
   "outputs": [],
   "source": [
    "from sklearn.metrics import accuracy_score\n",
    "from sklearn.metrics import precision_score\n",
    "from sklearn.metrics import recall_score\n",
    "from sklearn.metrics import f1_score\n",
    "from sklearn.metrics import confusion_matrix\n",
    "\n",
    "def result_each_method(model):\n",
    "    \"\"\"\n",
    "    モデルを入力すると、\n",
    "    ・そのモデルの指標値\n",
    "    ・そのモデルの混同行列\n",
    "    を作成する関数\n",
    "    \n",
    "    Parameter\n",
    "    ---------\n",
    "    model：モデル \n",
    "    \"\"\"\n",
    "    \n",
    "    instance = model \n",
    "    model.fit(X_train, y_train)\n",
    "    print(\"accuracy:{}\".format(accuracy_score(y_test, instance.predict(X_test))))\n",
    "    print(\"---------------------\")\n",
    "    print(\"precision:{}\".format(precision_score(y_test, instance.predict(X_test))))\n",
    "    print(\"---------------------\")\n",
    "    print(\"recall:{}\".format(recall_score(y_test, instance.predict(X_test))))\n",
    "    print(\"---------------------\")\n",
    "    print(\"f1:{}\".format(f1_score(y_test, instance.predict(X_test))))\n",
    "    print(\"---------------------\")\n",
    "    print(confusion_matrix(y_test, instance.predict(X_test)))"
   ]
  },
  {
   "cell_type": "code",
   "execution_count": 10,
   "metadata": {},
   "outputs": [
    {
     "name": "stderr",
     "output_type": "stream",
     "text": [
      "/Users/itonaoki/.pyenv/versions/anaconda3-5.3.1/lib/python3.7/site-packages/sklearn/model_selection/_split.py:2026: FutureWarning: From version 0.21, test_size will always complement train_size unless both are specified.\n",
      "  FutureWarning)\n"
     ]
    }
   ],
   "source": [
    "X_train, X_test, y_train, y_test = train_test_split(X, y, train_size=0.8, random_state=0)"
   ]
  },
  {
   "cell_type": "markdown",
   "metadata": {},
   "source": [
    "**ScratchSVMClassifierモデルでの動作確認**"
   ]
  },
  {
   "cell_type": "code",
   "execution_count": 19,
   "metadata": {
    "scrolled": false
   },
   "outputs": [
    {
     "name": "stdout",
     "output_type": "stream",
     "text": [
      "サポートベクター数の過程：\n",
      "[41, 39, 34, 32, 32, 31, 31, 29, 28, 28, 26, 25, 24, 20, 20, 19, 18, 18, 18, 17, 17, 16, 14, 13, 13, 13, 13, 13, 13, 13, 13, 13, 13, 13, 13, 13, 13, 13, 13, 13, 13, 13, 12, 12, 12, 12, 12, 12, 12, 11, 11, 11, 10, 10, 10, 10, 10, 10, 10, 10, 10, 10, 10, 10, 10, 10, 10, 10, 10, 10, 9, 9, 9, 9, 9, 9, 9, 9, 9, 8, 8, 8, 8, 8, 8, 8, 8, 8, 8, 9, 9, 9, 9, 9, 9, 9, 9, 8, 8, 8, 8, 9, 8, 8, 8, 8, 8, 9, 9, 9, 9, 9, 9, 9, 9, 9, 9, 9, 9, 9, 9, 9, 9, 9, 9, 9, 9, 9, 9, 9, 9, 9, 9, 9, 9, 9, 9, 9, 9, 9, 9, 9, 9, 9, 9, 9, 9, 9, 9, 9, 9, 9, 9, 9, 9, 9, 9, 9, 9, 9, 9, 9, 9, 9, 9, 9, 9, 9, 9, 9, 9, 9, 9, 9, 9, 9, 9, 9, 9, 9, 9, 9, 9, 9, 9, 9, 9, 9, 9, 9, 9, 9, 9, 9, 9, 9, 9, 9, 9, 9, 9, 9, 9, 9, 9, 9, 9, 9, 9, 9, 9, 9, 9, 9, 8, 8, 8, 8, 8, 8, 8, 8, 8, 8, 8, 8, 8, 8, 8, 8, 8, 8, 8, 8, 8, 8, 8, 8, 8, 8, 8, 8, 8, 8, 8, 7, 7, 7, 7, 7, 7, 7, 7, 7, 7, 7, 7, 7, 7, 7, 7, 7, 7, 7, 7, 7, 7, 7, 7, 7, 7, 7, 7, 7, 7, 7, 7, 7, 7, 7, 7, 7, 7, 7, 7, 7, 7, 7, 7, 7, 7, 7, 7, 7, 7, 7, 7, 7, 7, 7, 7, 7, 7, 7, 7, 7, 7, 7, 7, 7, 7, 7, 7, 7, 7, 7, 7, 7, 7, 7, 7, 7, 7, 7, 7, 7, 7, 7, 7, 7, 7, 7, 7, 7, 7, 7, 7, 7, 7, 7, 7, 7, 7, 7, 7, 7, 7, 7, 7, 7, 7, 7, 7, 7, 7, 7, 7, 7, 7, 7, 7, 7, 7, 7, 7, 7, 7, 7, 7, 7, 7, 7, 7, 7, 7, 7, 7, 7, 7, 7, 7, 7, 7, 7, 7, 7, 6, 6, 6, 6, 6, 6, 6, 6, 6, 6, 6, 6, 6, 6, 6, 6, 6, 6, 6, 6, 6, 6, 6, 6, 6, 6, 6, 6, 6, 6, 6, 6, 6, 6, 6, 6, 6, 6, 6, 6, 6, 6, 6, 6, 6, 6, 6, 6, 6, 6, 6, 6, 6, 6, 6, 6, 6, 6, 6, 6, 6, 6, 6, 6, 6, 6, 6, 6, 6, 6, 6, 6, 6, 6, 6, 6, 6, 6, 6, 6, 6, 6, 6, 6, 6, 6, 6, 6, 6, 6, 6, 6, 6, 6, 6, 6, 6, 6, 6, 6, 6, 6, 6, 6, 6, 6, 6, 6, 6, 6, 6, 6, 6, 6]\n",
      "accuracy:1.0\n",
      "---------------------\n",
      "precision:1.0\n",
      "---------------------\n",
      "recall:1.0\n",
      "---------------------\n",
      "f1:1.0\n",
      "---------------------\n",
      "[[40  0]\n",
      " [ 0 60]]\n",
      "予測値： [-1  1  1 ...  1 -1  1]\n",
      "正解値： [-1  1  1 ...  1 -1  1]\n"
     ]
    }
   ],
   "source": [
    "clf = ScratchSVMClassifier(num_iter=500, lr=0.001, verbose=True)\n",
    "result_each_method(clf)\n",
    "print(\"予測値：\", clf.predict(X_test))\n",
    "print(\"正解値：\", y_test)"
   ]
  },
  {
   "cell_type": "markdown",
   "metadata": {},
   "source": [
    "**scikit-learnのSVCモデルでの動作確認**"
   ]
  },
  {
   "cell_type": "code",
   "execution_count": 12,
   "metadata": {},
   "outputs": [
    {
     "name": "stdout",
     "output_type": "stream",
     "text": [
      "accuracy:1.0\n",
      "---------------------\n",
      "precision:1.0\n",
      "---------------------\n",
      "recall:1.0\n",
      "---------------------\n",
      "f1:1.0\n",
      "---------------------\n",
      "[[40  0]\n",
      " [ 0 60]]\n",
      "予測値： [-1  1  1 ...  1 -1  1]\n",
      "正解値： [-1  1  1 ...  1 -1  1]\n"
     ]
    }
   ],
   "source": [
    "from sklearn.svm import SVC\n",
    "svc = SVC(kernel=\"linear\")\n",
    "result_each_method(svc)\n",
    "print(\"予測値：\", svc.predict(X_test))\n",
    "print(\"正解値：\", y_test)"
   ]
  },
  {
   "cell_type": "markdown",
   "metadata": {},
   "source": [
    "scikit-learnのSVCモデルと結果が同じなので、ScratchSVMClassifierモデルは正しく実装できていそう。"
   ]
  },
  {
   "cell_type": "markdown",
   "metadata": {},
   "source": [
    "### 【問題5】決定領域の可視化\n",
    "決定領域を可視化してください。\n",
    "\n",
    "\n",
    "以下の例のようにサポートベクターは異なる色で示してください。\n",
    "\n",
    "![](https://t.gyazo.com/teams/diveintocode/ee4a9ab721afe0b964aecf64b3058989.png)"
   ]
  },
  {
   "cell_type": "code",
   "execution_count": 13,
   "metadata": {},
   "outputs": [],
   "source": [
    "import matplotlib.pyplot as plt\n",
    "from matplotlib.colors import ListedColormap\n",
    "import matplotlib.patches as mpatches\n",
    "def decision_region(X, y, model, step=0.01, title='decision region', xlabel='xlabel', ylabel='ylabel', target_names=['versicolor', 'virginica']):\n",
    "    \"\"\"\n",
    "    2値分類を2次元の特徴量で学習したモデルの決定領域を描く。\n",
    "    背景の色が学習したモデルによる推定値から描画される。\n",
    "    散布図の点は訓練データまたは検証データである。\n",
    "\n",
    "    Parameters\n",
    "    ----------------\n",
    "    X : ndarray, shape(n_samples, 2)\n",
    "        特徴量\n",
    "    y : ndarray, shape(n_samples,)\n",
    "        ラベル\n",
    "    model : object\n",
    "        学習したモデルのインスンタスを入れる\n",
    "    step : float, (default : 0.1)\n",
    "        推定値を計算する間隔を設定する\n",
    "    title : str\n",
    "        グラフのタイトルの文章を与える\n",
    "    xlabel, ylabel : str\n",
    "        軸ラベルの文章を与える\n",
    "    target_names= : list of str\n",
    "        凡例の一覧を与える\n",
    "    \"\"\"\n",
    "    # setting\n",
    "    scatter_color = ['red', 'blue']\n",
    "    contourf_color = ['pink', 'skyblue']\n",
    "    n_class = 2\n",
    "    # pred\n",
    "    mesh_f0, mesh_f1  = np.meshgrid(np.arange(np.min(X[:,0])-0.5, np.max(X[:,0])+0.5, step), np.arange(np.min(X[:,1])-0.5, np.max(X[:,1])+0.5, step))\n",
    "    mesh = np.c_[np.ravel(mesh_f0),np.ravel(mesh_f1)]\n",
    "    y_pred = model.predict(mesh).reshape(mesh_f0.shape)\n",
    "    # plot\n",
    "    plt.title(title)\n",
    "    plt.xlabel(xlabel)\n",
    "    plt.ylabel(ylabel)\n",
    "    plt.contourf(mesh_f0, mesh_f1, y_pred, n_class-1, cmap=ListedColormap(contourf_color))\n",
    "    plt.contour(mesh_f0, mesh_f1, y_pred, n_class-1, colors='y', linewidths=3, alpha=0.5)\n",
    "    for i, target in enumerate(set(y)):\n",
    "        plt.scatter(X[y==target][:, 0], X[y==target][:, 1], s=80, color=scatter_color[i], label=target_names[i], marker='o', alpha=0.3)\n",
    "    patches = [mpatches.Patch(color=scatter_color[i], label=target_names[i]) for i in range(n_class)]\n",
    "    plt.scatter(model.X_sv[:, 0], model.X_sv[:, 1], s=50, color='yellow', marker='o', alpha=.6, label='support vector')\n",
    "    plt.legend(handles=patches)\n",
    "    plt.legend()\n",
    "    plt.show()"
   ]
  },
  {
   "cell_type": "code",
   "execution_count": 20,
   "metadata": {},
   "outputs": [
    {
     "data": {
      "image/png": "[encoded data removed]",
      "text/plain": [
       "<Figure size 432x288 with 1 Axes>"
      ]
     },
     "metadata": {
      "needs_background": "light"
     },
     "output_type": "display_data"
    }
   ],
   "source": [
    "decision_region(X_train, y_train, clf, title='decision region', xlabel='X', ylabel='y', target_names=['label1', 'label2'])"
   ]
  }
 ],
 "metadata": {
  "kernelspec": {
   "display_name": "Python 3",
   "language": "python",
   "name": "python3"
  },
  "language_info": {
   "codemirror_mode": {
    "name": "ipython",
    "version": 3
   },
   "file_extension": ".py",
   "mimetype": "text/x-python",
   "name": "python",
   "nbconvert_exporter": "python",
   "pygments_lexer": "ipython3",
   "version": "3.7.2"
  },
  "toc": {
   "base_numbering": 1,
   "nav_menu": {},
   "number_sections": true,
   "sideBar": true,
   "skip_h1_title": false,
   "title_cell": "Table of Contents",
   "title_sidebar": "Contents",
   "toc_cell": false,
   "toc_position": {},
   "toc_section_display": true,
   "toc_window_display": false
  },
  "varInspector": {
   "cols": {
    "lenName": 16,
    "lenType": 16,
    "lenVar": 40
   },
   "kernels_config": {
    "python": {
     "delete_cmd_postfix": "",
     "delete_cmd_prefix": "del ",
     "library": "var_list.py",
     "varRefreshCmd": "print(var_dic_list())"
    },
    "r": {
     "delete_cmd_postfix": ") ",
     "delete_cmd_prefix": "rm(",
     "library": "var_list.r",
     "varRefreshCmd": "cat(var_dic_list()) "
    }
   },
   "types_to_exclude": [
    "module",
    "function",
    "builtin_function_or_method",
    "instance",
    "_Feature"
   ],
   "window_display": false
  }
 },
 "nbformat": 4,
 "nbformat_minor": 2
}
