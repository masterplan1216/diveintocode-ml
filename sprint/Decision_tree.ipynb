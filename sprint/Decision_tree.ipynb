{
 "cells": [
  {
   "cell_type": "markdown",
   "metadata": {},
   "source": [
    "##### Sprintの目的\n",
    "- スクラッチを通して決定木を理解する\n",
    "- 複雑なアルゴリズムの実装に慣れる"
   ]
  },
  {
   "cell_type": "code",
   "execution_count": 1,
   "metadata": {},
   "outputs": [],
   "source": [
    "import pandas as pd\n",
    "import matplotlib.pyplot as plt\n",
    "import seaborn as sns\n",
    "import numpy as np\n",
    "%matplotlib inline\n",
    "\n",
    "from decimal import Decimal, ROUND_HALF_UP\n",
    "\n",
    "from sklearn.model_selection import train_test_split\n",
    "from sklearn.preprocessing import StandardScaler\n",
    "from sklearn.linear_model import LinearRegression\n",
    "\n",
    "from sklearn.metrics import accuracy_score\n",
    "from sklearn.metrics import precision_score\n",
    "from sklearn.metrics import recall_score\n",
    "from sklearn.metrics import f1_score\n",
    "from sklearn.metrics import confusion_matrix"
   ]
  },
  {
   "cell_type": "code",
   "execution_count": 2,
   "metadata": {},
   "outputs": [],
   "source": [
    "#今課題のデータセット\n",
    "\n",
    "X = np.array([[-0.44699 , -2.8073  ],[-1.4621  , -2.4586  ],\n",
    "       [ 0.10645 ,  1.9242  ],[-3.5944  , -4.0112  ],\n",
    "       [-0.9888  ,  4.5718  ],[-3.1625  , -3.9606  ],\n",
    "       [ 0.56421 ,  0.72888 ],[-0.60216 ,  8.4636  ],\n",
    "       [-0.61251 , -0.75345 ],[-0.73535 , -2.2718  ],\n",
    "       [-0.80647 , -2.2135  ],[ 0.86291 ,  2.3946  ],\n",
    "       [-3.1108  ,  0.15394 ],[-2.9362  ,  2.5462  ],\n",
    "       [-0.57242 , -2.9915  ],[ 1.4771  ,  3.4896  ],\n",
    "       [ 0.58619 ,  0.37158 ],[ 0.6017  ,  4.3439  ],\n",
    "       [-2.1086  ,  8.3428  ],[-4.1013  , -4.353   ],\n",
    "       [-1.9948  , -1.3927  ],[ 0.35084 , -0.031994],\n",
    "       [ 0.96765 ,  7.8929  ],[-1.281   , 15.6824  ],\n",
    "       [ 0.96765 , 10.083   ],[ 1.3763  ,  1.3347  ],\n",
    "       [-2.234   , -2.5323  ],[-2.9452  , -1.8219  ],\n",
    "       [ 0.14654 , -0.28733 ],[ 0.5461  ,  5.8245  ],\n",
    "       [-0.65259 ,  9.3444  ],[ 0.59912 ,  5.3524  ],\n",
    "       [ 0.50214 , -0.31818 ],[-3.0603  , -3.6461  ],\n",
    "       [-6.6797  ,  0.67661 ],[-2.353   , -0.72261 ],\n",
    "       [ 1.1319  ,  2.4023  ],[-0.12243 ,  9.0162  ],\n",
    "       [-2.5677  , 13.1779  ],[ 0.057313,  5.4681  ]])\n",
    "y = np.array([0, 0, 0, 0, 0, 0, 0, 0, 0, 0, 0, 0, 0, 0, 0, 0, 0, 0, 0, 0, 1, 1,\n",
    "       1, 1, 1, 1, 1, 1, 1, 1, 1, 1, 1, 1, 1, 1, 1, 1, 1, 1])"
   ]
  },
  {
   "cell_type": "code",
   "execution_count": 3,
   "metadata": {},
   "outputs": [
    {
     "data": {
      "text/plain": [
       "array([-1.9948  ,  0.35084 ,  0.96765 , -1.281   ,  0.96765 ,  1.3763  ,\n",
       "       -2.234   , -2.9452  ,  0.14654 ,  0.5461  , -0.65259 ,  0.59912 ,\n",
       "        0.50214 , -3.0603  , -6.6797  , -2.353   ,  1.1319  , -0.12243 ,\n",
       "       -2.5677  ,  0.057313])"
      ]
     },
     "execution_count": 3,
     "metadata": {},
     "output_type": "execute_result"
    }
   ],
   "source": [
    "X[20:, 0]"
   ]
  },
  {
   "cell_type": "code",
   "execution_count": 4,
   "metadata": {},
   "outputs": [
    {
     "data": {
      "image/png": "[encoded data removed]",
      "text/plain": [
       "<Figure size 432x288 with 1 Axes>"
      ]
     },
     "metadata": {
      "needs_background": "light"
     },
     "output_type": "display_data"
    }
   ],
   "source": [
    "plt.scatter(X[:20, 0], X[:20, 1], label=0)\n",
    "plt.scatter(X[20:, 0], X[20:, 1], label=1)\n",
    "plt.show()"
   ]
  },
  {
   "cell_type": "code",
   "execution_count": 5,
   "metadata": {},
   "outputs": [
    {
     "data": {
      "text/plain": [
       "array([[-0.44699 , -2.8073  ],\n",
       "       [-1.4621  , -2.4586  ],\n",
       "       [ 0.10645 ,  1.9242  ],\n",
       "       ...,\n",
       "       [-0.12243 ,  9.0162  ],\n",
       "       [-2.5677  , 13.1779  ],\n",
       "       [ 0.057313,  5.4681  ]])"
      ]
     },
     "metadata": {},
     "output_type": "display_data"
    },
    {
     "name": "stdout",
     "output_type": "stream",
     "text": [
      "X形：(40, 2)\n",
      "X数：40\n"
     ]
    },
    {
     "data": {
      "text/plain": [
       "array([0, 0, 0, ..., 1, 1, 1])"
      ]
     },
     "metadata": {},
     "output_type": "display_data"
    },
    {
     "name": "stdout",
     "output_type": "stream",
     "text": [
      "y形：(40,)\n",
      "y数：40\n"
     ]
    }
   ],
   "source": [
    "np.set_printoptions(threshold=0) # nparrayの省略表示\n",
    "display(X)\n",
    "print(\"X形：{}\".format(X.shape))\n",
    "print(\"X数：{}\".format(len(X)))\n",
    "display(y)\n",
    "print(\"y形：{}\".format(y.shape))\n",
    "print(\"y数：{}\".format(len(y)))"
   ]
  },
  {
   "cell_type": "markdown",
   "metadata": {},
   "source": [
    "[Pythonで決定木分類器をフルスクラッチで実装してみた](https://hktech.hatenablog.com/entry/2018/10/05/004235)"
   ]
  },
  {
   "cell_type": "markdown",
   "metadata": {},
   "source": [
    "分類のための決定木のクラスをスクラッチで作成していきます。NumPyなど最低限のライブラリのみを使いアルゴリズムを実装していきます。\n",
    "\n",
    "\n",
    "決定木の学習には何回まで条件分岐を繰り返すかを表す （最大の）深さ というハイパーパラメータが登場しますが、深さ1の実装を必須課題とします。深さが2以上のものはアドバンス課題とします。\n",
    "\n",
    "\n",
    "学習の仕方には様々な方法がありますが、ここではscikit-learnでも使用されている CART法 をベースとした実装を行います。この方法では学習の複雑さを減らすために、 分岐は2つに分かれるのみ になります。\n",
    "\n",
    "\n",
    "以下に雛形を用意してあります。このScratchDecesionTreeClassifierDepth1クラスにコードを書き加えていってください。\n",
    "\n",
    "    class ScratchDecesionTreeClassifierDepth1():\n",
    "        \"\"\"\n",
    "        深さ1の決定木分類器のスクラッチ実装\n",
    "\n",
    "        Parameters\n",
    "        ----------\n",
    "        verbose : bool\n",
    "          学習過程を出力する場合はTrue\n",
    "        \"\"\"\n",
    "        def __init__(self, verbose=False):\n",
    "            # ハイパーパラメータを属性として記録\n",
    "            self.verbose = verbose\n",
    "        def fit(self, X, y):\n",
    "            \"\"\"\n",
    "            決定木分類器を学習する\n",
    "            Parameters\n",
    "            ----------\n",
    "            X : 次の形のndarray, shape (n_samples, n_features)\n",
    "                訓練データの特徴量\n",
    "            y : 次の形のndarray, shape (n_samples, )\n",
    "                訓練データの正解値\n",
    "            \"\"\"\n",
    "            if self.verbose:\n",
    "                #verboseをTrueにした際は学習過程を出力\n",
    "                print()\n",
    "            pass\n",
    "        def predict(self, X):\n",
    "            \"\"\"\n",
    "            決定木分類器を使いラベルを推定する\n",
    "            \"\"\"\n",
    "            pass\n",
    "            return"
   ]
  },
  {
   "cell_type": "markdown",
   "metadata": {},
   "source": [
    "### 完成クラス"
   ]
  },
  {
   "cell_type": "code",
   "execution_count": 6,
   "metadata": {},
   "outputs": [],
   "source": [
    "class ScratchDecesionTreeClassifierDepth1():\n",
    "    \"\"\"\n",
    "    深さ1の決定木分類器のスクラッチ実装\n",
    "\n",
    "    Parameters\n",
    "    ----------\n",
    "    verbose : bool\n",
    "      学習過程を出力する場合はTrue\n",
    "    \"\"\"\n",
    "    def __init__(self, verbose=False):\n",
    "        # ハイパーパラメータを属性として記録\n",
    "        self.verbose = verbose\n",
    "        \n",
    "        self.left_class = 0\n",
    "        self.right_class = 1\n",
    "        \n",
    "    def fit(self, X, y):\n",
    "        \"\"\"\n",
    "        決定木分類器を学習する\n",
    "        Parameters\n",
    "        ----------\n",
    "        X : 次の形のndarray, shape (n_samples, n_features)\n",
    "            訓練データの特徴量\n",
    "        y : 次の形のndarray, shape (n_samples, )\n",
    "            訓練データの正解値\n",
    "        \"\"\"\n",
    "        self.best_ig = 0\n",
    "\n",
    "        for col in range(X.shape[1]):\n",
    "            for value in np.unique(X[:, col]):\n",
    "                X_left = (X[:, col] <= value)\n",
    "                X_right = (X[:, col] > value)\n",
    "                y_left = y[X_left]\n",
    "                y_right = y[X_right]\n",
    "\n",
    "                ig = self._info_gain(y_left, y_right)\n",
    "\n",
    "                if ig > self.best_ig:\n",
    "                    self.best_ig = ig\n",
    "                    self.feature_id = col #使用した特徴量の列番号\n",
    "                    self.threshold = value #使用した閾値\n",
    "        \n",
    "        print(\"best_ig:\", self.best_ig)\n",
    "        print(\"feature_id:\", self.feature_id)\n",
    "        print(\"threshold:\", self.threshold)\n",
    "        \n",
    "        if self.verbose:\n",
    "            #verboseをTrueにした際は学習過程を出力\n",
    "            print()\n",
    "        pass\n",
    "    \n",
    "    #問題4\n",
    "    def predict(self, X):\n",
    "        \"\"\"\n",
    "        決定木分類器を使いラベルを推定する\n",
    "        \"\"\"\n",
    "        X_left = X[:, self.feature_id] <= self.threshold\n",
    "        pred = np.where(X_left, self.left_class, self.right_class)\n",
    "        \n",
    "        return pred\n",
    "    \n",
    "    #問題1\n",
    "    def _gini_score(self, y):\n",
    "        \"\"\"\n",
    "        ジニ不純度を計算する関数\n",
    "        ジニ不純度が0だと綺麗に分割していることになる\n",
    "\n",
    "        Parameter\n",
    "        ----------\n",
    "        y : ndarray(n_samples, )\n",
    "            ラベルデータ\n",
    "\n",
    "        Return\n",
    "        ----------\n",
    "        gini : float\n",
    "            ジニ不純度\n",
    "        \"\"\"\n",
    "        classes = np.unique(y) #ラベルの抽出\n",
    "        score = 0\n",
    "        for cls in classes:\n",
    "            p = np.sum(y == cls)/len(y)\n",
    "            score += p**2\n",
    "        gini = 1 - score\n",
    "        return gini\n",
    "    \n",
    "    #問題2\n",
    "    def _info_gain(self, y_left, y_right):\n",
    "        \"\"\"\n",
    "        子ノードから情報利得の計算をする関数\n",
    "        大きい値の方が、親ノードから子ノードの分割が綺麗にできていることになる\n",
    "\n",
    "        Parameters\n",
    "        -----------\n",
    "        y_left : (n_samples_left, )\n",
    "            左子ノードのラベルデータ\n",
    "        y_right : (n_samples_right, )\n",
    "            右子ノードのラベルデータ\n",
    "\n",
    "        Return\n",
    "        -----------\n",
    "        ig : float\n",
    "            情報利得\n",
    "        \"\"\"\n",
    "        num_left, num_right = len(y_left), len(y_right) #子ノードのサンプル数\n",
    "        num_all = num_left + num_right #親ノードのサンプル数\n",
    "\n",
    "        y_parent = np.concatenate((y_left, y_right), axis=0) #親のラベルデータ作成。不要？？\n",
    "\n",
    "        ig = self._gini_score(y_parent) - (num_left/num_all)*self._gini_score(y_left) - (num_right/num_all)*self._gini_score(y_right)\n",
    "        return ig"
   ]
  },
  {
   "cell_type": "markdown",
   "metadata": {},
   "source": [
    "学習によって、ノードをどういった条件で分割すると、うまく分けられるかということを求めます。\n",
    "\n",
    "うまく分けられていることを判定するためにノードに対してジニ不純度と情報利得という値を計算します。"
   ]
  },
  {
   "cell_type": "markdown",
   "metadata": {},
   "source": [
    "### 【問題1】不純度を求める関数\n",
    "ノード の ジニ不純度 を計算する関数を作成してください。ノード$t$に対するジニ不純度$I(t)$は以下の数式で求まります。クラスが混じり合っているほどジニ不純度は高くなります。\n",
    "\n",
    "$$\n",
    "I(t) = 1 - \\sum_{i=1}^{K}P^2(C_i|t) = 1 - \\sum_{i=1}^{K}(\\frac{N_{t, i}}{N_{t, all}})^2\n",
    "$$\n",
    "\n",
    "t: ノードのインデックス\n",
    "\n",
    "i: クラスのインデックス\n",
    "\n",
    "K: クラスの数\n",
    "\n",
    "$C_i$: i番目のクラス\n",
    "\n",
    "$P(C_i | t)$:　t番目のノードにおける$C_i$の割合\n",
    "\n",
    "$N_{t, i}$: t番目のノードのi番目のクラスに属するサンプル数\n",
    "\n",
    "$N_{t, all}$: t番目のノードのサンプルの総数\n",
    "\n",
    "\n",
    "まずは簡単な例を作り、手計算と関数の結果を比較してください。\n",
    "\n",
    "- クラス1:サンプル数15, クラス2:サンプル数15 → ジニ不純度0.500\n",
    "- クラス1:サンプル数15, クラス2:サンプル数15, クラス3:サンプル数15 → ジニ不純度0.667\n",
    "- クラス1:サンプル数18, クラス2:サンプル数12 → ジニ不純度0.480\n",
    "- クラス1:サンプル数30, クラス2:サンプル数0 → ジニ不純度0.000"
   ]
  },
  {
   "cell_type": "markdown",
   "metadata": {},
   "source": [
    "#### 回答"
   ]
  },
  {
   "cell_type": "code",
   "execution_count": 7,
   "metadata": {},
   "outputs": [],
   "source": [
    "def _gini_score(self, y):\n",
    "    \"\"\"\n",
    "    ジニ不純度を計算する関数\n",
    "    ジニ不純度が0だと綺麗に分割していることになる\n",
    "    \n",
    "    Parameter\n",
    "    ----------\n",
    "    y : ndarray(n_samples, )\n",
    "        ラベルデータ\n",
    "        \n",
    "    Return\n",
    "    ----------\n",
    "    gini : float\n",
    "        ジニ不純度\n",
    "    \"\"\"\n",
    "    classes = np.unique(y) #ラベルの抽出\n",
    "    score = 0\n",
    "    for cls in classes:\n",
    "        p = np.sum(y == cls)/len(y)\n",
    "        score += p**2\n",
    "    gini = 1 - score\n",
    "    return gini"
   ]
  },
  {
   "cell_type": "code",
   "execution_count": 8,
   "metadata": {},
   "outputs": [],
   "source": [
    "#確認用\n",
    "def gini_score(y):\n",
    "    \"\"\"\n",
    "    ジニ不純度を計算する関数\n",
    "    ジニ不純度が0だと綺麗に分割していることになる\n",
    "    \n",
    "    Parameter\n",
    "    ----------\n",
    "    y : ndarray(n_samples, )\n",
    "        ラベルデータ\n",
    "        \n",
    "    Return\n",
    "    ----------\n",
    "    gini : float\n",
    "        ジニ不純度\n",
    "    \"\"\"\n",
    "    classes = np.unique(y) #ラベルの抽出\n",
    "    score = 0\n",
    "    for cls in classes:\n",
    "        p = np.sum(y == cls)/len(y)\n",
    "        score += p**2\n",
    "    gini = 1 - score\n",
    "    return gini"
   ]
  },
  {
   "cell_type": "code",
   "execution_count": 9,
   "metadata": {},
   "outputs": [
    {
     "data": {
      "text/plain": [
       "array([1, 1, 1, ..., 2, 2, 2])"
      ]
     },
     "metadata": {},
     "output_type": "display_data"
    },
    {
     "data": {
      "text/plain": [
       "0.48"
      ]
     },
     "execution_count": 9,
     "metadata": {},
     "output_type": "execute_result"
    }
   ],
   "source": [
    "#検証\n",
    "node = np.array([1 if i < 18 else 2 for i in range(30)])\n",
    "display(node)\n",
    "\n",
    "gini_score(node)"
   ]
  },
  {
   "cell_type": "markdown",
   "metadata": {},
   "source": [
    "diverの例と一致"
   ]
  },
  {
   "cell_type": "markdown",
   "metadata": {},
   "source": [
    "### 【問題2】情報利得を求める関数\n",
    "次に、ノード間の 情報利得 を計算する関数を作成してください。問題1で作成したジニ不純度$I(t)$を計算する関数を呼び出して使います。  \n",
    "情報利得$IG$は以下の数式で求まります。うまく分けられている時ほど情報利得は大きくなります。\n",
    "\n",
    "\n",
    "ここで分岐は2つのみであるため、分岐先を「左側のノード・右側のノード」と呼びます。\n",
    "\n",
    "$$\n",
    "IG(p) = I(p) - \\frac{N_{left, all}}{N_{p, all}}I(left) - \\frac{N_{right, all}}{N_{p, all}}I(right)\n",
    "$$\n",
    "\n",
    "$p$: 親ノードを示すインデックス\n",
    "\n",
    "\n",
    "$left$: 左側のノードを示すインデックス\n",
    "\n",
    "\n",
    "$right$: 右側のノードを示すインデックス\n",
    "\n",
    "まずは簡単な例を作り、手計算と関数の結果を比較してください。\n",
    "\n",
    "左ノードクラス1:サンプル数10, 左ノードクラス2:サンプル数30, 右ノードクラス1:サンプル数20, 右ノードクラス2:サンプル数5 → 情報利得0.143"
   ]
  },
  {
   "cell_type": "markdown",
   "metadata": {},
   "source": [
    "#### 回答"
   ]
  },
  {
   "cell_type": "code",
   "execution_count": 10,
   "metadata": {},
   "outputs": [],
   "source": [
    "def _info_gain(self, y_left, y_right):\n",
    "    \"\"\"\n",
    "    子ノードから情報利得の計算をする関数\n",
    "    \n",
    "    Parameters\n",
    "    -----------\n",
    "    y_left : (n_samples_left, )\n",
    "        左子ノードのラベルデータ\n",
    "    y_right : (n_samples_right, )\n",
    "        右子ノードのラベルデータ\n",
    "    \n",
    "    Return\n",
    "    -----------\n",
    "    ig : float\n",
    "        情報利得\n",
    "    \"\"\"\n",
    "    num_left, num_right = len(y_left), len(y_right) #子ノードのサンプル数\n",
    "    num_all = num_left + num_right #親ノードのサンプル数\n",
    "    \n",
    "    y_parent = np.concatenate((y_left, y_right), axis=0) #親のラベルデータ作成。不要？？\n",
    "    \n",
    "    ig = _gini_score(y_parent) - (num_left/num_all)*_gini_score(y_left) - (num_right/num_all)*_gini_score(y_right)\n",
    "    return ig"
   ]
  },
  {
   "cell_type": "code",
   "execution_count": 11,
   "metadata": {},
   "outputs": [],
   "source": [
    "#確認用\n",
    "def info_gain(y_left, y_right):\n",
    "    \"\"\"\n",
    "    子ノードから情報利得の計算をする関数\n",
    "    \n",
    "    Parameters\n",
    "    -----------\n",
    "    y_left : (n_samples_left, )\n",
    "        左子ノードのラベルデータ\n",
    "    y_right : (n_samples_right, )\n",
    "        右子ノードのラベルデータ\n",
    "    \n",
    "    Return\n",
    "    -----------\n",
    "    ig : float\n",
    "        情報利得\n",
    "    \"\"\"\n",
    "    num_left, num_right = len(y_left), len(y_right) #子ノードのサンプル数\n",
    "    num_all = num_left + num_right #親ノードのサンプル数\n",
    "    \n",
    "    y_parent = np.concatenate((y_left, y_right), axis=0) #親のラベルデータ作成。不要？？\n",
    "    \n",
    "    ig = gini_score(y_parent) - (num_left/num_all)*gini_score(y_left) - (num_right/num_all)*gini_score(y_right)\n",
    "    return ig"
   ]
  },
  {
   "cell_type": "code",
   "execution_count": 12,
   "metadata": {},
   "outputs": [
    {
     "data": {
      "text/plain": [
       "array([0, 0, 0, ..., 1, 1, 1])"
      ]
     },
     "metadata": {},
     "output_type": "display_data"
    },
    {
     "data": {
      "text/plain": [
       "array([0, 0, 0, ..., 1, 1, 1])"
      ]
     },
     "metadata": {},
     "output_type": "display_data"
    },
    {
     "data": {
      "text/plain": [
       "0.14319526627218937"
      ]
     },
     "execution_count": 12,
     "metadata": {},
     "output_type": "execute_result"
    }
   ],
   "source": [
    "#検証\n",
    "left_node = np.array([0 if i < 10 else 1 for i in range(40)])\n",
    "display(left_node)\n",
    "right_node = np.array([0 if i < 20 else 1 for i in range(25)])\n",
    "display(right_node)\n",
    "info_gain(left_node, right_node)"
   ]
  },
  {
   "cell_type": "markdown",
   "metadata": {},
   "source": [
    "diverの例と一致"
   ]
  },
  {
   "cell_type": "markdown",
   "metadata": {},
   "source": [
    "### 【問題3】学習\n",
    "空間の分割を行い、決定木のグラフを生成するコードを作成してください。今は深さ1の決定木なので、分割を1回だけ行います。ここでグラフを生成するとは、1回の分割の際の条件としてどの特徴量がいくつ以上の時とするかを求めるということです。\n",
    "\n",
    "\n",
    "訓練データに対して全ての組み合わせの分割を行い、その中でノード間の情報利得が最大となる分割をそのノードの分割基準として記録します。\n",
    "\n",
    "\n",
    "クラスが混ざらない不純度が0のノード、または指定された深さのノードが 葉ノード となります。葉ノードにはクラスを記録しておき、これを推定時に分類するクラスとします。クラスが混ざらない場合はそのままのクラスを記録し、混ざっている場合は多数決により決めます。\n",
    "\n",
    "\n",
    "《組み合わせの取り方》  \n",
    "全ての組み合わせの取り方は、最も単純には各特徴量の値自体をしきい値にして分割を行う方法があります。片側の端は今回のスクラッチはこの方法で行なってください。\n",
    "\n",
    "\n",
    "他には中間の値をしきい値にする方法もあり、scikit-learnではこの方法が用いられています。\n",
    "\n",
    "\n",
    "《補足》  \n",
    "問題2の情報利得を計算する関数はこの問題3で利用する上では、親ノードの不純度$I(p)$は固定されるため、左右のノードの不純度の合計を計算するだけでも同じ結果が得られることになります。しかし、ここでは親ノードを考慮した情報利得を計算する実装を行なってください。"
   ]
  },
  {
   "cell_type": "markdown",
   "metadata": {},
   "source": [
    "#### 回答"
   ]
  },
  {
   "cell_type": "code",
   "execution_count": 13,
   "metadata": {},
   "outputs": [
    {
     "name": "stdout",
     "output_type": "stream",
     "text": [
      "best_ig: 0.07680250783699061\n",
      "feature_id: 1\n",
      "threshold: 4.5718\n"
     ]
    }
   ],
   "source": [
    "best_ig = 0\n",
    "\n",
    "for col in range(X.shape[1]):\n",
    "    for value in np.unique(X[:, col]):\n",
    "        X_left = X[:, col] <= value\n",
    "        X_right = X[:, col] > value\n",
    "        y_left = y[X_left]\n",
    "        y_right = y[X_right]\n",
    "        \n",
    "        ig = info_gain(y_left, y_right)\n",
    "        \n",
    "        if ig > best_ig:\n",
    "            best_ig = ig\n",
    "            feature_id = col\n",
    "            threshold = value\n",
    "\n",
    "print(\"best_ig:\", best_ig)\n",
    "print(\"feature_id:\", feature_id)\n",
    "print(\"threshold:\", threshold)"
   ]
  },
  {
   "cell_type": "markdown",
   "metadata": {},
   "source": [
    "### 【問題4】推定\n",
    "推定する仕組みを実装してください。ScratchDecesionTreeClassifierDepth1クラスの雛形に含まれるpredictメソッドに書き加えてください。\n",
    "\n",
    "\n",
    "入力されたデータの値を学習した条件で判定していき、どの葉ノードに到達するかを見ます。葉ノードにはクラスが記録されているので、これが推定値となります。"
   ]
  },
  {
   "cell_type": "markdown",
   "metadata": {},
   "source": [
    "#### 回答\n",
    "ScratchDecesionTreeClassifierDepth1クラスのpredictメソッドに記載"
   ]
  },
  {
   "cell_type": "markdown",
   "metadata": {},
   "source": [
    "### 【問題5】学習と推定\n",
    "機械学習スクラッチ入門のSprintで用意したシンプルデータセット2の2値分類に対してスクラッチ実装の学習と推定を行なってください。\n",
    "\n",
    "\n",
    "scikit-learnによる実装と比べ、正しく動いているかを確認してください。\n",
    "\n",
    "\n",
    "AccuracyやPrecision、Recallなどの指標値はscikit-learnを使用してください。"
   ]
  },
  {
   "cell_type": "code",
   "execution_count": 14,
   "metadata": {},
   "outputs": [],
   "source": [
    "#評価指標をまとめて出す関数\n",
    "\n",
    "def result_each_method(model):\n",
    "    \"\"\"\n",
    "    モデルを入力すると、\n",
    "    ・そのモデルの指標値\n",
    "    ・そのモデルの混同行列\n",
    "    を作成する関数\n",
    "    \n",
    "    Parameter\n",
    "    ---------\n",
    "    model：モデル \n",
    "    \"\"\"\n",
    "    \n",
    "    instance = model \n",
    "    model.fit(X_train, y_train)\n",
    "    print(\"accuracy:{}\".format(accuracy_score(y_test, instance.predict(X_test))))\n",
    "    print(\"---------------------\")\n",
    "    print(\"precision:{}\".format(precision_score(y_test, instance.predict(X_test))))\n",
    "    print(\"---------------------\")\n",
    "    print(\"recall:{}\".format(recall_score(y_test, instance.predict(X_test))))\n",
    "    print(\"---------------------\")\n",
    "    print(\"f1:{}\".format(f1_score(y_test, instance.predict(X_test))))\n",
    "    print(\"---------------------\")\n",
    "    print(confusion_matrix(y_test, instance.predict(X_test)))"
   ]
  },
  {
   "cell_type": "code",
   "execution_count": 15,
   "metadata": {},
   "outputs": [
    {
     "name": "stderr",
     "output_type": "stream",
     "text": [
      "/Users/itonaoki/.pyenv/versions/anaconda3-5.3.1/lib/python3.7/site-packages/sklearn/model_selection/_split.py:2026: FutureWarning: From version 0.21, test_size will always complement train_size unless both are specified.\n",
      "  FutureWarning)\n"
     ]
    }
   ],
   "source": [
    "#データ分割\n",
    "X_train, X_test, y_train, y_test = train_test_split(X, y, train_size=0.75)"
   ]
  },
  {
   "cell_type": "markdown",
   "metadata": {},
   "source": [
    "#### 回答"
   ]
  },
  {
   "cell_type": "code",
   "execution_count": 16,
   "metadata": {},
   "outputs": [
    {
     "name": "stdout",
     "output_type": "stream",
     "text": [
      "accuracy:0.6\n",
      "---------------------\n",
      "precision:0.6666666666666666\n",
      "---------------------\n",
      "recall:0.4\n",
      "---------------------\n",
      "f1:0.5\n",
      "---------------------\n",
      "[[4 1]\n",
      " [3 2]]\n",
      "決定木(予測値):[0 0 1 0 0 1 1 0 0 0]\n",
      "正解値:[0 1 0 1 0 1 1 0 1 0]\n"
     ]
    }
   ],
   "source": [
    "#scikit-learn 決定木\n",
    "from sklearn.tree import DecisionTreeClassifier\n",
    "np.set_printoptions(threshold=np.inf)\n",
    "\n",
    "tree = DecisionTreeClassifier(max_depth=1)\n",
    "result_each_method(tree)\n",
    "print(\"決定木(予測値):{}\".format(tree.predict(X_test)))\n",
    "print(\"正解値:{}\".format(y_test))"
   ]
  },
  {
   "cell_type": "code",
   "execution_count": 17,
   "metadata": {},
   "outputs": [
    {
     "name": "stdout",
     "output_type": "stream",
     "text": [
      "best_ig: 0.1022727272727273\n",
      "feature_id: 1\n",
      "threshold: 4.5718\n",
      "accuracy:0.6\n",
      "---------------------\n",
      "precision:0.6666666666666666\n",
      "---------------------\n",
      "recall:0.4\n",
      "---------------------\n",
      "f1:0.5\n",
      "---------------------\n",
      "[[4 1]\n",
      " [3 2]]\n",
      "決定木(予測値):[0 0 1 0 0 1 1 0 0 0]\n",
      "正解値:[0 1 0 1 0 1 1 0 1 0]\n"
     ]
    }
   ],
   "source": [
    "#ScratchDecesionTreeClassifierDepth1\n",
    "\n",
    "model = ScratchDecesionTreeClassifierDepth1()\n",
    "result_each_method(model)\n",
    "print(\"決定木(予測値):{}\".format(model.predict(X_test)))\n",
    "print(\"正解値:{}\".format(y_test))"
   ]
  },
  {
   "cell_type": "markdown",
   "metadata": {},
   "source": [
    "### 【問題6】決定領域の可視化\n",
    "決定領域を可視化してください。"
   ]
  },
  {
   "cell_type": "code",
   "execution_count": 18,
   "metadata": {},
   "outputs": [],
   "source": [
    "import matplotlib.pyplot as plt\n",
    "from matplotlib.colors import ListedColormap\n",
    "import matplotlib.patches as mpatches\n",
    "def decision_region(X, y, model, step=0.01, title='decision region', xlabel='xlabel', ylabel='ylabel', target_names=['versicolor', 'virginica']):\n",
    "    \"\"\"\n",
    "    2値分類を2次元の特徴量で学習したモデルの決定領域を描く。\n",
    "    背景の色が学習したモデルによる推定値から描画される。\n",
    "    散布図の点は訓練データまたは検証データである。\n",
    "\n",
    "    Parameters\n",
    "    ----------------\n",
    "    X : ndarray, shape(n_samples, 2)\n",
    "        特徴量\n",
    "    y : ndarray, shape(n_samples,)\n",
    "        ラベル\n",
    "    model : object\n",
    "        学習したモデルのインスンタスを入れる\n",
    "    step : float, (default : 0.1)\n",
    "        推定値を計算する間隔を設定する\n",
    "    title : str\n",
    "        グラフのタイトルの文章を与える\n",
    "    xlabel, ylabel : str\n",
    "        軸ラベルの文章を与える\n",
    "    target_names= : list of str\n",
    "        凡例の一覧を与える\n",
    "    \"\"\"\n",
    "    # setting\n",
    "    scatter_color = ['red', 'blue']\n",
    "    contourf_color = ['pink', 'skyblue']\n",
    "    n_class = 2\n",
    "    # pred\n",
    "    mesh_f0, mesh_f1  = np.meshgrid(np.arange(np.min(X[:,0])-0.5, np.max(X[:,0])+0.5, step), np.arange(np.min(X[:,1])-0.5, np.max(X[:,1])+0.5, step))\n",
    "    mesh = np.c_[np.ravel(mesh_f0),np.ravel(mesh_f1)]\n",
    "    y_pred = model.predict(mesh).reshape(mesh_f0.shape)\n",
    "    # plot\n",
    "    plt.title(title)\n",
    "    plt.xlabel(xlabel)\n",
    "    plt.ylabel(ylabel)\n",
    "    plt.contourf(mesh_f0, mesh_f1, y_pred, n_class-1, cmap=ListedColormap(contourf_color))\n",
    "    plt.contour(mesh_f0, mesh_f1, y_pred, n_class-1, colors='y', linewidths=3, alpha=0.5)\n",
    "    for i, target in enumerate(set(y)):\n",
    "        plt.scatter(X[y==target][:, 0], X[y==target][:, 1], s=80, color=scatter_color[i], label=target_names[i], marker='o', alpha=0.3)\n",
    "    patches = [mpatches.Patch(color=scatter_color[i], label=target_names[i]) for i in range(n_class)]\n",
    "    plt.legend(handles=patches)\n",
    "    plt.legend()\n",
    "    plt.show()"
   ]
  },
  {
   "cell_type": "markdown",
   "metadata": {},
   "source": [
    "#### 回答"
   ]
  },
  {
   "cell_type": "code",
   "execution_count": 19,
   "metadata": {},
   "outputs": [
    {
     "data": {
      "image/png": "[encoded data removed]",
      "text/plain": [
       "<Figure size 432x288 with 1 Axes>"
      ]
     },
     "metadata": {
      "needs_background": "light"
     },
     "output_type": "display_data"
    },
    {
     "data": {
      "image/png": "[encoded data removed]",
      "text/plain": [
       "<Figure size 432x288 with 1 Axes>"
      ]
     },
     "metadata": {
      "needs_background": "light"
     },
     "output_type": "display_data"
    }
   ],
   "source": [
    "#scikit-learn 決定木\n",
    "decision_region(X_test, y_test, tree)\n",
    "decision_region(X_train, y_train, tree)"
   ]
  },
  {
   "cell_type": "code",
   "execution_count": 20,
   "metadata": {},
   "outputs": [
    {
     "data": {
      "image/png": "[encoded data removed]",
      "text/plain": [
       "<Figure size 432x288 with 1 Axes>"
      ]
     },
     "metadata": {
      "needs_background": "light"
     },
     "output_type": "display_data"
    },
    {
     "data": {
      "image/png": "[encoded data removed]",
      "text/plain": [
       "<Figure size 432x288 with 1 Axes>"
      ]
     },
     "metadata": {
      "needs_background": "light"
     },
     "output_type": "display_data"
    }
   ],
   "source": [
    "#ScratchDecesionTreeClassifierDepth1\n",
    "decision_region(X_test, y_test, model)\n",
    "decision_region(X_train, y_train, model)"
   ]
  },
  {
   "cell_type": "markdown",
   "metadata": {},
   "source": [
    "scikit-learnのDecisionTreeClassifierと、ScratchDecesionTreeClassifierDepth1を比べてみると概ね決定領域が一致しているので正しく実装できていると思われる。"
   ]
  }
 ],
 "metadata": {
  "kernelspec": {
   "display_name": "Python 3",
   "language": "python",
   "name": "python3"
  },
  "language_info": {
   "codemirror_mode": {
    "name": "ipython",
    "version": 3
   },
   "file_extension": ".py",
   "mimetype": "text/x-python",
   "name": "python",
   "nbconvert_exporter": "python",
   "pygments_lexer": "ipython3",
   "version": "3.7.2"
  },
  "toc": {
   "base_numbering": 1,
   "nav_menu": {},
   "number_sections": true,
   "sideBar": true,
   "skip_h1_title": false,
   "title_cell": "Table of Contents",
   "title_sidebar": "Contents",
   "toc_cell": false,
   "toc_position": {
    "height": "calc(100% - 180px)",
    "left": "10px",
    "top": "150px",
    "width": "179.188px"
   },
   "toc_section_display": true,
   "toc_window_display": false
  },
  "varInspector": {
   "cols": {
    "lenName": 16,
    "lenType": 16,
    "lenVar": 40
   },
   "kernels_config": {
    "python": {
     "delete_cmd_postfix": "",
     "delete_cmd_prefix": "del ",
     "library": "var_list.py",
     "varRefreshCmd": "print(var_dic_list())"
    },
    "r": {
     "delete_cmd_postfix": ") ",
     "delete_cmd_prefix": "rm(",
     "library": "var_list.r",
     "varRefreshCmd": "cat(var_dic_list()) "
    }
   },
   "types_to_exclude": [
    "module",
    "function",
    "builtin_function_or_method",
    "instance",
    "_Feature"
   ],
   "window_display": false
  }
 },
 "nbformat": 4,
 "nbformat_minor": 2
}
