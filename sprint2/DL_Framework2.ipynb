{
 "cells": [
  {
   "cell_type": "markdown",
   "metadata": {},
   "source": [
    "##### Sprintの目的\n",
    "- フレームワークのコードを読めるようにする\n",
    "- フレームワークを習得し続けられるようになる\n",
    "- 理論を知っている範囲をフレームワークで動かす\n"
   ]
  },
  {
   "cell_type": "code",
   "execution_count": 3,
   "metadata": {},
   "outputs": [],
   "source": [
    "import numpy as np\n",
    "import pandas as pd\n",
    "from sklearn.model_selection import train_test_split\n",
    "from sklearn.preprocessing import StandardScaler\n",
    "import tensorflow as tf"
   ]
  },
  {
   "cell_type": "markdown",
   "metadata": {},
   "source": [
    "#### 公式Example\n",
    "\n",
    "深層学習フレームワークには公式に様々なモデルのExampleコードが公開されています。"
   ]
  },
  {
   "cell_type": "markdown",
   "metadata": {},
   "source": [
    "### 【問題1】公式チュートリアルモデルを分担して実行\n",
    "TensorFLowの公式チュートリアルモデルを分担して実行してください。\n",
    "\n",
    "\n",
    "以下の中から1人ひとつ選び実行し、その結果を簡単に発表してください。\n",
    "\n",
    "\n",
    "[models/tutorials at master · tensorflow/models](https://www.tensorflow.org/tutorials/)\n",
    "\n"
   ]
  },
  {
   "cell_type": "markdown",
   "metadata": {},
   "source": [
    "#### [Kerasチューナーの紹介](https://www.tensorflow.org/tutorials/keras/keras_tuner)"
   ]
  },
  {
   "cell_type": "markdown",
   "metadata": {},
   "source": [
    "##### 概観\n",
    "Keras Tunerは、TensorFlowプログラムに最適なハイパーパラメータのセットを選択するのに役立つライブラリです。機械学習（ML）アプリケーションに適したハイパーパラメーターのセットを選択するプロセスは、 ハイパーパラメーター チューニングまたはハイパーチューニングと呼ばれます。\n",
    "\n",
    "ハイパーパラメータは、トレーニングプロセスとMLモデルのトポロジを管理する変数です。これらの変数はトレーニングプロセス全体で一定であり、MLプログラムのパフォーマンスに直接影響します。ハイパーパラメータには次の2つのタイプがあります。\n",
    "\n",
    "- 非表示レイヤーの数や幅などのモデル選択に影響を与えるモデルハイパーパラメーター\n",
    "- 確率的勾配降下法（SGD）の学習率やk最近傍（KNN）分類器の最近傍の数など、学習アルゴリズムの速度と品質に影響を与えるアルゴリズムハイパーパラメーター\n",
    "\n",
    "\n",
    "このチュートリアルでは、Keras Tunerを使用して、画像分類アプリケーションのハイパーチューニングを実行します。"
   ]
  },
  {
   "cell_type": "markdown",
   "metadata": {},
   "source": [
    "##### Setup"
   ]
  },
  {
   "cell_type": "code",
   "execution_count": 2,
   "metadata": {},
   "outputs": [],
   "source": [
    "import tensorflow as tf\n",
    "from tensorflow import keras\n",
    "\n",
    "import IPython"
   ]
  },
  {
   "cell_type": "code",
   "execution_count": 3,
   "metadata": {
    "scrolled": true
   },
   "outputs": [],
   "source": [
    "#!pip install -U keras-tuner\n",
    "import kerastuner as kt"
   ]
  },
  {
   "cell_type": "code",
   "execution_count": 4,
   "metadata": {},
   "outputs": [
    {
     "data": {
      "text/plain": [
       "'1.14.0'"
      ]
     },
     "execution_count": 4,
     "metadata": {},
     "output_type": "execute_result"
    }
   ],
   "source": [
    "tf.__version__"
   ]
  },
  {
   "cell_type": "code",
   "execution_count": 5,
   "metadata": {},
   "outputs": [
    {
     "data": {
      "text/plain": [
       "'2.2.4-tf'"
      ]
     },
     "execution_count": 5,
     "metadata": {},
     "output_type": "execute_result"
    }
   ],
   "source": [
    "tf.keras.__version__"
   ]
  },
  {
   "cell_type": "markdown",
   "metadata": {},
   "source": [
    "##### データセットの用意\n",
    "このチュートリアルでは、Keras Tunerを使用して、 Fashion MNISTデータセットから衣服の画像を分類する機械学習モデルに最適なハイパーパラメーターを見つけます。\n",
    "\n",
    "データをロードします。"
   ]
  },
  {
   "cell_type": "code",
   "execution_count": 6,
   "metadata": {
    "code_folding": [],
    "scrolled": true
   },
   "outputs": [],
   "source": [
    "(img_train, label_train), (img_test, label_test) = keras.datasets.fashion_mnist.load_data()"
   ]
  },
  {
   "cell_type": "code",
   "execution_count": 7,
   "metadata": {},
   "outputs": [],
   "source": [
    "# Normalize pixel values between 0 and 1\n",
    "#正規化\n",
    "\n",
    "img_train = img_train.astype('float32') / 255.0\n",
    "img_test = img_test.astype('float32') / 255.0"
   ]
  },
  {
   "cell_type": "code",
   "execution_count": 8,
   "metadata": {
    "scrolled": false
   },
   "outputs": [
    {
     "data": {
      "text/plain": [
       "array([[[0., 0., 0., ..., 0., 0., 0.],\n",
       "        [0., 0., 0., ..., 0., 0., 0.],\n",
       "        [0., 0., 0., ..., 0., 0., 0.],\n",
       "        ...,\n",
       "        [0., 0., 0., ..., 0., 0., 0.],\n",
       "        [0., 0., 0., ..., 0., 0., 0.],\n",
       "        [0., 0., 0., ..., 0., 0., 0.]],\n",
       "\n",
       "       [[0., 0., 0., ..., 0., 0., 0.],\n",
       "        [0., 0., 0., ..., 0., 0., 0.],\n",
       "        [0., 0., 0., ..., 0., 0., 0.],\n",
       "        ...,\n",
       "        [0., 0., 0., ..., 0., 0., 0.],\n",
       "        [0., 0., 0., ..., 0., 0., 0.],\n",
       "        [0., 0., 0., ..., 0., 0., 0.]],\n",
       "\n",
       "       [[0., 0., 0., ..., 0., 0., 0.],\n",
       "        [0., 0., 0., ..., 0., 0., 0.],\n",
       "        [0., 0., 0., ..., 0., 0., 0.],\n",
       "        ...,\n",
       "        [0., 0., 0., ..., 0., 0., 0.],\n",
       "        [0., 0., 0., ..., 0., 0., 0.],\n",
       "        [0., 0., 0., ..., 0., 0., 0.]],\n",
       "\n",
       "       ...,\n",
       "\n",
       "       [[0., 0., 0., ..., 0., 0., 0.],\n",
       "        [0., 0., 0., ..., 0., 0., 0.],\n",
       "        [0., 0., 0., ..., 0., 0., 0.],\n",
       "        ...,\n",
       "        [0., 0., 0., ..., 0., 0., 0.],\n",
       "        [0., 0., 0., ..., 0., 0., 0.],\n",
       "        [0., 0., 0., ..., 0., 0., 0.]],\n",
       "\n",
       "       [[0., 0., 0., ..., 0., 0., 0.],\n",
       "        [0., 0., 0., ..., 0., 0., 0.],\n",
       "        [0., 0., 0., ..., 0., 0., 0.],\n",
       "        ...,\n",
       "        [0., 0., 0., ..., 0., 0., 0.],\n",
       "        [0., 0., 0., ..., 0., 0., 0.],\n",
       "        [0., 0., 0., ..., 0., 0., 0.]],\n",
       "\n",
       "       [[0., 0., 0., ..., 0., 0., 0.],\n",
       "        [0., 0., 0., ..., 0., 0., 0.],\n",
       "        [0., 0., 0., ..., 0., 0., 0.],\n",
       "        ...,\n",
       "        [0., 0., 0., ..., 0., 0., 0.],\n",
       "        [0., 0., 0., ..., 0., 0., 0.],\n",
       "        [0., 0., 0., ..., 0., 0., 0.]]], dtype=float32)"
      ]
     },
     "metadata": {},
     "output_type": "display_data"
    },
    {
     "name": "stdout",
     "output_type": "stream",
     "text": [
      "(60000, 28, 28)\n",
      "-------------------\n"
     ]
    },
    {
     "data": {
      "text/plain": [
       "array([9, 0, 0, ..., 3, 0, 5], dtype=uint8)"
      ]
     },
     "metadata": {},
     "output_type": "display_data"
    },
    {
     "name": "stdout",
     "output_type": "stream",
     "text": [
      "(60000,)\n"
     ]
    }
   ],
   "source": [
    "display(img_train)\n",
    "print(img_train.shape)\n",
    "print(\"-------------------\")\n",
    "display(label_train)\n",
    "print(label_train.shape)"
   ]
  },
  {
   "cell_type": "code",
   "execution_count": 9,
   "metadata": {},
   "outputs": [
    {
     "data": {
      "text/plain": [
       "array([0, 1, 2, 3, 4, 5, 6, 7, 8, 9], dtype=uint8)"
      ]
     },
     "execution_count": 9,
     "metadata": {},
     "output_type": "execute_result"
    }
   ],
   "source": [
    "np.unique(label_train)"
   ]
  },
  {
   "cell_type": "markdown",
   "metadata": {},
   "source": [
    "ラベル数は10"
   ]
  },
  {
   "cell_type": "markdown",
   "metadata": {},
   "source": [
    "##### モデルを定義する\n",
    "ハイパーチューニング用のモデルを構築するときは、モデルアーキテクチャに加えて、ハイパーパラメーター検索スペースも定義します。あなたがhypertuning用に設定したモデルはhypermodelと呼ばれます。\n",
    "\n",
    "次の2つの方法でハイパーモデルを定義できます。\n",
    "\n",
    "- モデルビルダー機能を使用する\n",
    "- HyperModel Tuner APIのHyperModelクラスをサブクラス化する\n",
    "\n",
    "コンピュータビジョンアプリケーションには、 HyperXceptionとHyperResNetの 2つの定義済みHyperModelクラスを使用することもできます。\n",
    "\n",
    "このチュートリアルでは、モデルビルダー関数を使用して画像分類モデルを定義します。モデルビルダー関数はコンパイルされたモデルを返し、インラインで定義したハイパーパラメーターを使用してモデルをハイパーチューニングします。"
   ]
  },
  {
   "cell_type": "code",
   "execution_count": 10,
   "metadata": {},
   "outputs": [],
   "source": [
    "def model_builder(hp):\n",
    "    model = keras.Sequential()\n",
    "    model.add(keras.layers.Flatten(input_shape=(28, 28)))\n",
    "\n",
    "    # Tune the number of units in the first Dense layer\n",
    "    # Choose an optimal value between 32-512\n",
    "    hp_units = hp.Int('units', min_value = 32, max_value = 512, step = 32) #15パターン\n",
    "    model.add(keras.layers.Dense(units = hp_units, activation = 'relu')) #\n",
    "    model.add(keras.layers.Dense(10))\n",
    "\n",
    "    # Tune the learning rate for the optimizer \n",
    "    # Choose an optimal value from 0.01, 0.001, or 0.0001\n",
    "    hp_learning_rate = hp.Choice('learning_rate', values = [1e-2, 1e-3, 1e-4])  #3パターン\n",
    "\n",
    "    model.compile(optimizer = keras.optimizers.Adam(learning_rate = hp_learning_rate),\n",
    "                loss = keras.losses.SparseCategoricalCrossentropy(from_logits = True), \n",
    "                metrics = ['accuracy'])\n",
    "\n",
    "    return model"
   ]
  },
  {
   "cell_type": "markdown",
   "metadata": {},
   "source": [
    "keras.losses.SparseCategoricalCrossentropy\n",
    ">ラベルと予測の間のクロスエントロピー損失を計算します。"
   ]
  },
  {
   "cell_type": "markdown",
   "metadata": {},
   "source": [
    "##### チューナーをインスタンス化してハイパーチューニングを実行する\n",
    "チューナーをインスタンス化してハイパーチューニングを実行します。\n",
    "\n",
    "Kerasチューナーには、RandomSearch、Hyperband、BayesianOptimization、およびSklearnの4つのチューナーがあります。 このチュートリアルでは、ハイパーバンドチューナーを使用します。\n",
    "\n",
    "ハイパーバンドチューナーをインスタンス化するには、ハイパーモデル、最適化の目的 、トレーニングするエポックの最大数（ max_epochs ）を指定する必要があります。"
   ]
  },
  {
   "cell_type": "code",
   "execution_count": 11,
   "metadata": {},
   "outputs": [
    {
     "name": "stdout",
     "output_type": "stream",
     "text": [
      "INFO:tensorflow:Reloading Oracle from existing project my_dir/intro_to_kt/oracle.json\n",
      "WARNING:tensorflow:From /Users/itonaoki/.pyenv/versions/anaconda3-5.3.1/lib/python3.7/site-packages/tensorflow/python/ops/init_ops.py:1251: calling VarianceScaling.__init__ (from tensorflow.python.ops.init_ops) with dtype is deprecated and will be removed in a future version.\n",
      "Instructions for updating:\n",
      "Call initializer instance with the dtype argument instead of passing it to the constructor\n",
      "INFO:tensorflow:Reloading Tuner from my_dir/intro_to_kt/tuner0.json\n"
     ]
    }
   ],
   "source": [
    "tuner = kt.Hyperband(model_builder,\n",
    "                     objective = \"val_acc\", \n",
    "                     max_epochs = 10,\n",
    "                     factor = 3,\n",
    "                     directory = 'my_dir',\n",
    "                     project_name = 'intro_to_kt')"
   ]
  },
  {
   "cell_type": "markdown",
   "metadata": {},
   "source": [
    "factorはモデルの減らし方をコントロール??（1/3ずつ）"
   ]
  },
  {
   "cell_type": "markdown",
   "metadata": {},
   "source": [
    ">実行時、下記エラーが発生したので、tensorflow1.14.0にアップグレード\n",
    ">\n",
    ">AttributeError: module 'tensorflow._api.v1.keras.metrics' has no attribute 'Metric'.\n",
    "\n",
    ">2つ下のCodeセルで下記エラー発生したので、'val_accuracy'→'val_acc'\n",
    ">\n",
    ">ValueError: Objective value missing in metrics reported to the Oracle, expected: ['val_accuracy'], found: dict_keys(['loss', 'acc', 'val_loss', 'val_acc'])"
   ]
  },
  {
   "cell_type": "markdown",
   "metadata": {},
   "source": [
    "ハイパーバンドチューニングアルゴリズムは、適応型リソース割り当てと早期停止を使用して、高性能モデルにすばやく収束します。これは、スポーツ選手権スタイルのブラケットを使用して行われます。  \n",
    "アルゴリズムは、少数のエポックで多数のモデルをトレーニングし、モデルの上位の半分のみを次のラウンドに繰り越します。   \n",
    "ハイパーバンドは、1 + log`factor`（max_epochs）を計算し、最も近い整数に切り上げることにより、ブラケットでトレーニングするモデルの数を決定します。\n",
    "\n",
    "ハイパーパラメーター検索を実行する前に、すべてのトレーニングステップの最後にトレーニング出力をクリアするコールバックを定義します。"
   ]
  },
  {
   "cell_type": "code",
   "execution_count": 12,
   "metadata": {},
   "outputs": [],
   "source": [
    "class ClearTrainingOutput(tf.keras.callbacks.Callback):\n",
    "    def on_train_end(*args, **kwargs):\n",
    "        IPython.display.clear_output(wait = True)"
   ]
  },
  {
   "cell_type": "markdown",
   "metadata": {},
   "source": [
    "ハイパーパラメータ検索を実行します。検索メソッドの引数は、上記のコールバックに加えて、 tf.keras.model.fitに使用されるものと同じです。\n"
   ]
  },
  {
   "cell_type": "code",
   "execution_count": 13,
   "metadata": {},
   "outputs": [
    {
     "data": {
      "text/html": [
       "<span style=\"color:#4527A0\"><h1 style=\"font-size:18px\">Trial complete</h1></span>"
      ],
      "text/plain": [
       "<IPython.core.display.HTML object>"
      ]
     },
     "metadata": {},
     "output_type": "display_data"
    },
    {
     "data": {
      "text/html": [
       "<span style=\"color:#4527A0\"><h1 style=\"font-size:18px\">Trial summary</h1></span>"
      ],
      "text/plain": [
       "<IPython.core.display.HTML object>"
      ]
     },
     "metadata": {},
     "output_type": "display_data"
    },
    {
     "data": {
      "text/html": [
       "<span style=\"color:cyan\"> |-Trial ID: 72a474bc9d2e0cfb079c1bb87d46972c</span>"
      ],
      "text/plain": [
       "<IPython.core.display.HTML object>"
      ]
     },
     "metadata": {},
     "output_type": "display_data"
    },
    {
     "data": {
      "text/html": [
       "<span style=\"color:cyan\"> |-Score: 0.8464999794960022</span>"
      ],
      "text/plain": [
       "<IPython.core.display.HTML object>"
      ]
     },
     "metadata": {},
     "output_type": "display_data"
    },
    {
     "data": {
      "text/html": [
       "<span style=\"color:cyan\"> |-Best step: 0</span>"
      ],
      "text/plain": [
       "<IPython.core.display.HTML object>"
      ]
     },
     "metadata": {},
     "output_type": "display_data"
    },
    {
     "data": {
      "text/html": [
       "<span style=\"color:#7E57C2\"><h2 style=\"font-size:16px\">Hyperparameters:</h2></span>"
      ],
      "text/plain": [
       "<IPython.core.display.HTML object>"
      ]
     },
     "metadata": {},
     "output_type": "display_data"
    },
    {
     "data": {
      "text/html": [
       "<span style=\"color:cyan\"> |-learning_rate: 0.0001</span>"
      ],
      "text/plain": [
       "<IPython.core.display.HTML object>"
      ]
     },
     "metadata": {},
     "output_type": "display_data"
    },
    {
     "data": {
      "text/html": [
       "<span style=\"color:blue\"> |-tuner/bracket: 2</span>"
      ],
      "text/plain": [
       "<IPython.core.display.HTML object>"
      ]
     },
     "metadata": {},
     "output_type": "display_data"
    },
    {
     "data": {
      "text/html": [
       "<span style=\"color:cyan\"> |-tuner/epochs: 2</span>"
      ],
      "text/plain": [
       "<IPython.core.display.HTML object>"
      ]
     },
     "metadata": {},
     "output_type": "display_data"
    },
    {
     "data": {
      "text/html": [
       "<span style=\"color:blue\"> |-tuner/initial_epoch: 0</span>"
      ],
      "text/plain": [
       "<IPython.core.display.HTML object>"
      ]
     },
     "metadata": {},
     "output_type": "display_data"
    },
    {
     "data": {
      "text/html": [
       "<span style=\"color:cyan\"> |-tuner/round: 0</span>"
      ],
      "text/plain": [
       "<IPython.core.display.HTML object>"
      ]
     },
     "metadata": {},
     "output_type": "display_data"
    },
    {
     "data": {
      "text/html": [
       "<span style=\"color:blue\"> |-units: 352</span>"
      ],
      "text/plain": [
       "<IPython.core.display.HTML object>"
      ]
     },
     "metadata": {},
     "output_type": "display_data"
    },
    {
     "name": "stdout",
     "output_type": "stream",
     "text": [
      "INFO:tensorflow:Oracle triggered exit\n",
      "\n",
      "The hyperparameter search is complete. The optimal number of units in the first densely-connected\n",
      "layer is 480 and the optimal learning rate for the optimizer\n",
      "is 0.001.\n",
      "\n",
      "CPU times: user 22min 16s, sys: 1min 15s, total: 23min 31s\n",
      "Wall time: 4min 42s\n"
     ]
    }
   ],
   "source": [
    "%%time\n",
    "\n",
    "tuner.search(img_train, label_train, epochs = 10, validation_data = (img_test, label_test), callbacks = [ClearTrainingOutput()])\n",
    "\n",
    "# Get the optimal hyperparameters\n",
    "best_hps = tuner.get_best_hyperparameters(num_trials = 1)[0]\n",
    "\n",
    "print(f\"\"\"\n",
    "The hyperparameter search is complete. The optimal number of units in the first densely-connected\n",
    "layer is {best_hps.get('units')} and the optimal learning rate for the optimizer\n",
    "is {best_hps.get('learning_rate')}.\n",
    "\"\"\")"
   ]
  },
  {
   "cell_type": "code",
   "execution_count": 14,
   "metadata": {},
   "outputs": [
    {
     "data": {
      "text/html": [
       "<span style=\"color:#4527A0\"><h1 style=\"font-size:18px\">Search space summary</h1></span>"
      ],
      "text/plain": [
       "<IPython.core.display.HTML object>"
      ]
     },
     "metadata": {},
     "output_type": "display_data"
    },
    {
     "data": {
      "text/html": [
       "<span style=\"color:cyan\"> |-Default search space size: 2</span>"
      ],
      "text/plain": [
       "<IPython.core.display.HTML object>"
      ]
     },
     "metadata": {},
     "output_type": "display_data"
    },
    {
     "data": {
      "text/html": [
       "<span style=\"color:#7E57C2\"><h2 style=\"font-size:16px\">units (Int)</h2></span>"
      ],
      "text/plain": [
       "<IPython.core.display.HTML object>"
      ]
     },
     "metadata": {},
     "output_type": "display_data"
    },
    {
     "data": {
      "text/html": [
       "<span style=\"color:cyan\"> |-default: None</span>"
      ],
      "text/plain": [
       "<IPython.core.display.HTML object>"
      ]
     },
     "metadata": {},
     "output_type": "display_data"
    },
    {
     "data": {
      "text/html": [
       "<span style=\"color:blue\"> |-max_value: 512</span>"
      ],
      "text/plain": [
       "<IPython.core.display.HTML object>"
      ]
     },
     "metadata": {},
     "output_type": "display_data"
    },
    {
     "data": {
      "text/html": [
       "<span style=\"color:cyan\"> |-min_value: 32</span>"
      ],
      "text/plain": [
       "<IPython.core.display.HTML object>"
      ]
     },
     "metadata": {},
     "output_type": "display_data"
    },
    {
     "data": {
      "text/html": [
       "<span style=\"color:blue\"> |-sampling: None</span>"
      ],
      "text/plain": [
       "<IPython.core.display.HTML object>"
      ]
     },
     "metadata": {},
     "output_type": "display_data"
    },
    {
     "data": {
      "text/html": [
       "<span style=\"color:cyan\"> |-step: 32</span>"
      ],
      "text/plain": [
       "<IPython.core.display.HTML object>"
      ]
     },
     "metadata": {},
     "output_type": "display_data"
    },
    {
     "data": {
      "text/html": [
       "<span style=\"color:#7E57C2\"><h2 style=\"font-size:16px\">learning_rate (Choice)</h2></span>"
      ],
      "text/plain": [
       "<IPython.core.display.HTML object>"
      ]
     },
     "metadata": {},
     "output_type": "display_data"
    },
    {
     "data": {
      "text/html": [
       "<span style=\"color:cyan\"> |-default: 0.01</span>"
      ],
      "text/plain": [
       "<IPython.core.display.HTML object>"
      ]
     },
     "metadata": {},
     "output_type": "display_data"
    },
    {
     "data": {
      "text/html": [
       "<span style=\"color:blue\"> |-ordered: True</span>"
      ],
      "text/plain": [
       "<IPython.core.display.HTML object>"
      ]
     },
     "metadata": {},
     "output_type": "display_data"
    },
    {
     "data": {
      "text/html": [
       "<span style=\"color:cyan\"> |-values: [0.01, 0.001, 0.0001]</span>"
      ],
      "text/plain": [
       "<IPython.core.display.HTML object>"
      ]
     },
     "metadata": {},
     "output_type": "display_data"
    }
   ],
   "source": [
    "tuner.search_space_summary()"
   ]
  },
  {
   "cell_type": "code",
   "execution_count": 15,
   "metadata": {
    "scrolled": true
   },
   "outputs": [
    {
     "data": {
      "text/html": [
       "<span style=\"color:#4527A0\"><h1 style=\"font-size:18px\">Results summary</h1></span>"
      ],
      "text/plain": [
       "<IPython.core.display.HTML object>"
      ]
     },
     "metadata": {},
     "output_type": "display_data"
    },
    {
     "data": {
      "text/html": [
       "<span style=\"color:cyan\"> |-Results in my_dir/intro_to_kt</span>"
      ],
      "text/plain": [
       "<IPython.core.display.HTML object>"
      ]
     },
     "metadata": {},
     "output_type": "display_data"
    },
    {
     "data": {
      "text/html": [
       "<span style=\"color:cyan\"> |-Showing 10 best trials</span>"
      ],
      "text/plain": [
       "<IPython.core.display.HTML object>"
      ]
     },
     "metadata": {},
     "output_type": "display_data"
    },
    {
     "data": {
      "text/html": [
       "<span style=\"color:cyan\"> |-Objective(name='val_acc', direction='max')</span>"
      ],
      "text/plain": [
       "<IPython.core.display.HTML object>"
      ]
     },
     "metadata": {},
     "output_type": "display_data"
    },
    {
     "data": {
      "text/html": [
       "<span style=\"color:#4527A0\"><h1 style=\"font-size:18px\">Trial summary</h1></span>"
      ],
      "text/plain": [
       "<IPython.core.display.HTML object>"
      ]
     },
     "metadata": {},
     "output_type": "display_data"
    },
    {
     "data": {
      "text/html": [
       "<span style=\"color:cyan\"> |-Trial ID: ff762b170f9b73876ae6690670f33764</span>"
      ],
      "text/plain": [
       "<IPython.core.display.HTML object>"
      ]
     },
     "metadata": {},
     "output_type": "display_data"
    },
    {
     "data": {
      "text/html": [
       "<span style=\"color:cyan\"> |-Score: 0.8870000243186951</span>"
      ],
      "text/plain": [
       "<IPython.core.display.HTML object>"
      ]
     },
     "metadata": {},
     "output_type": "display_data"
    },
    {
     "data": {
      "text/html": [
       "<span style=\"color:cyan\"> |-Best step: 0</span>"
      ],
      "text/plain": [
       "<IPython.core.display.HTML object>"
      ]
     },
     "metadata": {},
     "output_type": "display_data"
    },
    {
     "data": {
      "text/html": [
       "<span style=\"color:#7E57C2\"><h2 style=\"font-size:16px\">Hyperparameters:</h2></span>"
      ],
      "text/plain": [
       "<IPython.core.display.HTML object>"
      ]
     },
     "metadata": {},
     "output_type": "display_data"
    },
    {
     "data": {
      "text/html": [
       "<span style=\"color:cyan\"> |-learning_rate: 0.001</span>"
      ],
      "text/plain": [
       "<IPython.core.display.HTML object>"
      ]
     },
     "metadata": {},
     "output_type": "display_data"
    },
    {
     "data": {
      "text/html": [
       "<span style=\"color:blue\"> |-tuner/bracket: 0</span>"
      ],
      "text/plain": [
       "<IPython.core.display.HTML object>"
      ]
     },
     "metadata": {},
     "output_type": "display_data"
    },
    {
     "data": {
      "text/html": [
       "<span style=\"color:cyan\"> |-tuner/epochs: 10</span>"
      ],
      "text/plain": [
       "<IPython.core.display.HTML object>"
      ]
     },
     "metadata": {},
     "output_type": "display_data"
    },
    {
     "data": {
      "text/html": [
       "<span style=\"color:blue\"> |-tuner/initial_epoch: 0</span>"
      ],
      "text/plain": [
       "<IPython.core.display.HTML object>"
      ]
     },
     "metadata": {},
     "output_type": "display_data"
    },
    {
     "data": {
      "text/html": [
       "<span style=\"color:cyan\"> |-tuner/round: 0</span>"
      ],
      "text/plain": [
       "<IPython.core.display.HTML object>"
      ]
     },
     "metadata": {},
     "output_type": "display_data"
    },
    {
     "data": {
      "text/html": [
       "<span style=\"color:blue\"> |-units: 480</span>"
      ],
      "text/plain": [
       "<IPython.core.display.HTML object>"
      ]
     },
     "metadata": {},
     "output_type": "display_data"
    },
    {
     "data": {
      "text/html": [
       "<span style=\"color:#4527A0\"><h1 style=\"font-size:18px\">Trial summary</h1></span>"
      ],
      "text/plain": [
       "<IPython.core.display.HTML object>"
      ]
     },
     "metadata": {},
     "output_type": "display_data"
    },
    {
     "data": {
      "text/html": [
       "<span style=\"color:cyan\"> |-Trial ID: ee185b173609f20ecc4c9532c85d2a57</span>"
      ],
      "text/plain": [
       "<IPython.core.display.HTML object>"
      ]
     },
     "metadata": {},
     "output_type": "display_data"
    },
    {
     "data": {
      "text/html": [
       "<span style=\"color:cyan\"> |-Score: 0.8834999799728394</span>"
      ],
      "text/plain": [
       "<IPython.core.display.HTML object>"
      ]
     },
     "metadata": {},
     "output_type": "display_data"
    },
    {
     "data": {
      "text/html": [
       "<span style=\"color:cyan\"> |-Best step: 0</span>"
      ],
      "text/plain": [
       "<IPython.core.display.HTML object>"
      ]
     },
     "metadata": {},
     "output_type": "display_data"
    },
    {
     "data": {
      "text/html": [
       "<span style=\"color:#7E57C2\"><h2 style=\"font-size:16px\">Hyperparameters:</h2></span>"
      ],
      "text/plain": [
       "<IPython.core.display.HTML object>"
      ]
     },
     "metadata": {},
     "output_type": "display_data"
    },
    {
     "data": {
      "text/html": [
       "<span style=\"color:cyan\"> |-learning_rate: 0.001</span>"
      ],
      "text/plain": [
       "<IPython.core.display.HTML object>"
      ]
     },
     "metadata": {},
     "output_type": "display_data"
    },
    {
     "data": {
      "text/html": [
       "<span style=\"color:blue\"> |-tuner/bracket: 0</span>"
      ],
      "text/plain": [
       "<IPython.core.display.HTML object>"
      ]
     },
     "metadata": {},
     "output_type": "display_data"
    },
    {
     "data": {
      "text/html": [
       "<span style=\"color:cyan\"> |-tuner/epochs: 10</span>"
      ],
      "text/plain": [
       "<IPython.core.display.HTML object>"
      ]
     },
     "metadata": {},
     "output_type": "display_data"
    },
    {
     "data": {
      "text/html": [
       "<span style=\"color:blue\"> |-tuner/initial_epoch: 0</span>"
      ],
      "text/plain": [
       "<IPython.core.display.HTML object>"
      ]
     },
     "metadata": {},
     "output_type": "display_data"
    },
    {
     "data": {
      "text/html": [
       "<span style=\"color:cyan\"> |-tuner/round: 0</span>"
      ],
      "text/plain": [
       "<IPython.core.display.HTML object>"
      ]
     },
     "metadata": {},
     "output_type": "display_data"
    },
    {
     "data": {
      "text/html": [
       "<span style=\"color:blue\"> |-units: 192</span>"
      ],
      "text/plain": [
       "<IPython.core.display.HTML object>"
      ]
     },
     "metadata": {},
     "output_type": "display_data"
    },
    {
     "data": {
      "text/html": [
       "<span style=\"color:#4527A0\"><h1 style=\"font-size:18px\">Trial summary</h1></span>"
      ],
      "text/plain": [
       "<IPython.core.display.HTML object>"
      ]
     },
     "metadata": {},
     "output_type": "display_data"
    },
    {
     "data": {
      "text/html": [
       "<span style=\"color:cyan\"> |-Trial ID: 666d4dcb6d6d69586ee668313cf7a34e</span>"
      ],
      "text/plain": [
       "<IPython.core.display.HTML object>"
      ]
     },
     "metadata": {},
     "output_type": "display_data"
    },
    {
     "data": {
      "text/html": [
       "<span style=\"color:cyan\"> |-Score: 0.8805999755859375</span>"
      ],
      "text/plain": [
       "<IPython.core.display.HTML object>"
      ]
     },
     "metadata": {},
     "output_type": "display_data"
    },
    {
     "data": {
      "text/html": [
       "<span style=\"color:cyan\"> |-Best step: 0</span>"
      ],
      "text/plain": [
       "<IPython.core.display.HTML object>"
      ]
     },
     "metadata": {},
     "output_type": "display_data"
    },
    {
     "data": {
      "text/html": [
       "<span style=\"color:#7E57C2\"><h2 style=\"font-size:16px\">Hyperparameters:</h2></span>"
      ],
      "text/plain": [
       "<IPython.core.display.HTML object>"
      ]
     },
     "metadata": {},
     "output_type": "display_data"
    },
    {
     "data": {
      "text/html": [
       "<span style=\"color:cyan\"> |-learning_rate: 0.001</span>"
      ],
      "text/plain": [
       "<IPython.core.display.HTML object>"
      ]
     },
     "metadata": {},
     "output_type": "display_data"
    },
    {
     "data": {
      "text/html": [
       "<span style=\"color:blue\"> |-tuner/bracket: 1</span>"
      ],
      "text/plain": [
       "<IPython.core.display.HTML object>"
      ]
     },
     "metadata": {},
     "output_type": "display_data"
    },
    {
     "data": {
      "text/html": [
       "<span style=\"color:cyan\"> |-tuner/epochs: 10</span>"
      ],
      "text/plain": [
       "<IPython.core.display.HTML object>"
      ]
     },
     "metadata": {},
     "output_type": "display_data"
    },
    {
     "data": {
      "text/html": [
       "<span style=\"color:blue\"> |-tuner/initial_epoch: 4</span>"
      ],
      "text/plain": [
       "<IPython.core.display.HTML object>"
      ]
     },
     "metadata": {},
     "output_type": "display_data"
    },
    {
     "data": {
      "text/html": [
       "<span style=\"color:cyan\"> |-tuner/round: 1</span>"
      ],
      "text/plain": [
       "<IPython.core.display.HTML object>"
      ]
     },
     "metadata": {},
     "output_type": "display_data"
    },
    {
     "data": {
      "text/html": [
       "<span style=\"color:blue\"> |-tuner/trial_id: 565a17b47a6719481e853812d30c9384</span>"
      ],
      "text/plain": [
       "<IPython.core.display.HTML object>"
      ]
     },
     "metadata": {},
     "output_type": "display_data"
    },
    {
     "data": {
      "text/html": [
       "<span style=\"color:cyan\"> |-units: 320</span>"
      ],
      "text/plain": [
       "<IPython.core.display.HTML object>"
      ]
     },
     "metadata": {},
     "output_type": "display_data"
    },
    {
     "data": {
      "text/html": [
       "<span style=\"color:#4527A0\"><h1 style=\"font-size:18px\">Trial summary</h1></span>"
      ],
      "text/plain": [
       "<IPython.core.display.HTML object>"
      ]
     },
     "metadata": {},
     "output_type": "display_data"
    },
    {
     "data": {
      "text/html": [
       "<span style=\"color:cyan\"> |-Trial ID: 61b4ea6aef4e9c143adfd8ec4180ddad</span>"
      ],
      "text/plain": [
       "<IPython.core.display.HTML object>"
      ]
     },
     "metadata": {},
     "output_type": "display_data"
    },
    {
     "data": {
      "text/html": [
       "<span style=\"color:cyan\"> |-Score: 0.8804000020027161</span>"
      ],
      "text/plain": [
       "<IPython.core.display.HTML object>"
      ]
     },
     "metadata": {},
     "output_type": "display_data"
    },
    {
     "data": {
      "text/html": [
       "<span style=\"color:cyan\"> |-Best step: 0</span>"
      ],
      "text/plain": [
       "<IPython.core.display.HTML object>"
      ]
     },
     "metadata": {},
     "output_type": "display_data"
    },
    {
     "data": {
      "text/html": [
       "<span style=\"color:#7E57C2\"><h2 style=\"font-size:16px\">Hyperparameters:</h2></span>"
      ],
      "text/plain": [
       "<IPython.core.display.HTML object>"
      ]
     },
     "metadata": {},
     "output_type": "display_data"
    },
    {
     "data": {
      "text/html": [
       "<span style=\"color:cyan\"> |-learning_rate: 0.001</span>"
      ],
      "text/plain": [
       "<IPython.core.display.HTML object>"
      ]
     },
     "metadata": {},
     "output_type": "display_data"
    },
    {
     "data": {
      "text/html": [
       "<span style=\"color:blue\"> |-tuner/bracket: 2</span>"
      ],
      "text/plain": [
       "<IPython.core.display.HTML object>"
      ]
     },
     "metadata": {},
     "output_type": "display_data"
    },
    {
     "data": {
      "text/html": [
       "<span style=\"color:cyan\"> |-tuner/epochs: 10</span>"
      ],
      "text/plain": [
       "<IPython.core.display.HTML object>"
      ]
     },
     "metadata": {},
     "output_type": "display_data"
    },
    {
     "data": {
      "text/html": [
       "<span style=\"color:blue\"> |-tuner/initial_epoch: 4</span>"
      ],
      "text/plain": [
       "<IPython.core.display.HTML object>"
      ]
     },
     "metadata": {},
     "output_type": "display_data"
    },
    {
     "data": {
      "text/html": [
       "<span style=\"color:cyan\"> |-tuner/round: 2</span>"
      ],
      "text/plain": [
       "<IPython.core.display.HTML object>"
      ]
     },
     "metadata": {},
     "output_type": "display_data"
    },
    {
     "data": {
      "text/html": [
       "<span style=\"color:blue\"> |-tuner/trial_id: 23d9f3c195e012680885fc2354f4b39a</span>"
      ],
      "text/plain": [
       "<IPython.core.display.HTML object>"
      ]
     },
     "metadata": {},
     "output_type": "display_data"
    },
    {
     "data": {
      "text/html": [
       "<span style=\"color:cyan\"> |-units: 448</span>"
      ],
      "text/plain": [
       "<IPython.core.display.HTML object>"
      ]
     },
     "metadata": {},
     "output_type": "display_data"
    },
    {
     "data": {
      "text/html": [
       "<span style=\"color:#4527A0\"><h1 style=\"font-size:18px\">Trial summary</h1></span>"
      ],
      "text/plain": [
       "<IPython.core.display.HTML object>"
      ]
     },
     "metadata": {},
     "output_type": "display_data"
    },
    {
     "data": {
      "text/html": [
       "<span style=\"color:cyan\"> |-Trial ID: 565a17b47a6719481e853812d30c9384</span>"
      ],
      "text/plain": [
       "<IPython.core.display.HTML object>"
      ]
     },
     "metadata": {},
     "output_type": "display_data"
    },
    {
     "data": {
      "text/html": [
       "<span style=\"color:cyan\"> |-Score: 0.8795999884605408</span>"
      ],
      "text/plain": [
       "<IPython.core.display.HTML object>"
      ]
     },
     "metadata": {},
     "output_type": "display_data"
    },
    {
     "data": {
      "text/html": [
       "<span style=\"color:cyan\"> |-Best step: 0</span>"
      ],
      "text/plain": [
       "<IPython.core.display.HTML object>"
      ]
     },
     "metadata": {},
     "output_type": "display_data"
    },
    {
     "data": {
      "text/html": [
       "<span style=\"color:#7E57C2\"><h2 style=\"font-size:16px\">Hyperparameters:</h2></span>"
      ],
      "text/plain": [
       "<IPython.core.display.HTML object>"
      ]
     },
     "metadata": {},
     "output_type": "display_data"
    },
    {
     "data": {
      "text/html": [
       "<span style=\"color:cyan\"> |-learning_rate: 0.001</span>"
      ],
      "text/plain": [
       "<IPython.core.display.HTML object>"
      ]
     },
     "metadata": {},
     "output_type": "display_data"
    },
    {
     "data": {
      "text/html": [
       "<span style=\"color:blue\"> |-tuner/bracket: 1</span>"
      ],
      "text/plain": [
       "<IPython.core.display.HTML object>"
      ]
     },
     "metadata": {},
     "output_type": "display_data"
    },
    {
     "data": {
      "text/html": [
       "<span style=\"color:cyan\"> |-tuner/epochs: 4</span>"
      ],
      "text/plain": [
       "<IPython.core.display.HTML object>"
      ]
     },
     "metadata": {},
     "output_type": "display_data"
    },
    {
     "data": {
      "text/html": [
       "<span style=\"color:blue\"> |-tuner/initial_epoch: 0</span>"
      ],
      "text/plain": [
       "<IPython.core.display.HTML object>"
      ]
     },
     "metadata": {},
     "output_type": "display_data"
    },
    {
     "data": {
      "text/html": [
       "<span style=\"color:cyan\"> |-tuner/round: 0</span>"
      ],
      "text/plain": [
       "<IPython.core.display.HTML object>"
      ]
     },
     "metadata": {},
     "output_type": "display_data"
    },
    {
     "data": {
      "text/html": [
       "<span style=\"color:blue\"> |-units: 320</span>"
      ],
      "text/plain": [
       "<IPython.core.display.HTML object>"
      ]
     },
     "metadata": {},
     "output_type": "display_data"
    },
    {
     "data": {
      "text/html": [
       "<span style=\"color:#4527A0\"><h1 style=\"font-size:18px\">Trial summary</h1></span>"
      ],
      "text/plain": [
       "<IPython.core.display.HTML object>"
      ]
     },
     "metadata": {},
     "output_type": "display_data"
    },
    {
     "data": {
      "text/html": [
       "<span style=\"color:cyan\"> |-Trial ID: 8da959ff99ba12059b080771b9291d01</span>"
      ],
      "text/plain": [
       "<IPython.core.display.HTML object>"
      ]
     },
     "metadata": {},
     "output_type": "display_data"
    },
    {
     "data": {
      "text/html": [
       "<span style=\"color:cyan\"> |-Score: 0.8792999982833862</span>"
      ],
      "text/plain": [
       "<IPython.core.display.HTML object>"
      ]
     },
     "metadata": {},
     "output_type": "display_data"
    },
    {
     "data": {
      "text/html": [
       "<span style=\"color:cyan\"> |-Best step: 0</span>"
      ],
      "text/plain": [
       "<IPython.core.display.HTML object>"
      ]
     },
     "metadata": {},
     "output_type": "display_data"
    },
    {
     "data": {
      "text/html": [
       "<span style=\"color:#7E57C2\"><h2 style=\"font-size:16px\">Hyperparameters:</h2></span>"
      ],
      "text/plain": [
       "<IPython.core.display.HTML object>"
      ]
     },
     "metadata": {},
     "output_type": "display_data"
    },
    {
     "data": {
      "text/html": [
       "<span style=\"color:cyan\"> |-learning_rate: 0.001</span>"
      ],
      "text/plain": [
       "<IPython.core.display.HTML object>"
      ]
     },
     "metadata": {},
     "output_type": "display_data"
    },
    {
     "data": {
      "text/html": [
       "<span style=\"color:blue\"> |-tuner/bracket: 2</span>"
      ],
      "text/plain": [
       "<IPython.core.display.HTML object>"
      ]
     },
     "metadata": {},
     "output_type": "display_data"
    },
    {
     "data": {
      "text/html": [
       "<span style=\"color:cyan\"> |-tuner/epochs: 10</span>"
      ],
      "text/plain": [
       "<IPython.core.display.HTML object>"
      ]
     },
     "metadata": {},
     "output_type": "display_data"
    },
    {
     "data": {
      "text/html": [
       "<span style=\"color:blue\"> |-tuner/initial_epoch: 4</span>"
      ],
      "text/plain": [
       "<IPython.core.display.HTML object>"
      ]
     },
     "metadata": {},
     "output_type": "display_data"
    },
    {
     "data": {
      "text/html": [
       "<span style=\"color:cyan\"> |-tuner/round: 2</span>"
      ],
      "text/plain": [
       "<IPython.core.display.HTML object>"
      ]
     },
     "metadata": {},
     "output_type": "display_data"
    },
    {
     "data": {
      "text/html": [
       "<span style=\"color:blue\"> |-tuner/trial_id: ed3a29b0e80f54f1aaaf25261b0f908a</span>"
      ],
      "text/plain": [
       "<IPython.core.display.HTML object>"
      ]
     },
     "metadata": {},
     "output_type": "display_data"
    },
    {
     "data": {
      "text/html": [
       "<span style=\"color:cyan\"> |-units: 288</span>"
      ],
      "text/plain": [
       "<IPython.core.display.HTML object>"
      ]
     },
     "metadata": {},
     "output_type": "display_data"
    },
    {
     "data": {
      "text/html": [
       "<span style=\"color:#4527A0\"><h1 style=\"font-size:18px\">Trial summary</h1></span>"
      ],
      "text/plain": [
       "<IPython.core.display.HTML object>"
      ]
     },
     "metadata": {},
     "output_type": "display_data"
    },
    {
     "data": {
      "text/html": [
       "<span style=\"color:cyan\"> |-Trial ID: ae61b7af76c600b6a23585c2a43ce2da</span>"
      ],
      "text/plain": [
       "<IPython.core.display.HTML object>"
      ]
     },
     "metadata": {},
     "output_type": "display_data"
    },
    {
     "data": {
      "text/html": [
       "<span style=\"color:cyan\"> |-Score: 0.8784000277519226</span>"
      ],
      "text/plain": [
       "<IPython.core.display.HTML object>"
      ]
     },
     "metadata": {},
     "output_type": "display_data"
    },
    {
     "data": {
      "text/html": [
       "<span style=\"color:cyan\"> |-Best step: 0</span>"
      ],
      "text/plain": [
       "<IPython.core.display.HTML object>"
      ]
     },
     "metadata": {},
     "output_type": "display_data"
    },
    {
     "data": {
      "text/html": [
       "<span style=\"color:#7E57C2\"><h2 style=\"font-size:16px\">Hyperparameters:</h2></span>"
      ],
      "text/plain": [
       "<IPython.core.display.HTML object>"
      ]
     },
     "metadata": {},
     "output_type": "display_data"
    },
    {
     "data": {
      "text/html": [
       "<span style=\"color:cyan\"> |-learning_rate: 0.001</span>"
      ],
      "text/plain": [
       "<IPython.core.display.HTML object>"
      ]
     },
     "metadata": {},
     "output_type": "display_data"
    },
    {
     "data": {
      "text/html": [
       "<span style=\"color:blue\"> |-tuner/bracket: 1</span>"
      ],
      "text/plain": [
       "<IPython.core.display.HTML object>"
      ]
     },
     "metadata": {},
     "output_type": "display_data"
    },
    {
     "data": {
      "text/html": [
       "<span style=\"color:cyan\"> |-tuner/epochs: 10</span>"
      ],
      "text/plain": [
       "<IPython.core.display.HTML object>"
      ]
     },
     "metadata": {},
     "output_type": "display_data"
    },
    {
     "data": {
      "text/html": [
       "<span style=\"color:blue\"> |-tuner/initial_epoch: 4</span>"
      ],
      "text/plain": [
       "<IPython.core.display.HTML object>"
      ]
     },
     "metadata": {},
     "output_type": "display_data"
    },
    {
     "data": {
      "text/html": [
       "<span style=\"color:cyan\"> |-tuner/round: 1</span>"
      ],
      "text/plain": [
       "<IPython.core.display.HTML object>"
      ]
     },
     "metadata": {},
     "output_type": "display_data"
    },
    {
     "data": {
      "text/html": [
       "<span style=\"color:blue\"> |-tuner/trial_id: 3fc5d9bf71f54c7123d57711be1c622f</span>"
      ],
      "text/plain": [
       "<IPython.core.display.HTML object>"
      ]
     },
     "metadata": {},
     "output_type": "display_data"
    },
    {
     "data": {
      "text/html": [
       "<span style=\"color:cyan\"> |-units: 256</span>"
      ],
      "text/plain": [
       "<IPython.core.display.HTML object>"
      ]
     },
     "metadata": {},
     "output_type": "display_data"
    },
    {
     "data": {
      "text/html": [
       "<span style=\"color:#4527A0\"><h1 style=\"font-size:18px\">Trial summary</h1></span>"
      ],
      "text/plain": [
       "<IPython.core.display.HTML object>"
      ]
     },
     "metadata": {},
     "output_type": "display_data"
    },
    {
     "data": {
      "text/html": [
       "<span style=\"color:cyan\"> |-Trial ID: 3fc5d9bf71f54c7123d57711be1c622f</span>"
      ],
      "text/plain": [
       "<IPython.core.display.HTML object>"
      ]
     },
     "metadata": {},
     "output_type": "display_data"
    },
    {
     "data": {
      "text/html": [
       "<span style=\"color:cyan\"> |-Score: 0.8773000240325928</span>"
      ],
      "text/plain": [
       "<IPython.core.display.HTML object>"
      ]
     },
     "metadata": {},
     "output_type": "display_data"
    },
    {
     "data": {
      "text/html": [
       "<span style=\"color:cyan\"> |-Best step: 0</span>"
      ],
      "text/plain": [
       "<IPython.core.display.HTML object>"
      ]
     },
     "metadata": {},
     "output_type": "display_data"
    },
    {
     "data": {
      "text/html": [
       "<span style=\"color:#7E57C2\"><h2 style=\"font-size:16px\">Hyperparameters:</h2></span>"
      ],
      "text/plain": [
       "<IPython.core.display.HTML object>"
      ]
     },
     "metadata": {},
     "output_type": "display_data"
    },
    {
     "data": {
      "text/html": [
       "<span style=\"color:cyan\"> |-learning_rate: 0.001</span>"
      ],
      "text/plain": [
       "<IPython.core.display.HTML object>"
      ]
     },
     "metadata": {},
     "output_type": "display_data"
    },
    {
     "data": {
      "text/html": [
       "<span style=\"color:blue\"> |-tuner/bracket: 1</span>"
      ],
      "text/plain": [
       "<IPython.core.display.HTML object>"
      ]
     },
     "metadata": {},
     "output_type": "display_data"
    },
    {
     "data": {
      "text/html": [
       "<span style=\"color:cyan\"> |-tuner/epochs: 4</span>"
      ],
      "text/plain": [
       "<IPython.core.display.HTML object>"
      ]
     },
     "metadata": {},
     "output_type": "display_data"
    },
    {
     "data": {
      "text/html": [
       "<span style=\"color:blue\"> |-tuner/initial_epoch: 0</span>"
      ],
      "text/plain": [
       "<IPython.core.display.HTML object>"
      ]
     },
     "metadata": {},
     "output_type": "display_data"
    },
    {
     "data": {
      "text/html": [
       "<span style=\"color:cyan\"> |-tuner/round: 0</span>"
      ],
      "text/plain": [
       "<IPython.core.display.HTML object>"
      ]
     },
     "metadata": {},
     "output_type": "display_data"
    },
    {
     "data": {
      "text/html": [
       "<span style=\"color:blue\"> |-units: 256</span>"
      ],
      "text/plain": [
       "<IPython.core.display.HTML object>"
      ]
     },
     "metadata": {},
     "output_type": "display_data"
    },
    {
     "data": {
      "text/html": [
       "<span style=\"color:#4527A0\"><h1 style=\"font-size:18px\">Trial summary</h1></span>"
      ],
      "text/plain": [
       "<IPython.core.display.HTML object>"
      ]
     },
     "metadata": {},
     "output_type": "display_data"
    },
    {
     "data": {
      "text/html": [
       "<span style=\"color:cyan\"> |-Trial ID: a395da773851aa1bd5254f84ca7a8448</span>"
      ],
      "text/plain": [
       "<IPython.core.display.HTML object>"
      ]
     },
     "metadata": {},
     "output_type": "display_data"
    },
    {
     "data": {
      "text/html": [
       "<span style=\"color:cyan\"> |-Score: 0.8730999827384949</span>"
      ],
      "text/plain": [
       "<IPython.core.display.HTML object>"
      ]
     },
     "metadata": {},
     "output_type": "display_data"
    },
    {
     "data": {
      "text/html": [
       "<span style=\"color:cyan\"> |-Best step: 0</span>"
      ],
      "text/plain": [
       "<IPython.core.display.HTML object>"
      ]
     },
     "metadata": {},
     "output_type": "display_data"
    },
    {
     "data": {
      "text/html": [
       "<span style=\"color:#7E57C2\"><h2 style=\"font-size:16px\">Hyperparameters:</h2></span>"
      ],
      "text/plain": [
       "<IPython.core.display.HTML object>"
      ]
     },
     "metadata": {},
     "output_type": "display_data"
    },
    {
     "data": {
      "text/html": [
       "<span style=\"color:cyan\"> |-learning_rate: 0.001</span>"
      ],
      "text/plain": [
       "<IPython.core.display.HTML object>"
      ]
     },
     "metadata": {},
     "output_type": "display_data"
    },
    {
     "data": {
      "text/html": [
       "<span style=\"color:blue\"> |-tuner/bracket: 1</span>"
      ],
      "text/plain": [
       "<IPython.core.display.HTML object>"
      ]
     },
     "metadata": {},
     "output_type": "display_data"
    },
    {
     "data": {
      "text/html": [
       "<span style=\"color:cyan\"> |-tuner/epochs: 4</span>"
      ],
      "text/plain": [
       "<IPython.core.display.HTML object>"
      ]
     },
     "metadata": {},
     "output_type": "display_data"
    },
    {
     "data": {
      "text/html": [
       "<span style=\"color:blue\"> |-tuner/initial_epoch: 0</span>"
      ],
      "text/plain": [
       "<IPython.core.display.HTML object>"
      ]
     },
     "metadata": {},
     "output_type": "display_data"
    },
    {
     "data": {
      "text/html": [
       "<span style=\"color:cyan\"> |-tuner/round: 0</span>"
      ],
      "text/plain": [
       "<IPython.core.display.HTML object>"
      ]
     },
     "metadata": {},
     "output_type": "display_data"
    },
    {
     "data": {
      "text/html": [
       "<span style=\"color:blue\"> |-units: 96</span>"
      ],
      "text/plain": [
       "<IPython.core.display.HTML object>"
      ]
     },
     "metadata": {},
     "output_type": "display_data"
    },
    {
     "data": {
      "text/html": [
       "<span style=\"color:#4527A0\"><h1 style=\"font-size:18px\">Trial summary</h1></span>"
      ],
      "text/plain": [
       "<IPython.core.display.HTML object>"
      ]
     },
     "metadata": {},
     "output_type": "display_data"
    },
    {
     "data": {
      "text/html": [
       "<span style=\"color:cyan\"> |-Trial ID: 9c1d271d0d83ffa5567d093dde2bc329</span>"
      ],
      "text/plain": [
       "<IPython.core.display.HTML object>"
      ]
     },
     "metadata": {},
     "output_type": "display_data"
    },
    {
     "data": {
      "text/html": [
       "<span style=\"color:cyan\"> |-Score: 0.8722000122070312</span>"
      ],
      "text/plain": [
       "<IPython.core.display.HTML object>"
      ]
     },
     "metadata": {},
     "output_type": "display_data"
    },
    {
     "data": {
      "text/html": [
       "<span style=\"color:cyan\"> |-Best step: 0</span>"
      ],
      "text/plain": [
       "<IPython.core.display.HTML object>"
      ]
     },
     "metadata": {},
     "output_type": "display_data"
    },
    {
     "data": {
      "text/html": [
       "<span style=\"color:#7E57C2\"><h2 style=\"font-size:16px\">Hyperparameters:</h2></span>"
      ],
      "text/plain": [
       "<IPython.core.display.HTML object>"
      ]
     },
     "metadata": {},
     "output_type": "display_data"
    },
    {
     "data": {
      "text/html": [
       "<span style=\"color:cyan\"> |-learning_rate: 0.001</span>"
      ],
      "text/plain": [
       "<IPython.core.display.HTML object>"
      ]
     },
     "metadata": {},
     "output_type": "display_data"
    },
    {
     "data": {
      "text/html": [
       "<span style=\"color:blue\"> |-tuner/bracket: 1</span>"
      ],
      "text/plain": [
       "<IPython.core.display.HTML object>"
      ]
     },
     "metadata": {},
     "output_type": "display_data"
    },
    {
     "data": {
      "text/html": [
       "<span style=\"color:cyan\"> |-tuner/epochs: 10</span>"
      ],
      "text/plain": [
       "<IPython.core.display.HTML object>"
      ]
     },
     "metadata": {},
     "output_type": "display_data"
    },
    {
     "data": {
      "text/html": [
       "<span style=\"color:blue\"> |-tuner/initial_epoch: 4</span>"
      ],
      "text/plain": [
       "<IPython.core.display.HTML object>"
      ]
     },
     "metadata": {},
     "output_type": "display_data"
    },
    {
     "data": {
      "text/html": [
       "<span style=\"color:cyan\"> |-tuner/round: 1</span>"
      ],
      "text/plain": [
       "<IPython.core.display.HTML object>"
      ]
     },
     "metadata": {},
     "output_type": "display_data"
    },
    {
     "data": {
      "text/html": [
       "<span style=\"color:blue\"> |-tuner/trial_id: a395da773851aa1bd5254f84ca7a8448</span>"
      ],
      "text/plain": [
       "<IPython.core.display.HTML object>"
      ]
     },
     "metadata": {},
     "output_type": "display_data"
    },
    {
     "data": {
      "text/html": [
       "<span style=\"color:cyan\"> |-units: 96</span>"
      ],
      "text/plain": [
       "<IPython.core.display.HTML object>"
      ]
     },
     "metadata": {},
     "output_type": "display_data"
    }
   ],
   "source": [
    "tuner.results_summary()"
   ]
  },
  {
   "cell_type": "markdown",
   "metadata": {},
   "source": [
    "このチュートリアルを完了するには、検索からの最適なハイパーパラメーターを使用してモデルを再トレーニングします。"
   ]
  },
  {
   "cell_type": "code",
   "execution_count": 16,
   "metadata": {},
   "outputs": [
    {
     "name": "stdout",
     "output_type": "stream",
     "text": [
      "Train on 60000 samples, validate on 10000 samples\n",
      "Epoch 1/10\n",
      "60000/60000 [==============================] - ETA: 4:27 - loss: 2.5490 - acc: 0.031 - ETA: 24s - loss: 1.5289 - acc: 0.491 - ETA: 15s - loss: 1.2614 - acc: 0.56 - ETA: 12s - loss: 1.0961 - acc: 0.61 - ETA: 11s - loss: 1.0155 - acc: 0.64 - ETA: 10s - loss: 0.9447 - acc: 0.67 - ETA: 9s - loss: 0.8793 - acc: 0.6922 - ETA: 9s - loss: 0.8448 - acc: 0.705 - ETA: 8s - loss: 0.8222 - acc: 0.714 - ETA: 8s - loss: 0.7991 - acc: 0.723 - ETA: 8s - loss: 0.7837 - acc: 0.728 - ETA: 7s - loss: 0.7614 - acc: 0.736 - ETA: 7s - loss: 0.7430 - acc: 0.742 - ETA: 7s - loss: 0.7287 - acc: 0.746 - ETA: 7s - loss: 0.7194 - acc: 0.748 - ETA: 6s - loss: 0.7111 - acc: 0.750 - ETA: 6s - loss: 0.7031 - acc: 0.752 - ETA: 6s - loss: 0.6994 - acc: 0.752 - ETA: 6s - loss: 0.7002 - acc: 0.751 - ETA: 6s - loss: 0.6924 - acc: 0.754 - ETA: 6s - loss: 0.6847 - acc: 0.757 - ETA: 6s - loss: 0.6781 - acc: 0.759 - ETA: 6s - loss: 0.6685 - acc: 0.763 - ETA: 6s - loss: 0.6625 - acc: 0.765 - ETA: 5s - loss: 0.6533 - acc: 0.768 - ETA: 5s - loss: 0.6468 - acc: 0.770 - ETA: 5s - loss: 0.6384 - acc: 0.773 - ETA: 5s - loss: 0.6348 - acc: 0.775 - ETA: 5s - loss: 0.6330 - acc: 0.776 - ETA: 5s - loss: 0.6290 - acc: 0.777 - ETA: 5s - loss: 0.6281 - acc: 0.778 - ETA: 5s - loss: 0.6234 - acc: 0.780 - ETA: 5s - loss: 0.6193 - acc: 0.782 - ETA: 5s - loss: 0.6162 - acc: 0.783 - ETA: 5s - loss: 0.6117 - acc: 0.785 - ETA: 5s - loss: 0.6093 - acc: 0.786 - ETA: 5s - loss: 0.6056 - acc: 0.787 - ETA: 5s - loss: 0.6022 - acc: 0.788 - ETA: 4s - loss: 0.5983 - acc: 0.789 - ETA: 4s - loss: 0.5950 - acc: 0.791 - ETA: 4s - loss: 0.5910 - acc: 0.792 - ETA: 4s - loss: 0.5909 - acc: 0.792 - ETA: 4s - loss: 0.5891 - acc: 0.792 - ETA: 4s - loss: 0.5864 - acc: 0.793 - ETA: 4s - loss: 0.5850 - acc: 0.794 - ETA: 4s - loss: 0.5822 - acc: 0.794 - ETA: 4s - loss: 0.5785 - acc: 0.796 - ETA: 4s - loss: 0.5749 - acc: 0.797 - ETA: 4s - loss: 0.5724 - acc: 0.798 - ETA: 4s - loss: 0.5701 - acc: 0.798 - ETA: 4s - loss: 0.5679 - acc: 0.799 - ETA: 4s - loss: 0.5657 - acc: 0.800 - ETA: 4s - loss: 0.5629 - acc: 0.801 - ETA: 3s - loss: 0.5621 - acc: 0.801 - ETA: 3s - loss: 0.5620 - acc: 0.801 - ETA: 3s - loss: 0.5602 - acc: 0.801 - ETA: 3s - loss: 0.5575 - acc: 0.802 - ETA: 3s - loss: 0.5551 - acc: 0.803 - ETA: 3s - loss: 0.5532 - acc: 0.804 - ETA: 3s - loss: 0.5519 - acc: 0.804 - ETA: 3s - loss: 0.5488 - acc: 0.805 - ETA: 3s - loss: 0.5472 - acc: 0.806 - ETA: 3s - loss: 0.5465 - acc: 0.806 - ETA: 3s - loss: 0.5447 - acc: 0.807 - ETA: 3s - loss: 0.5427 - acc: 0.807 - ETA: 3s - loss: 0.5413 - acc: 0.807 - ETA: 3s - loss: 0.5401 - acc: 0.808 - ETA: 3s - loss: 0.5386 - acc: 0.808 - ETA: 3s - loss: 0.5372 - acc: 0.809 - ETA: 3s - loss: 0.5351 - acc: 0.810 - ETA: 2s - loss: 0.5328 - acc: 0.810 - ETA: 2s - loss: 0.5322 - acc: 0.810 - ETA: 2s - loss: 0.5315 - acc: 0.810 - ETA: 2s - loss: 0.5300 - acc: 0.811 - ETA: 2s - loss: 0.5293 - acc: 0.811 - ETA: 2s - loss: 0.5274 - acc: 0.811 - ETA: 2s - loss: 0.5252 - acc: 0.812 - ETA: 2s - loss: 0.5237 - acc: 0.813 - ETA: 2s - loss: 0.5230 - acc: 0.813 - ETA: 2s - loss: 0.5219 - acc: 0.813 - ETA: 2s - loss: 0.5203 - acc: 0.814 - ETA: 2s - loss: 0.5184 - acc: 0.814 - ETA: 2s - loss: 0.5186 - acc: 0.814 - ETA: 2s - loss: 0.5177 - acc: 0.814 - ETA: 2s - loss: 0.5168 - acc: 0.814 - ETA: 2s - loss: 0.5153 - acc: 0.815 - ETA: 2s - loss: 0.5137 - acc: 0.815 - ETA: 2s - loss: 0.5131 - acc: 0.815 - ETA: 2s - loss: 0.5124 - acc: 0.816 - ETA: 1s - loss: 0.5110 - acc: 0.816 - ETA: 1s - loss: 0.5098 - acc: 0.817 - ETA: 1s - loss: 0.5087 - acc: 0.818 - ETA: 1s - loss: 0.5080 - acc: 0.818 - ETA: 1s - loss: 0.5065 - acc: 0.818 - ETA: 1s - loss: 0.5045 - acc: 0.819 - ETA: 1s - loss: 0.5028 - acc: 0.819 - ETA: 1s - loss: 0.5023 - acc: 0.819 - ETA: 1s - loss: 0.5007 - acc: 0.820 - ETA: 1s - loss: 0.4995 - acc: 0.821 - ETA: 1s - loss: 0.4984 - acc: 0.821 - ETA: 1s - loss: 0.4972 - acc: 0.821 - ETA: 1s - loss: 0.4966 - acc: 0.822 - ETA: 1s - loss: 0.4954 - acc: 0.822 - ETA: 1s - loss: 0.4941 - acc: 0.822 - ETA: 1s - loss: 0.4937 - acc: 0.823 - ETA: 1s - loss: 0.4922 - acc: 0.823 - ETA: 1s - loss: 0.4919 - acc: 0.823 - ETA: 0s - loss: 0.4914 - acc: 0.823 - ETA: 0s - loss: 0.4907 - acc: 0.824 - ETA: 0s - loss: 0.4900 - acc: 0.824 - ETA: 0s - loss: 0.4892 - acc: 0.824 - ETA: 0s - loss: 0.4884 - acc: 0.824 - ETA: 0s - loss: 0.4873 - acc: 0.825 - ETA: 0s - loss: 0.4867 - acc: 0.825 - ETA: 0s - loss: 0.4859 - acc: 0.825 - ETA: 0s - loss: 0.4853 - acc: 0.826 - ETA: 0s - loss: 0.4845 - acc: 0.826 - ETA: 0s - loss: 0.4839 - acc: 0.826 - ETA: 0s - loss: 0.4833 - acc: 0.826 - ETA: 0s - loss: 0.4825 - acc: 0.826 - ETA: 0s - loss: 0.4823 - acc: 0.826 - ETA: 0s - loss: 0.4811 - acc: 0.827 - ETA: 0s - loss: 0.4801 - acc: 0.827 - ETA: 0s - loss: 0.4792 - acc: 0.827 - ETA: 0s - loss: 0.4787 - acc: 0.828 - ETA: 0s - loss: 0.4781 - acc: 0.828 - 7s 115us/sample - loss: 0.4776 - acc: 0.8284 - val_loss: 0.4629 - val_acc: 0.8314\n",
      "Epoch 2/10\n"
     ]
    },
    {
     "name": "stdout",
     "output_type": "stream",
     "text": [
      "60000/60000 [==============================] - ETA: 10s - loss: 0.2945 - acc: 0.87 - ETA: 6s - loss: 0.3902 - acc: 0.8672 - ETA: 6s - loss: 0.3933 - acc: 0.861 - ETA: 6s - loss: 0.3766 - acc: 0.861 - ETA: 6s - loss: 0.3809 - acc: 0.862 - ETA: 6s - loss: 0.3783 - acc: 0.859 - ETA: 6s - loss: 0.3714 - acc: 0.860 - ETA: 6s - loss: 0.3760 - acc: 0.857 - ETA: 6s - loss: 0.3811 - acc: 0.855 - ETA: 6s - loss: 0.3849 - acc: 0.855 - ETA: 6s - loss: 0.3852 - acc: 0.856 - ETA: 5s - loss: 0.3872 - acc: 0.856 - ETA: 5s - loss: 0.3902 - acc: 0.856 - ETA: 5s - loss: 0.3893 - acc: 0.856 - ETA: 5s - loss: 0.3842 - acc: 0.858 - ETA: 5s - loss: 0.3834 - acc: 0.858 - ETA: 5s - loss: 0.3822 - acc: 0.858 - ETA: 5s - loss: 0.3818 - acc: 0.857 - ETA: 5s - loss: 0.3833 - acc: 0.857 - ETA: 5s - loss: 0.3806 - acc: 0.857 - ETA: 5s - loss: 0.3781 - acc: 0.859 - ETA: 5s - loss: 0.3752 - acc: 0.860 - ETA: 5s - loss: 0.3708 - acc: 0.861 - ETA: 5s - loss: 0.3682 - acc: 0.862 - ETA: 5s - loss: 0.3690 - acc: 0.862 - ETA: 5s - loss: 0.3697 - acc: 0.862 - ETA: 5s - loss: 0.3675 - acc: 0.863 - ETA: 5s - loss: 0.3680 - acc: 0.863 - ETA: 5s - loss: 0.3674 - acc: 0.863 - ETA: 5s - loss: 0.3640 - acc: 0.865 - ETA: 5s - loss: 0.3652 - acc: 0.864 - ETA: 4s - loss: 0.3640 - acc: 0.865 - ETA: 4s - loss: 0.3651 - acc: 0.864 - ETA: 4s - loss: 0.3677 - acc: 0.864 - ETA: 4s - loss: 0.3676 - acc: 0.864 - ETA: 4s - loss: 0.3661 - acc: 0.864 - ETA: 4s - loss: 0.3670 - acc: 0.864 - ETA: 4s - loss: 0.3675 - acc: 0.864 - ETA: 4s - loss: 0.3687 - acc: 0.863 - ETA: 4s - loss: 0.3684 - acc: 0.864 - ETA: 4s - loss: 0.3675 - acc: 0.863 - ETA: 4s - loss: 0.3694 - acc: 0.863 - ETA: 4s - loss: 0.3687 - acc: 0.863 - ETA: 4s - loss: 0.3687 - acc: 0.864 - ETA: 4s - loss: 0.3673 - acc: 0.864 - ETA: 4s - loss: 0.3665 - acc: 0.865 - ETA: 4s - loss: 0.3666 - acc: 0.864 - ETA: 4s - loss: 0.3668 - acc: 0.864 - ETA: 4s - loss: 0.3663 - acc: 0.865 - ETA: 4s - loss: 0.3657 - acc: 0.865 - ETA: 4s - loss: 0.3645 - acc: 0.865 - ETA: 3s - loss: 0.3643 - acc: 0.865 - ETA: 3s - loss: 0.3642 - acc: 0.866 - ETA: 3s - loss: 0.3654 - acc: 0.865 - ETA: 3s - loss: 0.3656 - acc: 0.865 - ETA: 3s - loss: 0.3665 - acc: 0.865 - ETA: 3s - loss: 0.3673 - acc: 0.864 - ETA: 3s - loss: 0.3682 - acc: 0.864 - ETA: 3s - loss: 0.3689 - acc: 0.864 - ETA: 3s - loss: 0.3687 - acc: 0.865 - ETA: 3s - loss: 0.3682 - acc: 0.865 - ETA: 3s - loss: 0.3689 - acc: 0.864 - ETA: 3s - loss: 0.3680 - acc: 0.864 - ETA: 3s - loss: 0.3682 - acc: 0.865 - ETA: 3s - loss: 0.3676 - acc: 0.865 - ETA: 3s - loss: 0.3675 - acc: 0.865 - ETA: 3s - loss: 0.3670 - acc: 0.865 - ETA: 3s - loss: 0.3670 - acc: 0.866 - ETA: 3s - loss: 0.3657 - acc: 0.866 - ETA: 2s - loss: 0.3648 - acc: 0.866 - ETA: 2s - loss: 0.3650 - acc: 0.866 - ETA: 2s - loss: 0.3653 - acc: 0.867 - ETA: 2s - loss: 0.3648 - acc: 0.867 - ETA: 2s - loss: 0.3654 - acc: 0.867 - ETA: 2s - loss: 0.3642 - acc: 0.867 - ETA: 2s - loss: 0.3637 - acc: 0.868 - ETA: 2s - loss: 0.3630 - acc: 0.868 - ETA: 2s - loss: 0.3634 - acc: 0.868 - ETA: 2s - loss: 0.3628 - acc: 0.868 - ETA: 2s - loss: 0.3627 - acc: 0.868 - ETA: 2s - loss: 0.3625 - acc: 0.868 - ETA: 2s - loss: 0.3621 - acc: 0.868 - ETA: 2s - loss: 0.3622 - acc: 0.868 - ETA: 2s - loss: 0.3630 - acc: 0.868 - ETA: 2s - loss: 0.3632 - acc: 0.868 - ETA: 2s - loss: 0.3631 - acc: 0.868 - ETA: 2s - loss: 0.3633 - acc: 0.868 - ETA: 2s - loss: 0.3633 - acc: 0.868 - ETA: 2s - loss: 0.3630 - acc: 0.868 - ETA: 1s - loss: 0.3638 - acc: 0.868 - ETA: 1s - loss: 0.3634 - acc: 0.868 - ETA: 1s - loss: 0.3630 - acc: 0.868 - ETA: 1s - loss: 0.3628 - acc: 0.868 - ETA: 1s - loss: 0.3628 - acc: 0.868 - ETA: 1s - loss: 0.3633 - acc: 0.868 - ETA: 1s - loss: 0.3633 - acc: 0.868 - ETA: 1s - loss: 0.3629 - acc: 0.868 - ETA: 1s - loss: 0.3627 - acc: 0.868 - ETA: 1s - loss: 0.3629 - acc: 0.868 - ETA: 1s - loss: 0.3629 - acc: 0.868 - ETA: 1s - loss: 0.3622 - acc: 0.868 - ETA: 1s - loss: 0.3622 - acc: 0.868 - ETA: 1s - loss: 0.3621 - acc: 0.868 - ETA: 1s - loss: 0.3624 - acc: 0.868 - ETA: 1s - loss: 0.3623 - acc: 0.868 - ETA: 1s - loss: 0.3626 - acc: 0.868 - ETA: 1s - loss: 0.3625 - acc: 0.868 - ETA: 1s - loss: 0.3637 - acc: 0.867 - ETA: 0s - loss: 0.3634 - acc: 0.867 - ETA: 0s - loss: 0.3632 - acc: 0.867 - ETA: 0s - loss: 0.3633 - acc: 0.867 - ETA: 0s - loss: 0.3626 - acc: 0.867 - ETA: 0s - loss: 0.3626 - acc: 0.867 - ETA: 0s - loss: 0.3623 - acc: 0.867 - ETA: 0s - loss: 0.3623 - acc: 0.867 - ETA: 0s - loss: 0.3627 - acc: 0.867 - ETA: 0s - loss: 0.3624 - acc: 0.867 - ETA: 0s - loss: 0.3619 - acc: 0.868 - ETA: 0s - loss: 0.3621 - acc: 0.867 - ETA: 0s - loss: 0.3616 - acc: 0.868 - ETA: 0s - loss: 0.3609 - acc: 0.868 - ETA: 0s - loss: 0.3610 - acc: 0.868 - ETA: 0s - loss: 0.3607 - acc: 0.867 - ETA: 0s - loss: 0.3604 - acc: 0.868 - ETA: 0s - loss: 0.3602 - acc: 0.868 - ETA: 0s - loss: 0.3601 - acc: 0.868 - 7s 112us/sample - loss: 0.3598 - acc: 0.8683 - val_loss: 0.3794 - val_acc: 0.8629\n",
      "Epoch 3/10\n"
     ]
    },
    {
     "name": "stdout",
     "output_type": "stream",
     "text": [
      "60000/60000 [==============================] - ETA: 9s - loss: 0.4150 - acc: 0.843 - ETA: 6s - loss: 0.3537 - acc: 0.873 - ETA: 6s - loss: 0.3424 - acc: 0.870 - ETA: 6s - loss: 0.3538 - acc: 0.872 - ETA: 5s - loss: 0.3344 - acc: 0.877 - ETA: 5s - loss: 0.3452 - acc: 0.872 - ETA: 5s - loss: 0.3359 - acc: 0.873 - ETA: 5s - loss: 0.3279 - acc: 0.876 - ETA: 5s - loss: 0.3236 - acc: 0.878 - ETA: 5s - loss: 0.3151 - acc: 0.882 - ETA: 5s - loss: 0.3112 - acc: 0.884 - ETA: 5s - loss: 0.3106 - acc: 0.884 - ETA: 5s - loss: 0.3071 - acc: 0.885 - ETA: 5s - loss: 0.3063 - acc: 0.886 - ETA: 5s - loss: 0.3085 - acc: 0.885 - ETA: 5s - loss: 0.3062 - acc: 0.887 - ETA: 5s - loss: 0.3070 - acc: 0.887 - ETA: 5s - loss: 0.3093 - acc: 0.887 - ETA: 4s - loss: 0.3099 - acc: 0.887 - ETA: 4s - loss: 0.3078 - acc: 0.888 - ETA: 4s - loss: 0.3057 - acc: 0.888 - ETA: 4s - loss: 0.3087 - acc: 0.887 - ETA: 4s - loss: 0.3106 - acc: 0.887 - ETA: 4s - loss: 0.3127 - acc: 0.886 - ETA: 4s - loss: 0.3129 - acc: 0.886 - ETA: 4s - loss: 0.3123 - acc: 0.886 - ETA: 4s - loss: 0.3148 - acc: 0.885 - ETA: 4s - loss: 0.3138 - acc: 0.885 - ETA: 4s - loss: 0.3133 - acc: 0.885 - ETA: 4s - loss: 0.3142 - acc: 0.885 - ETA: 4s - loss: 0.3147 - acc: 0.885 - ETA: 4s - loss: 0.3140 - acc: 0.884 - ETA: 4s - loss: 0.3149 - acc: 0.884 - ETA: 4s - loss: 0.3148 - acc: 0.884 - ETA: 4s - loss: 0.3146 - acc: 0.884 - ETA: 4s - loss: 0.3141 - acc: 0.884 - ETA: 3s - loss: 0.3142 - acc: 0.884 - ETA: 3s - loss: 0.3138 - acc: 0.884 - ETA: 3s - loss: 0.3141 - acc: 0.884 - ETA: 3s - loss: 0.3149 - acc: 0.883 - ETA: 3s - loss: 0.3136 - acc: 0.884 - ETA: 3s - loss: 0.3133 - acc: 0.884 - ETA: 3s - loss: 0.3137 - acc: 0.884 - ETA: 3s - loss: 0.3139 - acc: 0.884 - ETA: 3s - loss: 0.3140 - acc: 0.884 - ETA: 3s - loss: 0.3148 - acc: 0.884 - ETA: 3s - loss: 0.3144 - acc: 0.884 - ETA: 3s - loss: 0.3140 - acc: 0.885 - ETA: 3s - loss: 0.3158 - acc: 0.884 - ETA: 3s - loss: 0.3165 - acc: 0.884 - ETA: 3s - loss: 0.3167 - acc: 0.884 - ETA: 3s - loss: 0.3172 - acc: 0.883 - ETA: 3s - loss: 0.3174 - acc: 0.883 - ETA: 3s - loss: 0.3192 - acc: 0.883 - ETA: 3s - loss: 0.3195 - acc: 0.882 - ETA: 3s - loss: 0.3202 - acc: 0.882 - ETA: 3s - loss: 0.3205 - acc: 0.882 - ETA: 2s - loss: 0.3203 - acc: 0.882 - ETA: 2s - loss: 0.3201 - acc: 0.882 - ETA: 2s - loss: 0.3210 - acc: 0.882 - ETA: 2s - loss: 0.3203 - acc: 0.882 - ETA: 2s - loss: 0.3201 - acc: 0.882 - ETA: 2s - loss: 0.3210 - acc: 0.882 - ETA: 2s - loss: 0.3201 - acc: 0.882 - ETA: 2s - loss: 0.3202 - acc: 0.882 - ETA: 2s - loss: 0.3209 - acc: 0.882 - ETA: 2s - loss: 0.3212 - acc: 0.882 - ETA: 2s - loss: 0.3214 - acc: 0.881 - ETA: 2s - loss: 0.3213 - acc: 0.882 - ETA: 2s - loss: 0.3206 - acc: 0.882 - ETA: 2s - loss: 0.3210 - acc: 0.882 - ETA: 2s - loss: 0.3212 - acc: 0.882 - ETA: 2s - loss: 0.3209 - acc: 0.882 - ETA: 2s - loss: 0.3207 - acc: 0.882 - ETA: 2s - loss: 0.3199 - acc: 0.882 - ETA: 2s - loss: 0.3202 - acc: 0.882 - ETA: 1s - loss: 0.3207 - acc: 0.882 - ETA: 1s - loss: 0.3217 - acc: 0.881 - ETA: 1s - loss: 0.3222 - acc: 0.881 - ETA: 1s - loss: 0.3218 - acc: 0.881 - ETA: 1s - loss: 0.3218 - acc: 0.881 - ETA: 1s - loss: 0.3219 - acc: 0.881 - ETA: 1s - loss: 0.3217 - acc: 0.882 - ETA: 1s - loss: 0.3218 - acc: 0.882 - ETA: 1s - loss: 0.3218 - acc: 0.881 - ETA: 1s - loss: 0.3218 - acc: 0.881 - ETA: 1s - loss: 0.3224 - acc: 0.881 - ETA: 1s - loss: 0.3227 - acc: 0.881 - ETA: 1s - loss: 0.3223 - acc: 0.881 - ETA: 1s - loss: 0.3225 - acc: 0.881 - ETA: 1s - loss: 0.3224 - acc: 0.881 - ETA: 1s - loss: 0.3226 - acc: 0.881 - ETA: 1s - loss: 0.3225 - acc: 0.881 - ETA: 1s - loss: 0.3224 - acc: 0.881 - ETA: 1s - loss: 0.3228 - acc: 0.881 - ETA: 0s - loss: 0.3228 - acc: 0.881 - ETA: 0s - loss: 0.3230 - acc: 0.881 - ETA: 0s - loss: 0.3234 - acc: 0.881 - ETA: 0s - loss: 0.3235 - acc: 0.881 - ETA: 0s - loss: 0.3234 - acc: 0.881 - ETA: 0s - loss: 0.3233 - acc: 0.881 - ETA: 0s - loss: 0.3228 - acc: 0.882 - ETA: 0s - loss: 0.3223 - acc: 0.882 - ETA: 0s - loss: 0.3219 - acc: 0.882 - ETA: 0s - loss: 0.3217 - acc: 0.882 - ETA: 0s - loss: 0.3214 - acc: 0.882 - ETA: 0s - loss: 0.3212 - acc: 0.882 - ETA: 0s - loss: 0.3213 - acc: 0.882 - ETA: 0s - loss: 0.3207 - acc: 0.882 - ETA: 0s - loss: 0.3212 - acc: 0.882 - ETA: 0s - loss: 0.3214 - acc: 0.882 - ETA: 0s - loss: 0.3214 - acc: 0.882 - ETA: 0s - loss: 0.3213 - acc: 0.882 - ETA: 0s - loss: 0.3213 - acc: 0.882 - 6s 102us/sample - loss: 0.3213 - acc: 0.8824 - val_loss: 0.3667 - val_acc: 0.8662\n",
      "Epoch 4/10\n"
     ]
    },
    {
     "name": "stdout",
     "output_type": "stream",
     "text": [
      "60000/60000 [==============================] - ETA: 9s - loss: 0.2079 - acc: 0.906 - ETA: 7s - loss: 0.2844 - acc: 0.891 - ETA: 6s - loss: 0.2913 - acc: 0.893 - ETA: 6s - loss: 0.2931 - acc: 0.895 - ETA: 6s - loss: 0.2893 - acc: 0.896 - ETA: 6s - loss: 0.2818 - acc: 0.898 - ETA: 6s - loss: 0.2804 - acc: 0.896 - ETA: 5s - loss: 0.2838 - acc: 0.896 - ETA: 5s - loss: 0.2872 - acc: 0.894 - ETA: 5s - loss: 0.2878 - acc: 0.894 - ETA: 5s - loss: 0.2888 - acc: 0.894 - ETA: 5s - loss: 0.2900 - acc: 0.894 - ETA: 5s - loss: 0.2869 - acc: 0.894 - ETA: 5s - loss: 0.2879 - acc: 0.894 - ETA: 5s - loss: 0.2864 - acc: 0.895 - ETA: 5s - loss: 0.2848 - acc: 0.895 - ETA: 5s - loss: 0.2826 - acc: 0.897 - ETA: 5s - loss: 0.2840 - acc: 0.896 - ETA: 5s - loss: 0.2859 - acc: 0.895 - ETA: 4s - loss: 0.2877 - acc: 0.895 - ETA: 4s - loss: 0.2866 - acc: 0.895 - ETA: 4s - loss: 0.2886 - acc: 0.895 - ETA: 4s - loss: 0.2893 - acc: 0.895 - ETA: 4s - loss: 0.2901 - acc: 0.895 - ETA: 4s - loss: 0.2908 - acc: 0.895 - ETA: 4s - loss: 0.2900 - acc: 0.896 - ETA: 4s - loss: 0.2887 - acc: 0.896 - ETA: 4s - loss: 0.2905 - acc: 0.895 - ETA: 4s - loss: 0.2906 - acc: 0.895 - ETA: 4s - loss: 0.2904 - acc: 0.895 - ETA: 4s - loss: 0.2902 - acc: 0.895 - ETA: 4s - loss: 0.2897 - acc: 0.895 - ETA: 4s - loss: 0.2901 - acc: 0.895 - ETA: 4s - loss: 0.2904 - acc: 0.895 - ETA: 4s - loss: 0.2912 - acc: 0.895 - ETA: 4s - loss: 0.2898 - acc: 0.895 - ETA: 4s - loss: 0.2891 - acc: 0.895 - ETA: 4s - loss: 0.2894 - acc: 0.895 - ETA: 3s - loss: 0.2887 - acc: 0.895 - ETA: 3s - loss: 0.2883 - acc: 0.895 - ETA: 3s - loss: 0.2877 - acc: 0.895 - ETA: 3s - loss: 0.2874 - acc: 0.895 - ETA: 3s - loss: 0.2873 - acc: 0.895 - ETA: 3s - loss: 0.2878 - acc: 0.895 - ETA: 3s - loss: 0.2882 - acc: 0.895 - ETA: 3s - loss: 0.2891 - acc: 0.894 - ETA: 3s - loss: 0.2885 - acc: 0.895 - ETA: 3s - loss: 0.2889 - acc: 0.895 - ETA: 3s - loss: 0.2890 - acc: 0.895 - ETA: 3s - loss: 0.2902 - acc: 0.894 - ETA: 3s - loss: 0.2903 - acc: 0.894 - ETA: 3s - loss: 0.2903 - acc: 0.894 - ETA: 3s - loss: 0.2908 - acc: 0.894 - ETA: 3s - loss: 0.2918 - acc: 0.893 - ETA: 3s - loss: 0.2919 - acc: 0.893 - ETA: 3s - loss: 0.2925 - acc: 0.893 - ETA: 3s - loss: 0.2927 - acc: 0.893 - ETA: 3s - loss: 0.2944 - acc: 0.892 - ETA: 2s - loss: 0.2947 - acc: 0.892 - ETA: 2s - loss: 0.2946 - acc: 0.892 - ETA: 2s - loss: 0.2949 - acc: 0.892 - ETA: 2s - loss: 0.2943 - acc: 0.891 - ETA: 2s - loss: 0.2943 - acc: 0.891 - ETA: 2s - loss: 0.2949 - acc: 0.891 - ETA: 2s - loss: 0.2956 - acc: 0.890 - ETA: 2s - loss: 0.2953 - acc: 0.890 - ETA: 2s - loss: 0.2955 - acc: 0.890 - ETA: 2s - loss: 0.2951 - acc: 0.890 - ETA: 2s - loss: 0.2951 - acc: 0.890 - ETA: 2s - loss: 0.2957 - acc: 0.890 - ETA: 2s - loss: 0.2952 - acc: 0.890 - ETA: 2s - loss: 0.2946 - acc: 0.890 - ETA: 2s - loss: 0.2944 - acc: 0.890 - ETA: 2s - loss: 0.2941 - acc: 0.890 - ETA: 2s - loss: 0.2938 - acc: 0.890 - ETA: 2s - loss: 0.2946 - acc: 0.890 - ETA: 2s - loss: 0.2947 - acc: 0.890 - ETA: 1s - loss: 0.2953 - acc: 0.890 - ETA: 1s - loss: 0.2948 - acc: 0.890 - ETA: 1s - loss: 0.2952 - acc: 0.890 - ETA: 1s - loss: 0.2948 - acc: 0.890 - ETA: 1s - loss: 0.2957 - acc: 0.889 - ETA: 1s - loss: 0.2961 - acc: 0.889 - ETA: 1s - loss: 0.2958 - acc: 0.890 - ETA: 1s - loss: 0.2954 - acc: 0.890 - ETA: 1s - loss: 0.2956 - acc: 0.889 - ETA: 1s - loss: 0.2959 - acc: 0.889 - ETA: 1s - loss: 0.2961 - acc: 0.890 - ETA: 1s - loss: 0.2960 - acc: 0.889 - ETA: 1s - loss: 0.2962 - acc: 0.889 - ETA: 1s - loss: 0.2968 - acc: 0.889 - ETA: 1s - loss: 0.2973 - acc: 0.889 - ETA: 1s - loss: 0.2978 - acc: 0.889 - ETA: 1s - loss: 0.2981 - acc: 0.889 - ETA: 1s - loss: 0.2985 - acc: 0.889 - ETA: 1s - loss: 0.2983 - acc: 0.889 - ETA: 0s - loss: 0.2983 - acc: 0.889 - ETA: 0s - loss: 0.2978 - acc: 0.889 - ETA: 0s - loss: 0.2986 - acc: 0.889 - ETA: 0s - loss: 0.2987 - acc: 0.889 - ETA: 0s - loss: 0.2983 - acc: 0.889 - ETA: 0s - loss: 0.2977 - acc: 0.889 - ETA: 0s - loss: 0.2980 - acc: 0.889 - ETA: 0s - loss: 0.2980 - acc: 0.889 - ETA: 0s - loss: 0.2980 - acc: 0.889 - ETA: 0s - loss: 0.2985 - acc: 0.889 - ETA: 0s - loss: 0.2983 - acc: 0.889 - ETA: 0s - loss: 0.2978 - acc: 0.889 - ETA: 0s - loss: 0.2979 - acc: 0.889 - ETA: 0s - loss: 0.2982 - acc: 0.889 - ETA: 0s - loss: 0.2981 - acc: 0.889 - ETA: 0s - loss: 0.2986 - acc: 0.889 - ETA: 0s - loss: 0.2987 - acc: 0.889 - ETA: 0s - loss: 0.2993 - acc: 0.888 - ETA: 0s - loss: 0.2994 - acc: 0.888 - 6s 103us/sample - loss: 0.2994 - acc: 0.8888 - val_loss: 0.3417 - val_acc: 0.8739\n",
      "Epoch 5/10\n"
     ]
    },
    {
     "name": "stdout",
     "output_type": "stream",
     "text": [
      "60000/60000 [==============================] - ETA: 9s - loss: 0.3463 - acc: 0.906 - ETA: 6s - loss: 0.2709 - acc: 0.906 - ETA: 5s - loss: 0.2792 - acc: 0.899 - ETA: 5s - loss: 0.2749 - acc: 0.898 - ETA: 5s - loss: 0.2813 - acc: 0.896 - ETA: 5s - loss: 0.2879 - acc: 0.893 - ETA: 5s - loss: 0.2838 - acc: 0.895 - ETA: 5s - loss: 0.2819 - acc: 0.895 - ETA: 5s - loss: 0.2818 - acc: 0.896 - ETA: 5s - loss: 0.2826 - acc: 0.896 - ETA: 5s - loss: 0.2861 - acc: 0.895 - ETA: 5s - loss: 0.2866 - acc: 0.895 - ETA: 5s - loss: 0.2815 - acc: 0.896 - ETA: 5s - loss: 0.2807 - acc: 0.897 - ETA: 5s - loss: 0.2817 - acc: 0.896 - ETA: 5s - loss: 0.2818 - acc: 0.896 - ETA: 5s - loss: 0.2803 - acc: 0.896 - ETA: 4s - loss: 0.2806 - acc: 0.896 - ETA: 4s - loss: 0.2781 - acc: 0.896 - ETA: 4s - loss: 0.2808 - acc: 0.896 - ETA: 4s - loss: 0.2809 - acc: 0.896 - ETA: 4s - loss: 0.2810 - acc: 0.896 - ETA: 4s - loss: 0.2822 - acc: 0.896 - ETA: 4s - loss: 0.2852 - acc: 0.894 - ETA: 4s - loss: 0.2859 - acc: 0.894 - ETA: 4s - loss: 0.2853 - acc: 0.895 - ETA: 4s - loss: 0.2862 - acc: 0.895 - ETA: 4s - loss: 0.2857 - acc: 0.895 - ETA: 4s - loss: 0.2883 - acc: 0.894 - ETA: 4s - loss: 0.2872 - acc: 0.895 - ETA: 4s - loss: 0.2865 - acc: 0.894 - ETA: 4s - loss: 0.2872 - acc: 0.894 - ETA: 4s - loss: 0.2873 - acc: 0.893 - ETA: 4s - loss: 0.2869 - acc: 0.893 - ETA: 4s - loss: 0.2871 - acc: 0.893 - ETA: 4s - loss: 0.2880 - acc: 0.893 - ETA: 4s - loss: 0.2873 - acc: 0.893 - ETA: 4s - loss: 0.2874 - acc: 0.893 - ETA: 3s - loss: 0.2870 - acc: 0.892 - ETA: 3s - loss: 0.2875 - acc: 0.892 - ETA: 3s - loss: 0.2866 - acc: 0.892 - ETA: 3s - loss: 0.2854 - acc: 0.892 - ETA: 3s - loss: 0.2838 - acc: 0.893 - ETA: 3s - loss: 0.2843 - acc: 0.892 - ETA: 3s - loss: 0.2842 - acc: 0.893 - ETA: 3s - loss: 0.2849 - acc: 0.893 - ETA: 3s - loss: 0.2852 - acc: 0.893 - ETA: 3s - loss: 0.2856 - acc: 0.892 - ETA: 3s - loss: 0.2858 - acc: 0.892 - ETA: 3s - loss: 0.2852 - acc: 0.893 - ETA: 3s - loss: 0.2841 - acc: 0.893 - ETA: 3s - loss: 0.2833 - acc: 0.893 - ETA: 3s - loss: 0.2835 - acc: 0.893 - ETA: 3s - loss: 0.2836 - acc: 0.893 - ETA: 3s - loss: 0.2835 - acc: 0.893 - ETA: 3s - loss: 0.2830 - acc: 0.893 - ETA: 3s - loss: 0.2833 - acc: 0.893 - ETA: 2s - loss: 0.2831 - acc: 0.893 - ETA: 2s - loss: 0.2825 - acc: 0.893 - ETA: 2s - loss: 0.2828 - acc: 0.893 - ETA: 2s - loss: 0.2830 - acc: 0.893 - ETA: 2s - loss: 0.2819 - acc: 0.894 - ETA: 2s - loss: 0.2819 - acc: 0.894 - ETA: 2s - loss: 0.2814 - acc: 0.894 - ETA: 2s - loss: 0.2819 - acc: 0.894 - ETA: 2s - loss: 0.2819 - acc: 0.893 - ETA: 2s - loss: 0.2814 - acc: 0.894 - ETA: 2s - loss: 0.2811 - acc: 0.894 - ETA: 2s - loss: 0.2809 - acc: 0.894 - ETA: 2s - loss: 0.2805 - acc: 0.894 - ETA: 2s - loss: 0.2808 - acc: 0.894 - ETA: 2s - loss: 0.2808 - acc: 0.894 - ETA: 2s - loss: 0.2818 - acc: 0.894 - ETA: 2s - loss: 0.2821 - acc: 0.894 - ETA: 2s - loss: 0.2824 - acc: 0.894 - ETA: 2s - loss: 0.2822 - acc: 0.894 - ETA: 1s - loss: 0.2823 - acc: 0.894 - ETA: 1s - loss: 0.2827 - acc: 0.894 - ETA: 1s - loss: 0.2829 - acc: 0.894 - ETA: 1s - loss: 0.2830 - acc: 0.894 - ETA: 1s - loss: 0.2830 - acc: 0.894 - ETA: 1s - loss: 0.2829 - acc: 0.894 - ETA: 1s - loss: 0.2821 - acc: 0.895 - ETA: 1s - loss: 0.2818 - acc: 0.895 - ETA: 1s - loss: 0.2813 - acc: 0.895 - ETA: 1s - loss: 0.2811 - acc: 0.895 - ETA: 1s - loss: 0.2815 - acc: 0.895 - ETA: 1s - loss: 0.2815 - acc: 0.895 - ETA: 1s - loss: 0.2819 - acc: 0.895 - ETA: 1s - loss: 0.2820 - acc: 0.895 - ETA: 1s - loss: 0.2819 - acc: 0.895 - ETA: 1s - loss: 0.2817 - acc: 0.895 - ETA: 1s - loss: 0.2824 - acc: 0.895 - ETA: 1s - loss: 0.2824 - acc: 0.895 - ETA: 1s - loss: 0.2819 - acc: 0.895 - ETA: 0s - loss: 0.2820 - acc: 0.895 - ETA: 0s - loss: 0.2819 - acc: 0.895 - ETA: 0s - loss: 0.2822 - acc: 0.895 - ETA: 0s - loss: 0.2822 - acc: 0.895 - ETA: 0s - loss: 0.2823 - acc: 0.895 - ETA: 0s - loss: 0.2820 - acc: 0.895 - ETA: 0s - loss: 0.2821 - acc: 0.895 - ETA: 0s - loss: 0.2818 - acc: 0.895 - ETA: 0s - loss: 0.2816 - acc: 0.895 - ETA: 0s - loss: 0.2815 - acc: 0.895 - ETA: 0s - loss: 0.2814 - acc: 0.895 - ETA: 0s - loss: 0.2812 - acc: 0.895 - ETA: 0s - loss: 0.2809 - acc: 0.895 - ETA: 0s - loss: 0.2803 - acc: 0.895 - ETA: 0s - loss: 0.2806 - acc: 0.895 - ETA: 0s - loss: 0.2802 - acc: 0.895 - ETA: 0s - loss: 0.2801 - acc: 0.895 - ETA: 0s - loss: 0.2805 - acc: 0.895 - ETA: 0s - loss: 0.2811 - acc: 0.895 - 6s 102us/sample - loss: 0.2808 - acc: 0.8957 - val_loss: 0.3435 - val_acc: 0.8741\n",
      "Epoch 6/10\n"
     ]
    },
    {
     "name": "stdout",
     "output_type": "stream",
     "text": [
      "60000/60000 [==============================] - ETA: 10s - loss: 0.3898 - acc: 0.84 - ETA: 6s - loss: 0.3202 - acc: 0.8750 - ETA: 6s - loss: 0.2648 - acc: 0.904 - ETA: 6s - loss: 0.2642 - acc: 0.906 - ETA: 5s - loss: 0.2662 - acc: 0.905 - ETA: 5s - loss: 0.2739 - acc: 0.904 - ETA: 5s - loss: 0.2785 - acc: 0.902 - ETA: 5s - loss: 0.2762 - acc: 0.903 - ETA: 5s - loss: 0.2699 - acc: 0.905 - ETA: 5s - loss: 0.2691 - acc: 0.903 - ETA: 5s - loss: 0.2662 - acc: 0.903 - ETA: 5s - loss: 0.2593 - acc: 0.905 - ETA: 5s - loss: 0.2616 - acc: 0.904 - ETA: 5s - loss: 0.2600 - acc: 0.904 - ETA: 5s - loss: 0.2569 - acc: 0.905 - ETA: 5s - loss: 0.2577 - acc: 0.905 - ETA: 5s - loss: 0.2596 - acc: 0.905 - ETA: 5s - loss: 0.2578 - acc: 0.905 - ETA: 5s - loss: 0.2592 - acc: 0.905 - ETA: 5s - loss: 0.2607 - acc: 0.905 - ETA: 5s - loss: 0.2623 - acc: 0.904 - ETA: 4s - loss: 0.2603 - acc: 0.905 - ETA: 4s - loss: 0.2618 - acc: 0.905 - ETA: 4s - loss: 0.2594 - acc: 0.906 - ETA: 4s - loss: 0.2587 - acc: 0.906 - ETA: 4s - loss: 0.2595 - acc: 0.905 - ETA: 4s - loss: 0.2599 - acc: 0.905 - ETA: 4s - loss: 0.2614 - acc: 0.905 - ETA: 4s - loss: 0.2626 - acc: 0.904 - ETA: 4s - loss: 0.2634 - acc: 0.904 - ETA: 4s - loss: 0.2622 - acc: 0.904 - ETA: 4s - loss: 0.2616 - acc: 0.905 - ETA: 4s - loss: 0.2621 - acc: 0.905 - ETA: 4s - loss: 0.2616 - acc: 0.905 - ETA: 4s - loss: 0.2615 - acc: 0.905 - ETA: 4s - loss: 0.2607 - acc: 0.905 - ETA: 4s - loss: 0.2609 - acc: 0.905 - ETA: 4s - loss: 0.2606 - acc: 0.905 - ETA: 4s - loss: 0.2613 - acc: 0.905 - ETA: 3s - loss: 0.2617 - acc: 0.905 - ETA: 3s - loss: 0.2605 - acc: 0.906 - ETA: 3s - loss: 0.2601 - acc: 0.906 - ETA: 3s - loss: 0.2624 - acc: 0.905 - ETA: 3s - loss: 0.2638 - acc: 0.904 - ETA: 3s - loss: 0.2649 - acc: 0.903 - ETA: 3s - loss: 0.2655 - acc: 0.903 - ETA: 3s - loss: 0.2662 - acc: 0.903 - ETA: 3s - loss: 0.2669 - acc: 0.903 - ETA: 3s - loss: 0.2671 - acc: 0.903 - ETA: 3s - loss: 0.2688 - acc: 0.902 - ETA: 3s - loss: 0.2683 - acc: 0.902 - ETA: 3s - loss: 0.2691 - acc: 0.903 - ETA: 3s - loss: 0.2688 - acc: 0.903 - ETA: 3s - loss: 0.2678 - acc: 0.903 - ETA: 3s - loss: 0.2680 - acc: 0.903 - ETA: 3s - loss: 0.2682 - acc: 0.902 - ETA: 3s - loss: 0.2682 - acc: 0.902 - ETA: 2s - loss: 0.2682 - acc: 0.902 - ETA: 2s - loss: 0.2683 - acc: 0.902 - ETA: 2s - loss: 0.2684 - acc: 0.902 - ETA: 2s - loss: 0.2684 - acc: 0.902 - ETA: 2s - loss: 0.2680 - acc: 0.902 - ETA: 2s - loss: 0.2682 - acc: 0.902 - ETA: 2s - loss: 0.2681 - acc: 0.902 - ETA: 2s - loss: 0.2685 - acc: 0.902 - ETA: 2s - loss: 0.2685 - acc: 0.902 - ETA: 2s - loss: 0.2684 - acc: 0.902 - ETA: 2s - loss: 0.2680 - acc: 0.902 - ETA: 2s - loss: 0.2673 - acc: 0.902 - ETA: 2s - loss: 0.2669 - acc: 0.902 - ETA: 2s - loss: 0.2670 - acc: 0.902 - ETA: 2s - loss: 0.2667 - acc: 0.902 - ETA: 2s - loss: 0.2670 - acc: 0.902 - ETA: 2s - loss: 0.2666 - acc: 0.902 - ETA: 2s - loss: 0.2676 - acc: 0.902 - ETA: 2s - loss: 0.2678 - acc: 0.902 - ETA: 1s - loss: 0.2677 - acc: 0.902 - ETA: 1s - loss: 0.2674 - acc: 0.902 - ETA: 1s - loss: 0.2676 - acc: 0.902 - ETA: 1s - loss: 0.2679 - acc: 0.902 - ETA: 1s - loss: 0.2682 - acc: 0.902 - ETA: 1s - loss: 0.2687 - acc: 0.902 - ETA: 1s - loss: 0.2688 - acc: 0.901 - ETA: 1s - loss: 0.2690 - acc: 0.901 - ETA: 1s - loss: 0.2692 - acc: 0.901 - ETA: 1s - loss: 0.2694 - acc: 0.901 - ETA: 1s - loss: 0.2690 - acc: 0.901 - ETA: 1s - loss: 0.2697 - acc: 0.901 - ETA: 1s - loss: 0.2691 - acc: 0.901 - ETA: 1s - loss: 0.2687 - acc: 0.901 - ETA: 1s - loss: 0.2692 - acc: 0.901 - ETA: 1s - loss: 0.2690 - acc: 0.901 - ETA: 1s - loss: 0.2685 - acc: 0.901 - ETA: 1s - loss: 0.2684 - acc: 0.901 - ETA: 1s - loss: 0.2683 - acc: 0.901 - ETA: 0s - loss: 0.2676 - acc: 0.902 - ETA: 0s - loss: 0.2671 - acc: 0.902 - ETA: 0s - loss: 0.2673 - acc: 0.902 - ETA: 0s - loss: 0.2675 - acc: 0.901 - ETA: 0s - loss: 0.2672 - acc: 0.902 - ETA: 0s - loss: 0.2675 - acc: 0.901 - ETA: 0s - loss: 0.2675 - acc: 0.901 - ETA: 0s - loss: 0.2673 - acc: 0.901 - ETA: 0s - loss: 0.2677 - acc: 0.901 - ETA: 0s - loss: 0.2674 - acc: 0.901 - ETA: 0s - loss: 0.2674 - acc: 0.901 - ETA: 0s - loss: 0.2672 - acc: 0.901 - ETA: 0s - loss: 0.2670 - acc: 0.901 - ETA: 0s - loss: 0.2670 - acc: 0.901 - ETA: 0s - loss: 0.2666 - acc: 0.901 - ETA: 0s - loss: 0.2662 - acc: 0.902 - ETA: 0s - loss: 0.2659 - acc: 0.902 - ETA: 0s - loss: 0.2662 - acc: 0.901 - 6s 101us/sample - loss: 0.2659 - acc: 0.9019 - val_loss: 0.3430 - val_acc: 0.8786\n",
      "Epoch 7/10\n"
     ]
    },
    {
     "name": "stdout",
     "output_type": "stream",
     "text": [
      "60000/60000 [==============================] - ETA: 10s - loss: 0.3278 - acc: 0.87 - ETA: 5s - loss: 0.2350 - acc: 0.9132 - ETA: 5s - loss: 0.2303 - acc: 0.914 - ETA: 5s - loss: 0.2672 - acc: 0.897 - ETA: 5s - loss: 0.2621 - acc: 0.900 - ETA: 5s - loss: 0.2585 - acc: 0.904 - ETA: 5s - loss: 0.2565 - acc: 0.905 - ETA: 5s - loss: 0.2587 - acc: 0.906 - ETA: 5s - loss: 0.2590 - acc: 0.904 - ETA: 5s - loss: 0.2621 - acc: 0.902 - ETA: 5s - loss: 0.2650 - acc: 0.902 - ETA: 5s - loss: 0.2611 - acc: 0.903 - ETA: 5s - loss: 0.2583 - acc: 0.904 - ETA: 5s - loss: 0.2577 - acc: 0.905 - ETA: 5s - loss: 0.2575 - acc: 0.906 - ETA: 5s - loss: 0.2587 - acc: 0.905 - ETA: 4s - loss: 0.2615 - acc: 0.904 - ETA: 4s - loss: 0.2625 - acc: 0.903 - ETA: 4s - loss: 0.2624 - acc: 0.904 - ETA: 4s - loss: 0.2627 - acc: 0.904 - ETA: 4s - loss: 0.2631 - acc: 0.903 - ETA: 4s - loss: 0.2623 - acc: 0.904 - ETA: 4s - loss: 0.2620 - acc: 0.903 - ETA: 4s - loss: 0.2622 - acc: 0.903 - ETA: 4s - loss: 0.2619 - acc: 0.903 - ETA: 4s - loss: 0.2597 - acc: 0.904 - ETA: 4s - loss: 0.2588 - acc: 0.904 - ETA: 4s - loss: 0.2579 - acc: 0.905 - ETA: 4s - loss: 0.2564 - acc: 0.905 - ETA: 4s - loss: 0.2550 - acc: 0.906 - ETA: 4s - loss: 0.2547 - acc: 0.905 - ETA: 4s - loss: 0.2535 - acc: 0.906 - ETA: 4s - loss: 0.2543 - acc: 0.905 - ETA: 4s - loss: 0.2541 - acc: 0.905 - ETA: 4s - loss: 0.2539 - acc: 0.905 - ETA: 4s - loss: 0.2543 - acc: 0.905 - ETA: 4s - loss: 0.2561 - acc: 0.904 - ETA: 3s - loss: 0.2566 - acc: 0.904 - ETA: 3s - loss: 0.2571 - acc: 0.904 - ETA: 3s - loss: 0.2569 - acc: 0.904 - ETA: 3s - loss: 0.2576 - acc: 0.904 - ETA: 3s - loss: 0.2579 - acc: 0.904 - ETA: 3s - loss: 0.2569 - acc: 0.904 - ETA: 3s - loss: 0.2577 - acc: 0.904 - ETA: 3s - loss: 0.2570 - acc: 0.904 - ETA: 3s - loss: 0.2568 - acc: 0.904 - ETA: 3s - loss: 0.2572 - acc: 0.904 - ETA: 3s - loss: 0.2581 - acc: 0.904 - ETA: 3s - loss: 0.2570 - acc: 0.904 - ETA: 3s - loss: 0.2558 - acc: 0.905 - ETA: 3s - loss: 0.2554 - acc: 0.905 - ETA: 3s - loss: 0.2554 - acc: 0.905 - ETA: 3s - loss: 0.2550 - acc: 0.905 - ETA: 3s - loss: 0.2539 - acc: 0.906 - ETA: 3s - loss: 0.2535 - acc: 0.906 - ETA: 3s - loss: 0.2536 - acc: 0.906 - ETA: 3s - loss: 0.2530 - acc: 0.906 - ETA: 2s - loss: 0.2523 - acc: 0.907 - ETA: 2s - loss: 0.2517 - acc: 0.907 - ETA: 2s - loss: 0.2513 - acc: 0.907 - ETA: 2s - loss: 0.2510 - acc: 0.907 - ETA: 2s - loss: 0.2506 - acc: 0.907 - ETA: 2s - loss: 0.2505 - acc: 0.908 - ETA: 2s - loss: 0.2501 - acc: 0.908 - ETA: 2s - loss: 0.2508 - acc: 0.908 - ETA: 2s - loss: 0.2508 - acc: 0.908 - ETA: 2s - loss: 0.2507 - acc: 0.907 - ETA: 2s - loss: 0.2508 - acc: 0.907 - ETA: 2s - loss: 0.2508 - acc: 0.908 - ETA: 2s - loss: 0.2507 - acc: 0.908 - ETA: 2s - loss: 0.2504 - acc: 0.908 - ETA: 2s - loss: 0.2507 - acc: 0.908 - ETA: 2s - loss: 0.2506 - acc: 0.908 - ETA: 2s - loss: 0.2507 - acc: 0.908 - ETA: 2s - loss: 0.2500 - acc: 0.908 - ETA: 2s - loss: 0.2498 - acc: 0.908 - ETA: 1s - loss: 0.2490 - acc: 0.908 - ETA: 1s - loss: 0.2495 - acc: 0.908 - ETA: 1s - loss: 0.2492 - acc: 0.908 - ETA: 1s - loss: 0.2498 - acc: 0.908 - ETA: 1s - loss: 0.2498 - acc: 0.908 - ETA: 1s - loss: 0.2499 - acc: 0.908 - ETA: 1s - loss: 0.2498 - acc: 0.908 - ETA: 1s - loss: 0.2495 - acc: 0.908 - ETA: 1s - loss: 0.2498 - acc: 0.908 - ETA: 1s - loss: 0.2498 - acc: 0.908 - ETA: 1s - loss: 0.2495 - acc: 0.908 - ETA: 1s - loss: 0.2494 - acc: 0.908 - ETA: 1s - loss: 0.2492 - acc: 0.908 - ETA: 1s - loss: 0.2498 - acc: 0.908 - ETA: 1s - loss: 0.2497 - acc: 0.908 - ETA: 1s - loss: 0.2502 - acc: 0.907 - ETA: 1s - loss: 0.2505 - acc: 0.907 - ETA: 1s - loss: 0.2506 - acc: 0.907 - ETA: 1s - loss: 0.2508 - acc: 0.907 - ETA: 0s - loss: 0.2500 - acc: 0.907 - ETA: 0s - loss: 0.2502 - acc: 0.907 - ETA: 0s - loss: 0.2503 - acc: 0.907 - ETA: 0s - loss: 0.2503 - acc: 0.907 - ETA: 0s - loss: 0.2501 - acc: 0.908 - ETA: 0s - loss: 0.2504 - acc: 0.907 - ETA: 0s - loss: 0.2506 - acc: 0.907 - ETA: 0s - loss: 0.2507 - acc: 0.907 - ETA: 0s - loss: 0.2510 - acc: 0.907 - ETA: 0s - loss: 0.2509 - acc: 0.907 - ETA: 0s - loss: 0.2512 - acc: 0.907 - ETA: 0s - loss: 0.2516 - acc: 0.907 - ETA: 0s - loss: 0.2516 - acc: 0.907 - ETA: 0s - loss: 0.2519 - acc: 0.907 - ETA: 0s - loss: 0.2521 - acc: 0.907 - ETA: 0s - loss: 0.2518 - acc: 0.907 - ETA: 0s - loss: 0.2521 - acc: 0.907 - ETA: 0s - loss: 0.2519 - acc: 0.907 - ETA: 0s - loss: 0.2522 - acc: 0.906 - 6s 102us/sample - loss: 0.2519 - acc: 0.9071 - val_loss: 0.3356 - val_acc: 0.8792\n",
      "Epoch 8/10\n"
     ]
    },
    {
     "name": "stdout",
     "output_type": "stream",
     "text": [
      "60000/60000 [==============================] - ETA: 9s - loss: 0.2644 - acc: 0.843 - ETA: 6s - loss: 0.2447 - acc: 0.898 - ETA: 6s - loss: 0.2329 - acc: 0.911 - ETA: 6s - loss: 0.2336 - acc: 0.908 - ETA: 5s - loss: 0.2334 - acc: 0.912 - ETA: 5s - loss: 0.2393 - acc: 0.909 - ETA: 5s - loss: 0.2434 - acc: 0.910 - ETA: 5s - loss: 0.2437 - acc: 0.909 - ETA: 5s - loss: 0.2422 - acc: 0.909 - ETA: 5s - loss: 0.2409 - acc: 0.909 - ETA: 5s - loss: 0.2407 - acc: 0.910 - ETA: 5s - loss: 0.2356 - acc: 0.911 - ETA: 5s - loss: 0.2385 - acc: 0.911 - ETA: 5s - loss: 0.2370 - acc: 0.911 - ETA: 5s - loss: 0.2378 - acc: 0.911 - ETA: 5s - loss: 0.2391 - acc: 0.910 - ETA: 5s - loss: 0.2393 - acc: 0.911 - ETA: 5s - loss: 0.2410 - acc: 0.910 - ETA: 5s - loss: 0.2377 - acc: 0.911 - ETA: 5s - loss: 0.2347 - acc: 0.913 - ETA: 4s - loss: 0.2341 - acc: 0.913 - ETA: 4s - loss: 0.2331 - acc: 0.913 - ETA: 4s - loss: 0.2314 - acc: 0.914 - ETA: 4s - loss: 0.2324 - acc: 0.913 - ETA: 4s - loss: 0.2328 - acc: 0.912 - ETA: 4s - loss: 0.2323 - acc: 0.913 - ETA: 4s - loss: 0.2339 - acc: 0.912 - ETA: 4s - loss: 0.2340 - acc: 0.912 - ETA: 4s - loss: 0.2342 - acc: 0.911 - ETA: 4s - loss: 0.2338 - acc: 0.912 - ETA: 4s - loss: 0.2360 - acc: 0.911 - ETA: 4s - loss: 0.2375 - acc: 0.911 - ETA: 4s - loss: 0.2367 - acc: 0.911 - ETA: 4s - loss: 0.2370 - acc: 0.911 - ETA: 4s - loss: 0.2361 - acc: 0.912 - ETA: 4s - loss: 0.2358 - acc: 0.912 - ETA: 4s - loss: 0.2354 - acc: 0.911 - ETA: 3s - loss: 0.2348 - acc: 0.912 - ETA: 3s - loss: 0.2354 - acc: 0.911 - ETA: 3s - loss: 0.2354 - acc: 0.912 - ETA: 3s - loss: 0.2342 - acc: 0.912 - ETA: 3s - loss: 0.2343 - acc: 0.912 - ETA: 3s - loss: 0.2350 - acc: 0.912 - ETA: 3s - loss: 0.2357 - acc: 0.912 - ETA: 3s - loss: 0.2360 - acc: 0.911 - ETA: 3s - loss: 0.2364 - acc: 0.911 - ETA: 3s - loss: 0.2359 - acc: 0.911 - ETA: 3s - loss: 0.2356 - acc: 0.911 - ETA: 3s - loss: 0.2355 - acc: 0.911 - ETA: 3s - loss: 0.2348 - acc: 0.912 - ETA: 3s - loss: 0.2361 - acc: 0.911 - ETA: 3s - loss: 0.2357 - acc: 0.911 - ETA: 3s - loss: 0.2357 - acc: 0.911 - ETA: 3s - loss: 0.2366 - acc: 0.911 - ETA: 3s - loss: 0.2367 - acc: 0.910 - ETA: 3s - loss: 0.2367 - acc: 0.910 - ETA: 2s - loss: 0.2357 - acc: 0.911 - ETA: 2s - loss: 0.2357 - acc: 0.911 - ETA: 2s - loss: 0.2362 - acc: 0.911 - ETA: 2s - loss: 0.2359 - acc: 0.911 - ETA: 2s - loss: 0.2372 - acc: 0.911 - ETA: 2s - loss: 0.2370 - acc: 0.911 - ETA: 2s - loss: 0.2370 - acc: 0.911 - ETA: 2s - loss: 0.2379 - acc: 0.910 - ETA: 2s - loss: 0.2377 - acc: 0.911 - ETA: 2s - loss: 0.2378 - acc: 0.910 - ETA: 2s - loss: 0.2379 - acc: 0.910 - ETA: 2s - loss: 0.2379 - acc: 0.911 - ETA: 2s - loss: 0.2376 - acc: 0.911 - ETA: 2s - loss: 0.2381 - acc: 0.911 - ETA: 2s - loss: 0.2383 - acc: 0.911 - ETA: 2s - loss: 0.2375 - acc: 0.911 - ETA: 2s - loss: 0.2374 - acc: 0.911 - ETA: 2s - loss: 0.2384 - acc: 0.911 - ETA: 2s - loss: 0.2382 - acc: 0.911 - ETA: 1s - loss: 0.2386 - acc: 0.910 - ETA: 1s - loss: 0.2382 - acc: 0.911 - ETA: 1s - loss: 0.2384 - acc: 0.911 - ETA: 1s - loss: 0.2382 - acc: 0.911 - ETA: 1s - loss: 0.2388 - acc: 0.911 - ETA: 1s - loss: 0.2384 - acc: 0.911 - ETA: 1s - loss: 0.2383 - acc: 0.911 - ETA: 1s - loss: 0.2385 - acc: 0.911 - ETA: 1s - loss: 0.2385 - acc: 0.911 - ETA: 1s - loss: 0.2384 - acc: 0.911 - ETA: 1s - loss: 0.2389 - acc: 0.911 - ETA: 1s - loss: 0.2392 - acc: 0.910 - ETA: 1s - loss: 0.2394 - acc: 0.910 - ETA: 1s - loss: 0.2397 - acc: 0.910 - ETA: 1s - loss: 0.2399 - acc: 0.910 - ETA: 1s - loss: 0.2403 - acc: 0.910 - ETA: 1s - loss: 0.2408 - acc: 0.910 - ETA: 1s - loss: 0.2408 - acc: 0.910 - ETA: 1s - loss: 0.2407 - acc: 0.910 - ETA: 1s - loss: 0.2412 - acc: 0.910 - ETA: 0s - loss: 0.2415 - acc: 0.910 - ETA: 0s - loss: 0.2421 - acc: 0.909 - ETA: 0s - loss: 0.2419 - acc: 0.909 - ETA: 0s - loss: 0.2420 - acc: 0.909 - ETA: 0s - loss: 0.2416 - acc: 0.909 - ETA: 0s - loss: 0.2419 - acc: 0.909 - ETA: 0s - loss: 0.2422 - acc: 0.909 - ETA: 0s - loss: 0.2423 - acc: 0.909 - ETA: 0s - loss: 0.2428 - acc: 0.908 - ETA: 0s - loss: 0.2429 - acc: 0.908 - ETA: 0s - loss: 0.2427 - acc: 0.909 - ETA: 0s - loss: 0.2424 - acc: 0.909 - ETA: 0s - loss: 0.2423 - acc: 0.909 - ETA: 0s - loss: 0.2425 - acc: 0.909 - ETA: 0s - loss: 0.2431 - acc: 0.909 - ETA: 0s - loss: 0.2430 - acc: 0.909 - ETA: 0s - loss: 0.2429 - acc: 0.909 - ETA: 0s - loss: 0.2432 - acc: 0.909 - ETA: 0s - loss: 0.2432 - acc: 0.909 - 6s 102us/sample - loss: 0.2432 - acc: 0.9093 - val_loss: 0.3462 - val_acc: 0.8797\n",
      "Epoch 9/10\n"
     ]
    },
    {
     "name": "stdout",
     "output_type": "stream",
     "text": [
      "60000/60000 [==============================] - ETA: 10s - loss: 0.3410 - acc: 0.90 - ETA: 6s - loss: 0.2773 - acc: 0.8926 - ETA: 6s - loss: 0.2567 - acc: 0.907 - ETA: 6s - loss: 0.2415 - acc: 0.912 - ETA: 6s - loss: 0.2368 - acc: 0.911 - ETA: 5s - loss: 0.2353 - acc: 0.912 - ETA: 5s - loss: 0.2301 - acc: 0.913 - ETA: 5s - loss: 0.2309 - acc: 0.913 - ETA: 5s - loss: 0.2276 - acc: 0.916 - ETA: 5s - loss: 0.2253 - acc: 0.916 - ETA: 5s - loss: 0.2262 - acc: 0.915 - ETA: 5s - loss: 0.2309 - acc: 0.913 - ETA: 5s - loss: 0.2306 - acc: 0.914 - ETA: 5s - loss: 0.2277 - acc: 0.915 - ETA: 5s - loss: 0.2264 - acc: 0.916 - ETA: 5s - loss: 0.2264 - acc: 0.916 - ETA: 5s - loss: 0.2265 - acc: 0.915 - ETA: 5s - loss: 0.2258 - acc: 0.915 - ETA: 5s - loss: 0.2247 - acc: 0.916 - ETA: 4s - loss: 0.2249 - acc: 0.917 - ETA: 4s - loss: 0.2263 - acc: 0.915 - ETA: 4s - loss: 0.2263 - acc: 0.916 - ETA: 4s - loss: 0.2277 - acc: 0.915 - ETA: 4s - loss: 0.2295 - acc: 0.914 - ETA: 4s - loss: 0.2304 - acc: 0.914 - ETA: 4s - loss: 0.2313 - acc: 0.915 - ETA: 4s - loss: 0.2306 - acc: 0.914 - ETA: 4s - loss: 0.2307 - acc: 0.914 - ETA: 4s - loss: 0.2309 - acc: 0.914 - ETA: 4s - loss: 0.2318 - acc: 0.913 - ETA: 4s - loss: 0.2317 - acc: 0.914 - ETA: 4s - loss: 0.2321 - acc: 0.914 - ETA: 4s - loss: 0.2333 - acc: 0.913 - ETA: 4s - loss: 0.2323 - acc: 0.913 - ETA: 4s - loss: 0.2330 - acc: 0.913 - ETA: 4s - loss: 0.2332 - acc: 0.913 - ETA: 3s - loss: 0.2336 - acc: 0.913 - ETA: 3s - loss: 0.2329 - acc: 0.913 - ETA: 3s - loss: 0.2323 - acc: 0.913 - ETA: 3s - loss: 0.2332 - acc: 0.913 - ETA: 3s - loss: 0.2320 - acc: 0.913 - ETA: 3s - loss: 0.2312 - acc: 0.914 - ETA: 3s - loss: 0.2296 - acc: 0.914 - ETA: 3s - loss: 0.2289 - acc: 0.914 - ETA: 3s - loss: 0.2285 - acc: 0.915 - ETA: 3s - loss: 0.2284 - acc: 0.915 - ETA: 3s - loss: 0.2296 - acc: 0.914 - ETA: 3s - loss: 0.2289 - acc: 0.914 - ETA: 3s - loss: 0.2288 - acc: 0.914 - ETA: 3s - loss: 0.2282 - acc: 0.914 - ETA: 3s - loss: 0.2277 - acc: 0.914 - ETA: 3s - loss: 0.2280 - acc: 0.914 - ETA: 3s - loss: 0.2273 - acc: 0.914 - ETA: 3s - loss: 0.2272 - acc: 0.914 - ETA: 3s - loss: 0.2268 - acc: 0.915 - ETA: 2s - loss: 0.2283 - acc: 0.914 - ETA: 2s - loss: 0.2278 - acc: 0.914 - ETA: 2s - loss: 0.2279 - acc: 0.914 - ETA: 2s - loss: 0.2277 - acc: 0.914 - ETA: 2s - loss: 0.2282 - acc: 0.914 - ETA: 2s - loss: 0.2284 - acc: 0.914 - ETA: 2s - loss: 0.2276 - acc: 0.914 - ETA: 2s - loss: 0.2280 - acc: 0.914 - ETA: 2s - loss: 0.2277 - acc: 0.914 - ETA: 2s - loss: 0.2280 - acc: 0.914 - ETA: 2s - loss: 0.2281 - acc: 0.914 - ETA: 2s - loss: 0.2278 - acc: 0.914 - ETA: 2s - loss: 0.2283 - acc: 0.914 - ETA: 2s - loss: 0.2281 - acc: 0.914 - ETA: 2s - loss: 0.2284 - acc: 0.914 - ETA: 2s - loss: 0.2283 - acc: 0.914 - ETA: 2s - loss: 0.2279 - acc: 0.914 - ETA: 2s - loss: 0.2286 - acc: 0.914 - ETA: 2s - loss: 0.2287 - acc: 0.914 - ETA: 1s - loss: 0.2285 - acc: 0.914 - ETA: 1s - loss: 0.2288 - acc: 0.914 - ETA: 1s - loss: 0.2291 - acc: 0.914 - ETA: 1s - loss: 0.2289 - acc: 0.913 - ETA: 1s - loss: 0.2298 - acc: 0.913 - ETA: 1s - loss: 0.2299 - acc: 0.913 - ETA: 1s - loss: 0.2304 - acc: 0.913 - ETA: 1s - loss: 0.2303 - acc: 0.913 - ETA: 1s - loss: 0.2299 - acc: 0.913 - ETA: 1s - loss: 0.2293 - acc: 0.913 - ETA: 1s - loss: 0.2301 - acc: 0.913 - ETA: 1s - loss: 0.2302 - acc: 0.913 - ETA: 1s - loss: 0.2305 - acc: 0.913 - ETA: 1s - loss: 0.2313 - acc: 0.913 - ETA: 1s - loss: 0.2310 - acc: 0.913 - ETA: 1s - loss: 0.2312 - acc: 0.913 - ETA: 1s - loss: 0.2311 - acc: 0.913 - ETA: 1s - loss: 0.2309 - acc: 0.913 - ETA: 1s - loss: 0.2308 - acc: 0.913 - ETA: 1s - loss: 0.2302 - acc: 0.913 - ETA: 0s - loss: 0.2301 - acc: 0.914 - ETA: 0s - loss: 0.2300 - acc: 0.914 - ETA: 0s - loss: 0.2297 - acc: 0.914 - ETA: 0s - loss: 0.2295 - acc: 0.914 - ETA: 0s - loss: 0.2295 - acc: 0.914 - ETA: 0s - loss: 0.2294 - acc: 0.914 - ETA: 0s - loss: 0.2291 - acc: 0.914 - ETA: 0s - loss: 0.2293 - acc: 0.914 - ETA: 0s - loss: 0.2299 - acc: 0.914 - ETA: 0s - loss: 0.2298 - acc: 0.914 - ETA: 0s - loss: 0.2297 - acc: 0.914 - ETA: 0s - loss: 0.2300 - acc: 0.913 - ETA: 0s - loss: 0.2299 - acc: 0.913 - ETA: 0s - loss: 0.2298 - acc: 0.913 - ETA: 0s - loss: 0.2303 - acc: 0.913 - ETA: 0s - loss: 0.2305 - acc: 0.913 - ETA: 0s - loss: 0.2302 - acc: 0.913 - ETA: 0s - loss: 0.2305 - acc: 0.913 - ETA: 0s - loss: 0.2308 - acc: 0.913 - 6s 101us/sample - loss: 0.2308 - acc: 0.9133 - val_loss: 0.3304 - val_acc: 0.8852\n",
      "Epoch 10/10\n"
     ]
    },
    {
     "name": "stdout",
     "output_type": "stream",
     "text": [
      "60000/60000 [==============================] - ETA: 10s - loss: 0.3323 - acc: 0.90 - ETA: 7s - loss: 0.2034 - acc: 0.9250 - ETA: 7s - loss: 0.1936 - acc: 0.927 - ETA: 6s - loss: 0.1907 - acc: 0.927 - ETA: 6s - loss: 0.2029 - acc: 0.925 - ETA: 6s - loss: 0.2028 - acc: 0.925 - ETA: 5s - loss: 0.2084 - acc: 0.921 - ETA: 5s - loss: 0.2065 - acc: 0.923 - ETA: 5s - loss: 0.2032 - acc: 0.926 - ETA: 5s - loss: 0.2047 - acc: 0.924 - ETA: 5s - loss: 0.2032 - acc: 0.925 - ETA: 5s - loss: 0.2034 - acc: 0.925 - ETA: 5s - loss: 0.2070 - acc: 0.923 - ETA: 5s - loss: 0.2085 - acc: 0.922 - ETA: 5s - loss: 0.2104 - acc: 0.921 - ETA: 5s - loss: 0.2109 - acc: 0.921 - ETA: 5s - loss: 0.2115 - acc: 0.920 - ETA: 5s - loss: 0.2117 - acc: 0.920 - ETA: 5s - loss: 0.2140 - acc: 0.919 - ETA: 5s - loss: 0.2138 - acc: 0.919 - ETA: 4s - loss: 0.2139 - acc: 0.919 - ETA: 4s - loss: 0.2140 - acc: 0.919 - ETA: 4s - loss: 0.2156 - acc: 0.918 - ETA: 4s - loss: 0.2152 - acc: 0.917 - ETA: 4s - loss: 0.2162 - acc: 0.917 - ETA: 4s - loss: 0.2196 - acc: 0.916 - ETA: 4s - loss: 0.2204 - acc: 0.915 - ETA: 4s - loss: 0.2198 - acc: 0.915 - ETA: 4s - loss: 0.2202 - acc: 0.915 - ETA: 4s - loss: 0.2192 - acc: 0.916 - ETA: 4s - loss: 0.2196 - acc: 0.916 - ETA: 4s - loss: 0.2196 - acc: 0.916 - ETA: 4s - loss: 0.2187 - acc: 0.917 - ETA: 4s - loss: 0.2194 - acc: 0.916 - ETA: 4s - loss: 0.2195 - acc: 0.916 - ETA: 4s - loss: 0.2223 - acc: 0.916 - ETA: 4s - loss: 0.2213 - acc: 0.916 - ETA: 3s - loss: 0.2221 - acc: 0.916 - ETA: 3s - loss: 0.2212 - acc: 0.916 - ETA: 3s - loss: 0.2220 - acc: 0.916 - ETA: 3s - loss: 0.2216 - acc: 0.916 - ETA: 3s - loss: 0.2221 - acc: 0.916 - ETA: 3s - loss: 0.2234 - acc: 0.916 - ETA: 3s - loss: 0.2243 - acc: 0.915 - ETA: 3s - loss: 0.2235 - acc: 0.916 - ETA: 3s - loss: 0.2228 - acc: 0.916 - ETA: 3s - loss: 0.2229 - acc: 0.916 - ETA: 3s - loss: 0.2219 - acc: 0.916 - ETA: 3s - loss: 0.2227 - acc: 0.916 - ETA: 3s - loss: 0.2235 - acc: 0.916 - ETA: 3s - loss: 0.2236 - acc: 0.916 - ETA: 3s - loss: 0.2237 - acc: 0.916 - ETA: 3s - loss: 0.2237 - acc: 0.916 - ETA: 3s - loss: 0.2236 - acc: 0.916 - ETA: 3s - loss: 0.2234 - acc: 0.916 - ETA: 3s - loss: 0.2244 - acc: 0.916 - ETA: 2s - loss: 0.2248 - acc: 0.916 - ETA: 2s - loss: 0.2245 - acc: 0.916 - ETA: 2s - loss: 0.2250 - acc: 0.915 - ETA: 2s - loss: 0.2244 - acc: 0.916 - ETA: 2s - loss: 0.2240 - acc: 0.916 - ETA: 2s - loss: 0.2238 - acc: 0.916 - ETA: 2s - loss: 0.2238 - acc: 0.916 - ETA: 2s - loss: 0.2230 - acc: 0.916 - ETA: 2s - loss: 0.2231 - acc: 0.916 - ETA: 2s - loss: 0.2232 - acc: 0.916 - ETA: 2s - loss: 0.2231 - acc: 0.916 - ETA: 2s - loss: 0.2235 - acc: 0.916 - ETA: 2s - loss: 0.2237 - acc: 0.916 - ETA: 2s - loss: 0.2236 - acc: 0.916 - ETA: 2s - loss: 0.2235 - acc: 0.916 - ETA: 2s - loss: 0.2233 - acc: 0.916 - ETA: 2s - loss: 0.2230 - acc: 0.916 - ETA: 2s - loss: 0.2231 - acc: 0.916 - ETA: 2s - loss: 0.2234 - acc: 0.916 - ETA: 1s - loss: 0.2237 - acc: 0.916 - ETA: 1s - loss: 0.2240 - acc: 0.916 - ETA: 1s - loss: 0.2241 - acc: 0.916 - ETA: 1s - loss: 0.2249 - acc: 0.915 - ETA: 1s - loss: 0.2248 - acc: 0.916 - ETA: 1s - loss: 0.2248 - acc: 0.915 - ETA: 1s - loss: 0.2251 - acc: 0.915 - ETA: 1s - loss: 0.2248 - acc: 0.916 - ETA: 1s - loss: 0.2243 - acc: 0.916 - ETA: 1s - loss: 0.2240 - acc: 0.916 - ETA: 1s - loss: 0.2239 - acc: 0.916 - ETA: 1s - loss: 0.2237 - acc: 0.916 - ETA: 1s - loss: 0.2235 - acc: 0.916 - ETA: 1s - loss: 0.2229 - acc: 0.916 - ETA: 1s - loss: 0.2224 - acc: 0.916 - ETA: 1s - loss: 0.2221 - acc: 0.916 - ETA: 1s - loss: 0.2220 - acc: 0.916 - ETA: 1s - loss: 0.2225 - acc: 0.916 - ETA: 1s - loss: 0.2222 - acc: 0.916 - ETA: 0s - loss: 0.2222 - acc: 0.916 - ETA: 0s - loss: 0.2226 - acc: 0.916 - ETA: 0s - loss: 0.2227 - acc: 0.916 - ETA: 0s - loss: 0.2230 - acc: 0.916 - ETA: 0s - loss: 0.2231 - acc: 0.916 - ETA: 0s - loss: 0.2232 - acc: 0.916 - ETA: 0s - loss: 0.2236 - acc: 0.916 - ETA: 0s - loss: 0.2235 - acc: 0.916 - ETA: 0s - loss: 0.2237 - acc: 0.916 - ETA: 0s - loss: 0.2237 - acc: 0.916 - ETA: 0s - loss: 0.2236 - acc: 0.916 - ETA: 0s - loss: 0.2235 - acc: 0.916 - ETA: 0s - loss: 0.2237 - acc: 0.916 - ETA: 0s - loss: 0.2241 - acc: 0.916 - ETA: 0s - loss: 0.2242 - acc: 0.915 - ETA: 0s - loss: 0.2239 - acc: 0.916 - ETA: 0s - loss: 0.2238 - acc: 0.916 - ETA: 0s - loss: 0.2239 - acc: 0.916 - ETA: 0s - loss: 0.2242 - acc: 0.915 - 6s 101us/sample - loss: 0.2241 - acc: 0.9159 - val_loss: 0.3243 - val_acc: 0.8894\n"
     ]
    },
    {
     "data": {
      "text/plain": [
       "<tensorflow.python.keras.callbacks.History at 0x7fe54207f4a8>"
      ]
     },
     "execution_count": 16,
     "metadata": {},
     "output_type": "execute_result"
    }
   ],
   "source": [
    "# Build the model with the optimal hyperparameters and train it on the data\n",
    "#最適なハイパーパラメーターを使用してモデルを作成し、データでトレーニングする\n",
    "\n",
    "model = tuner.hypermodel.build(best_hps)\n",
    "model.fit(img_train, label_train, epochs = 10, validation_data = (img_test, label_test))"
   ]
  },
  {
   "cell_type": "markdown",
   "metadata": {},
   "source": [
    "my_dir/intro_to_ktディレクトリには、 my_dir/intro_to_kt検索中に実行されたすべてのトライアル（モデル構成）の詳細なログとチェックポイントが含まれています。ハイパーパラメータ検索を再実行すると、Keras Tunerはこれらのログの既存の状態を使用して検索を再開します。この動作を無効にするには、チューナーをインスタンス化するときに追加のoverwrite = True引数を渡します。"
   ]
  },
  {
   "cell_type": "code",
   "execution_count": 17,
   "metadata": {},
   "outputs": [
    {
     "name": "stdout",
     "output_type": "stream",
     "text": [
      "INFO:tensorflow:Reloading Oracle from existing project my_dir/intro_to_kt/oracle.json\n",
      "INFO:tensorflow:Reloading Tuner from my_dir/intro_to_kt/tuner0.json\n"
     ]
    }
   ],
   "source": [
    "tuner = kt.Hyperband(model_builder,\n",
    "                     objective = \"val_acc\", \n",
    "                     max_epochs = 10,\n",
    "                     factor = 3,\n",
    "                     directory = 'my_dir',\n",
    "                     project_name = 'intro_to_kt')"
   ]
  },
  {
   "cell_type": "code",
   "execution_count": 18,
   "metadata": {
    "scrolled": true
   },
   "outputs": [
    {
     "data": {
      "text/html": [
       "<span style=\"color:#4527A0\"><h1 style=\"font-size:18px\">Results summary</h1></span>"
      ],
      "text/plain": [
       "<IPython.core.display.HTML object>"
      ]
     },
     "metadata": {},
     "output_type": "display_data"
    },
    {
     "data": {
      "text/html": [
       "<span style=\"color:cyan\"> |-Results in my_dir/intro_to_kt</span>"
      ],
      "text/plain": [
       "<IPython.core.display.HTML object>"
      ]
     },
     "metadata": {},
     "output_type": "display_data"
    },
    {
     "data": {
      "text/html": [
       "<span style=\"color:cyan\"> |-Showing 10 best trials</span>"
      ],
      "text/plain": [
       "<IPython.core.display.HTML object>"
      ]
     },
     "metadata": {},
     "output_type": "display_data"
    },
    {
     "data": {
      "text/html": [
       "<span style=\"color:cyan\"> |-Objective(name='val_acc', direction='max')</span>"
      ],
      "text/plain": [
       "<IPython.core.display.HTML object>"
      ]
     },
     "metadata": {},
     "output_type": "display_data"
    },
    {
     "data": {
      "text/html": [
       "<span style=\"color:#4527A0\"><h1 style=\"font-size:18px\">Trial summary</h1></span>"
      ],
      "text/plain": [
       "<IPython.core.display.HTML object>"
      ]
     },
     "metadata": {},
     "output_type": "display_data"
    },
    {
     "data": {
      "text/html": [
       "<span style=\"color:cyan\"> |-Trial ID: ff762b170f9b73876ae6690670f33764</span>"
      ],
      "text/plain": [
       "<IPython.core.display.HTML object>"
      ]
     },
     "metadata": {},
     "output_type": "display_data"
    },
    {
     "data": {
      "text/html": [
       "<span style=\"color:cyan\"> |-Score: 0.8870000243186951</span>"
      ],
      "text/plain": [
       "<IPython.core.display.HTML object>"
      ]
     },
     "metadata": {},
     "output_type": "display_data"
    },
    {
     "data": {
      "text/html": [
       "<span style=\"color:cyan\"> |-Best step: 0</span>"
      ],
      "text/plain": [
       "<IPython.core.display.HTML object>"
      ]
     },
     "metadata": {},
     "output_type": "display_data"
    },
    {
     "data": {
      "text/html": [
       "<span style=\"color:#7E57C2\"><h2 style=\"font-size:16px\">Hyperparameters:</h2></span>"
      ],
      "text/plain": [
       "<IPython.core.display.HTML object>"
      ]
     },
     "metadata": {},
     "output_type": "display_data"
    },
    {
     "data": {
      "text/html": [
       "<span style=\"color:cyan\"> |-learning_rate: 0.001</span>"
      ],
      "text/plain": [
       "<IPython.core.display.HTML object>"
      ]
     },
     "metadata": {},
     "output_type": "display_data"
    },
    {
     "data": {
      "text/html": [
       "<span style=\"color:blue\"> |-tuner/bracket: 0</span>"
      ],
      "text/plain": [
       "<IPython.core.display.HTML object>"
      ]
     },
     "metadata": {},
     "output_type": "display_data"
    },
    {
     "data": {
      "text/html": [
       "<span style=\"color:cyan\"> |-tuner/epochs: 10</span>"
      ],
      "text/plain": [
       "<IPython.core.display.HTML object>"
      ]
     },
     "metadata": {},
     "output_type": "display_data"
    },
    {
     "data": {
      "text/html": [
       "<span style=\"color:blue\"> |-tuner/initial_epoch: 0</span>"
      ],
      "text/plain": [
       "<IPython.core.display.HTML object>"
      ]
     },
     "metadata": {},
     "output_type": "display_data"
    },
    {
     "data": {
      "text/html": [
       "<span style=\"color:cyan\"> |-tuner/round: 0</span>"
      ],
      "text/plain": [
       "<IPython.core.display.HTML object>"
      ]
     },
     "metadata": {},
     "output_type": "display_data"
    },
    {
     "data": {
      "text/html": [
       "<span style=\"color:blue\"> |-units: 480</span>"
      ],
      "text/plain": [
       "<IPython.core.display.HTML object>"
      ]
     },
     "metadata": {},
     "output_type": "display_data"
    },
    {
     "data": {
      "text/html": [
       "<span style=\"color:#4527A0\"><h1 style=\"font-size:18px\">Trial summary</h1></span>"
      ],
      "text/plain": [
       "<IPython.core.display.HTML object>"
      ]
     },
     "metadata": {},
     "output_type": "display_data"
    },
    {
     "data": {
      "text/html": [
       "<span style=\"color:cyan\"> |-Trial ID: ee185b173609f20ecc4c9532c85d2a57</span>"
      ],
      "text/plain": [
       "<IPython.core.display.HTML object>"
      ]
     },
     "metadata": {},
     "output_type": "display_data"
    },
    {
     "data": {
      "text/html": [
       "<span style=\"color:cyan\"> |-Score: 0.8834999799728394</span>"
      ],
      "text/plain": [
       "<IPython.core.display.HTML object>"
      ]
     },
     "metadata": {},
     "output_type": "display_data"
    },
    {
     "data": {
      "text/html": [
       "<span style=\"color:cyan\"> |-Best step: 0</span>"
      ],
      "text/plain": [
       "<IPython.core.display.HTML object>"
      ]
     },
     "metadata": {},
     "output_type": "display_data"
    },
    {
     "data": {
      "text/html": [
       "<span style=\"color:#7E57C2\"><h2 style=\"font-size:16px\">Hyperparameters:</h2></span>"
      ],
      "text/plain": [
       "<IPython.core.display.HTML object>"
      ]
     },
     "metadata": {},
     "output_type": "display_data"
    },
    {
     "data": {
      "text/html": [
       "<span style=\"color:cyan\"> |-learning_rate: 0.001</span>"
      ],
      "text/plain": [
       "<IPython.core.display.HTML object>"
      ]
     },
     "metadata": {},
     "output_type": "display_data"
    },
    {
     "data": {
      "text/html": [
       "<span style=\"color:blue\"> |-tuner/bracket: 0</span>"
      ],
      "text/plain": [
       "<IPython.core.display.HTML object>"
      ]
     },
     "metadata": {},
     "output_type": "display_data"
    },
    {
     "data": {
      "text/html": [
       "<span style=\"color:cyan\"> |-tuner/epochs: 10</span>"
      ],
      "text/plain": [
       "<IPython.core.display.HTML object>"
      ]
     },
     "metadata": {},
     "output_type": "display_data"
    },
    {
     "data": {
      "text/html": [
       "<span style=\"color:blue\"> |-tuner/initial_epoch: 0</span>"
      ],
      "text/plain": [
       "<IPython.core.display.HTML object>"
      ]
     },
     "metadata": {},
     "output_type": "display_data"
    },
    {
     "data": {
      "text/html": [
       "<span style=\"color:cyan\"> |-tuner/round: 0</span>"
      ],
      "text/plain": [
       "<IPython.core.display.HTML object>"
      ]
     },
     "metadata": {},
     "output_type": "display_data"
    },
    {
     "data": {
      "text/html": [
       "<span style=\"color:blue\"> |-units: 192</span>"
      ],
      "text/plain": [
       "<IPython.core.display.HTML object>"
      ]
     },
     "metadata": {},
     "output_type": "display_data"
    },
    {
     "data": {
      "text/html": [
       "<span style=\"color:#4527A0\"><h1 style=\"font-size:18px\">Trial summary</h1></span>"
      ],
      "text/plain": [
       "<IPython.core.display.HTML object>"
      ]
     },
     "metadata": {},
     "output_type": "display_data"
    },
    {
     "data": {
      "text/html": [
       "<span style=\"color:cyan\"> |-Trial ID: 666d4dcb6d6d69586ee668313cf7a34e</span>"
      ],
      "text/plain": [
       "<IPython.core.display.HTML object>"
      ]
     },
     "metadata": {},
     "output_type": "display_data"
    },
    {
     "data": {
      "text/html": [
       "<span style=\"color:cyan\"> |-Score: 0.8805999755859375</span>"
      ],
      "text/plain": [
       "<IPython.core.display.HTML object>"
      ]
     },
     "metadata": {},
     "output_type": "display_data"
    },
    {
     "data": {
      "text/html": [
       "<span style=\"color:cyan\"> |-Best step: 0</span>"
      ],
      "text/plain": [
       "<IPython.core.display.HTML object>"
      ]
     },
     "metadata": {},
     "output_type": "display_data"
    },
    {
     "data": {
      "text/html": [
       "<span style=\"color:#7E57C2\"><h2 style=\"font-size:16px\">Hyperparameters:</h2></span>"
      ],
      "text/plain": [
       "<IPython.core.display.HTML object>"
      ]
     },
     "metadata": {},
     "output_type": "display_data"
    },
    {
     "data": {
      "text/html": [
       "<span style=\"color:cyan\"> |-learning_rate: 0.001</span>"
      ],
      "text/plain": [
       "<IPython.core.display.HTML object>"
      ]
     },
     "metadata": {},
     "output_type": "display_data"
    },
    {
     "data": {
      "text/html": [
       "<span style=\"color:blue\"> |-tuner/bracket: 1</span>"
      ],
      "text/plain": [
       "<IPython.core.display.HTML object>"
      ]
     },
     "metadata": {},
     "output_type": "display_data"
    },
    {
     "data": {
      "text/html": [
       "<span style=\"color:cyan\"> |-tuner/epochs: 10</span>"
      ],
      "text/plain": [
       "<IPython.core.display.HTML object>"
      ]
     },
     "metadata": {},
     "output_type": "display_data"
    },
    {
     "data": {
      "text/html": [
       "<span style=\"color:blue\"> |-tuner/initial_epoch: 4</span>"
      ],
      "text/plain": [
       "<IPython.core.display.HTML object>"
      ]
     },
     "metadata": {},
     "output_type": "display_data"
    },
    {
     "data": {
      "text/html": [
       "<span style=\"color:cyan\"> |-tuner/round: 1</span>"
      ],
      "text/plain": [
       "<IPython.core.display.HTML object>"
      ]
     },
     "metadata": {},
     "output_type": "display_data"
    },
    {
     "data": {
      "text/html": [
       "<span style=\"color:blue\"> |-tuner/trial_id: 565a17b47a6719481e853812d30c9384</span>"
      ],
      "text/plain": [
       "<IPython.core.display.HTML object>"
      ]
     },
     "metadata": {},
     "output_type": "display_data"
    },
    {
     "data": {
      "text/html": [
       "<span style=\"color:cyan\"> |-units: 320</span>"
      ],
      "text/plain": [
       "<IPython.core.display.HTML object>"
      ]
     },
     "metadata": {},
     "output_type": "display_data"
    },
    {
     "data": {
      "text/html": [
       "<span style=\"color:#4527A0\"><h1 style=\"font-size:18px\">Trial summary</h1></span>"
      ],
      "text/plain": [
       "<IPython.core.display.HTML object>"
      ]
     },
     "metadata": {},
     "output_type": "display_data"
    },
    {
     "data": {
      "text/html": [
       "<span style=\"color:cyan\"> |-Trial ID: 61b4ea6aef4e9c143adfd8ec4180ddad</span>"
      ],
      "text/plain": [
       "<IPython.core.display.HTML object>"
      ]
     },
     "metadata": {},
     "output_type": "display_data"
    },
    {
     "data": {
      "text/html": [
       "<span style=\"color:cyan\"> |-Score: 0.8804000020027161</span>"
      ],
      "text/plain": [
       "<IPython.core.display.HTML object>"
      ]
     },
     "metadata": {},
     "output_type": "display_data"
    },
    {
     "data": {
      "text/html": [
       "<span style=\"color:cyan\"> |-Best step: 0</span>"
      ],
      "text/plain": [
       "<IPython.core.display.HTML object>"
      ]
     },
     "metadata": {},
     "output_type": "display_data"
    },
    {
     "data": {
      "text/html": [
       "<span style=\"color:#7E57C2\"><h2 style=\"font-size:16px\">Hyperparameters:</h2></span>"
      ],
      "text/plain": [
       "<IPython.core.display.HTML object>"
      ]
     },
     "metadata": {},
     "output_type": "display_data"
    },
    {
     "data": {
      "text/html": [
       "<span style=\"color:cyan\"> |-learning_rate: 0.001</span>"
      ],
      "text/plain": [
       "<IPython.core.display.HTML object>"
      ]
     },
     "metadata": {},
     "output_type": "display_data"
    },
    {
     "data": {
      "text/html": [
       "<span style=\"color:blue\"> |-tuner/bracket: 2</span>"
      ],
      "text/plain": [
       "<IPython.core.display.HTML object>"
      ]
     },
     "metadata": {},
     "output_type": "display_data"
    },
    {
     "data": {
      "text/html": [
       "<span style=\"color:cyan\"> |-tuner/epochs: 10</span>"
      ],
      "text/plain": [
       "<IPython.core.display.HTML object>"
      ]
     },
     "metadata": {},
     "output_type": "display_data"
    },
    {
     "data": {
      "text/html": [
       "<span style=\"color:blue\"> |-tuner/initial_epoch: 4</span>"
      ],
      "text/plain": [
       "<IPython.core.display.HTML object>"
      ]
     },
     "metadata": {},
     "output_type": "display_data"
    },
    {
     "data": {
      "text/html": [
       "<span style=\"color:cyan\"> |-tuner/round: 2</span>"
      ],
      "text/plain": [
       "<IPython.core.display.HTML object>"
      ]
     },
     "metadata": {},
     "output_type": "display_data"
    },
    {
     "data": {
      "text/html": [
       "<span style=\"color:blue\"> |-tuner/trial_id: 23d9f3c195e012680885fc2354f4b39a</span>"
      ],
      "text/plain": [
       "<IPython.core.display.HTML object>"
      ]
     },
     "metadata": {},
     "output_type": "display_data"
    },
    {
     "data": {
      "text/html": [
       "<span style=\"color:cyan\"> |-units: 448</span>"
      ],
      "text/plain": [
       "<IPython.core.display.HTML object>"
      ]
     },
     "metadata": {},
     "output_type": "display_data"
    },
    {
     "data": {
      "text/html": [
       "<span style=\"color:#4527A0\"><h1 style=\"font-size:18px\">Trial summary</h1></span>"
      ],
      "text/plain": [
       "<IPython.core.display.HTML object>"
      ]
     },
     "metadata": {},
     "output_type": "display_data"
    },
    {
     "data": {
      "text/html": [
       "<span style=\"color:cyan\"> |-Trial ID: 565a17b47a6719481e853812d30c9384</span>"
      ],
      "text/plain": [
       "<IPython.core.display.HTML object>"
      ]
     },
     "metadata": {},
     "output_type": "display_data"
    },
    {
     "data": {
      "text/html": [
       "<span style=\"color:cyan\"> |-Score: 0.8795999884605408</span>"
      ],
      "text/plain": [
       "<IPython.core.display.HTML object>"
      ]
     },
     "metadata": {},
     "output_type": "display_data"
    },
    {
     "data": {
      "text/html": [
       "<span style=\"color:cyan\"> |-Best step: 0</span>"
      ],
      "text/plain": [
       "<IPython.core.display.HTML object>"
      ]
     },
     "metadata": {},
     "output_type": "display_data"
    },
    {
     "data": {
      "text/html": [
       "<span style=\"color:#7E57C2\"><h2 style=\"font-size:16px\">Hyperparameters:</h2></span>"
      ],
      "text/plain": [
       "<IPython.core.display.HTML object>"
      ]
     },
     "metadata": {},
     "output_type": "display_data"
    },
    {
     "data": {
      "text/html": [
       "<span style=\"color:cyan\"> |-learning_rate: 0.001</span>"
      ],
      "text/plain": [
       "<IPython.core.display.HTML object>"
      ]
     },
     "metadata": {},
     "output_type": "display_data"
    },
    {
     "data": {
      "text/html": [
       "<span style=\"color:blue\"> |-tuner/bracket: 1</span>"
      ],
      "text/plain": [
       "<IPython.core.display.HTML object>"
      ]
     },
     "metadata": {},
     "output_type": "display_data"
    },
    {
     "data": {
      "text/html": [
       "<span style=\"color:cyan\"> |-tuner/epochs: 4</span>"
      ],
      "text/plain": [
       "<IPython.core.display.HTML object>"
      ]
     },
     "metadata": {},
     "output_type": "display_data"
    },
    {
     "data": {
      "text/html": [
       "<span style=\"color:blue\"> |-tuner/initial_epoch: 0</span>"
      ],
      "text/plain": [
       "<IPython.core.display.HTML object>"
      ]
     },
     "metadata": {},
     "output_type": "display_data"
    },
    {
     "data": {
      "text/html": [
       "<span style=\"color:cyan\"> |-tuner/round: 0</span>"
      ],
      "text/plain": [
       "<IPython.core.display.HTML object>"
      ]
     },
     "metadata": {},
     "output_type": "display_data"
    },
    {
     "data": {
      "text/html": [
       "<span style=\"color:blue\"> |-units: 320</span>"
      ],
      "text/plain": [
       "<IPython.core.display.HTML object>"
      ]
     },
     "metadata": {},
     "output_type": "display_data"
    },
    {
     "data": {
      "text/html": [
       "<span style=\"color:#4527A0\"><h1 style=\"font-size:18px\">Trial summary</h1></span>"
      ],
      "text/plain": [
       "<IPython.core.display.HTML object>"
      ]
     },
     "metadata": {},
     "output_type": "display_data"
    },
    {
     "data": {
      "text/html": [
       "<span style=\"color:cyan\"> |-Trial ID: 8da959ff99ba12059b080771b9291d01</span>"
      ],
      "text/plain": [
       "<IPython.core.display.HTML object>"
      ]
     },
     "metadata": {},
     "output_type": "display_data"
    },
    {
     "data": {
      "text/html": [
       "<span style=\"color:cyan\"> |-Score: 0.8792999982833862</span>"
      ],
      "text/plain": [
       "<IPython.core.display.HTML object>"
      ]
     },
     "metadata": {},
     "output_type": "display_data"
    },
    {
     "data": {
      "text/html": [
       "<span style=\"color:cyan\"> |-Best step: 0</span>"
      ],
      "text/plain": [
       "<IPython.core.display.HTML object>"
      ]
     },
     "metadata": {},
     "output_type": "display_data"
    },
    {
     "data": {
      "text/html": [
       "<span style=\"color:#7E57C2\"><h2 style=\"font-size:16px\">Hyperparameters:</h2></span>"
      ],
      "text/plain": [
       "<IPython.core.display.HTML object>"
      ]
     },
     "metadata": {},
     "output_type": "display_data"
    },
    {
     "data": {
      "text/html": [
       "<span style=\"color:cyan\"> |-learning_rate: 0.001</span>"
      ],
      "text/plain": [
       "<IPython.core.display.HTML object>"
      ]
     },
     "metadata": {},
     "output_type": "display_data"
    },
    {
     "data": {
      "text/html": [
       "<span style=\"color:blue\"> |-tuner/bracket: 2</span>"
      ],
      "text/plain": [
       "<IPython.core.display.HTML object>"
      ]
     },
     "metadata": {},
     "output_type": "display_data"
    },
    {
     "data": {
      "text/html": [
       "<span style=\"color:cyan\"> |-tuner/epochs: 10</span>"
      ],
      "text/plain": [
       "<IPython.core.display.HTML object>"
      ]
     },
     "metadata": {},
     "output_type": "display_data"
    },
    {
     "data": {
      "text/html": [
       "<span style=\"color:blue\"> |-tuner/initial_epoch: 4</span>"
      ],
      "text/plain": [
       "<IPython.core.display.HTML object>"
      ]
     },
     "metadata": {},
     "output_type": "display_data"
    },
    {
     "data": {
      "text/html": [
       "<span style=\"color:cyan\"> |-tuner/round: 2</span>"
      ],
      "text/plain": [
       "<IPython.core.display.HTML object>"
      ]
     },
     "metadata": {},
     "output_type": "display_data"
    },
    {
     "data": {
      "text/html": [
       "<span style=\"color:blue\"> |-tuner/trial_id: ed3a29b0e80f54f1aaaf25261b0f908a</span>"
      ],
      "text/plain": [
       "<IPython.core.display.HTML object>"
      ]
     },
     "metadata": {},
     "output_type": "display_data"
    },
    {
     "data": {
      "text/html": [
       "<span style=\"color:cyan\"> |-units: 288</span>"
      ],
      "text/plain": [
       "<IPython.core.display.HTML object>"
      ]
     },
     "metadata": {},
     "output_type": "display_data"
    },
    {
     "data": {
      "text/html": [
       "<span style=\"color:#4527A0\"><h1 style=\"font-size:18px\">Trial summary</h1></span>"
      ],
      "text/plain": [
       "<IPython.core.display.HTML object>"
      ]
     },
     "metadata": {},
     "output_type": "display_data"
    },
    {
     "data": {
      "text/html": [
       "<span style=\"color:cyan\"> |-Trial ID: ae61b7af76c600b6a23585c2a43ce2da</span>"
      ],
      "text/plain": [
       "<IPython.core.display.HTML object>"
      ]
     },
     "metadata": {},
     "output_type": "display_data"
    },
    {
     "data": {
      "text/html": [
       "<span style=\"color:cyan\"> |-Score: 0.8784000277519226</span>"
      ],
      "text/plain": [
       "<IPython.core.display.HTML object>"
      ]
     },
     "metadata": {},
     "output_type": "display_data"
    },
    {
     "data": {
      "text/html": [
       "<span style=\"color:cyan\"> |-Best step: 0</span>"
      ],
      "text/plain": [
       "<IPython.core.display.HTML object>"
      ]
     },
     "metadata": {},
     "output_type": "display_data"
    },
    {
     "data": {
      "text/html": [
       "<span style=\"color:#7E57C2\"><h2 style=\"font-size:16px\">Hyperparameters:</h2></span>"
      ],
      "text/plain": [
       "<IPython.core.display.HTML object>"
      ]
     },
     "metadata": {},
     "output_type": "display_data"
    },
    {
     "data": {
      "text/html": [
       "<span style=\"color:cyan\"> |-learning_rate: 0.001</span>"
      ],
      "text/plain": [
       "<IPython.core.display.HTML object>"
      ]
     },
     "metadata": {},
     "output_type": "display_data"
    },
    {
     "data": {
      "text/html": [
       "<span style=\"color:blue\"> |-tuner/bracket: 1</span>"
      ],
      "text/plain": [
       "<IPython.core.display.HTML object>"
      ]
     },
     "metadata": {},
     "output_type": "display_data"
    },
    {
     "data": {
      "text/html": [
       "<span style=\"color:cyan\"> |-tuner/epochs: 10</span>"
      ],
      "text/plain": [
       "<IPython.core.display.HTML object>"
      ]
     },
     "metadata": {},
     "output_type": "display_data"
    },
    {
     "data": {
      "text/html": [
       "<span style=\"color:blue\"> |-tuner/initial_epoch: 4</span>"
      ],
      "text/plain": [
       "<IPython.core.display.HTML object>"
      ]
     },
     "metadata": {},
     "output_type": "display_data"
    },
    {
     "data": {
      "text/html": [
       "<span style=\"color:cyan\"> |-tuner/round: 1</span>"
      ],
      "text/plain": [
       "<IPython.core.display.HTML object>"
      ]
     },
     "metadata": {},
     "output_type": "display_data"
    },
    {
     "data": {
      "text/html": [
       "<span style=\"color:blue\"> |-tuner/trial_id: 3fc5d9bf71f54c7123d57711be1c622f</span>"
      ],
      "text/plain": [
       "<IPython.core.display.HTML object>"
      ]
     },
     "metadata": {},
     "output_type": "display_data"
    },
    {
     "data": {
      "text/html": [
       "<span style=\"color:cyan\"> |-units: 256</span>"
      ],
      "text/plain": [
       "<IPython.core.display.HTML object>"
      ]
     },
     "metadata": {},
     "output_type": "display_data"
    },
    {
     "data": {
      "text/html": [
       "<span style=\"color:#4527A0\"><h1 style=\"font-size:18px\">Trial summary</h1></span>"
      ],
      "text/plain": [
       "<IPython.core.display.HTML object>"
      ]
     },
     "metadata": {},
     "output_type": "display_data"
    },
    {
     "data": {
      "text/html": [
       "<span style=\"color:cyan\"> |-Trial ID: 3fc5d9bf71f54c7123d57711be1c622f</span>"
      ],
      "text/plain": [
       "<IPython.core.display.HTML object>"
      ]
     },
     "metadata": {},
     "output_type": "display_data"
    },
    {
     "data": {
      "text/html": [
       "<span style=\"color:cyan\"> |-Score: 0.8773000240325928</span>"
      ],
      "text/plain": [
       "<IPython.core.display.HTML object>"
      ]
     },
     "metadata": {},
     "output_type": "display_data"
    },
    {
     "data": {
      "text/html": [
       "<span style=\"color:cyan\"> |-Best step: 0</span>"
      ],
      "text/plain": [
       "<IPython.core.display.HTML object>"
      ]
     },
     "metadata": {},
     "output_type": "display_data"
    },
    {
     "data": {
      "text/html": [
       "<span style=\"color:#7E57C2\"><h2 style=\"font-size:16px\">Hyperparameters:</h2></span>"
      ],
      "text/plain": [
       "<IPython.core.display.HTML object>"
      ]
     },
     "metadata": {},
     "output_type": "display_data"
    },
    {
     "data": {
      "text/html": [
       "<span style=\"color:cyan\"> |-learning_rate: 0.001</span>"
      ],
      "text/plain": [
       "<IPython.core.display.HTML object>"
      ]
     },
     "metadata": {},
     "output_type": "display_data"
    },
    {
     "data": {
      "text/html": [
       "<span style=\"color:blue\"> |-tuner/bracket: 1</span>"
      ],
      "text/plain": [
       "<IPython.core.display.HTML object>"
      ]
     },
     "metadata": {},
     "output_type": "display_data"
    },
    {
     "data": {
      "text/html": [
       "<span style=\"color:cyan\"> |-tuner/epochs: 4</span>"
      ],
      "text/plain": [
       "<IPython.core.display.HTML object>"
      ]
     },
     "metadata": {},
     "output_type": "display_data"
    },
    {
     "data": {
      "text/html": [
       "<span style=\"color:blue\"> |-tuner/initial_epoch: 0</span>"
      ],
      "text/plain": [
       "<IPython.core.display.HTML object>"
      ]
     },
     "metadata": {},
     "output_type": "display_data"
    },
    {
     "data": {
      "text/html": [
       "<span style=\"color:cyan\"> |-tuner/round: 0</span>"
      ],
      "text/plain": [
       "<IPython.core.display.HTML object>"
      ]
     },
     "metadata": {},
     "output_type": "display_data"
    },
    {
     "data": {
      "text/html": [
       "<span style=\"color:blue\"> |-units: 256</span>"
      ],
      "text/plain": [
       "<IPython.core.display.HTML object>"
      ]
     },
     "metadata": {},
     "output_type": "display_data"
    },
    {
     "data": {
      "text/html": [
       "<span style=\"color:#4527A0\"><h1 style=\"font-size:18px\">Trial summary</h1></span>"
      ],
      "text/plain": [
       "<IPython.core.display.HTML object>"
      ]
     },
     "metadata": {},
     "output_type": "display_data"
    },
    {
     "data": {
      "text/html": [
       "<span style=\"color:cyan\"> |-Trial ID: a395da773851aa1bd5254f84ca7a8448</span>"
      ],
      "text/plain": [
       "<IPython.core.display.HTML object>"
      ]
     },
     "metadata": {},
     "output_type": "display_data"
    },
    {
     "data": {
      "text/html": [
       "<span style=\"color:cyan\"> |-Score: 0.8730999827384949</span>"
      ],
      "text/plain": [
       "<IPython.core.display.HTML object>"
      ]
     },
     "metadata": {},
     "output_type": "display_data"
    },
    {
     "data": {
      "text/html": [
       "<span style=\"color:cyan\"> |-Best step: 0</span>"
      ],
      "text/plain": [
       "<IPython.core.display.HTML object>"
      ]
     },
     "metadata": {},
     "output_type": "display_data"
    },
    {
     "data": {
      "text/html": [
       "<span style=\"color:#7E57C2\"><h2 style=\"font-size:16px\">Hyperparameters:</h2></span>"
      ],
      "text/plain": [
       "<IPython.core.display.HTML object>"
      ]
     },
     "metadata": {},
     "output_type": "display_data"
    },
    {
     "data": {
      "text/html": [
       "<span style=\"color:cyan\"> |-learning_rate: 0.001</span>"
      ],
      "text/plain": [
       "<IPython.core.display.HTML object>"
      ]
     },
     "metadata": {},
     "output_type": "display_data"
    },
    {
     "data": {
      "text/html": [
       "<span style=\"color:blue\"> |-tuner/bracket: 1</span>"
      ],
      "text/plain": [
       "<IPython.core.display.HTML object>"
      ]
     },
     "metadata": {},
     "output_type": "display_data"
    },
    {
     "data": {
      "text/html": [
       "<span style=\"color:cyan\"> |-tuner/epochs: 4</span>"
      ],
      "text/plain": [
       "<IPython.core.display.HTML object>"
      ]
     },
     "metadata": {},
     "output_type": "display_data"
    },
    {
     "data": {
      "text/html": [
       "<span style=\"color:blue\"> |-tuner/initial_epoch: 0</span>"
      ],
      "text/plain": [
       "<IPython.core.display.HTML object>"
      ]
     },
     "metadata": {},
     "output_type": "display_data"
    },
    {
     "data": {
      "text/html": [
       "<span style=\"color:cyan\"> |-tuner/round: 0</span>"
      ],
      "text/plain": [
       "<IPython.core.display.HTML object>"
      ]
     },
     "metadata": {},
     "output_type": "display_data"
    },
    {
     "data": {
      "text/html": [
       "<span style=\"color:blue\"> |-units: 96</span>"
      ],
      "text/plain": [
       "<IPython.core.display.HTML object>"
      ]
     },
     "metadata": {},
     "output_type": "display_data"
    },
    {
     "data": {
      "text/html": [
       "<span style=\"color:#4527A0\"><h1 style=\"font-size:18px\">Trial summary</h1></span>"
      ],
      "text/plain": [
       "<IPython.core.display.HTML object>"
      ]
     },
     "metadata": {},
     "output_type": "display_data"
    },
    {
     "data": {
      "text/html": [
       "<span style=\"color:cyan\"> |-Trial ID: 9c1d271d0d83ffa5567d093dde2bc329</span>"
      ],
      "text/plain": [
       "<IPython.core.display.HTML object>"
      ]
     },
     "metadata": {},
     "output_type": "display_data"
    },
    {
     "data": {
      "text/html": [
       "<span style=\"color:cyan\"> |-Score: 0.8722000122070312</span>"
      ],
      "text/plain": [
       "<IPython.core.display.HTML object>"
      ]
     },
     "metadata": {},
     "output_type": "display_data"
    },
    {
     "data": {
      "text/html": [
       "<span style=\"color:cyan\"> |-Best step: 0</span>"
      ],
      "text/plain": [
       "<IPython.core.display.HTML object>"
      ]
     },
     "metadata": {},
     "output_type": "display_data"
    },
    {
     "data": {
      "text/html": [
       "<span style=\"color:#7E57C2\"><h2 style=\"font-size:16px\">Hyperparameters:</h2></span>"
      ],
      "text/plain": [
       "<IPython.core.display.HTML object>"
      ]
     },
     "metadata": {},
     "output_type": "display_data"
    },
    {
     "data": {
      "text/html": [
       "<span style=\"color:cyan\"> |-learning_rate: 0.001</span>"
      ],
      "text/plain": [
       "<IPython.core.display.HTML object>"
      ]
     },
     "metadata": {},
     "output_type": "display_data"
    },
    {
     "data": {
      "text/html": [
       "<span style=\"color:blue\"> |-tuner/bracket: 1</span>"
      ],
      "text/plain": [
       "<IPython.core.display.HTML object>"
      ]
     },
     "metadata": {},
     "output_type": "display_data"
    },
    {
     "data": {
      "text/html": [
       "<span style=\"color:cyan\"> |-tuner/epochs: 10</span>"
      ],
      "text/plain": [
       "<IPython.core.display.HTML object>"
      ]
     },
     "metadata": {},
     "output_type": "display_data"
    },
    {
     "data": {
      "text/html": [
       "<span style=\"color:blue\"> |-tuner/initial_epoch: 4</span>"
      ],
      "text/plain": [
       "<IPython.core.display.HTML object>"
      ]
     },
     "metadata": {},
     "output_type": "display_data"
    },
    {
     "data": {
      "text/html": [
       "<span style=\"color:cyan\"> |-tuner/round: 1</span>"
      ],
      "text/plain": [
       "<IPython.core.display.HTML object>"
      ]
     },
     "metadata": {},
     "output_type": "display_data"
    },
    {
     "data": {
      "text/html": [
       "<span style=\"color:blue\"> |-tuner/trial_id: a395da773851aa1bd5254f84ca7a8448</span>"
      ],
      "text/plain": [
       "<IPython.core.display.HTML object>"
      ]
     },
     "metadata": {},
     "output_type": "display_data"
    },
    {
     "data": {
      "text/html": [
       "<span style=\"color:cyan\"> |-units: 96</span>"
      ],
      "text/plain": [
       "<IPython.core.display.HTML object>"
      ]
     },
     "metadata": {},
     "output_type": "display_data"
    }
   ],
   "source": [
    "tuner.results_summary()"
   ]
  },
  {
   "cell_type": "markdown",
   "metadata": {},
   "source": [
    "このチュートリアルでは、Keras Tunerを使用してモデルのハイパーパラメーターを調整する方法を学びました。 Keras Tunerの詳細については、次の追加リソースをご覧ください。\n",
    "\n",
    "- [TensorFlowブログのKeras Tuner](https://blog.tensorflow.org/2020/01/hyperparameter-tuning-with-keras-tuner.html)\n",
    "- [Keras TunerのWebサイト](https://keras-team.github.io/keras-tuner/)\n",
    "\n",
    "また、 TensorBoardのHParams Dashboardをチェックして、モデルのハイパーパラメーターをインタラクティブに調整します。"
   ]
  },
  {
   "cell_type": "markdown",
   "metadata": {},
   "source": [
    "----"
   ]
  },
  {
   "cell_type": "markdown",
   "metadata": {},
   "source": [
    "#### 異なるフレームワークへの書き換え\n",
    "\n",
    "「ディープラーニングフレームワーク1」で作成した4種類のデータセットを扱うTensorFLowのコードを異なるフレームワークに変更していきます。\n",
    "\n",
    "\n",
    "- Iris（Iris-versicolorとIris-virginicaのみの2値分類）\n",
    "- Iris（3種類全ての目的変数を使用して多値分類）\n",
    "- House Prices\n",
    "- MNIST"
   ]
  },
  {
   "cell_type": "markdown",
   "metadata": {},
   "source": [
    "##### Kerasへの書き換え\n",
    "KerasはTensorFLowに含まれるtf.kerasモジュールを使用してください。\n",
    "\n",
    "\n",
    "KerasにはSequentialモデルかFunctional APIかなど書き方に種類がありますが、これは指定しません。"
   ]
  },
  {
   "cell_type": "markdown",
   "metadata": {},
   "source": [
    "### 【問題3】Iris（2値分類）をKerasで学習\n",
    "TensorFlowによるIrisデータセットに対する2値分類をKerasに書き換えてください。\n",
    "\n"
   ]
  },
  {
   "cell_type": "code",
   "execution_count": 51,
   "metadata": {},
   "outputs": [
    {
     "data": {
      "text/html": [
       "<div>\n",
       "<style scoped>\n",
       "    .dataframe tbody tr th:only-of-type {\n",
       "        vertical-align: middle;\n",
       "    }\n",
       "\n",
       "    .dataframe tbody tr th {\n",
       "        vertical-align: top;\n",
       "    }\n",
       "\n",
       "    .dataframe thead th {\n",
       "        text-align: right;\n",
       "    }\n",
       "</style>\n",
       "<table border=\"1\" class=\"dataframe\">\n",
       "  <thead>\n",
       "    <tr style=\"text-align: right;\">\n",
       "      <th></th>\n",
       "      <th>Id</th>\n",
       "      <th>SepalLengthCm</th>\n",
       "      <th>SepalWidthCm</th>\n",
       "      <th>PetalLengthCm</th>\n",
       "      <th>PetalWidthCm</th>\n",
       "      <th>Species</th>\n",
       "    </tr>\n",
       "  </thead>\n",
       "  <tbody>\n",
       "    <tr>\n",
       "      <th>0</th>\n",
       "      <td>1</td>\n",
       "      <td>5.1</td>\n",
       "      <td>3.5</td>\n",
       "      <td>1.4</td>\n",
       "      <td>0.2</td>\n",
       "      <td>Iris-setosa</td>\n",
       "    </tr>\n",
       "    <tr>\n",
       "      <th>1</th>\n",
       "      <td>2</td>\n",
       "      <td>4.9</td>\n",
       "      <td>3.0</td>\n",
       "      <td>1.4</td>\n",
       "      <td>0.2</td>\n",
       "      <td>Iris-setosa</td>\n",
       "    </tr>\n",
       "    <tr>\n",
       "      <th>2</th>\n",
       "      <td>3</td>\n",
       "      <td>4.7</td>\n",
       "      <td>3.2</td>\n",
       "      <td>1.3</td>\n",
       "      <td>0.2</td>\n",
       "      <td>Iris-setosa</td>\n",
       "    </tr>\n",
       "    <tr>\n",
       "      <th>3</th>\n",
       "      <td>4</td>\n",
       "      <td>4.6</td>\n",
       "      <td>3.1</td>\n",
       "      <td>1.5</td>\n",
       "      <td>0.2</td>\n",
       "      <td>Iris-setosa</td>\n",
       "    </tr>\n",
       "    <tr>\n",
       "      <th>4</th>\n",
       "      <td>5</td>\n",
       "      <td>5.0</td>\n",
       "      <td>3.6</td>\n",
       "      <td>1.4</td>\n",
       "      <td>0.2</td>\n",
       "      <td>Iris-setosa</td>\n",
       "    </tr>\n",
       "  </tbody>\n",
       "</table>\n",
       "</div>"
      ],
      "text/plain": [
       "   Id  SepalLengthCm  SepalWidthCm  PetalLengthCm  PetalWidthCm      Species\n",
       "0   1            5.1           3.5            1.4           0.2  Iris-setosa\n",
       "1   2            4.9           3.0            1.4           0.2  Iris-setosa\n",
       "2   3            4.7           3.2            1.3           0.2  Iris-setosa\n",
       "3   4            4.6           3.1            1.5           0.2  Iris-setosa\n",
       "4   5            5.0           3.6            1.4           0.2  Iris-setosa"
      ]
     },
     "metadata": {},
     "output_type": "display_data"
    },
    {
     "data": {
      "text/plain": [
       "(150, 6)"
      ]
     },
     "execution_count": 51,
     "metadata": {},
     "output_type": "execute_result"
    }
   ],
   "source": [
    "df = pd.read_csv(\"Iris.csv\")\n",
    "display(df.head())\n",
    "df.shape"
   ]
  },
  {
   "cell_type": "code",
   "execution_count": 20,
   "metadata": {},
   "outputs": [],
   "source": [
    "# データフレームから条件抽出\n",
    "df = df[(df[\"Species\"] == \"Iris-versicolor\")|(df[\"Species\"] == \"Iris-virginica\")]\n",
    "y = df[\"Species\"]\n",
    "X = df.loc[:, [\"SepalLengthCm\", \"SepalWidthCm\", \"PetalLengthCm\", \"PetalWidthCm\"]]\n",
    "y = np.array(y)\n",
    "X = np.array(X)\n",
    "# ラベルを数値に変換\n",
    "y[y=='Iris-versicolor'] = 0\n",
    "y[y=='Iris-virginica'] = 1\n",
    "y = y.astype(np.int)[:, np.newaxis]\n",
    "\n",
    "#データ分割\n",
    "X_train, X_test, y_train, y_test = train_test_split(X, y, test_size=0.2, random_state=2)"
   ]
  },
  {
   "cell_type": "code",
   "execution_count": 21,
   "metadata": {},
   "outputs": [
    {
     "name": "stderr",
     "output_type": "stream",
     "text": [
      "Using TensorFlow backend.\n",
      "/Users/itonaoki/.pyenv/versions/anaconda3-5.3.1/lib/python3.7/site-packages/ipykernel_launcher.py:9: UserWarning: Update your `Dense` call to the Keras 2 API: `Dense(input_dim=4, activation=\"relu\", units=50, use_bias=True)`\n",
      "  if __name__ == '__main__':\n",
      "/Users/itonaoki/.pyenv/versions/anaconda3-5.3.1/lib/python3.7/site-packages/ipykernel_launcher.py:10: UserWarning: Update your `Dense` call to the Keras 2 API: `Dense(input_dim=50, activation=\"relu\", units=100, use_bias=True)`\n",
      "  # Remove the CWD from sys.path while we load stuff.\n",
      "/Users/itonaoki/.pyenv/versions/anaconda3-5.3.1/lib/python3.7/site-packages/ipykernel_launcher.py:11: UserWarning: Update your `Dense` call to the Keras 2 API: `Dense(input_dim=100, activation=\"sigmoid\", units=1, use_bias=True)`\n",
      "  # This is added back by InteractiveShellApp.init_path()\n"
     ]
    },
    {
     "name": "stdout",
     "output_type": "stream",
     "text": [
      "WARNING:tensorflow:From /Users/itonaoki/.pyenv/versions/anaconda3-5.3.1/lib/python3.7/site-packages/tensorflow/python/ops/nn_impl.py:180: add_dispatch_support.<locals>.wrapper (from tensorflow.python.ops.array_ops) is deprecated and will be removed in a future version.\n",
      "Instructions for updating:\n",
      "Use tf.where in 2.0, which has the same broadcast rule as np.where\n",
      "WARNING:tensorflow:From /Users/itonaoki/.pyenv/versions/anaconda3-5.3.1/lib/python3.7/site-packages/keras/backend/tensorflow_backend.py:422: The name tf.global_variables is deprecated. Please use tf.compat.v1.global_variables instead.\n",
      "\n",
      "Train on 80 samples, validate on 20 samples\n",
      "Epoch 1/100\n",
      "80/80 [==============================] - ETA: 0s - loss: 0.7827 - accuracy: 0.43 - 1s 7ms/step - loss: 0.7311 - accuracy: 0.5375 - val_loss: 0.7067 - val_accuracy: 0.3500\n",
      "Epoch 2/100\n",
      "80/80 [==============================] - ETA: 0s - loss: 0.6520 - accuracy: 0.59 - 0s 125us/step - loss: 0.6740 - accuracy: 0.5375 - val_loss: 0.8020 - val_accuracy: 0.3500\n",
      "Epoch 3/100\n",
      "80/80 [==============================] - ETA: 0s - loss: 0.6963 - accuracy: 0.50 - 0s 124us/step - loss: 0.6695 - accuracy: 0.5375 - val_loss: 0.7774 - val_accuracy: 0.3500\n",
      "Epoch 4/100\n",
      "80/80 [==============================] - ETA: 0s - loss: 0.6662 - accuracy: 0.53 - 0s 127us/step - loss: 0.6539 - accuracy: 0.5375 - val_loss: 0.7153 - val_accuracy: 0.3500\n",
      "Epoch 5/100\n",
      "80/80 [==============================] - ETA: 0s - loss: 0.6552 - accuracy: 0.50 - 0s 136us/step - loss: 0.6387 - accuracy: 0.5500 - val_loss: 0.6664 - val_accuracy: 0.5500\n",
      "Epoch 6/100\n",
      "80/80 [==============================] - ETA: 0s - loss: 0.6059 - accuracy: 0.81 - 0s 155us/step - loss: 0.6304 - accuracy: 0.7625 - val_loss: 0.6465 - val_accuracy: 0.8000\n",
      "Epoch 7/100\n",
      "80/80 [==============================] - ETA: 0s - loss: 0.6371 - accuracy: 0.87 - 0s 135us/step - loss: 0.6211 - accuracy: 0.8500 - val_loss: 0.6432 - val_accuracy: 0.6500\n",
      "Epoch 8/100\n",
      "80/80 [==============================] - ETA: 0s - loss: 0.6072 - accuracy: 0.87 - 0s 139us/step - loss: 0.6061 - accuracy: 0.7625 - val_loss: 0.6423 - val_accuracy: 0.6000\n",
      "Epoch 9/100\n",
      "80/80 [==============================] - ETA: 0s - loss: 0.6202 - accuracy: 0.71 - 0s 165us/step - loss: 0.5936 - accuracy: 0.7750 - val_loss: 0.6364 - val_accuracy: 0.6000\n",
      "Epoch 10/100\n",
      "80/80 [==============================] - ETA: 0s - loss: 0.5808 - accuracy: 0.75 - 0s 134us/step - loss: 0.5821 - accuracy: 0.7000 - val_loss: 0.6420 - val_accuracy: 0.6000\n",
      "Epoch 11/100\n",
      "80/80 [==============================] - ETA: 0s - loss: 0.6086 - accuracy: 0.65 - 0s 155us/step - loss: 0.5739 - accuracy: 0.7000 - val_loss: 0.6235 - val_accuracy: 0.6000\n",
      "Epoch 12/100\n",
      "80/80 [==============================] - ETA: 0s - loss: 0.5670 - accuracy: 0.78 - 0s 143us/step - loss: 0.5619 - accuracy: 0.7375 - val_loss: 0.6196 - val_accuracy: 0.6000\n",
      "Epoch 13/100\n",
      "80/80 [==============================] - ETA: 0s - loss: 0.5336 - accuracy: 0.81 - 0s 132us/step - loss: 0.5533 - accuracy: 0.7375 - val_loss: 0.6023 - val_accuracy: 0.6500\n",
      "Epoch 14/100\n",
      "80/80 [==============================] - ETA: 0s - loss: 0.5510 - accuracy: 0.81 - 0s 149us/step - loss: 0.5446 - accuracy: 0.8250 - val_loss: 0.5756 - val_accuracy: 0.7500\n",
      "Epoch 15/100\n",
      "80/80 [==============================] - ETA: 0s - loss: 0.5222 - accuracy: 0.93 - 0s 132us/step - loss: 0.5341 - accuracy: 0.9000 - val_loss: 0.5686 - val_accuracy: 0.7500\n",
      "Epoch 16/100\n",
      "80/80 [==============================] - ETA: 0s - loss: 0.5039 - accuracy: 0.90 - 0s 141us/step - loss: 0.5256 - accuracy: 0.8750 - val_loss: 0.5696 - val_accuracy: 0.7000\n",
      "Epoch 17/100\n",
      "80/80 [==============================] - ETA: 0s - loss: 0.5087 - accuracy: 0.87 - 0s 154us/step - loss: 0.5159 - accuracy: 0.8500 - val_loss: 0.5602 - val_accuracy: 0.7000\n",
      "Epoch 18/100\n",
      "80/80 [==============================] - ETA: 0s - loss: 0.4964 - accuracy: 0.96 - 0s 142us/step - loss: 0.5084 - accuracy: 0.9000 - val_loss: 0.5433 - val_accuracy: 0.7500\n",
      "Epoch 19/100\n",
      "80/80 [==============================] - ETA: 0s - loss: 0.5427 - accuracy: 0.84 - 0s 134us/step - loss: 0.4994 - accuracy: 0.9000 - val_loss: 0.5219 - val_accuracy: 0.9500\n",
      "Epoch 20/100\n",
      "80/80 [==============================] - ETA: 0s - loss: 0.4788 - accuracy: 0.93 - 0s 145us/step - loss: 0.4875 - accuracy: 0.9125 - val_loss: 0.5236 - val_accuracy: 0.7500\n",
      "Epoch 21/100\n",
      "80/80 [==============================] - ETA: 0s - loss: 0.4463 - accuracy: 0.96 - 0s 136us/step - loss: 0.4793 - accuracy: 0.9000 - val_loss: 0.5241 - val_accuracy: 0.7500\n",
      "Epoch 22/100\n",
      "80/80 [==============================] - ETA: 0s - loss: 0.4771 - accuracy: 0.93 - 0s 133us/step - loss: 0.4695 - accuracy: 0.9000 - val_loss: 0.5121 - val_accuracy: 0.7500\n",
      "Epoch 23/100\n",
      "80/80 [==============================] - ETA: 0s - loss: 0.4708 - accuracy: 0.93 - 0s 149us/step - loss: 0.4602 - accuracy: 0.9000 - val_loss: 0.4930 - val_accuracy: 0.8500\n",
      "Epoch 24/100\n",
      "80/80 [==============================] - ETA: 0s - loss: 0.4624 - accuracy: 0.93 - 0s 134us/step - loss: 0.4519 - accuracy: 0.9125 - val_loss: 0.4778 - val_accuracy: 1.0000\n",
      "Epoch 25/100\n",
      "80/80 [==============================] - ETA: 0s - loss: 0.4192 - accuracy: 0.93 - 0s 148us/step - loss: 0.4402 - accuracy: 0.9125 - val_loss: 0.4766 - val_accuracy: 0.8500\n",
      "Epoch 26/100\n",
      "80/80 [==============================] - ETA: 0s - loss: 0.4582 - accuracy: 0.84 - 0s 158us/step - loss: 0.4305 - accuracy: 0.9125 - val_loss: 0.4643 - val_accuracy: 0.9500\n",
      "Epoch 27/100\n",
      "80/80 [==============================] - ETA: 0s - loss: 0.4517 - accuracy: 0.87 - 0s 145us/step - loss: 0.4218 - accuracy: 0.9125 - val_loss: 0.4505 - val_accuracy: 1.0000\n",
      "Epoch 28/100\n",
      "80/80 [==============================] - ETA: 0s - loss: 0.4223 - accuracy: 0.90 - 0s 139us/step - loss: 0.4151 - accuracy: 0.9375 - val_loss: 0.4298 - val_accuracy: 1.0000\n",
      "Epoch 29/100\n",
      "80/80 [==============================] - ETA: 0s - loss: 0.4126 - accuracy: 0.93 - 0s 138us/step - loss: 0.4023 - accuracy: 0.9375 - val_loss: 0.4337 - val_accuracy: 1.0000\n",
      "Epoch 30/100\n",
      "80/80 [==============================] - ETA: 0s - loss: 0.4050 - accuracy: 0.90 - 0s 132us/step - loss: 0.3942 - accuracy: 0.9250 - val_loss: 0.4398 - val_accuracy: 0.8000\n",
      "Epoch 31/100\n",
      "80/80 [==============================] - ETA: 0s - loss: 0.3913 - accuracy: 0.93 - 0s 124us/step - loss: 0.3878 - accuracy: 0.9250 - val_loss: 0.4176 - val_accuracy: 1.0000\n",
      "Epoch 32/100\n",
      "80/80 [==============================] - ETA: 0s - loss: 0.4435 - accuracy: 0.87 - 0s 126us/step - loss: 0.3747 - accuracy: 0.9250 - val_loss: 0.4047 - val_accuracy: 1.0000\n",
      "Epoch 33/100\n",
      "80/80 [==============================] - ETA: 0s - loss: 0.3729 - accuracy: 0.96 - 0s 124us/step - loss: 0.3654 - accuracy: 0.9375 - val_loss: 0.3916 - val_accuracy: 1.0000\n",
      "Epoch 34/100\n",
      "80/80 [==============================] - ETA: 0s - loss: 0.3573 - accuracy: 0.93 - 0s 121us/step - loss: 0.3563 - accuracy: 0.9625 - val_loss: 0.3767 - val_accuracy: 1.0000\n",
      "Epoch 35/100\n",
      "80/80 [==============================] - ETA: 0s - loss: 0.3600 - accuracy: 0.96 - 0s 131us/step - loss: 0.3486 - accuracy: 0.9625 - val_loss: 0.3697 - val_accuracy: 1.0000\n",
      "Epoch 36/100\n",
      "80/80 [==============================] - ETA: 0s - loss: 0.3745 - accuracy: 0.96 - 0s 128us/step - loss: 0.3415 - accuracy: 0.9625 - val_loss: 0.3636 - val_accuracy: 1.0000\n",
      "Epoch 37/100\n",
      "80/80 [==============================] - ETA: 0s - loss: 0.2959 - accuracy: 0.96 - 0s 123us/step - loss: 0.3317 - accuracy: 0.9625 - val_loss: 0.3541 - val_accuracy: 1.0000\n",
      "Epoch 38/100\n",
      "80/80 [==============================] - ETA: 0s - loss: 0.3018 - accuracy: 0.93 - 0s 129us/step - loss: 0.3217 - accuracy: 0.9625 - val_loss: 0.3451 - val_accuracy: 1.0000\n",
      "Epoch 39/100\n",
      "80/80 [==============================] - ETA: 0s - loss: 0.2592 - accuracy: 1.00 - 0s 133us/step - loss: 0.3139 - accuracy: 0.9625 - val_loss: 0.3423 - val_accuracy: 1.0000\n",
      "Epoch 40/100\n",
      "80/80 [==============================] - ETA: 0s - loss: 0.3482 - accuracy: 0.90 - 0s 138us/step - loss: 0.3072 - accuracy: 0.9625 - val_loss: 0.3343 - val_accuracy: 1.0000\n",
      "Epoch 41/100\n",
      "80/80 [==============================] - ETA: 0s - loss: 0.2783 - accuracy: 0.96 - 0s 136us/step - loss: 0.3008 - accuracy: 0.9500 - val_loss: 0.3382 - val_accuracy: 1.0000\n"
     ]
    },
    {
     "name": "stdout",
     "output_type": "stream",
     "text": [
      "Epoch 42/100\n",
      "80/80 [==============================] - ETA: 0s - loss: 0.3252 - accuracy: 0.90 - 0s 135us/step - loss: 0.2941 - accuracy: 0.9250 - val_loss: 0.3269 - val_accuracy: 1.0000\n",
      "Epoch 43/100\n",
      "80/80 [==============================] - ETA: 0s - loss: 0.3243 - accuracy: 0.87 - 0s 123us/step - loss: 0.2872 - accuracy: 0.9500 - val_loss: 0.3035 - val_accuracy: 1.0000\n",
      "Epoch 44/100\n",
      "80/80 [==============================] - ETA: 0s - loss: 0.2711 - accuracy: 0.96 - 0s 131us/step - loss: 0.2791 - accuracy: 0.9625 - val_loss: 0.2983 - val_accuracy: 1.0000\n",
      "Epoch 45/100\n",
      "80/80 [==============================] - ETA: 0s - loss: 0.3069 - accuracy: 0.96 - 0s 126us/step - loss: 0.2696 - accuracy: 0.9625 - val_loss: 0.3024 - val_accuracy: 1.0000\n",
      "Epoch 46/100\n",
      "80/80 [==============================] - ETA: 0s - loss: 0.2652 - accuracy: 0.96 - 0s 116us/step - loss: 0.2667 - accuracy: 0.9500 - val_loss: 0.3046 - val_accuracy: 1.0000\n",
      "Epoch 47/100\n",
      "80/80 [==============================] - ETA: 0s - loss: 0.2646 - accuracy: 0.93 - 0s 119us/step - loss: 0.2602 - accuracy: 0.9500 - val_loss: 0.2832 - val_accuracy: 1.0000\n",
      "Epoch 48/100\n",
      "80/80 [==============================] - ETA: 0s - loss: 0.2954 - accuracy: 0.93 - 0s 126us/step - loss: 0.2600 - accuracy: 0.9375 - val_loss: 0.2707 - val_accuracy: 1.0000\n",
      "Epoch 49/100\n",
      "80/80 [==============================] - ETA: 0s - loss: 0.2597 - accuracy: 0.96 - 0s 122us/step - loss: 0.2519 - accuracy: 0.9500 - val_loss: 0.2681 - val_accuracy: 1.0000\n",
      "Epoch 50/100\n",
      "80/80 [==============================] - ETA: 0s - loss: 0.2909 - accuracy: 0.90 - 0s 119us/step - loss: 0.2409 - accuracy: 0.9625 - val_loss: 0.2722 - val_accuracy: 1.0000\n",
      "Epoch 51/100\n",
      "80/80 [==============================] - ETA: 0s - loss: 0.2026 - accuracy: 0.96 - 0s 119us/step - loss: 0.2416 - accuracy: 0.9500 - val_loss: 0.2684 - val_accuracy: 1.0000\n",
      "Epoch 52/100\n",
      "80/80 [==============================] - ETA: 0s - loss: 0.2505 - accuracy: 0.93 - 0s 120us/step - loss: 0.2296 - accuracy: 0.9500 - val_loss: 0.2506 - val_accuracy: 1.0000\n",
      "Epoch 53/100\n",
      "80/80 [==============================] - ETA: 0s - loss: 0.2311 - accuracy: 0.93 - 0s 125us/step - loss: 0.2347 - accuracy: 0.9375 - val_loss: 0.2466 - val_accuracy: 0.9500\n",
      "Epoch 54/100\n",
      "80/80 [==============================] - ETA: 0s - loss: 0.2126 - accuracy: 0.93 - 0s 131us/step - loss: 0.2258 - accuracy: 0.9500 - val_loss: 0.2451 - val_accuracy: 1.0000\n",
      "Epoch 55/100\n",
      "80/80 [==============================] - ETA: 0s - loss: 0.1984 - accuracy: 1.00 - 0s 115us/step - loss: 0.2240 - accuracy: 0.9500 - val_loss: 0.2646 - val_accuracy: 1.0000\n",
      "Epoch 56/100\n",
      "80/80 [==============================] - ETA: 0s - loss: 0.1758 - accuracy: 0.96 - 0s 115us/step - loss: 0.2213 - accuracy: 0.9500 - val_loss: 0.2404 - val_accuracy: 1.0000\n",
      "Epoch 57/100\n",
      "80/80 [==============================] - ETA: 0s - loss: 0.2654 - accuracy: 0.90 - 0s 120us/step - loss: 0.2112 - accuracy: 0.9375 - val_loss: 0.2304 - val_accuracy: 0.9500\n",
      "Epoch 58/100\n",
      "80/80 [==============================] - ETA: 0s - loss: 0.1976 - accuracy: 0.96 - 0s 128us/step - loss: 0.2126 - accuracy: 0.9500 - val_loss: 0.2256 - val_accuracy: 1.0000\n",
      "Epoch 59/100\n",
      "80/80 [==============================] - ETA: 0s - loss: 0.1473 - accuracy: 1.00 - 0s 127us/step - loss: 0.2051 - accuracy: 0.9625 - val_loss: 0.2232 - val_accuracy: 1.0000\n",
      "Epoch 60/100\n",
      "80/80 [==============================] - ETA: 0s - loss: 0.2246 - accuracy: 0.96 - 0s 113us/step - loss: 0.1966 - accuracy: 0.9625 - val_loss: 0.2225 - val_accuracy: 1.0000\n",
      "Epoch 61/100\n",
      "80/80 [==============================] - ETA: 0s - loss: 0.2631 - accuracy: 0.87 - 0s 115us/step - loss: 0.1942 - accuracy: 0.9500 - val_loss: 0.2164 - val_accuracy: 1.0000\n",
      "Epoch 62/100\n",
      "80/80 [==============================] - ETA: 0s - loss: 0.1730 - accuracy: 0.96 - 0s 119us/step - loss: 0.1899 - accuracy: 0.9625 - val_loss: 0.2094 - val_accuracy: 1.0000\n",
      "Epoch 63/100\n",
      "80/80 [==============================] - ETA: 0s - loss: 0.1944 - accuracy: 0.93 - 0s 122us/step - loss: 0.1870 - accuracy: 0.9625 - val_loss: 0.2056 - val_accuracy: 1.0000\n",
      "Epoch 64/100\n",
      "80/80 [==============================] - ETA: 0s - loss: 0.2171 - accuracy: 0.96 - 0s 126us/step - loss: 0.1846 - accuracy: 0.9750 - val_loss: 0.2020 - val_accuracy: 1.0000\n",
      "Epoch 65/100\n",
      "80/80 [==============================] - ETA: 0s - loss: 0.1383 - accuracy: 0.96 - 0s 118us/step - loss: 0.1803 - accuracy: 0.9625 - val_loss: 0.2031 - val_accuracy: 1.0000\n",
      "Epoch 66/100\n",
      "80/80 [==============================] - ETA: 0s - loss: 0.1614 - accuracy: 0.93 - 0s 118us/step - loss: 0.1791 - accuracy: 0.9500 - val_loss: 0.2005 - val_accuracy: 1.0000\n",
      "Epoch 67/100\n",
      "80/80 [==============================] - ETA: 0s - loss: 0.2512 - accuracy: 0.87 - 0s 119us/step - loss: 0.1764 - accuracy: 0.9500 - val_loss: 0.1948 - val_accuracy: 1.0000\n",
      "Epoch 68/100\n",
      "80/80 [==============================] - ETA: 0s - loss: 0.1669 - accuracy: 0.96 - 0s 123us/step - loss: 0.1730 - accuracy: 0.9625 - val_loss: 0.1901 - val_accuracy: 1.0000\n",
      "Epoch 69/100\n",
      "80/80 [==============================] - ETA: 0s - loss: 0.1441 - accuracy: 1.00 - 0s 120us/step - loss: 0.1733 - accuracy: 0.9625 - val_loss: 0.1883 - val_accuracy: 1.0000\n",
      "Epoch 70/100\n",
      "80/80 [==============================] - ETA: 0s - loss: 0.1381 - accuracy: 1.00 - 0s 120us/step - loss: 0.1662 - accuracy: 0.9625 - val_loss: 0.1849 - val_accuracy: 1.0000\n",
      "Epoch 71/100\n",
      "80/80 [==============================] - ETA: 0s - loss: 0.1689 - accuracy: 0.96 - 0s 115us/step - loss: 0.1686 - accuracy: 0.9625 - val_loss: 0.1830 - val_accuracy: 1.0000\n",
      "Epoch 72/100\n",
      "80/80 [==============================] - ETA: 0s - loss: 0.1522 - accuracy: 1.00 - 0s 124us/step - loss: 0.1667 - accuracy: 0.9625 - val_loss: 0.1819 - val_accuracy: 1.0000\n",
      "Epoch 73/100\n",
      "80/80 [==============================] - ETA: 0s - loss: 0.1515 - accuracy: 0.96 - 0s 125us/step - loss: 0.1616 - accuracy: 0.9500 - val_loss: 0.1777 - val_accuracy: 1.0000\n",
      "Epoch 74/100\n",
      "80/80 [==============================] - ETA: 0s - loss: 0.1721 - accuracy: 0.93 - 0s 124us/step - loss: 0.1592 - accuracy: 0.9625 - val_loss: 0.1770 - val_accuracy: 1.0000\n",
      "Epoch 75/100\n",
      "80/80 [==============================] - ETA: 0s - loss: 0.1068 - accuracy: 1.00 - 0s 120us/step - loss: 0.1572 - accuracy: 0.9750 - val_loss: 0.1746 - val_accuracy: 1.0000\n",
      "Epoch 76/100\n",
      "80/80 [==============================] - ETA: 0s - loss: 0.1778 - accuracy: 0.96 - 0s 114us/step - loss: 0.1572 - accuracy: 0.9625 - val_loss: 0.1707 - val_accuracy: 1.0000\n",
      "Epoch 77/100\n",
      "80/80 [==============================] - ETA: 0s - loss: 0.1871 - accuracy: 0.96 - 0s 125us/step - loss: 0.1524 - accuracy: 0.9625 - val_loss: 0.1686 - val_accuracy: 1.0000\n",
      "Epoch 78/100\n",
      "80/80 [==============================] - ETA: 0s - loss: 0.1148 - accuracy: 1.00 - 0s 127us/step - loss: 0.1519 - accuracy: 0.9625 - val_loss: 0.1668 - val_accuracy: 1.0000\n",
      "Epoch 79/100\n",
      "80/80 [==============================] - ETA: 0s - loss: 0.1239 - accuracy: 1.00 - 0s 122us/step - loss: 0.1493 - accuracy: 0.9625 - val_loss: 0.1647 - val_accuracy: 1.0000\n",
      "Epoch 80/100\n",
      "80/80 [==============================] - ETA: 0s - loss: 0.1097 - accuracy: 1.00 - 0s 117us/step - loss: 0.1465 - accuracy: 0.9625 - val_loss: 0.1649 - val_accuracy: 1.0000\n",
      "Epoch 81/100\n",
      "80/80 [==============================] - ETA: 0s - loss: 0.1988 - accuracy: 0.93 - 0s 117us/step - loss: 0.1545 - accuracy: 0.9750 - val_loss: 0.1684 - val_accuracy: 1.0000\n",
      "Epoch 82/100\n",
      "80/80 [==============================] - ETA: 0s - loss: 0.1268 - accuracy: 0.96 - 0s 127us/step - loss: 0.1466 - accuracy: 0.9625 - val_loss: 0.1593 - val_accuracy: 1.0000\n",
      "Epoch 83/100\n",
      "80/80 [==============================] - ETA: 0s - loss: 0.0909 - accuracy: 1.00 - 0s 123us/step - loss: 0.1428 - accuracy: 0.9625 - val_loss: 0.1583 - val_accuracy: 1.0000\n",
      "Epoch 84/100\n",
      "80/80 [==============================] - ETA: 0s - loss: 0.1280 - accuracy: 0.96 - 0s 119us/step - loss: 0.1464 - accuracy: 0.9500 - val_loss: 0.1576 - val_accuracy: 1.0000\n",
      "Epoch 85/100\n",
      "80/80 [==============================] - ETA: 0s - loss: 0.1413 - accuracy: 0.93 - 0s 122us/step - loss: 0.1432 - accuracy: 0.9625 - val_loss: 0.1599 - val_accuracy: 1.0000\n"
     ]
    },
    {
     "name": "stdout",
     "output_type": "stream",
     "text": [
      "Epoch 86/100\n",
      "80/80 [==============================] - ETA: 0s - loss: 0.1441 - accuracy: 0.96 - 0s 118us/step - loss: 0.1408 - accuracy: 0.9625 - val_loss: 0.1601 - val_accuracy: 1.0000\n",
      "Epoch 87/100\n",
      "80/80 [==============================] - ETA: 0s - loss: 0.0986 - accuracy: 1.00 - 0s 121us/step - loss: 0.1403 - accuracy: 0.9750 - val_loss: 0.1518 - val_accuracy: 1.0000\n",
      "Epoch 88/100\n",
      "80/80 [==============================] - ETA: 0s - loss: 0.1546 - accuracy: 0.96 - 0s 116us/step - loss: 0.1354 - accuracy: 0.9750 - val_loss: 0.1500 - val_accuracy: 1.0000\n",
      "Epoch 89/100\n",
      "80/80 [==============================] - ETA: 0s - loss: 0.1082 - accuracy: 1.00 - 0s 123us/step - loss: 0.1367 - accuracy: 0.9625 - val_loss: 0.1490 - val_accuracy: 1.0000\n",
      "Epoch 90/100\n",
      "80/80 [==============================] - ETA: 0s - loss: 0.1143 - accuracy: 0.96 - 0s 115us/step - loss: 0.1362 - accuracy: 0.9500 - val_loss: 0.1477 - val_accuracy: 1.0000\n",
      "Epoch 91/100\n",
      "80/80 [==============================] - ETA: 0s - loss: 0.0957 - accuracy: 1.00 - 0s 105us/step - loss: 0.1319 - accuracy: 0.9750 - val_loss: 0.1609 - val_accuracy: 0.9500\n",
      "Epoch 92/100\n",
      "80/80 [==============================] - ETA: 0s - loss: 0.1617 - accuracy: 0.93 - 0s 113us/step - loss: 0.1398 - accuracy: 0.9250 - val_loss: 0.1582 - val_accuracy: 0.9500\n",
      "Epoch 93/100\n",
      "80/80 [==============================] - ETA: 0s - loss: 0.1100 - accuracy: 1.00 - 0s 122us/step - loss: 0.1321 - accuracy: 0.9750 - val_loss: 0.1438 - val_accuracy: 1.0000\n",
      "Epoch 94/100\n",
      "80/80 [==============================] - ETA: 0s - loss: 0.1565 - accuracy: 0.96 - 0s 114us/step - loss: 0.1298 - accuracy: 0.9625 - val_loss: 0.1432 - val_accuracy: 1.0000\n",
      "Epoch 95/100\n",
      "80/80 [==============================] - ETA: 0s - loss: 0.0807 - accuracy: 0.96 - 0s 106us/step - loss: 0.1311 - accuracy: 0.9500 - val_loss: 0.1415 - val_accuracy: 1.0000\n",
      "Epoch 96/100\n",
      "80/80 [==============================] - ETA: 0s - loss: 0.0900 - accuracy: 1.00 - 0s 115us/step - loss: 0.1279 - accuracy: 0.9750 - val_loss: 0.1439 - val_accuracy: 1.0000\n",
      "Epoch 97/100\n",
      "80/80 [==============================] - ETA: 0s - loss: 0.0961 - accuracy: 1.00 - 0s 119us/step - loss: 0.1304 - accuracy: 0.9625 - val_loss: 0.1617 - val_accuracy: 0.9000\n",
      "Epoch 98/100\n",
      "80/80 [==============================] - ETA: 0s - loss: 0.1422 - accuracy: 0.90 - 0s 106us/step - loss: 0.1310 - accuracy: 0.9500 - val_loss: 0.1440 - val_accuracy: 1.0000\n",
      "Epoch 99/100\n",
      "80/80 [==============================] - ETA: 0s - loss: 0.0566 - accuracy: 1.00 - 0s 104us/step - loss: 0.1296 - accuracy: 0.9625 - val_loss: 0.1393 - val_accuracy: 1.0000\n",
      "Epoch 100/100\n",
      "80/80 [==============================] - ETA: 0s - loss: 0.1537 - accuracy: 0.96 - 0s 115us/step - loss: 0.1306 - accuracy: 0.9500 - val_loss: 0.1359 - val_accuracy: 1.0000\n"
     ]
    }
   ],
   "source": [
    "from keras.models import Sequential\n",
    "from keras.layers.core import Dense\n",
    "from keras.utils import to_categorical\n",
    "from keras.optimizers import Adam\n",
    "from keras.callbacks import CSVLogger\n",
    "\n",
    "#学習\n",
    "model = Sequential()\n",
    "model.add(Dense(input_dim=4, output_dim=50, bias=True, activation='relu'))\n",
    "model.add(Dense(input_dim=50, output_dim=100, bias=True, activation='relu'))\n",
    "model.add(Dense(input_dim=100, output_dim=1, bias=True, activation='sigmoid'))\n",
    "model.compile(loss='binary_crossentropy', optimizer=Adam(), metrics=['accuracy'])\n",
    "csv_logger = CSVLogger('log.csv', separator=',', append=False)\n",
    "history = model.fit(X_train, y_train,\n",
    "                    batch_size=32, epochs=100,\n",
    "                    validation_data=(X_test, y_test)) #callbacks=[csv_logger]を追加でlogをcsvで保存可能"
   ]
  },
  {
   "cell_type": "code",
   "execution_count": 22,
   "metadata": {},
   "outputs": [
    {
     "name": "stdout",
     "output_type": "stream",
     "text": [
      "[[0. 0. 1. 0. 1. 0. 0. 1. 1. 1. 1. 0. 1. 0. 0. 1. 0. 1. 1. 0. 0. 1. 1. 1.\n",
      "  1. 0. 0. 0. 1. 1. 0. 1. 0. 1. 1. 0. 1. 0. 1. 0. 1. 1. 1. 1. 1. 1. 1. 1.\n",
      "  1. 1. 1. 0. 1. 1. 1. 1. 1. 0. 1. 0. 0. 1. 0. 0. 1. 0. 1. 0. 1. 1. 0. 0.\n",
      "  0. 1. 1. 0. 1. 1. 0. 0.]]\n",
      "[[ True  True  True  True  True  True  True  True  True  True  True  True\n",
      "  False  True  True  True  True  True  True  True  True  True  True  True\n",
      "   True  True  True  True  True  True  True  True  True  True  True  True\n",
      "   True  True  True  True  True  True  True  True  True  True  True  True\n",
      "   True  True  True  True  True  True  True  True False  True  True  True\n",
      "   True  True  True  True False  True  True  True  True  True  True  True\n",
      "   True  True  True  True False  True  True  True]]\n",
      "---------------------\n",
      "[[1. 0. 1. 0. 0. 0. 0. 0. 0. 0. 1. 1. 1. 0. 0. 0. 0. 0. 1. 1.]]\n",
      "[[ True  True  True  True  True  True  True  True  True  True  True  True\n",
      "   True  True  True  True  True  True  True  True]]\n"
     ]
    }
   ],
   "source": [
    "#推定\n",
    "pred_train = np.round(model.predict(X_train)) #0.5以上なら1に切り上げ、未満なら0に切り下げ\n",
    "pred_test = np.round(model.predict(X_test))\n",
    "\n",
    "print(pred_train.reshape(1, -1))\n",
    "print((pred_train == y_train).reshape(1, -1))\n",
    "print(\"---------------------\")\n",
    "print(pred_test.reshape(1, -1))\n",
    "print((pred_test == y_test).reshape(1, -1))"
   ]
  },
  {
   "cell_type": "markdown",
   "metadata": {},
   "source": [
    "### 【問題4】Iris（多値分類）をKerasで学習\n",
    "TensorFlowによるIrisデータセットに対する3値分類をKerasに書き換えてください。"
   ]
  },
  {
   "cell_type": "markdown",
   "metadata": {},
   "source": [
    "#### 単純パーセプトロン\n",
    "\n",
    "[入門 Keras (4) 多クラス分類 – Iris データを学習する](https://www.infiniteloop.co.jp/blog/2018/01/learning-keras-04/)"
   ]
  },
  {
   "cell_type": "code",
   "execution_count": 52,
   "metadata": {
    "scrolled": true
   },
   "outputs": [
    {
     "name": "stdout",
     "output_type": "stream",
     "text": [
      "Epoch 1/50\n",
      "120/120 [==============================] - ETA: 1s - loss: 5.3658 - accuracy: 0.30 - 0s 1ms/step - loss: 1.8835 - accuracy: 0.3833\n",
      "Epoch 2/50\n",
      "120/120 [==============================] - ETA: 0s - loss: 0.4185 - accuracy: 1.00 - 0s 87us/step - loss: 1.3109 - accuracy: 0.6000\n",
      "Epoch 3/50\n",
      "120/120 [==============================] - ETA: 0s - loss: 0.7759 - accuracy: 0.60 - 0s 114us/step - loss: 0.7584 - accuracy: 0.6750\n",
      "Epoch 4/50\n",
      "120/120 [==============================] - ETA: 0s - loss: 1.0770 - accuracy: 0.50 - 0s 114us/step - loss: 0.6905 - accuracy: 0.6667\n",
      "Epoch 5/50\n",
      "120/120 [==============================] - ETA: 0s - loss: 0.4933 - accuracy: 0.90 - 0s 112us/step - loss: 0.7553 - accuracy: 0.7000\n",
      "Epoch 6/50\n",
      "120/120 [==============================] - ETA: 0s - loss: 0.8076 - accuracy: 0.50 - 0s 132us/step - loss: 0.7250 - accuracy: 0.6917\n",
      "Epoch 7/50\n",
      "120/120 [==============================] - ETA: 0s - loss: 1.4014 - accuracy: 0.50 - 0s 145us/step - loss: 0.8624 - accuracy: 0.6583\n",
      "Epoch 8/50\n",
      "120/120 [==============================] - ETA: 0s - loss: 0.6684 - accuracy: 0.70 - 0s 128us/step - loss: 0.6123 - accuracy: 0.7833\n",
      "Epoch 9/50\n",
      "120/120 [==============================] - ETA: 0s - loss: 0.4962 - accuracy: 0.70 - 0s 133us/step - loss: 0.7055 - accuracy: 0.7500\n",
      "Epoch 10/50\n",
      "120/120 [==============================] - ETA: 0s - loss: 0.8338 - accuracy: 0.50 - 0s 137us/step - loss: 0.5371 - accuracy: 0.7333\n",
      "Epoch 11/50\n",
      "120/120 [==============================] - ETA: 0s - loss: 0.4176 - accuracy: 0.80 - 0s 155us/step - loss: 0.7310 - accuracy: 0.6750\n",
      "Epoch 12/50\n",
      "120/120 [==============================] - ETA: 0s - loss: 0.2104 - accuracy: 1.00 - 0s 150us/step - loss: 0.7469 - accuracy: 0.7417\n",
      "Epoch 13/50\n",
      "120/120 [==============================] - ETA: 0s - loss: 0.4740 - accuracy: 0.80 - 0s 144us/step - loss: 0.6036 - accuracy: 0.7500\n",
      "Epoch 14/50\n",
      "120/120 [==============================] - ETA: 0s - loss: 0.2678 - accuracy: 0.80 - 0s 138us/step - loss: 0.3135 - accuracy: 0.8917\n",
      "Epoch 15/50\n",
      "120/120 [==============================] - ETA: 0s - loss: 0.5003 - accuracy: 0.80 - 0s 123us/step - loss: 0.4848 - accuracy: 0.7750\n",
      "Epoch 16/50\n",
      "120/120 [==============================] - ETA: 0s - loss: 0.2382 - accuracy: 0.90 - 0s 117us/step - loss: 0.3684 - accuracy: 0.8083\n",
      "Epoch 17/50\n",
      "120/120 [==============================] - ETA: 0s - loss: 0.2674 - accuracy: 1.00 - 0s 120us/step - loss: 0.3423 - accuracy: 0.8667\n",
      "Epoch 18/50\n",
      "120/120 [==============================] - ETA: 0s - loss: 0.3489 - accuracy: 0.80 - 0s 112us/step - loss: 0.3242 - accuracy: 0.8667\n",
      "Epoch 19/50\n",
      "120/120 [==============================] - ETA: 0s - loss: 0.4241 - accuracy: 0.80 - 0s 112us/step - loss: 0.3900 - accuracy: 0.8000\n",
      "Epoch 20/50\n",
      "120/120 [==============================] - ETA: 0s - loss: 0.3419 - accuracy: 0.80 - 0s 109us/step - loss: 0.3070 - accuracy: 0.9000\n",
      "Epoch 21/50\n",
      "120/120 [==============================] - ETA: 0s - loss: 0.2447 - accuracy: 1.00 - 0s 107us/step - loss: 0.3224 - accuracy: 0.8917\n",
      "Epoch 22/50\n",
      "120/120 [==============================] - ETA: 0s - loss: 0.1818 - accuracy: 1.00 - 0s 110us/step - loss: 0.3245 - accuracy: 0.8500\n",
      "Epoch 23/50\n",
      "120/120 [==============================] - ETA: 0s - loss: 0.6702 - accuracy: 0.60 - 0s 113us/step - loss: 0.3123 - accuracy: 0.8833\n",
      "Epoch 24/50\n",
      "120/120 [==============================] - ETA: 0s - loss: 0.2444 - accuracy: 0.90 - 0s 111us/step - loss: 0.3290 - accuracy: 0.8500\n",
      "Epoch 25/50\n",
      "120/120 [==============================] - ETA: 0s - loss: 0.3355 - accuracy: 0.90 - 0s 119us/step - loss: 0.2385 - accuracy: 0.9417\n",
      "Epoch 26/50\n",
      "120/120 [==============================] - ETA: 0s - loss: 0.3048 - accuracy: 0.80 - 0s 117us/step - loss: 0.2120 - accuracy: 0.9500\n",
      "Epoch 27/50\n",
      "120/120 [==============================] - ETA: 0s - loss: 0.2290 - accuracy: 0.80 - 0s 115us/step - loss: 0.2179 - accuracy: 0.9417\n",
      "Epoch 28/50\n",
      "120/120 [==============================] - ETA: 0s - loss: 0.1940 - accuracy: 1.00 - 0s 116us/step - loss: 0.2379 - accuracy: 0.9167\n",
      "Epoch 29/50\n",
      "120/120 [==============================] - ETA: 0s - loss: 0.2100 - accuracy: 1.00 - 0s 115us/step - loss: 0.2349 - accuracy: 0.9417\n",
      "Epoch 30/50\n",
      "120/120 [==============================] - ETA: 0s - loss: 0.3137 - accuracy: 0.80 - 0s 111us/step - loss: 0.2251 - accuracy: 0.9167\n",
      "Epoch 31/50\n",
      "120/120 [==============================] - ETA: 0s - loss: 0.1120 - accuracy: 1.00 - 0s 112us/step - loss: 0.1971 - accuracy: 0.9667\n",
      "Epoch 32/50\n",
      "120/120 [==============================] - ETA: 0s - loss: 0.1465 - accuracy: 1.00 - 0s 111us/step - loss: 0.4122 - accuracy: 0.8333\n",
      "Epoch 33/50\n",
      "120/120 [==============================] - ETA: 0s - loss: 0.1410 - accuracy: 1.00 - 0s 114us/step - loss: 0.1913 - accuracy: 0.9417\n",
      "Epoch 34/50\n",
      "120/120 [==============================] - ETA: 0s - loss: 0.1250 - accuracy: 1.00 - 0s 114us/step - loss: 0.2030 - accuracy: 0.9417\n",
      "Epoch 35/50\n",
      "120/120 [==============================] - ETA: 0s - loss: 0.1206 - accuracy: 1.00 - 0s 115us/step - loss: 0.1894 - accuracy: 0.9500\n",
      "Epoch 36/50\n",
      "120/120 [==============================] - ETA: 0s - loss: 0.0830 - accuracy: 1.00 - 0s 106us/step - loss: 0.2221 - accuracy: 0.9250\n",
      "Epoch 37/50\n",
      "120/120 [==============================] - ETA: 0s - loss: 0.3841 - accuracy: 0.80 - 0s 125us/step - loss: 0.2127 - accuracy: 0.9417\n",
      "Epoch 38/50\n",
      "120/120 [==============================] - ETA: 0s - loss: 0.4925 - accuracy: 0.80 - 0s 119us/step - loss: 0.1937 - accuracy: 0.9500\n",
      "Epoch 39/50\n",
      "120/120 [==============================] - ETA: 0s - loss: 0.1562 - accuracy: 1.00 - 0s 112us/step - loss: 0.1720 - accuracy: 0.9667\n",
      "Epoch 40/50\n",
      "120/120 [==============================] - ETA: 0s - loss: 0.1673 - accuracy: 1.00 - 0s 111us/step - loss: 0.2335 - accuracy: 0.9000\n",
      "Epoch 41/50\n",
      "120/120 [==============================] - ETA: 0s - loss: 0.5069 - accuracy: 0.60 - 0s 108us/step - loss: 0.2223 - accuracy: 0.9167\n",
      "Epoch 42/50\n",
      "120/120 [==============================] - ETA: 0s - loss: 0.1278 - accuracy: 1.00 - 0s 107us/step - loss: 0.2371 - accuracy: 0.9083\n",
      "Epoch 43/50\n",
      "120/120 [==============================] - ETA: 0s - loss: 0.2743 - accuracy: 0.90 - 0s 106us/step - loss: 0.2364 - accuracy: 0.9167\n",
      "Epoch 44/50\n",
      "120/120 [==============================] - ETA: 0s - loss: 0.2140 - accuracy: 0.90 - 0s 106us/step - loss: 0.2529 - accuracy: 0.8917\n",
      "Epoch 45/50\n",
      "120/120 [==============================] - ETA: 0s - loss: 0.0801 - accuracy: 1.00 - 0s 112us/step - loss: 0.2274 - accuracy: 0.9083\n",
      "Epoch 46/50\n",
      "120/120 [==============================] - ETA: 0s - loss: 0.2489 - accuracy: 0.90 - 0s 118us/step - loss: 0.2022 - accuracy: 0.9333\n",
      "Epoch 47/50\n",
      "120/120 [==============================] - ETA: 0s - loss: 0.1478 - accuracy: 1.00 - 0s 109us/step - loss: 0.1715 - accuracy: 0.9583\n",
      "Epoch 48/50\n",
      "120/120 [==============================] - ETA: 0s - loss: 0.1029 - accuracy: 1.00 - 0s 114us/step - loss: 0.2229 - accuracy: 0.9250\n",
      "Epoch 49/50\n",
      "120/120 [==============================] - ETA: 0s - loss: 0.0613 - accuracy: 1.00 - 0s 111us/step - loss: 0.1672 - accuracy: 0.9500\n",
      "Epoch 50/50\n",
      "120/120 [==============================] - ETA: 0s - loss: 0.2089 - accuracy: 1.00 - 0s 106us/step - loss: 0.2131 - accuracy: 0.9333\n"
     ]
    },
    {
     "data": {
      "text/plain": [
       "<keras.callbacks.callbacks.History at 0x7fe557b07630>"
      ]
     },
     "execution_count": 52,
     "metadata": {},
     "output_type": "execute_result"
    }
   ],
   "source": [
    "# データフレームから条件抽出\n",
    "y = df[\"Species\"]\n",
    "X = df.loc[:, [\"SepalLengthCm\", \"SepalWidthCm\", \"PetalLengthCm\", \"PetalWidthCm\"]]\n",
    "y = np.array(y)\n",
    "X = np.array(X)\n",
    "# ラベルを数値に変換\n",
    "y[y=='Iris-setosa'] = 0\n",
    "y[y=='Iris-versicolor'] = 1\n",
    "y[y=='Iris-virginica'] = 2\n",
    "\n",
    "#kerasのto_categorical関数でone-hot-encodeing\n",
    "from keras.utils import np_utils\n",
    "y = np_utils.to_categorical(y)\n",
    "\n",
    "#データ分割\n",
    "X_train, X_test, y_train, y_test = train_test_split(X, y, test_size=0.2, random_state=0)\n",
    "\n",
    "#学習\n",
    "from keras.models import Sequential\n",
    "from keras.layers import Dense, Activation\n",
    "from keras.optimizers import SGD\n",
    "from keras.optimizers import Adam\n",
    "model = Sequential()\n",
    "model.add(Dense(input_dim=4, units=3)) # 入力が4種の特徴、3つに分離\n",
    "model.add(Activation('softmax'))\n",
    "#コンパイル時に損失関数と最適化手法、評価関数を指定\n",
    "model.compile(loss='categorical_crossentropy', optimizer=SGD(lr=0.1), metrics=['accuracy'])\n",
    "model.fit(X_train, y_train, epochs=50, batch_size=10) # エポック50, ミニバッチ 10"
   ]
  },
  {
   "cell_type": "code",
   "execution_count": 53,
   "metadata": {},
   "outputs": [
    {
     "name": "stdout",
     "output_type": "stream",
     "text": [
      "[ True  True  True  True  True  True  True False False  True  True  True\n",
      " False False False  True False False  True  True  True False  True  True\n",
      "  True  True  True  True  True  True]\n",
      "----------------------------\n",
      "Train loss: 0.3027863085269928\n",
      "Train accuracy: 0.8500000238418579\n",
      "----------------------------\n",
      "Test loss: 0.40847671031951904\n",
      "Test accuracy: 0.7333333492279053\n"
     ]
    }
   ],
   "source": [
    "#推定\n",
    "y_pred = model.predict_classes(X_test, batch_size=10) # ミニバッチは訓練時と同じく 10\n",
    "\n",
    "#評価\n",
    "_, y_test_label = np.where(y_test > 0) #onr-hot表現をラベルに\n",
    "print(y_pred == y_test_label)\n",
    "print(\"----------------------------\")\n",
    "\n",
    "train_score = model.evaluate(X_train, y_train, verbose=0)\n",
    "print('Train loss:', train_score[0])\n",
    "print('Train accuracy:', train_score[1])\n",
    "print(\"----------------------------\")\n",
    "\n",
    "test_score = model.evaluate(X_test, y_test, verbose=0)\n",
    "print('Test loss:', test_score[0])\n",
    "print('Test accuracy:', test_score[1])"
   ]
  },
  {
   "cell_type": "markdown",
   "metadata": {},
   "source": [
    "#### 3層ニューラルネットワーク\n",
    "\n",
    "[KerasでIrisのデータセットを分類し、モデルを保存する](https://snova301.hatenablog.com/entry/2018/10/29/175028)"
   ]
  },
  {
   "cell_type": "code",
   "execution_count": 54,
   "metadata": {},
   "outputs": [
    {
     "name": "stderr",
     "output_type": "stream",
     "text": [
      "/Users/itonaoki/.pyenv/versions/anaconda3-5.3.1/lib/python3.7/site-packages/ipykernel_launcher.py:9: UserWarning: Update your `Dense` call to the Keras 2 API: `Dense(input_dim=4, activation=\"relu\", units=50, use_bias=True)`\n",
      "  if __name__ == '__main__':\n",
      "/Users/itonaoki/.pyenv/versions/anaconda3-5.3.1/lib/python3.7/site-packages/ipykernel_launcher.py:10: UserWarning: Update your `Dense` call to the Keras 2 API: `Dense(input_dim=50, activation=\"relu\", units=100, use_bias=True)`\n",
      "  # Remove the CWD from sys.path while we load stuff.\n",
      "/Users/itonaoki/.pyenv/versions/anaconda3-5.3.1/lib/python3.7/site-packages/ipykernel_launcher.py:11: UserWarning: Update your `Dense` call to the Keras 2 API: `Dense(input_dim=100, activation=\"softmax\", units=3, use_bias=True)`\n",
      "  # This is added back by InteractiveShellApp.init_path()\n"
     ]
    },
    {
     "name": "stdout",
     "output_type": "stream",
     "text": [
      "Train on 120 samples, validate on 30 samples\n",
      "Epoch 1/100\n",
      "120/120 [==============================] - ETA: 1s - loss: 1.4394 - accuracy: 0.18 - 1s 4ms/step - loss: 1.2212 - accuracy: 0.3167 - val_loss: 1.0925 - val_accuracy: 0.2000\n",
      "Epoch 2/100\n",
      "120/120 [==============================] - ETA: 0s - loss: 1.0436 - accuracy: 0.40 - 0s 88us/step - loss: 1.0075 - accuracy: 0.3833 - val_loss: 1.0799 - val_accuracy: 0.2000\n",
      "Epoch 3/100\n",
      "120/120 [==============================] - ETA: 0s - loss: 1.0921 - accuracy: 0.15 - 0s 102us/step - loss: 0.9332 - accuracy: 0.5583 - val_loss: 1.0278 - val_accuracy: 0.5667\n",
      "Epoch 4/100\n",
      "120/120 [==============================] - ETA: 0s - loss: 0.9017 - accuracy: 0.68 - 0s 108us/step - loss: 0.8715 - accuracy: 0.6917 - val_loss: 0.9386 - val_accuracy: 0.5667\n",
      "Epoch 5/100\n",
      "120/120 [==============================] - ETA: 0s - loss: 0.7387 - accuracy: 0.84 - 0s 110us/step - loss: 0.8017 - accuracy: 0.6917 - val_loss: 0.8410 - val_accuracy: 0.5667\n",
      "Epoch 6/100\n",
      "120/120 [==============================] - ETA: 0s - loss: 0.7404 - accuracy: 0.71 - 0s 122us/step - loss: 0.7302 - accuracy: 0.6917 - val_loss: 0.7410 - val_accuracy: 0.5667\n",
      "Epoch 7/100\n",
      "120/120 [==============================] - ETA: 0s - loss: 0.6821 - accuracy: 0.71 - 0s 117us/step - loss: 0.6700 - accuracy: 0.7333 - val_loss: 0.6704 - val_accuracy: 0.6000\n",
      "Epoch 8/100\n",
      "120/120 [==============================] - ETA: 0s - loss: 0.6798 - accuracy: 0.68 - 0s 128us/step - loss: 0.6186 - accuracy: 0.8333 - val_loss: 0.6239 - val_accuracy: 0.6000\n",
      "Epoch 9/100\n",
      "120/120 [==============================] - ETA: 0s - loss: 0.5958 - accuracy: 0.71 - 0s 120us/step - loss: 0.5714 - accuracy: 0.7833 - val_loss: 0.5895 - val_accuracy: 0.6000\n",
      "Epoch 10/100\n",
      "120/120 [==============================] - ETA: 0s - loss: 0.5975 - accuracy: 0.68 - 0s 121us/step - loss: 0.5296 - accuracy: 0.7250 - val_loss: 0.5727 - val_accuracy: 0.5667\n",
      "Epoch 11/100\n",
      "120/120 [==============================] - ETA: 0s - loss: 0.5209 - accuracy: 0.68 - 0s 127us/step - loss: 0.4996 - accuracy: 0.7000 - val_loss: 0.5417 - val_accuracy: 0.5667\n",
      "Epoch 12/100\n",
      "120/120 [==============================] - ETA: 0s - loss: 0.4617 - accuracy: 0.75 - 0s 126us/step - loss: 0.4713 - accuracy: 0.7500 - val_loss: 0.4880 - val_accuracy: 0.7000\n",
      "Epoch 13/100\n",
      "120/120 [==============================] - ETA: 0s - loss: 0.4188 - accuracy: 0.90 - 0s 123us/step - loss: 0.4457 - accuracy: 0.9000 - val_loss: 0.4506 - val_accuracy: 0.8000\n",
      "Epoch 14/100\n",
      "120/120 [==============================] - ETA: 0s - loss: 0.4120 - accuracy: 0.93 - 0s 116us/step - loss: 0.4256 - accuracy: 0.9333 - val_loss: 0.4299 - val_accuracy: 0.8000\n",
      "Epoch 15/100\n",
      "120/120 [==============================] - ETA: 0s - loss: 0.3559 - accuracy: 0.93 - 0s 120us/step - loss: 0.4118 - accuracy: 0.8500 - val_loss: 0.4438 - val_accuracy: 0.7000\n",
      "Epoch 16/100\n",
      "120/120 [==============================] - ETA: 0s - loss: 0.3591 - accuracy: 0.90 - 0s 115us/step - loss: 0.3917 - accuracy: 0.8500 - val_loss: 0.4121 - val_accuracy: 0.7667\n",
      "Epoch 17/100\n",
      "120/120 [==============================] - ETA: 0s - loss: 0.3283 - accuracy: 0.93 - 0s 107us/step - loss: 0.3741 - accuracy: 0.9333 - val_loss: 0.3676 - val_accuracy: 1.0000\n",
      "Epoch 18/100\n",
      "120/120 [==============================] - ETA: 0s - loss: 0.3830 - accuracy: 0.96 - 0s 117us/step - loss: 0.3639 - accuracy: 0.9500 - val_loss: 0.3529 - val_accuracy: 1.0000\n",
      "Epoch 19/100\n",
      "120/120 [==============================] - ETA: 0s - loss: 0.3758 - accuracy: 0.93 - 0s 128us/step - loss: 0.3505 - accuracy: 0.9500 - val_loss: 0.3492 - val_accuracy: 1.0000\n",
      "Epoch 20/100\n",
      "120/120 [==============================] - ETA: 0s - loss: 0.3852 - accuracy: 0.93 - 0s 101us/step - loss: 0.3364 - accuracy: 0.9417 - val_loss: 0.3512 - val_accuracy: 0.9333\n",
      "Epoch 21/100\n",
      "120/120 [==============================] - ETA: 0s - loss: 0.3220 - accuracy: 0.93 - 0s 117us/step - loss: 0.3309 - accuracy: 0.9167 - val_loss: 0.3556 - val_accuracy: 0.8000\n",
      "Epoch 22/100\n",
      "120/120 [==============================] - ETA: 0s - loss: 0.2595 - accuracy: 1.00 - 0s 115us/step - loss: 0.3165 - accuracy: 0.9250 - val_loss: 0.3119 - val_accuracy: 1.0000\n",
      "Epoch 23/100\n",
      "120/120 [==============================] - ETA: 0s - loss: 0.3004 - accuracy: 0.90 - 0s 110us/step - loss: 0.3111 - accuracy: 0.9583 - val_loss: 0.2834 - val_accuracy: 1.0000\n",
      "Epoch 24/100\n",
      "120/120 [==============================] - ETA: 0s - loss: 0.3125 - accuracy: 0.93 - 0s 120us/step - loss: 0.2989 - accuracy: 0.9750 - val_loss: 0.2902 - val_accuracy: 1.0000\n",
      "Epoch 25/100\n",
      "120/120 [==============================] - ETA: 0s - loss: 0.2717 - accuracy: 0.96 - 0s 103us/step - loss: 0.2848 - accuracy: 0.9500 - val_loss: 0.3094 - val_accuracy: 0.9333\n",
      "Epoch 26/100\n",
      "120/120 [==============================] - ETA: 0s - loss: 0.3002 - accuracy: 0.90 - 0s 101us/step - loss: 0.2782 - accuracy: 0.9333 - val_loss: 0.2874 - val_accuracy: 1.0000\n",
      "Epoch 27/100\n",
      "120/120 [==============================] - ETA: 0s - loss: 0.2169 - accuracy: 0.96 - 0s 116us/step - loss: 0.2676 - accuracy: 0.9583 - val_loss: 0.2477 - val_accuracy: 1.0000\n",
      "Epoch 28/100\n",
      "120/120 [==============================] - ETA: 0s - loss: 0.2850 - accuracy: 1.00 - 0s 101us/step - loss: 0.2579 - accuracy: 0.9667 - val_loss: 0.2500 - val_accuracy: 1.0000\n",
      "Epoch 29/100\n",
      "120/120 [==============================] - ETA: 0s - loss: 0.2752 - accuracy: 0.93 - 0s 120us/step - loss: 0.2466 - accuracy: 0.9583 - val_loss: 0.2413 - val_accuracy: 1.0000\n",
      "Epoch 30/100\n",
      "120/120 [==============================] - ETA: 0s - loss: 0.2374 - accuracy: 0.93 - 0s 129us/step - loss: 0.2393 - accuracy: 0.9667 - val_loss: 0.2347 - val_accuracy: 1.0000\n",
      "Epoch 31/100\n",
      "120/120 [==============================] - ETA: 0s - loss: 0.2332 - accuracy: 0.93 - 0s 117us/step - loss: 0.2312 - accuracy: 0.9583 - val_loss: 0.2207 - val_accuracy: 1.0000\n",
      "Epoch 32/100\n",
      "120/120 [==============================] - ETA: 0s - loss: 0.1800 - accuracy: 0.96 - 0s 123us/step - loss: 0.2246 - accuracy: 0.9583 - val_loss: 0.2165 - val_accuracy: 1.0000\n",
      "Epoch 33/100\n",
      "120/120 [==============================] - ETA: 0s - loss: 0.2344 - accuracy: 0.93 - 0s 109us/step - loss: 0.2183 - accuracy: 0.9750 - val_loss: 0.1925 - val_accuracy: 1.0000\n",
      "Epoch 34/100\n",
      "120/120 [==============================] - ETA: 0s - loss: 0.2048 - accuracy: 0.96 - 0s 113us/step - loss: 0.2119 - accuracy: 0.9667 - val_loss: 0.2009 - val_accuracy: 1.0000\n",
      "Epoch 35/100\n",
      "120/120 [==============================] - ETA: 0s - loss: 0.2722 - accuracy: 0.96 - 0s 110us/step - loss: 0.2032 - accuracy: 0.9667 - val_loss: 0.1844 - val_accuracy: 1.0000\n",
      "Epoch 36/100\n",
      "120/120 [==============================] - ETA: 0s - loss: 0.1812 - accuracy: 0.96 - 0s 112us/step - loss: 0.1984 - accuracy: 0.9750 - val_loss: 0.1785 - val_accuracy: 1.0000\n",
      "Epoch 37/100\n",
      "120/120 [==============================] - ETA: 0s - loss: 0.1420 - accuracy: 1.00 - 0s 110us/step - loss: 0.1910 - accuracy: 0.9667 - val_loss: 0.1740 - val_accuracy: 1.0000\n",
      "Epoch 38/100\n",
      "120/120 [==============================] - ETA: 0s - loss: 0.1852 - accuracy: 0.93 - 0s 108us/step - loss: 0.1858 - accuracy: 0.9750 - val_loss: 0.1638 - val_accuracy: 1.0000\n",
      "Epoch 39/100\n",
      "120/120 [==============================] - ETA: 0s - loss: 0.2164 - accuracy: 0.96 - 0s 104us/step - loss: 0.1824 - accuracy: 0.9667 - val_loss: 0.1612 - val_accuracy: 1.0000\n",
      "Epoch 40/100\n",
      "120/120 [==============================] - ETA: 0s - loss: 0.1510 - accuracy: 1.00 - 0s 106us/step - loss: 0.1755 - accuracy: 0.9667 - val_loss: 0.1528 - val_accuracy: 1.0000\n",
      "Epoch 41/100\n",
      "120/120 [==============================] - ETA: 0s - loss: 0.2484 - accuracy: 0.93 - 0s 108us/step - loss: 0.1731 - accuracy: 0.9750 - val_loss: 0.1425 - val_accuracy: 1.0000\n",
      "Epoch 42/100\n",
      "120/120 [==============================] - ETA: 0s - loss: 0.1340 - accuracy: 0.96 - 0s 110us/step - loss: 0.1681 - accuracy: 0.9750 - val_loss: 0.1363 - val_accuracy: 1.0000\n",
      "Epoch 43/100\n",
      "120/120 [==============================] - ETA: 0s - loss: 0.1582 - accuracy: 0.96 - 0s 106us/step - loss: 0.1633 - accuracy: 0.9667 - val_loss: 0.1539 - val_accuracy: 1.0000\n",
      "Epoch 44/100\n"
     ]
    },
    {
     "name": "stdout",
     "output_type": "stream",
     "text": [
      "120/120 [==============================] - ETA: 0s - loss: 0.1704 - accuracy: 0.96 - 0s 109us/step - loss: 0.1609 - accuracy: 0.9667 - val_loss: 0.1277 - val_accuracy: 1.0000\n",
      "Epoch 45/100\n",
      "120/120 [==============================] - ETA: 0s - loss: 0.2393 - accuracy: 0.93 - 0s 105us/step - loss: 0.1545 - accuracy: 0.9750 - val_loss: 0.1240 - val_accuracy: 1.0000\n",
      "Epoch 46/100\n",
      "120/120 [==============================] - ETA: 0s - loss: 0.1374 - accuracy: 0.96 - 0s 109us/step - loss: 0.1500 - accuracy: 0.9750 - val_loss: 0.1256 - val_accuracy: 1.0000\n",
      "Epoch 47/100\n",
      "120/120 [==============================] - ETA: 0s - loss: 0.1182 - accuracy: 0.96 - 0s 109us/step - loss: 0.1484 - accuracy: 0.9667 - val_loss: 0.1195 - val_accuracy: 1.0000\n",
      "Epoch 48/100\n",
      "120/120 [==============================] - ETA: 0s - loss: 0.1667 - accuracy: 0.96 - 0s 98us/step - loss: 0.1436 - accuracy: 0.9750 - val_loss: 0.1177 - val_accuracy: 1.0000\n",
      "Epoch 49/100\n",
      "120/120 [==============================] - ETA: 0s - loss: 0.1074 - accuracy: 0.96 - 0s 100us/step - loss: 0.1413 - accuracy: 0.9667 - val_loss: 0.1171 - val_accuracy: 1.0000\n",
      "Epoch 50/100\n",
      "120/120 [==============================] - ETA: 0s - loss: 0.1308 - accuracy: 0.96 - 0s 93us/step - loss: 0.1375 - accuracy: 0.9667 - val_loss: 0.1034 - val_accuracy: 1.0000\n",
      "Epoch 51/100\n",
      "120/120 [==============================] - ETA: 0s - loss: 0.1811 - accuracy: 0.96 - 0s 92us/step - loss: 0.1356 - accuracy: 0.9750 - val_loss: 0.0973 - val_accuracy: 1.0000\n",
      "Epoch 52/100\n",
      "120/120 [==============================] - ETA: 0s - loss: 0.1540 - accuracy: 0.96 - 0s 93us/step - loss: 0.1346 - accuracy: 0.9750 - val_loss: 0.1098 - val_accuracy: 1.0000\n",
      "Epoch 53/100\n",
      "120/120 [==============================] - ETA: 0s - loss: 0.1034 - accuracy: 0.96 - 0s 96us/step - loss: 0.1298 - accuracy: 0.9667 - val_loss: 0.0957 - val_accuracy: 1.0000\n",
      "Epoch 54/100\n",
      "120/120 [==============================] - ETA: 0s - loss: 0.1149 - accuracy: 0.96 - 0s 98us/step - loss: 0.1272 - accuracy: 0.9750 - val_loss: 0.0883 - val_accuracy: 1.0000\n",
      "Epoch 55/100\n",
      "120/120 [==============================] - ETA: 0s - loss: 0.1183 - accuracy: 0.93 - 0s 100us/step - loss: 0.1296 - accuracy: 0.9750 - val_loss: 0.0869 - val_accuracy: 1.0000\n",
      "Epoch 56/100\n",
      "120/120 [==============================] - ETA: 0s - loss: 0.0967 - accuracy: 1.00 - 0s 101us/step - loss: 0.1237 - accuracy: 0.9667 - val_loss: 0.1017 - val_accuracy: 1.0000\n",
      "Epoch 57/100\n",
      "120/120 [==============================] - ETA: 0s - loss: 0.1352 - accuracy: 0.96 - 0s 94us/step - loss: 0.1238 - accuracy: 0.9750 - val_loss: 0.0861 - val_accuracy: 1.0000\n",
      "Epoch 58/100\n",
      "120/120 [==============================] - ETA: 0s - loss: 0.1542 - accuracy: 0.96 - 0s 89us/step - loss: 0.1224 - accuracy: 0.9667 - val_loss: 0.0851 - val_accuracy: 1.0000\n",
      "Epoch 59/100\n",
      "120/120 [==============================] - ETA: 0s - loss: 0.1010 - accuracy: 1.00 - 0s 88us/step - loss: 0.1160 - accuracy: 0.9750 - val_loss: 0.0754 - val_accuracy: 1.0000\n",
      "Epoch 60/100\n",
      "120/120 [==============================] - ETA: 0s - loss: 0.1090 - accuracy: 1.00 - 0s 85us/step - loss: 0.1170 - accuracy: 0.9750 - val_loss: 0.0715 - val_accuracy: 1.0000\n",
      "Epoch 61/100\n",
      "120/120 [==============================] - ETA: 0s - loss: 0.1042 - accuracy: 0.96 - 0s 91us/step - loss: 0.1178 - accuracy: 0.9583 - val_loss: 0.0707 - val_accuracy: 1.0000\n",
      "Epoch 62/100\n",
      "120/120 [==============================] - ETA: 0s - loss: 0.1075 - accuracy: 1.00 - 0s 90us/step - loss: 0.1148 - accuracy: 0.9750 - val_loss: 0.0878 - val_accuracy: 1.0000\n",
      "Epoch 63/100\n",
      "120/120 [==============================] - ETA: 0s - loss: 0.0979 - accuracy: 0.96 - 0s 93us/step - loss: 0.1127 - accuracy: 0.9667 - val_loss: 0.0720 - val_accuracy: 1.0000\n",
      "Epoch 64/100\n",
      "120/120 [==============================] - ETA: 0s - loss: 0.1292 - accuracy: 0.93 - 0s 93us/step - loss: 0.1106 - accuracy: 0.9750 - val_loss: 0.0663 - val_accuracy: 1.0000\n",
      "Epoch 65/100\n",
      "120/120 [==============================] - ETA: 0s - loss: 0.0914 - accuracy: 0.96 - 0s 91us/step - loss: 0.1079 - accuracy: 0.9750 - val_loss: 0.0676 - val_accuracy: 1.0000\n",
      "Epoch 66/100\n",
      "120/120 [==============================] - ETA: 0s - loss: 0.0751 - accuracy: 1.00 - 0s 89us/step - loss: 0.1115 - accuracy: 0.9667 - val_loss: 0.0730 - val_accuracy: 1.0000\n",
      "Epoch 67/100\n",
      "120/120 [==============================] - ETA: 0s - loss: 0.1114 - accuracy: 0.96 - 0s 91us/step - loss: 0.1077 - accuracy: 0.9750 - val_loss: 0.0599 - val_accuracy: 1.0000\n",
      "Epoch 68/100\n",
      "120/120 [==============================] - ETA: 0s - loss: 0.1330 - accuracy: 0.96 - 0s 87us/step - loss: 0.1100 - accuracy: 0.9667 - val_loss: 0.0663 - val_accuracy: 1.0000\n",
      "Epoch 69/100\n",
      "120/120 [==============================] - ETA: 0s - loss: 0.0854 - accuracy: 1.00 - 0s 94us/step - loss: 0.1038 - accuracy: 0.9667 - val_loss: 0.0635 - val_accuracy: 1.0000\n",
      "Epoch 70/100\n",
      "120/120 [==============================] - ETA: 0s - loss: 0.1464 - accuracy: 0.93 - 0s 91us/step - loss: 0.1051 - accuracy: 0.9667 - val_loss: 0.0564 - val_accuracy: 1.0000\n",
      "Epoch 71/100\n",
      "120/120 [==============================] - ETA: 0s - loss: 0.0911 - accuracy: 1.00 - 0s 94us/step - loss: 0.1023 - accuracy: 0.9667 - val_loss: 0.0601 - val_accuracy: 1.0000\n",
      "Epoch 72/100\n",
      "120/120 [==============================] - ETA: 0s - loss: 0.1615 - accuracy: 0.96 - 0s 93us/step - loss: 0.1006 - accuracy: 0.9750 - val_loss: 0.0704 - val_accuracy: 1.0000\n",
      "Epoch 73/100\n",
      "120/120 [==============================] - ETA: 0s - loss: 0.0445 - accuracy: 1.00 - 0s 97us/step - loss: 0.1044 - accuracy: 0.9667 - val_loss: 0.0607 - val_accuracy: 1.0000\n",
      "Epoch 74/100\n",
      "120/120 [==============================] - ETA: 0s - loss: 0.0879 - accuracy: 0.96 - 0s 94us/step - loss: 0.0978 - accuracy: 0.9667 - val_loss: 0.0516 - val_accuracy: 1.0000\n",
      "Epoch 75/100\n",
      "120/120 [==============================] - ETA: 0s - loss: 0.1049 - accuracy: 0.93 - 0s 91us/step - loss: 0.0993 - accuracy: 0.9667 - val_loss: 0.0537 - val_accuracy: 1.0000\n",
      "Epoch 76/100\n",
      "120/120 [==============================] - ETA: 0s - loss: 0.1059 - accuracy: 0.96 - 0s 88us/step - loss: 0.0964 - accuracy: 0.9750 - val_loss: 0.0578 - val_accuracy: 1.0000\n",
      "Epoch 77/100\n",
      "120/120 [==============================] - ETA: 0s - loss: 0.0865 - accuracy: 0.96 - 0s 91us/step - loss: 0.0982 - accuracy: 0.9667 - val_loss: 0.0518 - val_accuracy: 1.0000\n",
      "Epoch 78/100\n",
      "120/120 [==============================] - ETA: 0s - loss: 0.0862 - accuracy: 1.00 - 0s 89us/step - loss: 0.0963 - accuracy: 0.9750 - val_loss: 0.0555 - val_accuracy: 1.0000\n",
      "Epoch 79/100\n",
      "120/120 [==============================] - ETA: 0s - loss: 0.0512 - accuracy: 1.00 - 0s 93us/step - loss: 0.0941 - accuracy: 0.9667 - val_loss: 0.0489 - val_accuracy: 1.0000\n",
      "Epoch 80/100\n",
      "120/120 [==============================] - ETA: 0s - loss: 0.0667 - accuracy: 1.00 - 0s 93us/step - loss: 0.0947 - accuracy: 0.9750 - val_loss: 0.0480 - val_accuracy: 1.0000\n",
      "Epoch 81/100\n",
      "120/120 [==============================] - ETA: 0s - loss: 0.0664 - accuracy: 1.00 - 0s 93us/step - loss: 0.0931 - accuracy: 0.9750 - val_loss: 0.0466 - val_accuracy: 1.0000\n",
      "Epoch 82/100\n",
      "120/120 [==============================] - ETA: 0s - loss: 0.0489 - accuracy: 1.00 - 0s 91us/step - loss: 0.0927 - accuracy: 0.9750 - val_loss: 0.0474 - val_accuracy: 1.0000\n",
      "Epoch 83/100\n",
      "120/120 [==============================] - ETA: 0s - loss: 0.0713 - accuracy: 1.00 - 0s 136us/step - loss: 0.0960 - accuracy: 0.9750 - val_loss: 0.0502 - val_accuracy: 1.0000\n",
      "Epoch 84/100\n",
      "120/120 [==============================] - ETA: 0s - loss: 0.0941 - accuracy: 0.96 - 0s 173us/step - loss: 0.0897 - accuracy: 0.9750 - val_loss: 0.0444 - val_accuracy: 1.0000\n",
      "Epoch 85/100\n",
      "120/120 [==============================] - ETA: 0s - loss: 0.0936 - accuracy: 0.96 - 0s 132us/step - loss: 0.0977 - accuracy: 0.9583 - val_loss: 0.0462 - val_accuracy: 1.0000\n",
      "Epoch 86/100\n",
      "120/120 [==============================] - ETA: 0s - loss: 0.0711 - accuracy: 1.00 - 0s 118us/step - loss: 0.0901 - accuracy: 0.9667 - val_loss: 0.0426 - val_accuracy: 1.0000\n",
      "Epoch 87/100\n",
      "120/120 [==============================] - ETA: 0s - loss: 0.0533 - accuracy: 1.00 - 0s 107us/step - loss: 0.0925 - accuracy: 0.9667 - val_loss: 0.0468 - val_accuracy: 1.0000\n"
     ]
    },
    {
     "name": "stdout",
     "output_type": "stream",
     "text": [
      "Epoch 88/100\n",
      "120/120 [==============================] - ETA: 0s - loss: 0.1751 - accuracy: 0.90 - 0s 117us/step - loss: 0.0901 - accuracy: 0.9667 - val_loss: 0.0437 - val_accuracy: 1.0000\n",
      "Epoch 89/100\n",
      "120/120 [==============================] - ETA: 0s - loss: 0.0978 - accuracy: 1.00 - 0s 111us/step - loss: 0.0899 - accuracy: 0.9750 - val_loss: 0.0452 - val_accuracy: 1.0000\n",
      "Epoch 90/100\n",
      "120/120 [==============================] - ETA: 0s - loss: 0.0749 - accuracy: 0.96 - 0s 100us/step - loss: 0.0917 - accuracy: 0.9667 - val_loss: 0.0410 - val_accuracy: 1.0000\n",
      "Epoch 91/100\n",
      "120/120 [==============================] - ETA: 0s - loss: 0.0976 - accuracy: 0.93 - 0s 102us/step - loss: 0.0872 - accuracy: 0.9667 - val_loss: 0.0423 - val_accuracy: 1.0000\n",
      "Epoch 92/100\n",
      "120/120 [==============================] - ETA: 0s - loss: 0.0544 - accuracy: 1.00 - 0s 97us/step - loss: 0.0913 - accuracy: 0.9667 - val_loss: 0.0482 - val_accuracy: 1.0000\n",
      "Epoch 93/100\n",
      "120/120 [==============================] - ETA: 0s - loss: 0.1478 - accuracy: 0.93 - 0s 91us/step - loss: 0.0999 - accuracy: 0.9667 - val_loss: 0.0391 - val_accuracy: 1.0000\n",
      "Epoch 94/100\n",
      "120/120 [==============================] - ETA: 0s - loss: 0.1042 - accuracy: 0.96 - 0s 94us/step - loss: 0.0856 - accuracy: 0.9750 - val_loss: 0.0427 - val_accuracy: 1.0000\n",
      "Epoch 95/100\n",
      "120/120 [==============================] - ETA: 0s - loss: 0.1344 - accuracy: 0.93 - 0s 91us/step - loss: 0.0865 - accuracy: 0.9667 - val_loss: 0.0451 - val_accuracy: 1.0000\n",
      "Epoch 96/100\n",
      "120/120 [==============================] - ETA: 0s - loss: 0.0703 - accuracy: 0.96 - 0s 89us/step - loss: 0.0859 - accuracy: 0.9667 - val_loss: 0.0393 - val_accuracy: 1.0000\n",
      "Epoch 97/100\n",
      "120/120 [==============================] - ETA: 0s - loss: 0.1634 - accuracy: 0.96 - 0s 89us/step - loss: 0.0854 - accuracy: 0.9833 - val_loss: 0.0375 - val_accuracy: 1.0000\n",
      "Epoch 98/100\n",
      "120/120 [==============================] - ETA: 0s - loss: 0.0712 - accuracy: 1.00 - 0s 87us/step - loss: 0.0878 - accuracy: 0.9750 - val_loss: 0.0379 - val_accuracy: 1.0000\n",
      "Epoch 99/100\n",
      "120/120 [==============================] - ETA: 0s - loss: 0.1128 - accuracy: 0.96 - 0s 92us/step - loss: 0.0839 - accuracy: 0.9667 - val_loss: 0.0411 - val_accuracy: 1.0000\n",
      "Epoch 100/100\n",
      "120/120 [==============================] - ETA: 0s - loss: 0.1093 - accuracy: 0.93 - 0s 93us/step - loss: 0.0848 - accuracy: 0.9667 - val_loss: 0.0381 - val_accuracy: 1.0000\n"
     ]
    }
   ],
   "source": [
    "from keras.models import Sequential\n",
    "from keras.layers.core import Dense\n",
    "from keras.utils import to_categorical\n",
    "from keras.optimizers import Adam\n",
    "from keras.callbacks import CSVLogger\n",
    "\n",
    "#学習\n",
    "model = Sequential()\n",
    "model.add(Dense(input_dim=4, output_dim=50, bias=True, activation='relu'))\n",
    "model.add(Dense(input_dim=50, output_dim=100, bias=True, activation='relu'))\n",
    "model.add(Dense(input_dim=100, output_dim=3, bias=True, activation='softmax'))\n",
    "model.compile(loss='categorical_crossentropy', optimizer=Adam(), metrics=['accuracy'])\n",
    "csv_logger = CSVLogger('log.csv', separator=',', append=False)\n",
    "history = model.fit(X_train, y_train,\n",
    "                    batch_size=32, epochs=100,\n",
    "                    validation_data=(X_test, y_test)) #callbacks=[csv_logger]を追加でlogをcsvで保存可能"
   ]
  },
  {
   "cell_type": "code",
   "execution_count": 55,
   "metadata": {},
   "outputs": [
    {
     "name": "stdout",
     "output_type": "stream",
     "text": [
      "[2 1 0 2 2 1 0 2 1 1 2 0 2 0 0 1 2 2 2 2 1 2 1 1 2 2 2 2 1 2 1 0 2 1 1 1 1\n",
      " 2 0 0 2 1 0 0 1 0 2 1 0 2 2 1 0 2 2 2 2 0 0 2 2 0 2 0 2 2 0 0 2 0 0 0 1 2\n",
      " 2 0 0 0 1 1 0 0 1 0 2 1 2 1 0 2 0 2 0 0 2 0 2 1 1 1 2 2 2 1 0 1 2 2 0 1 1\n",
      " 2 1 0 0 0 2 1 2 0]\n",
      "[ True  True  True  True  True  True  True False  True  True  True  True\n",
      "  True  True  True  True  True  True  True  True  True  True  True  True\n",
      "  True  True  True  True  True  True  True  True  True  True  True  True\n",
      "  True  True  True  True  True  True  True  True  True  True  True  True\n",
      "  True False  True  True  True  True  True  True  True  True  True  True\n",
      "  True  True  True  True  True  True  True  True  True  True  True  True\n",
      "  True  True  True  True  True  True  True  True  True  True  True  True\n",
      "  True  True  True  True  True  True  True  True  True  True  True  True\n",
      "  True  True  True  True  True  True False  True  True  True  True  True\n",
      "  True  True  True False  True  True  True  True  True  True  True  True]\n",
      "---------------------\n",
      "[2 1 0 2 0 2 0 1 1 1 2 1 1 1 1 0 1 1 0 0 2 1 0 0 2 0 0 1 1 0]\n",
      "[ True  True  True  True  True  True  True  True  True  True  True  True\n",
      "  True  True  True  True  True  True  True  True  True  True  True  True\n",
      "  True  True  True  True  True  True]\n"
     ]
    }
   ],
   "source": [
    "#推定\n",
    "pred_train = model.predict(X_train)\n",
    "pred_test = model.predict(X_test)\n",
    "pred_train = np.argmax(pred_train, axis=1) #一番大きな値のインデックスを出力\n",
    "pred_test = np.argmax(pred_test, axis=1)\n",
    "\n",
    "\n",
    "print(pred_train)\n",
    "print(pred_train == np.argmax(y_train, axis=1))\n",
    "print(\"---------------------\")\n",
    "print(pred_test)\n",
    "print(pred_test == np.argmax(y_test, axis=1))"
   ]
  },
  {
   "cell_type": "code",
   "execution_count": 63,
   "metadata": {},
   "outputs": [
    {
     "name": "stdout",
     "output_type": "stream",
     "text": [
      "120/120 [==============================] - ETA:  - 0s 52us/step\n",
      "30/30 [==============================] - 0s 35us/step\n"
     ]
    }
   ],
   "source": [
    "#評価\n",
    "train_score = model.evaluate(X_train, y_train)\n",
    "test_score = model.evaluate(X_test, y_test)"
   ]
  },
  {
   "cell_type": "code",
   "execution_count": 64,
   "metadata": {},
   "outputs": [
    {
     "name": "stdout",
     "output_type": "stream",
     "text": [
      "Train loss: 0.08267993330955506\n",
      "Train accuracy: 0.9666666388511658\n",
      "----------------------------\n",
      "Test loss: 0.03807102516293526\n",
      "Test accuracy: 1.0\n"
     ]
    }
   ],
   "source": [
    "print('Train loss:', train_score[0])\n",
    "print('Train accuracy:', train_score[1])\n",
    "print(\"----------------------------\")\n",
    "print('Test loss:', test_score[0])\n",
    "print('Test accuracy:', test_score[1])"
   ]
  },
  {
   "cell_type": "markdown",
   "metadata": {},
   "source": [
    "### 【問題5】House PricesをKerasで学習\n",
    "TensorFlowによるHouse Pricesデータセットに対する回帰をKerasに書き換えてください。"
   ]
  },
  {
   "cell_type": "code",
   "execution_count": 5,
   "metadata": {},
   "outputs": [
    {
     "name": "stderr",
     "output_type": "stream",
     "text": [
      "/Users/itonaoki/.pyenv/versions/anaconda3-5.3.1/lib/python3.7/site-packages/sklearn/utils/validation.py:475: DataConversionWarning: Data with input dtype int64 was converted to float64 by StandardScaler.\n",
      "  warnings.warn(msg, DataConversionWarning)\n"
     ]
    }
   ],
   "source": [
    "# データセットの読み込み\n",
    "df = pd.read_csv(\"train.csv\")\n",
    "\n",
    "# データフレームから条件抽出\n",
    "X = df.loc[:, [\"GrLivArea\", \"YearBuilt\"]].values\n",
    "y = df.loc[:, \"SalePrice\"].values\n",
    "\n",
    "#標準化、対数変換\n",
    "scaler = StandardScaler()\n",
    "scaler.fit(X)\n",
    "X_scaled = scaler.transform(X)\n",
    "y_scaled = np.log(y)\n",
    "y_scaled = y_scaled[:, np.newaxis]\n",
    "\n",
    "#分割\n",
    "X_train, X_test, y_train, y_test = train_test_split(X_scaled, y_scaled, test_size=0.2, random_state=0)\n",
    "# さらにtrainとvalに分割\n",
    "X_train, X_val, y_train, y_val = train_test_split(X_train, y_train, test_size=0.2, random_state=0)"
   ]
  },
  {
   "cell_type": "code",
   "execution_count": 10,
   "metadata": {},
   "outputs": [
    {
     "name": "stderr",
     "output_type": "stream",
     "text": [
      "/Users/itonaoki/.pyenv/versions/anaconda3-5.3.1/lib/python3.7/site-packages/ipykernel_launcher.py:9: UserWarning: Update your `Dense` call to the Keras 2 API: `Dense(input_dim=2, activation=\"relu\", units=50, use_bias=True)`\n",
      "  if __name__ == '__main__':\n",
      "/Users/itonaoki/.pyenv/versions/anaconda3-5.3.1/lib/python3.7/site-packages/ipykernel_launcher.py:10: UserWarning: Update your `Dense` call to the Keras 2 API: `Dense(input_dim=50, activation=\"relu\", units=100, use_bias=True)`\n",
      "  # Remove the CWD from sys.path while we load stuff.\n",
      "/Users/itonaoki/.pyenv/versions/anaconda3-5.3.1/lib/python3.7/site-packages/ipykernel_launcher.py:11: UserWarning: Update your `Dense` call to the Keras 2 API: `Dense(input_dim=100, units=1, use_bias=True)`\n",
      "  # This is added back by InteractiveShellApp.init_path()\n"
     ]
    },
    {
     "name": "stdout",
     "output_type": "stream",
     "text": [
      "WARNING:tensorflow:From /Users/itonaoki/.pyenv/versions/anaconda3-5.3.1/lib/python3.7/site-packages/keras/backend/tensorflow_backend.py:422: The name tf.global_variables is deprecated. Please use tf.compat.v1.global_variables instead.\n",
      "\n",
      "Train on 934 samples, validate on 292 samples\n",
      "Epoch 1/100\n",
      "934/934 [==============================] - 0s 511us/step - loss: 131.6629 - mse: 131.6629 - val_loss: 111.6445 - val_mse: 111.6445\n",
      "Epoch 2/100\n",
      "934/934 [==============================] - 0s 51us/step - loss: 84.8886 - mse: 84.8886 - val_loss: 48.4983 - val_mse: 48.4983\n",
      "Epoch 3/100\n",
      "934/934 [==============================] - 0s 60us/step - loss: 25.5102 - mse: 25.5102 - val_loss: 12.0500 - val_mse: 12.0500\n",
      "Epoch 4/100\n",
      "934/934 [==============================] - 0s 70us/step - loss: 9.7885 - mse: 9.7885 - val_loss: 10.8809 - val_mse: 10.8809\n",
      "Epoch 5/100\n",
      "934/934 [==============================] - 0s 62us/step - loss: 8.4111 - mse: 8.4111 - val_loss: 9.2961 - val_mse: 9.2961\n",
      "Epoch 6/100\n",
      "934/934 [==============================] - 0s 61us/step - loss: 7.1222 - mse: 7.1222 - val_loss: 7.8889 - val_mse: 7.8889\n",
      "Epoch 7/100\n",
      "934/934 [==============================] - 0s 61us/step - loss: 5.9819 - mse: 5.9819 - val_loss: 6.5693 - val_mse: 6.5693\n",
      "Epoch 8/100\n",
      "934/934 [==============================] - 0s 59us/step - loss: 4.9222 - mse: 4.9222 - val_loss: 5.4646 - val_mse: 5.4646\n",
      "Epoch 9/100\n",
      "934/934 [==============================] - 0s 61us/step - loss: 4.0410 - mse: 4.0410 - val_loss: 4.4840 - val_mse: 4.4840\n",
      "Epoch 10/100\n",
      "934/934 [==============================] - 0s 58us/step - loss: 3.2811 - mse: 3.2811 - val_loss: 3.7095 - val_mse: 3.7095\n",
      "Epoch 11/100\n",
      "934/934 [==============================] - 0s 61us/step - loss: 2.6471 - mse: 2.6471 - val_loss: 3.0857 - val_mse: 3.0857\n",
      "Epoch 12/100\n",
      "934/934 [==============================] - 0s 57us/step - loss: 2.1497 - mse: 2.1497 - val_loss: 2.5273 - val_mse: 2.5273\n",
      "Epoch 13/100\n",
      "934/934 [==============================] - 0s 59us/step - loss: 1.7409 - mse: 1.7409 - val_loss: 2.0971 - val_mse: 2.0971\n",
      "Epoch 14/100\n",
      "934/934 [==============================] - 0s 61us/step - loss: 1.4086 - mse: 1.4086 - val_loss: 1.7040 - val_mse: 1.7040\n",
      "Epoch 15/100\n",
      "934/934 [==============================] - 0s 59us/step - loss: 1.1343 - mse: 1.1343 - val_loss: 1.4190 - val_mse: 1.4190\n",
      "Epoch 16/100\n",
      "934/934 [==============================] - 0s 61us/step - loss: 0.9262 - mse: 0.9262 - val_loss: 1.1816 - val_mse: 1.1816\n",
      "Epoch 17/100\n",
      "934/934 [==============================] - 0s 57us/step - loss: 0.7579 - mse: 0.7579 - val_loss: 1.0129 - val_mse: 1.0129\n",
      "Epoch 18/100\n",
      "934/934 [==============================] - 0s 61us/step - loss: 0.6274 - mse: 0.6274 - val_loss: 0.8409 - val_mse: 0.8409\n",
      "Epoch 19/100\n",
      "934/934 [==============================] - 0s 58us/step - loss: 0.5215 - mse: 0.5215 - val_loss: 0.7076 - val_mse: 0.7076\n",
      "Epoch 20/100\n",
      "934/934 [==============================] - 0s 61us/step - loss: 0.4286 - mse: 0.4286 - val_loss: 0.6150 - val_mse: 0.6150\n",
      "Epoch 21/100\n",
      "934/934 [==============================] - 0s 60us/step - loss: 0.3627 - mse: 0.3627 - val_loss: 0.5348 - val_mse: 0.5348\n",
      "Epoch 22/100\n",
      "934/934 [==============================] - 0s 55us/step - loss: 0.2979 - mse: 0.2979 - val_loss: 0.4474 - val_mse: 0.4474\n",
      "Epoch 23/100\n",
      "934/934 [==============================] - 0s 52us/step - loss: 0.2497 - mse: 0.2497 - val_loss: 0.3849 - val_mse: 0.3849\n",
      "Epoch 24/100\n",
      "934/934 [==============================] - 0s 57us/step - loss: 0.2065 - mse: 0.2065 - val_loss: 0.3280 - val_mse: 0.3280\n",
      "Epoch 25/100\n",
      "934/934 [==============================] - 0s 59us/step - loss: 0.1739 - mse: 0.1739 - val_loss: 0.2748 - val_mse: 0.2748\n",
      "Epoch 26/100\n",
      "934/934 [==============================] - 0s 55us/step - loss: 0.1499 - mse: 0.1499 - val_loss: 0.2387 - val_mse: 0.2387\n",
      "Epoch 27/100\n",
      "934/934 [==============================] - 0s 53us/step - loss: 0.1249 - mse: 0.1249 - val_loss: 0.2001 - val_mse: 0.2001\n",
      "Epoch 28/100\n",
      "934/934 [==============================] - 0s 55us/step - loss: 0.1106 - mse: 0.1106 - val_loss: 0.1788 - val_mse: 0.1788\n",
      "Epoch 29/100\n",
      "934/934 [==============================] - 0s 60us/step - loss: 0.0958 - mse: 0.0958 - val_loss: 0.1564 - val_mse: 0.1564\n",
      "Epoch 30/100\n",
      "934/934 [==============================] - 0s 62us/step - loss: 0.0850 - mse: 0.0850 - val_loss: 0.1405 - val_mse: 0.1405\n",
      "Epoch 31/100\n",
      "934/934 [==============================] - 0s 60us/step - loss: 0.0992 - mse: 0.0992 - val_loss: 0.1220 - val_mse: 0.1220\n",
      "Epoch 32/100\n",
      "934/934 [==============================] - 0s 49us/step - loss: 0.0713 - mse: 0.0713 - val_loss: 0.1057 - val_mse: 0.1057\n",
      "Epoch 33/100\n",
      "934/934 [==============================] - 0s 45us/step - loss: 0.0655 - mse: 0.0655 - val_loss: 0.1032 - val_mse: 0.1032\n",
      "Epoch 34/100\n",
      "934/934 [==============================] - 0s 47us/step - loss: 0.0631 - mse: 0.0631 - val_loss: 0.0954 - val_mse: 0.0954\n",
      "Epoch 35/100\n",
      "934/934 [==============================] - 0s 48us/step - loss: 0.0599 - mse: 0.0599 - val_loss: 0.0941 - val_mse: 0.0941\n",
      "Epoch 36/100\n",
      "934/934 [==============================] - 0s 45us/step - loss: 0.0570 - mse: 0.0570 - val_loss: 0.0868 - val_mse: 0.0868\n",
      "Epoch 37/100\n",
      "934/934 [==============================] - 0s 47us/step - loss: 0.0576 - mse: 0.0576 - val_loss: 0.0858 - val_mse: 0.0858\n",
      "Epoch 38/100\n",
      "934/934 [==============================] - 0s 46us/step - loss: 0.0552 - mse: 0.0552 - val_loss: 0.0819 - val_mse: 0.0819\n",
      "Epoch 39/100\n",
      "934/934 [==============================] - 0s 47us/step - loss: 0.0540 - mse: 0.0540 - val_loss: 0.0808 - val_mse: 0.0808\n",
      "Epoch 40/100\n",
      "934/934 [==============================] - 0s 50us/step - loss: 0.0521 - mse: 0.0521 - val_loss: 0.0793 - val_mse: 0.0793\n",
      "Epoch 41/100\n",
      "934/934 [==============================] - 0s 50us/step - loss: 0.0512 - mse: 0.0512 - val_loss: 0.0779 - val_mse: 0.0779\n",
      "Epoch 42/100\n",
      "934/934 [==============================] - 0s 45us/step - loss: 0.0517 - mse: 0.0517 - val_loss: 0.0757 - val_mse: 0.0757\n",
      "Epoch 43/100\n",
      "934/934 [==============================] - 0s 45us/step - loss: 0.0504 - mse: 0.0504 - val_loss: 0.0734 - val_mse: 0.0734\n",
      "Epoch 44/100\n",
      "934/934 [==============================] - 0s 51us/step - loss: 0.0501 - mse: 0.0501 - val_loss: 0.0743 - val_mse: 0.0743\n",
      "Epoch 45/100\n",
      "934/934 [==============================] - 0s 51us/step - loss: 0.0489 - mse: 0.0489 - val_loss: 0.0715 - val_mse: 0.0715\n",
      "Epoch 46/100\n",
      "934/934 [==============================] - 0s 46us/step - loss: 0.0479 - mse: 0.0479 - val_loss: 0.0721 - val_mse: 0.0721\n",
      "Epoch 47/100\n",
      "934/934 [==============================] - 0s 46us/step - loss: 0.0483 - mse: 0.0483 - val_loss: 0.0699 - val_mse: 0.0699\n",
      "Epoch 48/100\n",
      "934/934 [==============================] - 0s 48us/step - loss: 0.0473 - mse: 0.0473 - val_loss: 0.0693 - val_mse: 0.0693\n",
      "Epoch 49/100\n",
      "934/934 [==============================] - 0s 46us/step - loss: 0.0477 - mse: 0.0477 - val_loss: 0.0730 - val_mse: 0.0730\n",
      "Epoch 50/100\n",
      "934/934 [==============================] - 0s 44us/step - loss: 0.0472 - mse: 0.0472 - val_loss: 0.0669 - val_mse: 0.0669\n",
      "Epoch 51/100\n",
      "934/934 [==============================] - 0s 47us/step - loss: 0.0465 - mse: 0.0465 - val_loss: 0.0680 - val_mse: 0.0680\n",
      "Epoch 52/100\n",
      "934/934 [==============================] - 0s 48us/step - loss: 0.0469 - mse: 0.0469 - val_loss: 0.0665 - val_mse: 0.0665\n",
      "Epoch 53/100\n",
      "934/934 [==============================] - 0s 50us/step - loss: 0.0481 - mse: 0.0481 - val_loss: 0.0653 - val_mse: 0.0653\n",
      "Epoch 54/100\n",
      "934/934 [==============================] - 0s 46us/step - loss: 0.0464 - mse: 0.0464 - val_loss: 0.0675 - val_mse: 0.0675\n",
      "Epoch 55/100\n",
      "934/934 [==============================] - 0s 45us/step - loss: 0.0455 - mse: 0.0455 - val_loss: 0.0636 - val_mse: 0.0636\n",
      "Epoch 56/100\n",
      "934/934 [==============================] - 0s 45us/step - loss: 0.0470 - mse: 0.0470 - val_loss: 0.0690 - val_mse: 0.0690\n",
      "Epoch 57/100\n",
      "934/934 [==============================] - 0s 45us/step - loss: 0.0463 - mse: 0.0463 - val_loss: 0.0628 - val_mse: 0.0628\n",
      "Epoch 58/100\n",
      "934/934 [==============================] - 0s 48us/step - loss: 0.0450 - mse: 0.0450 - val_loss: 0.0618 - val_mse: 0.0618\n",
      "Epoch 59/100\n"
     ]
    },
    {
     "name": "stdout",
     "output_type": "stream",
     "text": [
      "934/934 [==============================] - 0s 47us/step - loss: 0.0453 - mse: 0.0453 - val_loss: 0.0637 - val_mse: 0.0637\n",
      "Epoch 60/100\n",
      "934/934 [==============================] - 0s 51us/step - loss: 0.0464 - mse: 0.0464 - val_loss: 0.0607 - val_mse: 0.0607\n",
      "Epoch 61/100\n",
      "934/934 [==============================] - 0s 52us/step - loss: 0.0464 - mse: 0.0464 - val_loss: 0.0631 - val_mse: 0.0631\n",
      "Epoch 62/100\n",
      "934/934 [==============================] - 0s 51us/step - loss: 0.0455 - mse: 0.0455 - val_loss: 0.0644 - val_mse: 0.0644\n",
      "Epoch 63/100\n",
      "934/934 [==============================] - 0s 55us/step - loss: 0.0480 - mse: 0.0480 - val_loss: 0.0643 - val_mse: 0.0643\n",
      "Epoch 64/100\n",
      "934/934 [==============================] - 0s 55us/step - loss: 0.0450 - mse: 0.0450 - val_loss: 0.0596 - val_mse: 0.0596\n",
      "Epoch 65/100\n",
      "934/934 [==============================] - 0s 54us/step - loss: 0.0451 - mse: 0.0451 - val_loss: 0.0624 - val_mse: 0.0624\n",
      "Epoch 66/100\n",
      "934/934 [==============================] - 0s 53us/step - loss: 0.0452 - mse: 0.0452 - val_loss: 0.0669 - val_mse: 0.0669\n",
      "Epoch 67/100\n",
      "934/934 [==============================] - 0s 52us/step - loss: 0.0456 - mse: 0.0456 - val_loss: 0.0638 - val_mse: 0.0638\n",
      "Epoch 68/100\n",
      "934/934 [==============================] - 0s 53us/step - loss: 0.0448 - mse: 0.0448 - val_loss: 0.0590 - val_mse: 0.0590\n",
      "Epoch 69/100\n",
      "934/934 [==============================] - 0s 53us/step - loss: 0.0471 - mse: 0.0471 - val_loss: 0.0614 - val_mse: 0.0614\n",
      "Epoch 70/100\n",
      "934/934 [==============================] - 0s 53us/step - loss: 0.0448 - mse: 0.0448 - val_loss: 0.0665 - val_mse: 0.0665\n",
      "Epoch 71/100\n",
      "934/934 [==============================] - 0s 52us/step - loss: 0.0461 - mse: 0.0461 - val_loss: 0.0597 - val_mse: 0.0597\n",
      "Epoch 72/100\n",
      "934/934 [==============================] - 0s 51us/step - loss: 0.0448 - mse: 0.0448 - val_loss: 0.0607 - val_mse: 0.0607\n",
      "Epoch 73/100\n",
      "934/934 [==============================] - 0s 47us/step - loss: 0.0462 - mse: 0.0462 - val_loss: 0.0576 - val_mse: 0.0576\n",
      "Epoch 74/100\n",
      "934/934 [==============================] - 0s 52us/step - loss: 0.0447 - mse: 0.0447 - val_loss: 0.0604 - val_mse: 0.0604\n",
      "Epoch 75/100\n",
      "934/934 [==============================] - 0s 54us/step - loss: 0.0456 - mse: 0.0456 - val_loss: 0.0600 - val_mse: 0.0600\n",
      "Epoch 76/100\n",
      "934/934 [==============================] - 0s 52us/step - loss: 0.0460 - mse: 0.0460 - val_loss: 0.0623 - val_mse: 0.0623\n",
      "Epoch 77/100\n",
      "934/934 [==============================] - 0s 52us/step - loss: 0.0452 - mse: 0.0452 - val_loss: 0.0612 - val_mse: 0.0612\n",
      "Epoch 78/100\n",
      "934/934 [==============================] - 0s 54us/step - loss: 0.0440 - mse: 0.0440 - val_loss: 0.0590 - val_mse: 0.0590\n",
      "Epoch 79/100\n",
      "934/934 [==============================] - 0s 53us/step - loss: 0.0449 - mse: 0.0449 - val_loss: 0.0573 - val_mse: 0.0573\n",
      "Epoch 80/100\n",
      "934/934 [==============================] - 0s 53us/step - loss: 0.0459 - mse: 0.0459 - val_loss: 0.0584 - val_mse: 0.0584\n",
      "Epoch 81/100\n",
      "934/934 [==============================] - 0s 52us/step - loss: 0.0441 - mse: 0.0441 - val_loss: 0.0572 - val_mse: 0.0572\n",
      "Epoch 82/100\n",
      "934/934 [==============================] - 0s 53us/step - loss: 0.0439 - mse: 0.0439 - val_loss: 0.0578 - val_mse: 0.0578\n",
      "Epoch 83/100\n",
      "934/934 [==============================] - 0s 47us/step - loss: 0.0448 - mse: 0.0448 - val_loss: 0.0585 - val_mse: 0.0585\n",
      "Epoch 84/100\n",
      "934/934 [==============================] - 0s 52us/step - loss: 0.0463 - mse: 0.0463 - val_loss: 0.0573 - val_mse: 0.0573\n",
      "Epoch 85/100\n",
      "934/934 [==============================] - 0s 53us/step - loss: 0.0446 - mse: 0.0446 - val_loss: 0.0601 - val_mse: 0.0601\n",
      "Epoch 86/100\n",
      "934/934 [==============================] - 0s 53us/step - loss: 0.0440 - mse: 0.0440 - val_loss: 0.0601 - val_mse: 0.0601\n",
      "Epoch 87/100\n",
      "934/934 [==============================] - 0s 53us/step - loss: 0.0452 - mse: 0.0452 - val_loss: 0.0578 - val_mse: 0.0578\n",
      "Epoch 88/100\n",
      "934/934 [==============================] - 0s 53us/step - loss: 0.0446 - mse: 0.0446 - val_loss: 0.0574 - val_mse: 0.0574\n",
      "Epoch 89/100\n",
      "934/934 [==============================] - 0s 51us/step - loss: 0.0446 - mse: 0.0446 - val_loss: 0.0673 - val_mse: 0.0673\n",
      "Epoch 90/100\n",
      "934/934 [==============================] - 0s 51us/step - loss: 0.0459 - mse: 0.0459 - val_loss: 0.0555 - val_mse: 0.0555\n",
      "Epoch 91/100\n",
      "934/934 [==============================] - 0s 54us/step - loss: 0.0442 - mse: 0.0442 - val_loss: 0.0594 - val_mse: 0.0594\n",
      "Epoch 92/100\n",
      "934/934 [==============================] - 0s 54us/step - loss: 0.0450 - mse: 0.0450 - val_loss: 0.0599 - val_mse: 0.0599\n",
      "Epoch 93/100\n",
      "934/934 [==============================] - 0s 52us/step - loss: 0.0438 - mse: 0.0438 - val_loss: 0.0694 - val_mse: 0.0694\n",
      "Epoch 94/100\n",
      "934/934 [==============================] - 0s 52us/step - loss: 0.0511 - mse: 0.0511 - val_loss: 0.0589 - val_mse: 0.0589\n",
      "Epoch 95/100\n",
      "934/934 [==============================] - 0s 52us/step - loss: 0.0438 - mse: 0.0438 - val_loss: 0.0609 - val_mse: 0.0609\n",
      "Epoch 96/100\n",
      "934/934 [==============================] - 0s 52us/step - loss: 0.0455 - mse: 0.0455 - val_loss: 0.0588 - val_mse: 0.0588\n",
      "Epoch 97/100\n",
      "934/934 [==============================] - 0s 53us/step - loss: 0.0447 - mse: 0.0447 - val_loss: 0.0547 - val_mse: 0.0547\n",
      "Epoch 98/100\n",
      "934/934 [==============================] - 0s 51us/step - loss: 0.0444 - mse: 0.0444 - val_loss: 0.0551 - val_mse: 0.0551\n",
      "Epoch 99/100\n",
      "934/934 [==============================] - 0s 52us/step - loss: 0.0437 - mse: 0.0437 - val_loss: 0.0571 - val_mse: 0.0571\n",
      "Epoch 100/100\n",
      "934/934 [==============================] - 0s 52us/step - loss: 0.0442 - mse: 0.0442 - val_loss: 0.0558 - val_mse: 0.0558\n"
     ]
    }
   ],
   "source": [
    "from keras.models import Sequential\n",
    "from keras.layers import Dense, Activation\n",
    "from keras.optimizers import SGD\n",
    "from keras.optimizers import Adam\n",
    "from keras.callbacks import CSVLogger\n",
    "\n",
    "#学習\n",
    "model = Sequential()\n",
    "model.add(Dense(input_dim=2, output_dim=50, bias=True, activation='relu'))\n",
    "model.add(Dense(input_dim=50, output_dim=100, bias=True, activation='relu'))\n",
    "model.add(Dense(input_dim=100, output_dim=1, bias=True))\n",
    "model.compile(loss='mse', optimizer=Adam(), metrics=['mse'])\n",
    "csv_logger = CSVLogger('log.csv', separator=',', append=False)\n",
    "history = model.fit(X_train, y_train,\n",
    "                    batch_size=32, epochs=100,\n",
    "                    validation_data=(X_test, y_test)) "
   ]
  },
  {
   "cell_type": "code",
   "execution_count": 14,
   "metadata": {},
   "outputs": [
    {
     "name": "stdout",
     "output_type": "stream",
     "text": [
      "test_mse :  0.05575376228518682\n"
     ]
    }
   ],
   "source": [
    "#評価\n",
    "test_mse = model.evaluate(X_test, y_test, verbose=0)\n",
    "print(\"test_mse : \", test_mse[0])"
   ]
  },
  {
   "cell_type": "markdown",
   "metadata": {},
   "source": [
    "### 【問題6】MNISTをKerasで学習\n",
    "TensorFlowによるMNISTデータセットによる画像の多値分類をKerasに書き換えてください。"
   ]
  },
  {
   "cell_type": "code",
   "execution_count": 4,
   "metadata": {},
   "outputs": [],
   "source": [
    "#MNISTデータ\n",
    "from keras.datasets import mnist\n",
    "(X_train_, y_train), (X_test, y_test) = mnist.load_data()"
   ]
  },
  {
   "cell_type": "code",
   "execution_count": 5,
   "metadata": {},
   "outputs": [],
   "source": [
    "#平滑化\n",
    "X_train_ = X_train_.reshape(-1, 784)\n",
    "X_test = X_test.reshape(-1, 784)\n",
    "\n",
    "#正規化\n",
    "X_train_ = X_train_.astype(np.float)\n",
    "X_test = X_test.astype(np.float)\n",
    "X_train_ /= 255\n",
    "X_test /= 255\n",
    "\n",
    "#ワンホットエンコーディング\n",
    "from sklearn.preprocessing import OneHotEncoder\n",
    "enc = OneHotEncoder(handle_unknown='ignore', sparse=False)\n",
    "y_train_one_hot = enc.fit_transform(y_train[:, np.newaxis])\n",
    "y_test_one_hot = enc.transform(y_test[:, np.newaxis])\n",
    "\n",
    "# trainとtestに分割\n",
    "X_train, X_test, y_train, y_test = train_test_split(X_train_, y_train_one_hot, test_size=0.2, random_state=0)\n",
    "# さらにtrainとvalに分割\n",
    "X_train, X_val, y_train, y_val = train_test_split(X_train, y_train, test_size=0.2, random_state=0)"
   ]
  },
  {
   "cell_type": "code",
   "execution_count": 6,
   "metadata": {},
   "outputs": [
    {
     "name": "stderr",
     "output_type": "stream",
     "text": [
      "/Users/itonaoki/.pyenv/versions/anaconda3-5.3.1/lib/python3.7/site-packages/ipykernel_launcher.py:9: UserWarning: Update your `Dense` call to the Keras 2 API: `Dense(input_dim=784, activation=\"relu\", units=50, use_bias=True)`\n",
      "  if __name__ == '__main__':\n",
      "/Users/itonaoki/.pyenv/versions/anaconda3-5.3.1/lib/python3.7/site-packages/ipykernel_launcher.py:10: UserWarning: Update your `Dense` call to the Keras 2 API: `Dense(input_dim=50, activation=\"relu\", units=100, use_bias=True)`\n",
      "  # Remove the CWD from sys.path while we load stuff.\n",
      "/Users/itonaoki/.pyenv/versions/anaconda3-5.3.1/lib/python3.7/site-packages/ipykernel_launcher.py:11: UserWarning: Update your `Dense` call to the Keras 2 API: `Dense(input_dim=100, activation=\"softmax\", units=10, use_bias=True)`\n",
      "  # This is added back by InteractiveShellApp.init_path()\n"
     ]
    },
    {
     "name": "stdout",
     "output_type": "stream",
     "text": [
      "WARNING:tensorflow:From /Users/itonaoki/.pyenv/versions/anaconda3-5.3.1/lib/python3.7/site-packages/keras/backend/tensorflow_backend.py:422: The name tf.global_variables is deprecated. Please use tf.compat.v1.global_variables instead.\n",
      "\n",
      "Train on 38400 samples, validate on 12000 samples\n",
      "Epoch 1/30\n",
      "38400/38400 [==============================] - 4s 94us/step - loss: 0.3432 - accuracy: 0.8996 - val_loss: 0.1921 - val_accuracy: 0.9400\n",
      "Epoch 2/30\n",
      "38400/38400 [==============================] - 3s 81us/step - loss: 0.1556 - accuracy: 0.9529 - val_loss: 0.1302 - val_accuracy: 0.9603\n",
      "Epoch 3/30\n",
      "38400/38400 [==============================] - 3s 81us/step - loss: 0.1135 - accuracy: 0.9658 - val_loss: 0.1129 - val_accuracy: 0.9654\n",
      "Epoch 4/30\n",
      "38400/38400 [==============================] - 3s 82us/step - loss: 0.0912 - accuracy: 0.9722 - val_loss: 0.1041 - val_accuracy: 0.9686\n",
      "Epoch 5/30\n",
      "38400/38400 [==============================] - 3s 81us/step - loss: 0.0731 - accuracy: 0.9769 - val_loss: 0.1042 - val_accuracy: 0.9677\n",
      "Epoch 6/30\n",
      "38400/38400 [==============================] - 3s 82us/step - loss: 0.0602 - accuracy: 0.9806 - val_loss: 0.1106 - val_accuracy: 0.9677\n",
      "Epoch 7/30\n",
      "38400/38400 [==============================] - 3s 82us/step - loss: 0.0496 - accuracy: 0.9841 - val_loss: 0.1068 - val_accuracy: 0.9688\n",
      "Epoch 8/30\n",
      "38400/38400 [==============================] - 3s 82us/step - loss: 0.0420 - accuracy: 0.9861 - val_loss: 0.1095 - val_accuracy: 0.9709\n",
      "Epoch 9/30\n",
      "38400/38400 [==============================] - 3s 82us/step - loss: 0.0363 - accuracy: 0.9885 - val_loss: 0.1079 - val_accuracy: 0.9721\n",
      "Epoch 10/30\n",
      "38400/38400 [==============================] - 3s 82us/step - loss: 0.0297 - accuracy: 0.9902 - val_loss: 0.1141 - val_accuracy: 0.9720\n",
      "Epoch 11/30\n",
      "38400/38400 [==============================] - 3s 82us/step - loss: 0.0273 - accuracy: 0.9908 - val_loss: 0.1424 - val_accuracy: 0.9658\n",
      "Epoch 12/30\n",
      "38400/38400 [==============================] - 3s 82us/step - loss: 0.0234 - accuracy: 0.9928 - val_loss: 0.1248 - val_accuracy: 0.9711\n",
      "Epoch 13/30\n",
      "38400/38400 [==============================] - 3s 82us/step - loss: 0.0192 - accuracy: 0.9933 - val_loss: 0.1336 - val_accuracy: 0.9701\n",
      "Epoch 14/30\n",
      "38400/38400 [==============================] - 3s 83us/step - loss: 0.0199 - accuracy: 0.9931 - val_loss: 0.1429 - val_accuracy: 0.9689\n",
      "Epoch 15/30\n",
      "38400/38400 [==============================] - 3s 83us/step - loss: 0.0158 - accuracy: 0.9947 - val_loss: 0.1479 - val_accuracy: 0.9676\n",
      "Epoch 16/30\n",
      "38400/38400 [==============================] - 3s 83us/step - loss: 0.0161 - accuracy: 0.9947 - val_loss: 0.1307 - val_accuracy: 0.9728\n",
      "Epoch 17/30\n",
      "38400/38400 [==============================] - 3s 82us/step - loss: 0.0126 - accuracy: 0.9959 - val_loss: 0.1343 - val_accuracy: 0.9730\n",
      "Epoch 18/30\n",
      "38400/38400 [==============================] - 3s 83us/step - loss: 0.0137 - accuracy: 0.9950 - val_loss: 0.1467 - val_accuracy: 0.9719\n",
      "Epoch 19/30\n",
      "38400/38400 [==============================] - 3s 83us/step - loss: 0.0119 - accuracy: 0.9959 - val_loss: 0.1634 - val_accuracy: 0.9710\n",
      "Epoch 20/30\n",
      "38400/38400 [==============================] - 3s 84us/step - loss: 0.0132 - accuracy: 0.9956 - val_loss: 0.1499 - val_accuracy: 0.9702\n",
      "Epoch 21/30\n",
      "38400/38400 [==============================] - 4s 93us/step - loss: 0.0138 - accuracy: 0.9954 - val_loss: 0.1548 - val_accuracy: 0.9706\n",
      "Epoch 22/30\n",
      "38400/38400 [==============================] - 3s 83us/step - loss: 0.0120 - accuracy: 0.9958 - val_loss: 0.2018 - val_accuracy: 0.9675\n",
      "Epoch 23/30\n",
      "38400/38400 [==============================] - 3s 84us/step - loss: 0.0105 - accuracy: 0.9962 - val_loss: 0.1671 - val_accuracy: 0.9719\n",
      "Epoch 24/30\n",
      "38400/38400 [==============================] - 3s 85us/step - loss: 0.0099 - accuracy: 0.9970 - val_loss: 0.1958 - val_accuracy: 0.9657\n",
      "Epoch 25/30\n",
      "38400/38400 [==============================] - 3s 87us/step - loss: 0.0096 - accuracy: 0.9971 - val_loss: 0.1782 - val_accuracy: 0.9708\n",
      "Epoch 26/30\n",
      "38400/38400 [==============================] - 3s 84us/step - loss: 0.0078 - accuracy: 0.9974 - val_loss: 0.1741 - val_accuracy: 0.9698\n",
      "Epoch 27/30\n",
      "38400/38400 [==============================] - 3s 84us/step - loss: 0.0148 - accuracy: 0.9955 - val_loss: 0.1889 - val_accuracy: 0.9707\n",
      "Epoch 28/30\n",
      "38400/38400 [==============================] - 3s 84us/step - loss: 0.0090 - accuracy: 0.9974 - val_loss: 0.1866 - val_accuracy: 0.9694\n",
      "Epoch 29/30\n",
      "38400/38400 [==============================] - 3s 84us/step - loss: 0.0092 - accuracy: 0.9971 - val_loss: 0.1856 - val_accuracy: 0.9707\n",
      "Epoch 30/30\n",
      "38400/38400 [==============================] - 3s 85us/step - loss: 0.0096 - accuracy: 0.9967 - val_loss: 0.1963 - val_accuracy: 0.9716\n"
     ]
    }
   ],
   "source": [
    "from keras.models import Sequential\n",
    "from keras.layers.core import Dense\n",
    "from keras.utils import to_categorical\n",
    "from keras.optimizers import Adam\n",
    "from keras.callbacks import CSVLogger\n",
    "\n",
    "#学習\n",
    "model = Sequential()\n",
    "model.add(Dense(input_dim=784, output_dim=50, bias=True, activation='relu'))\n",
    "model.add(Dense(input_dim=50, output_dim=100, bias=True, activation='relu'))\n",
    "model.add(Dense(input_dim=100, output_dim=10, bias=True, activation='softmax'))\n",
    "model.compile(loss='categorical_crossentropy', optimizer=Adam(), metrics=['accuracy'])\n",
    "csv_logger = CSVLogger('log.csv', separator=',', append=False)\n",
    "history = model.fit(X_train, y_train,\n",
    "                    batch_size=32, epochs=30,\n",
    "                    validation_data=(X_test, y_test))"
   ]
  },
  {
   "cell_type": "code",
   "execution_count": 7,
   "metadata": {},
   "outputs": [
    {
     "name": "stdout",
     "output_type": "stream",
     "text": [
      "[9 0 7 ... 1 7 5]\n",
      "[ True  True  True ...  True  True  True]\n",
      "---------------------\n",
      "[3 6 6 ... 5 1 6]\n",
      "[ True  True  True ...  True  True  True]\n"
     ]
    }
   ],
   "source": [
    "#推定\n",
    "pred_train = model.predict(X_train)\n",
    "pred_test = model.predict(X_test)\n",
    "pred_train = np.argmax(pred_train, axis=1) #一番大きな値のインデックスを出力\n",
    "pred_test = np.argmax(pred_test, axis=1)\n",
    "\n",
    "np.set_printoptions(threshold=0)\n",
    "print(pred_train)\n",
    "print(pred_train == np.argmax(y_train, axis=1))\n",
    "print(\"---------------------\")\n",
    "print(pred_test)\n",
    "print(pred_test == np.argmax(y_test, axis=1))"
   ]
  },
  {
   "cell_type": "code",
   "execution_count": 8,
   "metadata": {},
   "outputs": [
    {
     "name": "stdout",
     "output_type": "stream",
     "text": [
      "38400/38400 [==============================] - 1s 20us/step\n",
      "12000/12000 [==============================] - 0s 20us/step\n"
     ]
    }
   ],
   "source": [
    "#評価\n",
    "train_score = model.evaluate(X_train, y_train)\n",
    "test_score = model.evaluate(X_test, y_test)"
   ]
  },
  {
   "cell_type": "code",
   "execution_count": 10,
   "metadata": {},
   "outputs": [
    {
     "name": "stdout",
     "output_type": "stream",
     "text": [
      "Train loss: 0.006110339705029695\n",
      "Train accuracy: 0.9982812404632568\n",
      "----------------------------\n",
      "Test loss: 0.19634726526020313\n",
      "Test accuracy: 0.9715833067893982\n"
     ]
    }
   ],
   "source": [
    "print('Train loss:', train_score[0])\n",
    "print('Train accuracy:', train_score[1])\n",
    "print(\"----------------------------\")\n",
    "print('Test loss:', test_score[0])\n",
    "print('Test accuracy:', test_score[1])"
   ]
  }
 ],
 "metadata": {
  "kernelspec": {
   "display_name": "Python 3",
   "language": "python",
   "name": "python3"
  },
  "language_info": {
   "codemirror_mode": {
    "name": "ipython",
    "version": 3
   },
   "file_extension": ".py",
   "mimetype": "text/x-python",
   "name": "python",
   "nbconvert_exporter": "python",
   "pygments_lexer": "ipython3",
   "version": "3.7.2"
  },
  "toc": {
   "base_numbering": 1,
   "nav_menu": {},
   "number_sections": true,
   "sideBar": true,
   "skip_h1_title": false,
   "title_cell": "Table of Contents",
   "title_sidebar": "Contents",
   "toc_cell": false,
   "toc_position": {},
   "toc_section_display": true,
   "toc_window_display": false
  },
  "varInspector": {
   "cols": {
    "lenName": 16,
    "lenType": 16,
    "lenVar": 40
   },
   "kernels_config": {
    "python": {
     "delete_cmd_postfix": "",
     "delete_cmd_prefix": "del ",
     "library": "var_list.py",
     "varRefreshCmd": "print(var_dic_list())"
    },
    "r": {
     "delete_cmd_postfix": ") ",
     "delete_cmd_prefix": "rm(",
     "library": "var_list.r",
     "varRefreshCmd": "cat(var_dic_list()) "
    }
   },
   "types_to_exclude": [
    "module",
    "function",
    "builtin_function_or_method",
    "instance",
    "_Feature"
   ],
   "window_display": false
  }
 },
 "nbformat": 4,
 "nbformat_minor": 2
}
