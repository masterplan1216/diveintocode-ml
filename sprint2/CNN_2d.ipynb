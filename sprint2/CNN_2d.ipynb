{
 "cells": [
  {
   "cell_type": "markdown",
   "metadata": {},
   "source": [
    "##### Sprintの目的\n",
    "スクラッチを通してCNNの基礎を理解する"
   ]
  },
  {
   "cell_type": "code",
   "execution_count": 1,
   "metadata": {},
   "outputs": [],
   "source": [
    "import pandas as pd\n",
    "import matplotlib.pyplot as plt\n",
    "import seaborn as sns\n",
    "import numpy as np\n",
    "%matplotlib inline\n",
    "\n",
    "from decimal import Decimal, ROUND_HALF_UP\n",
    "\n",
    "from sklearn.model_selection import train_test_split\n",
    "from sklearn.preprocessing import StandardScaler\n",
    "\n",
    "#np.set_printoptions(threshold=0)"
   ]
  },
  {
   "cell_type": "markdown",
   "metadata": {},
   "source": [
    "2次元に対応した畳み込みニューラルネットワーク（CNN）のクラスをスクラッチで作成していきます。NumPyなど最低限のライブラリのみを使いアルゴリズムを実装していきます。\n",
    "\n",
    "\n",
    "プーリング層なども作成することで、CNNの基本形を完成させます。クラスの名前はScratch2dCNNClassifierとしてください。"
   ]
  },
  {
   "cell_type": "markdown",
   "metadata": {},
   "source": [
    "##### データセットの用意\n",
    "\n",
    "引き続きMNISTデータセットを使用します。2次元畳み込み層へは、28×28の状態で入力します。\n",
    "\n",
    "\n",
    "今回は白黒画像ですからチャンネルは1つしかありませんが、チャンネル方向の軸は用意しておく必要があります。\n",
    "\n",
    "\n",
    "(n_samples, n_channels, height, width)のNCHWまたは(n_samples, height, width, n_channels)のNHWCどちらかの形にしてください。\n",
    "\n",
    "MNISTはデータサイズが大きいので、いったん[Optical Recognition of Handwritten Digits Data Set](https://archive.ics.uci.edu/ml/datasets/Optical+Recognition+of+Handwritten+Digits)のコピーである、[sklearn.datasets.load_digits](https://scikit-learn.org/stable/modules/generated/sklearn.datasets.load_digits.html#sklearn.datasets.load_digits)を使って、正しく動いているか検証してみましょう。"
   ]
  },
  {
   "cell_type": "code",
   "execution_count": 2,
   "metadata": {},
   "outputs": [],
   "source": [
    "# from sklearn.datasets import load_digits\n",
    "# np.set_printoptions(threshold=np.inf)\n",
    "\n",
    "# X,y = load_digits(n_class = 10, return_X_y = True)\n",
    "# X = X.reshape((-1,8,8))\n",
    "\n",
    "# for i in range(10):\n",
    "#     print(y[i])\n",
    "#     plt.imshow(X[i],\"gray\")\n",
    "#     plt.show()"
   ]
  },
  {
   "cell_type": "code",
   "execution_count": 3,
   "metadata": {},
   "outputs": [],
   "source": [
    "#X_train,X_test,y_train,y_test = train_test_split(X,y)"
   ]
  },
  {
   "cell_type": "code",
   "execution_count": 4,
   "metadata": {},
   "outputs": [
    {
     "name": "stderr",
     "output_type": "stream",
     "text": [
      "Using TensorFlow backend.\n"
     ]
    },
    {
     "name": "stdout",
     "output_type": "stream",
     "text": [
      "(400, 1, 28, 28) (400, 10)\n",
      "(100, 1, 28, 28) (100, 10)\n"
     ]
    }
   ],
   "source": [
    "from keras.datasets import mnist\n",
    "(X_train, y_train), (X_test, y_test) = mnist.load_data()\n",
    "X_train = X_train[:, np.newaxis, :, :]\n",
    "X_test = X_test[:, np.newaxis, :, :]\n",
    "\n",
    "#正規化\n",
    "X_train = X_train.astype(np.float)\n",
    "X_test = X_test.astype(np.float)\n",
    "X_train /= 255\n",
    "X_test /= 255\n",
    "\n",
    "#ワンホットエンコーディング\n",
    "from sklearn.preprocessing import OneHotEncoder\n",
    "enc = OneHotEncoder(handle_unknown='ignore', sparse=False)\n",
    "y_train_one_hot = enc.fit_transform(y_train[:, np.newaxis])\n",
    "y_test_one_hot = enc.transform(y_test[:, np.newaxis])\n",
    "\n",
    "X_train, X_val, y_train, y_val = train_test_split(X_train[:500], y_train_one_hot[:500], test_size=0.2)\n",
    "\n",
    "print(X_train.shape, y_train.shape)\n",
    "print(X_val.shape, y_val.shape)"
   ]
  },
  {
   "cell_type": "markdown",
   "metadata": {},
   "source": [
    "### 【問題1】2次元畳み込み層の作成\n",
    "1次元畳み込み層のクラスConv1dを発展させ、2次元畳み込み層のクラスConv2dを作成してください。\n",
    "\n",
    "\n",
    "フォワードプロパゲーションの数式は以下のようになります。\n",
    "\n",
    "$$\n",
    "a_{i,j,m} = \\sum_{k=0}^{K-1}\\sum_{s=0}^{F_h -1}\\sum_{t=0}^{F_w -1}x_{(i + s),(j +t), k}w_{s, t, k, m} + b_m\n",
    "$$\n",
    "\n",
    "$a_{i,j,m}$ : 出力される配列のi行j列、mチャンネルの値\n",
    "\n",
    "\n",
    "$i$ : 配列の行方向のインデックス\n",
    "\n",
    "\n",
    "$j$ : 配列の列方向のインデックス\n",
    "\n",
    "\n",
    "$m$ : 出力チャンネルのインデックス\n",
    "\n",
    "\n",
    "$K$ : 入力チャンネル数\n",
    "\n",
    "\n",
    "$F_{h}, F_{w}$ : 高さ方向（h）と幅方向（w）のフィルタのサイズ\n",
    "\n",
    "\n",
    "$x_{(i+s),(j+t),k}$ : 入力の配列の(i+s)行(j+t)列、kチャンネルの値\n",
    "\n",
    "\n",
    "$w_{s,t,k,m}$ : 重みの配列のs行t列目。kチャンネルの入力に対して、mチャンネルへ出力する重み\n",
    "\n",
    "\n",
    "$b_m$ : mチャンネルへの出力のバイアス項\n",
    "\n",
    "\n",
    "全てスカラーです。\n",
    "\n",
    "\n",
    "次に更新式です。1次元畳み込み層や全結合層と同じ形です。\n",
    "\n",
    "$$\n",
    "w'_{s,t,k,m} = w_{s,t,k,m} - α\\frac{∂L}{∂w_{s,t,k,m}}\n",
    "$$\n",
    "$$\n",
    "b'_m = b_m -  α\\frac{∂L}{∂b_m}\n",
    "$$\n",
    "\n",
    "\n",
    "$\\alpha$ : 学習率\n",
    "\n",
    "\n",
    "$\\frac{\\partial L}{\\partial w_{s,t,k,m}}$ : $w_{s,t,k,m}$ に関する損失 $L$ の勾配\n",
    "\n",
    "\n",
    "$\\frac{\\partial L}{\\partial b_{m}}$ : $b_{m}$ に関する損失 $L$ の勾配\n",
    "\n",
    "\n",
    "勾配 $\\frac{\\partial L}{\\partial w_{s,t,k,m}}$ や $\\frac{\\partial L}{\\partial b_{m}}$ を求めるためのバックプロパゲーションの数式が以下である。\n",
    "\n",
    "$$\n",
    "\\frac{\\partial L}{\\partial w_{s,t,k,m}} = \\sum_{i=0}^{N_{out, h}-1}\\sum_{j=0}^{N_{out, w}-1}\\frac{\\partial L}{\\partial a_{i,j,m}}\n",
    "$$\n",
    "\n",
    "$$\n",
    "\\frac{\\partial L}{\\partial b_m} = \\sum_{i=0}^{N_{out, h}-1}\\sum_{j=0}^{N_{out, w}-1}\\frac{\\partial L}{\\partial a_{i,j,m}}\n",
    "$$\n",
    "\n",
    "$\\frac{\\partial L}{\\partial a_i}$ : 勾配の配列のi行j列、mチャンネルの値\n",
    "\n",
    "\n",
    "$N_{out,h},N_{out,w}$ : 高さ方向（h）と幅方向（w）の出力のサイズ\n",
    "\n",
    "\n",
    "前の層に流す誤差の数式は以下です。\n",
    "\n",
    "$$\n",
    "\\frac{\\partial L}{\\partial x_{i,j,k}} = \\sum_{m=0}^{M-1}\\sum_{s=0}^{F_h -1}\\sum_{t=0}^{F_w -1}\\frac{\\partial L}{\\partial x_{(i-s),(j-t),m}}w_{s,t,k,m}\n",
    "$$\n",
    "\n",
    "$\\frac{\\partial L}{\\partial x_{i,j,k}}$ : 前の層に流す誤差の配列のi列j行、kチャンネルの値\n",
    "\n",
    "\n",
    "$M$ : 出力チャンネル数\n",
    "\n",
    "ただし、 $i-s<0$ または $i-s>N_{out,h}-1$ または $j-t<0$ または $j-t>N_{out,w}-1$ のとき $\\frac{\\partial L}{\\partial a_{(i-s),(j-t),m}} =0$ です。"
   ]
  },
  {
   "cell_type": "markdown",
   "metadata": {},
   "source": [
    "#### im2col\n",
    "[im2col関数の理解](https://qiita.com/kurumen-b/items/236c6255959a266cefaa)"
   ]
  },
  {
   "cell_type": "code",
   "execution_count": 5,
   "metadata": {},
   "outputs": [],
   "source": [
    "def im2col(input_data, filter_h, filter_w, stride=1, pad=0):\n",
    "    \"\"\"\n",
    "    Parameters\n",
    "    ----------\n",
    "    input_data : (データ数, チャンネル, 高さ, 幅)の4次元配列からなる入力データ\n",
    "    filter_h : フィルターの高さ\n",
    "    filter_w : フィルターの幅\n",
    "    stride : ストライド\n",
    "    pad : パディング\n",
    "    Returns\n",
    "    -------\n",
    "    col : 2次元配列\n",
    "    \"\"\"\n",
    "    N, C, H, W = input_data.shape\n",
    "    out_h = (H + 2*pad - filter_h)//stride + 1\n",
    "    out_w = (W + 2*pad - filter_w)//stride + 1\n",
    "\n",
    "    img = np.pad(input_data, [(0,0), (0,0), (pad, pad), (pad, pad)], 'constant')\n",
    "    col = np.zeros((N, C, filter_h, filter_w, out_h, out_w))\n",
    "\n",
    "    for y in range(filter_h):\n",
    "        y_max = y + stride*out_h\n",
    "        for x in range(filter_w):\n",
    "            x_max = x + stride*out_w\n",
    "            col[:, :, y, x, :, :] = img[:, :, y:y_max:stride, x:x_max:stride]\n",
    "\n",
    "    col = col.transpose(0, 4, 5, 1, 2, 3).reshape(N*out_h*out_w, -1) #軸の順番入れ替え、reshape\n",
    "    return col"
   ]
  },
  {
   "cell_type": "code",
   "execution_count": 6,
   "metadata": {},
   "outputs": [
    {
     "data": {
      "text/plain": [
       "array([[[[ 0,  1,  2,  3,  4,  5],\n",
       "         [ 6,  7,  8,  9, 10, 11],\n",
       "         [12, 13, 14, 15, 16, 17],\n",
       "         [18, 19, 20, 21, 22, 23],\n",
       "         [24, 25, 26, 27, 28, 29],\n",
       "         [30, 31, 32, 33, 34, 35]]]])"
      ]
     },
     "metadata": {},
     "output_type": "display_data"
    },
    {
     "data": {
      "text/plain": [
       "array([[ 0.,  1.,  2.,  6.,  7.,  8., 12., 13., 14.],\n",
       "       [ 1.,  2.,  3.,  7.,  8.,  9., 13., 14., 15.],\n",
       "       [ 2.,  3.,  4.,  8.,  9., 10., 14., 15., 16.],\n",
       "       [ 3.,  4.,  5.,  9., 10., 11., 15., 16., 17.],\n",
       "       [ 6.,  7.,  8., 12., 13., 14., 18., 19., 20.],\n",
       "       [ 7.,  8.,  9., 13., 14., 15., 19., 20., 21.],\n",
       "       [ 8.,  9., 10., 14., 15., 16., 20., 21., 22.],\n",
       "       [ 9., 10., 11., 15., 16., 17., 21., 22., 23.],\n",
       "       [12., 13., 14., 18., 19., 20., 24., 25., 26.],\n",
       "       [13., 14., 15., 19., 20., 21., 25., 26., 27.],\n",
       "       [14., 15., 16., 20., 21., 22., 26., 27., 28.],\n",
       "       [15., 16., 17., 21., 22., 23., 27., 28., 29.],\n",
       "       [18., 19., 20., 24., 25., 26., 30., 31., 32.],\n",
       "       [19., 20., 21., 25., 26., 27., 31., 32., 33.],\n",
       "       [20., 21., 22., 26., 27., 28., 32., 33., 34.],\n",
       "       [21., 22., 23., 27., 28., 29., 33., 34., 35.]])"
      ]
     },
     "metadata": {},
     "output_type": "display_data"
    },
    {
     "name": "stdout",
     "output_type": "stream",
     "text": [
      "(16, 9)\n"
     ]
    }
   ],
   "source": [
    "#チャンネル=1\n",
    "\n",
    "input_data = np.arange(36).reshape(1, 1, 6, 6) #データ数、チャンネル、 高さ、 幅\n",
    "w = np.ones((4, 1, 3, 3)) #フィルター数、チャンネル、 高さ、 幅\n",
    "display(input_data)\n",
    "#display(w)\n",
    "display(im2col(input_data, 3, 3))\n",
    "print(im2col(input_data, 3, 3).shape)"
   ]
  },
  {
   "cell_type": "code",
   "execution_count": 7,
   "metadata": {},
   "outputs": [
    {
     "data": {
      "text/plain": [
       "array([[[[1., 1., 1.],\n",
       "         [1., 1., 1.],\n",
       "         [1., 1., 1.]]],\n",
       "\n",
       "\n",
       "       [[[1., 1., 1.],\n",
       "         [1., 1., 1.],\n",
       "         [1., 1., 1.]]],\n",
       "\n",
       "\n",
       "       [[[1., 1., 1.],\n",
       "         [1., 1., 1.],\n",
       "         [1., 1., 1.]]],\n",
       "\n",
       "\n",
       "       [[[1., 1., 1.],\n",
       "         [1., 1., 1.],\n",
       "         [1., 1., 1.]]]])"
      ]
     },
     "metadata": {},
     "output_type": "display_data"
    },
    {
     "data": {
      "text/plain": [
       "array([[1., 1., 1., 1.],\n",
       "       [1., 1., 1., 1.],\n",
       "       [1., 1., 1., 1.],\n",
       "       [1., 1., 1., 1.],\n",
       "       [1., 1., 1., 1.],\n",
       "       [1., 1., 1., 1.],\n",
       "       [1., 1., 1., 1.],\n",
       "       [1., 1., 1., 1.],\n",
       "       [1., 1., 1., 1.]])"
      ]
     },
     "metadata": {},
     "output_type": "display_data"
    },
    {
     "name": "stdout",
     "output_type": "stream",
     "text": [
      "(9, 4)\n"
     ]
    }
   ],
   "source": [
    "w = np.ones((4, 1, 3, 3)) #フィルター数、チャンネル、 高さ、 幅\n",
    "display(w)\n",
    "display(w.reshape(4, -1).T)\n",
    "print(w.reshape(4, -1).T.shape)"
   ]
  },
  {
   "cell_type": "code",
   "execution_count": 8,
   "metadata": {},
   "outputs": [
    {
     "data": {
      "text/plain": [
       "array([[[[  0,   1,   2,   3,   4,   5],\n",
       "         [  6,   7,   8,   9,  10,  11],\n",
       "         [ 12,  13,  14,  15,  16,  17],\n",
       "         [ 18,  19,  20,  21,  22,  23],\n",
       "         [ 24,  25,  26,  27,  28,  29],\n",
       "         [ 30,  31,  32,  33,  34,  35]],\n",
       "\n",
       "        [[ 36,  37,  38,  39,  40,  41],\n",
       "         [ 42,  43,  44,  45,  46,  47],\n",
       "         [ 48,  49,  50,  51,  52,  53],\n",
       "         [ 54,  55,  56,  57,  58,  59],\n",
       "         [ 60,  61,  62,  63,  64,  65],\n",
       "         [ 66,  67,  68,  69,  70,  71]],\n",
       "\n",
       "        [[ 72,  73,  74,  75,  76,  77],\n",
       "         [ 78,  79,  80,  81,  82,  83],\n",
       "         [ 84,  85,  86,  87,  88,  89],\n",
       "         [ 90,  91,  92,  93,  94,  95],\n",
       "         [ 96,  97,  98,  99, 100, 101],\n",
       "         [102, 103, 104, 105, 106, 107]]]])"
      ]
     },
     "metadata": {},
     "output_type": "display_data"
    },
    {
     "data": {
      "text/plain": [
       "array([[  0.,   1.,   2.,   6.,   7.,   8.,  12.,  13.,  14.,  36.,  37.,\n",
       "         38.,  42.,  43.,  44.,  48.,  49.,  50.,  72.,  73.,  74.,  78.,\n",
       "         79.,  80.,  84.,  85.,  86.],\n",
       "       [  1.,   2.,   3.,   7.,   8.,   9.,  13.,  14.,  15.,  37.,  38.,\n",
       "         39.,  43.,  44.,  45.,  49.,  50.,  51.,  73.,  74.,  75.,  79.,\n",
       "         80.,  81.,  85.,  86.,  87.],\n",
       "       [  2.,   3.,   4.,   8.,   9.,  10.,  14.,  15.,  16.,  38.,  39.,\n",
       "         40.,  44.,  45.,  46.,  50.,  51.,  52.,  74.,  75.,  76.,  80.,\n",
       "         81.,  82.,  86.,  87.,  88.],\n",
       "       [  3.,   4.,   5.,   9.,  10.,  11.,  15.,  16.,  17.,  39.,  40.,\n",
       "         41.,  45.,  46.,  47.,  51.,  52.,  53.,  75.,  76.,  77.,  81.,\n",
       "         82.,  83.,  87.,  88.,  89.],\n",
       "       [  6.,   7.,   8.,  12.,  13.,  14.,  18.,  19.,  20.,  42.,  43.,\n",
       "         44.,  48.,  49.,  50.,  54.,  55.,  56.,  78.,  79.,  80.,  84.,\n",
       "         85.,  86.,  90.,  91.,  92.],\n",
       "       [  7.,   8.,   9.,  13.,  14.,  15.,  19.,  20.,  21.,  43.,  44.,\n",
       "         45.,  49.,  50.,  51.,  55.,  56.,  57.,  79.,  80.,  81.,  85.,\n",
       "         86.,  87.,  91.,  92.,  93.],\n",
       "       [  8.,   9.,  10.,  14.,  15.,  16.,  20.,  21.,  22.,  44.,  45.,\n",
       "         46.,  50.,  51.,  52.,  56.,  57.,  58.,  80.,  81.,  82.,  86.,\n",
       "         87.,  88.,  92.,  93.,  94.],\n",
       "       [  9.,  10.,  11.,  15.,  16.,  17.,  21.,  22.,  23.,  45.,  46.,\n",
       "         47.,  51.,  52.,  53.,  57.,  58.,  59.,  81.,  82.,  83.,  87.,\n",
       "         88.,  89.,  93.,  94.,  95.],\n",
       "       [ 12.,  13.,  14.,  18.,  19.,  20.,  24.,  25.,  26.,  48.,  49.,\n",
       "         50.,  54.,  55.,  56.,  60.,  61.,  62.,  84.,  85.,  86.,  90.,\n",
       "         91.,  92.,  96.,  97.,  98.],\n",
       "       [ 13.,  14.,  15.,  19.,  20.,  21.,  25.,  26.,  27.,  49.,  50.,\n",
       "         51.,  55.,  56.,  57.,  61.,  62.,  63.,  85.,  86.,  87.,  91.,\n",
       "         92.,  93.,  97.,  98.,  99.],\n",
       "       [ 14.,  15.,  16.,  20.,  21.,  22.,  26.,  27.,  28.,  50.,  51.,\n",
       "         52.,  56.,  57.,  58.,  62.,  63.,  64.,  86.,  87.,  88.,  92.,\n",
       "         93.,  94.,  98.,  99., 100.],\n",
       "       [ 15.,  16.,  17.,  21.,  22.,  23.,  27.,  28.,  29.,  51.,  52.,\n",
       "         53.,  57.,  58.,  59.,  63.,  64.,  65.,  87.,  88.,  89.,  93.,\n",
       "         94.,  95.,  99., 100., 101.],\n",
       "       [ 18.,  19.,  20.,  24.,  25.,  26.,  30.,  31.,  32.,  54.,  55.,\n",
       "         56.,  60.,  61.,  62.,  66.,  67.,  68.,  90.,  91.,  92.,  96.,\n",
       "         97.,  98., 102., 103., 104.],\n",
       "       [ 19.,  20.,  21.,  25.,  26.,  27.,  31.,  32.,  33.,  55.,  56.,\n",
       "         57.,  61.,  62.,  63.,  67.,  68.,  69.,  91.,  92.,  93.,  97.,\n",
       "         98.,  99., 103., 104., 105.],\n",
       "       [ 20.,  21.,  22.,  26.,  27.,  28.,  32.,  33.,  34.,  56.,  57.,\n",
       "         58.,  62.,  63.,  64.,  68.,  69.,  70.,  92.,  93.,  94.,  98.,\n",
       "         99., 100., 104., 105., 106.],\n",
       "       [ 21.,  22.,  23.,  27.,  28.,  29.,  33.,  34.,  35.,  57.,  58.,\n",
       "         59.,  63.,  64.,  65.,  69.,  70.,  71.,  93.,  94.,  95.,  99.,\n",
       "        100., 101., 105., 106., 107.]])"
      ]
     },
     "metadata": {},
     "output_type": "display_data"
    },
    {
     "name": "stdout",
     "output_type": "stream",
     "text": [
      "(16, 27)\n"
     ]
    }
   ],
   "source": [
    "#チャンネル数=3\n",
    "\n",
    "input_data = np.arange(108).reshape(1, 3, 6, 6) #データ数、チャンネル、 高さ、 幅\n",
    "w = np.ones((4, 3, 3, 3)) #フィルター数、チャンネル、 高さ、 幅\n",
    "display(input_data)\n",
    "#display(w)\n",
    "display(im2col(input_data, 3, 3))\n",
    "print(im2col(input_data, 3, 3).shape)"
   ]
  },
  {
   "cell_type": "code",
   "execution_count": 9,
   "metadata": {
    "scrolled": true
   },
   "outputs": [
    {
     "data": {
      "text/plain": [
       "array([[[[1., 1., 1.],\n",
       "         [1., 1., 1.],\n",
       "         [1., 1., 1.]],\n",
       "\n",
       "        [[1., 1., 1.],\n",
       "         [1., 1., 1.],\n",
       "         [1., 1., 1.]],\n",
       "\n",
       "        [[1., 1., 1.],\n",
       "         [1., 1., 1.],\n",
       "         [1., 1., 1.]]],\n",
       "\n",
       "\n",
       "       [[[1., 1., 1.],\n",
       "         [1., 1., 1.],\n",
       "         [1., 1., 1.]],\n",
       "\n",
       "        [[1., 1., 1.],\n",
       "         [1., 1., 1.],\n",
       "         [1., 1., 1.]],\n",
       "\n",
       "        [[1., 1., 1.],\n",
       "         [1., 1., 1.],\n",
       "         [1., 1., 1.]]],\n",
       "\n",
       "\n",
       "       [[[1., 1., 1.],\n",
       "         [1., 1., 1.],\n",
       "         [1., 1., 1.]],\n",
       "\n",
       "        [[1., 1., 1.],\n",
       "         [1., 1., 1.],\n",
       "         [1., 1., 1.]],\n",
       "\n",
       "        [[1., 1., 1.],\n",
       "         [1., 1., 1.],\n",
       "         [1., 1., 1.]]],\n",
       "\n",
       "\n",
       "       [[[1., 1., 1.],\n",
       "         [1., 1., 1.],\n",
       "         [1., 1., 1.]],\n",
       "\n",
       "        [[1., 1., 1.],\n",
       "         [1., 1., 1.],\n",
       "         [1., 1., 1.]],\n",
       "\n",
       "        [[1., 1., 1.],\n",
       "         [1., 1., 1.],\n",
       "         [1., 1., 1.]]]])"
      ]
     },
     "metadata": {},
     "output_type": "display_data"
    },
    {
     "data": {
      "text/plain": [
       "array([[1., 1., 1., 1.],\n",
       "       [1., 1., 1., 1.],\n",
       "       [1., 1., 1., 1.],\n",
       "       [1., 1., 1., 1.],\n",
       "       [1., 1., 1., 1.],\n",
       "       [1., 1., 1., 1.],\n",
       "       [1., 1., 1., 1.],\n",
       "       [1., 1., 1., 1.],\n",
       "       [1., 1., 1., 1.],\n",
       "       [1., 1., 1., 1.],\n",
       "       [1., 1., 1., 1.],\n",
       "       [1., 1., 1., 1.],\n",
       "       [1., 1., 1., 1.],\n",
       "       [1., 1., 1., 1.],\n",
       "       [1., 1., 1., 1.],\n",
       "       [1., 1., 1., 1.],\n",
       "       [1., 1., 1., 1.],\n",
       "       [1., 1., 1., 1.],\n",
       "       [1., 1., 1., 1.],\n",
       "       [1., 1., 1., 1.],\n",
       "       [1., 1., 1., 1.],\n",
       "       [1., 1., 1., 1.],\n",
       "       [1., 1., 1., 1.],\n",
       "       [1., 1., 1., 1.],\n",
       "       [1., 1., 1., 1.],\n",
       "       [1., 1., 1., 1.],\n",
       "       [1., 1., 1., 1.]])"
      ]
     },
     "metadata": {},
     "output_type": "display_data"
    },
    {
     "name": "stdout",
     "output_type": "stream",
     "text": [
      "(27, 4)\n"
     ]
    }
   ],
   "source": [
    "w = np.ones((4, 3, 3, 3)) #フィルター数、チャンネル、 高さ、 幅\n",
    "display(w)\n",
    "display(w.reshape(4, -1).T)\n",
    "print(w.reshape(4, -1).T.shape)"
   ]
  },
  {
   "cell_type": "code",
   "execution_count": 10,
   "metadata": {
    "scrolled": true
   },
   "outputs": [
    {
     "data": {
      "text/plain": [
       "array([[1161., 1161., 1161., 1161.],\n",
       "       [1188., 1188., 1188., 1188.],\n",
       "       [1215., 1215., 1215., 1215.],\n",
       "       [1242., 1242., 1242., 1242.],\n",
       "       [1323., 1323., 1323., 1323.],\n",
       "       [1350., 1350., 1350., 1350.],\n",
       "       [1377., 1377., 1377., 1377.],\n",
       "       [1404., 1404., 1404., 1404.],\n",
       "       [1485., 1485., 1485., 1485.],\n",
       "       [1512., 1512., 1512., 1512.],\n",
       "       [1539., 1539., 1539., 1539.],\n",
       "       [1566., 1566., 1566., 1566.],\n",
       "       [1647., 1647., 1647., 1647.],\n",
       "       [1674., 1674., 1674., 1674.],\n",
       "       [1701., 1701., 1701., 1701.],\n",
       "       [1728., 1728., 1728., 1728.]])"
      ]
     },
     "metadata": {},
     "output_type": "display_data"
    },
    {
     "data": {
      "text/plain": [
       "array([[[[1161., 1188., 1215., 1242.],\n",
       "         [1323., 1350., 1377., 1404.],\n",
       "         [1485., 1512., 1539., 1566.],\n",
       "         [1647., 1674., 1701., 1728.]],\n",
       "\n",
       "        [[1161., 1188., 1215., 1242.],\n",
       "         [1323., 1350., 1377., 1404.],\n",
       "         [1485., 1512., 1539., 1566.],\n",
       "         [1647., 1674., 1701., 1728.]],\n",
       "\n",
       "        [[1161., 1188., 1215., 1242.],\n",
       "         [1323., 1350., 1377., 1404.],\n",
       "         [1485., 1512., 1539., 1566.],\n",
       "         [1647., 1674., 1701., 1728.]],\n",
       "\n",
       "        [[1161., 1188., 1215., 1242.],\n",
       "         [1323., 1350., 1377., 1404.],\n",
       "         [1485., 1512., 1539., 1566.],\n",
       "         [1647., 1674., 1701., 1728.]]]])"
      ]
     },
     "metadata": {},
     "output_type": "display_data"
    },
    {
     "name": "stdout",
     "output_type": "stream",
     "text": [
      "(1, 4, 4, 4)\n"
     ]
    }
   ],
   "source": [
    "#forwardの中\n",
    "input_data = np.arange(108).reshape(1, 3, 6, 6) #データ数、チャンネル、 高さ、 幅\n",
    "w = np.ones((4, 3, 3, 3)) #フィルター数、チャンネル、 高さ、 幅\n",
    "\n",
    "A = im2col(input_data, 3, 3)@w.reshape(4, -1).T\n",
    "display(A)\n",
    "A = A.reshape(1, 4, 4, -1).transpose(0, 3, 1, 2)\n",
    "display(A)\n",
    "print(A.shape)"
   ]
  },
  {
   "cell_type": "code",
   "execution_count": 11,
   "metadata": {},
   "outputs": [
    {
     "data": {
      "text/plain": [
       "(16, 4)"
      ]
     },
     "execution_count": 11,
     "metadata": {},
     "output_type": "execute_result"
    }
   ],
   "source": [
    "(im2col(input_data, 3, 3)@w.reshape(4, -1).T).shape"
   ]
  },
  {
   "cell_type": "markdown",
   "metadata": {},
   "source": [
    "#### col2im\n",
    "[col2im徹底理解](https://qiita.com/kuroitu/items/7877c002e192955c7857)"
   ]
  },
  {
   "cell_type": "code",
   "execution_count": 12,
   "metadata": {},
   "outputs": [],
   "source": [
    "def col2im(col, input_shape, filter_h, filter_w, stride=1, pad=0):\n",
    "    \"\"\"\n",
    "    Parameters\n",
    "    ----------\n",
    "    col :\n",
    "    input_shape : 入力データの形状（例：(10, 1, 28, 28)）\n",
    "    filter_h :\n",
    "    filter_w\n",
    "    stride\n",
    "    pad\n",
    "    Returns\n",
    "    -------\n",
    "    \"\"\"\n",
    "    N, C, H, W = input_shape\n",
    "    out_h = (H + 2*pad - filter_h)//stride + 1\n",
    "    out_w = (W + 2*pad - filter_w)//stride + 1\n",
    "    col = col.reshape(N, out_h, out_w, C, filter_h, filter_w).transpose(0, 3, 4, 5, 1, 2)\n",
    "\n",
    "    img = np.zeros((N, C, H + 2*pad + stride - 1, W + 2*pad + stride - 1))\n",
    "    for y in range(filter_h):\n",
    "        y_max = y + stride*out_h\n",
    "        for x in range(filter_w):\n",
    "            x_max = x + stride*out_w\n",
    "            img[:, :, y:y_max:stride, x:x_max:stride] += col[:, :, y, x, :, :]\n",
    "\n",
    "    return img[:, :, pad:H + pad, pad:W + pad]"
   ]
  },
  {
   "cell_type": "markdown",
   "metadata": {},
   "source": [
    "#### 回答"
   ]
  },
  {
   "cell_type": "code",
   "execution_count": 22,
   "metadata": {},
   "outputs": [],
   "source": [
    "class Conv2d:\n",
    "    def __init__(self, initializer, optimizer, stride=1, pad=0):\n",
    "        self.w = initializer.w(4, 1, 24, 24)\n",
    "        self.b = initializer.b(1)\n",
    "        self.optimizer = optimizer\n",
    "        self.stride = stride\n",
    "        self.pad = pad\n",
    "        \n",
    "        self.X =None\n",
    "        self.col = None\n",
    "        self.col_w = None\n",
    "        \n",
    "        self.dw = None\n",
    "        self.db = None\n",
    "    \n",
    "    def forward(self, X):\n",
    "        FN, C, FH, FW = self.w.shape #フィルター数、チャンネル、フィルター高さ、フィルター幅\n",
    "        N, C, H, W = X.shape #バッチ数、チャンネル、データ高さ、データ幅\n",
    "        \n",
    "        out_h, out_w = calc_out_shape((H, W), (FH, FW), self.stride, self.pad)\n",
    "        col = im2col(X, FH, FW, self.stride, self.pad) #Xを2d配列に\n",
    "        col_w = self.w.reshape(FN, -1).T #フィルターを2d配列に\n",
    "        \n",
    "        out = np.dot(col, col_w) + self.b\n",
    "        out = out.reshape(N, out_h, out_w, -1).transpose(0, 3, 1, 2)\n",
    "        \n",
    "        self.X = X\n",
    "        self.col = col\n",
    "        self.col_w = col_w\n",
    "        \n",
    "        return out\n",
    "    \n",
    "    def backward(self, dout):\n",
    "        FN, C, FH, FW = self.w.shape\n",
    "        dout = dout.transpose(0,2,3,1).reshape(-1, FN)\n",
    "\n",
    "        self.db = np.sum(dout, axis=0)\n",
    "        self.dw = np.dot(self.col.T, dout)\n",
    "        self.dw = self.dw.transpose(1, 0).reshape(FN, C, FH, FW)\n",
    "\n",
    "        dcol = np.dot(dout, self.col_w.T)\n",
    "        dx = col2im(dcol, self.X.shape, FH, FW, self.stride, self.pad)\n",
    "        \n",
    "        self = self.optimizer.update(self)\n",
    "\n",
    "        return dx"
   ]
  },
  {
   "cell_type": "code",
   "execution_count": 23,
   "metadata": {},
   "outputs": [],
   "source": [
    "#Full Connected Layer Class\n",
    "class FC:\n",
    "    \"\"\"\n",
    "    ノード数n_nodes1からn_nodes2への全結合層\n",
    "    Parameters\n",
    "    ----------\n",
    "    n_nodes1 : int\n",
    "      前の層のノード数\n",
    "    n_nodes2 : int\n",
    "      後の層のノード数\n",
    "    initializer : 初期化方法のインスタンス\n",
    "    optimizer : 最適化手法のインスタンス\n",
    "    \"\"\"\n",
    "    def __init__(self, n_nodes1, n_nodes2, initializer, optimizer):\n",
    "        self.optimizer = optimizer\n",
    "        # 初期化\n",
    "        # initializerのメソッドを使い、self.wとself.bを初期化する\n",
    "        self.w = initializer.W(n_nodes1, n_nodes2)\n",
    "        self.b = initializer.B(n_nodes2)\n",
    "        \n",
    "    def forward(self, X):\n",
    "        self.X = X\n",
    "        out = np.dot(self.X, self.w) + self.b\n",
    "        return out\n",
    "    \n",
    "    def backward(self, dout):\n",
    "        dX = np.dot(dout, self.w.T)\n",
    "        self.dw = np.dot(self.X.T, dout)\n",
    "        self.db = np.sum(dout, axis=0, keepdims=True)\n",
    "        \n",
    "        # 重みとバイアスの更新\n",
    "        self = self.optimizer.update(self)\n",
    "        return dX\n",
    "    \n",
    "###########################\n",
    "class SGD:\n",
    "    \"\"\"\n",
    "    確率的勾配降下法\n",
    "    Parameters\n",
    "    ----------\n",
    "    lr : 学習率\n",
    "    \"\"\"\n",
    "    def __init__(self, lr):\n",
    "        self.lr = lr\n",
    "        \n",
    "    def update(self, layer):\n",
    "        \"\"\"\n",
    "        ある層の重みやバイアスの更新\n",
    "        Parameters\n",
    "        ----------\n",
    "        layer : 更新前の層のインスタンス\n",
    "        \"\"\"\n",
    "        layer.w = layer.w - self.lr*layer.dw\n",
    "        layer.b = layer.b - self.lr*layer.db\n",
    "\n",
    "class AdaGrad:\n",
    "    def __init__(self, lr):\n",
    "        self.lr = lr\n",
    "        self.h_w = 0\n",
    "        self.h_b = 0\n",
    "        \n",
    "    def update(self, layer):\n",
    "        self.h_w = self.h_w + (layer.dw**2).sum()\n",
    "        self.h_b = self.h_b + (layer.db**2).sum()\n",
    "        \n",
    "        layer.w = layer.w - self.lr*(1/np.sqrt(self.h_w) + 1e-7)*layer.dw #「1e-7」で0での除算を防ぐ\n",
    "        layer.b = layer.b - self.lr*(1/np.sqrt(self.h_b) + 1e-7)*layer.db\n",
    "        \n",
    "#################################\n",
    "class XavierInitializer:\n",
    "    def __init__(self):\n",
    "        self.sigma = None\n",
    "    \n",
    "    def W(self, n_nodes1, n_nodes2):\n",
    "        self.sigma = 1/np.sqrt(n_nodes1)\n",
    "        W = self.sigma*np.random.randn(n_nodes1, n_nodes2)\n",
    "        \n",
    "        return W\n",
    "    \n",
    "    def B(self, n_nodes2):\n",
    "        B = np.zeros(n_nodes2)\n",
    "        return B\n",
    "\n",
    "class XavierInitializer_conv:\n",
    "    def __init__(self):\n",
    "        self.sigma = None\n",
    "        \n",
    "    def w(self, FN, C, FH, FW):\n",
    "        self.sigma = 1/np.sqrt(FN)\n",
    "        w = self.sigma * np.random.randn(FN, C, FH, FW) #重みの初期値（畳み込み層）\n",
    "        return w\n",
    "\n",
    "    def b(self, FN):\n",
    "        self.sigma = 1/np.sqrt(FN)\n",
    "        b = self.sigma * np.random.randn(FN) #バイアスの初期値\n",
    "        return b\n",
    "\n",
    "###############################\n",
    "class Relu:\n",
    "    def __init__(self):\n",
    "        self.mask = None\n",
    "        \n",
    "    def forward(self, x):\n",
    "        self.mask = (x < 0)\n",
    "        out = x.copy()\n",
    "        out[self.mask] = 0\n",
    "        \n",
    "        return out\n",
    "    \n",
    "    def backward(self, dout):\n",
    "        dout[self.mask] = 0\n",
    "        dx = dout\n",
    "        \n",
    "        return dx\n",
    "\n",
    "##################################\n",
    "class Softmax:\n",
    "    def __init__(self):\n",
    "        self.loss = None\n",
    "        self.y = None\n",
    "        self.t = None\n",
    "        \n",
    "    def _softmax(self, X):\n",
    "        X = X - np.max(X, axis=-1, keepdims=True)\n",
    "        y = np.exp(X) / np.sum(np.exp(X), axis=-1, keepdims=True)\n",
    "        \n",
    "        return y\n",
    "    \n",
    "    def forward(self, X, t):\n",
    "        self.t = t\n",
    "        self.y = self._softmax(X)\n",
    "        self.loss = self._cross_entropy_error(self.y, self.t)\n",
    "        return self.loss\n",
    "    \n",
    "    def _cross_entropy_error(self, y, t):     \n",
    "        batch_size = y.shape[0]\n",
    "        return -np.sum(t * np.log(y + 1e-7)) / batch_size\n",
    "    \n",
    "    def backward(self, dout=1):\n",
    "        batch_size = self.t.shape[0]\n",
    "        dX = (self.y - self.t)/batch_size\n",
    "        return dX"
   ]
  },
  {
   "cell_type": "markdown",
   "metadata": {},
   "source": [
    "### 【問題2】2次元畳み込み後の出力サイズ\n",
    "畳み込みを行うと特徴マップのサイズが変化します。どのように変化するかは以下の数式から求められます。この計算を行う関数を作成してください。\n",
    "\n",
    "$$\n",
    "N_{h,out} = \\frac{N_{h,in}+2P_h-F_h}{S_h} + 1\n",
    "$$\n",
    "$$\n",
    "N_{w,out} = \\frac{N_{w,in}+2P_w-F_w}{S_w} + 1\n",
    "$$\n",
    "\n",
    "$N_{out}$ : 出力のサイズ（特徴量の数）\n",
    "\n",
    "\n",
    "$N_{in}$ : 入力のサイズ（特徴量の数）\n",
    "\n",
    "\n",
    "$P$ : ある方向へのパディングの数\n",
    "\n",
    "\n",
    "$F$ : フィルタのサイズ\n",
    "\n",
    "\n",
    "$S$ : ストライドのサイズ\n",
    "\n",
    "\n",
    "$h$ が高さ方向、 $w$ が幅方向である"
   ]
  },
  {
   "cell_type": "markdown",
   "metadata": {},
   "source": [
    "#### 回答"
   ]
  },
  {
   "cell_type": "code",
   "execution_count": 1,
   "metadata": {},
   "outputs": [],
   "source": [
    "def calc_out_shape(input_shape, filter_shape, stride=1, pad=0):\n",
    "    in_h, in_w = input_shape\n",
    "    f_h, f_w = filter_shape\n",
    "    out_h = int((in_h + 2*pad - f_h)//stride + 1)\n",
    "    out_w = int((in_w + 2*pad - f_w)//stride + 1)\n",
    "    return out_h, out_w"
   ]
  },
  {
   "cell_type": "code",
   "execution_count": 17,
   "metadata": {},
   "outputs": [
    {
     "data": {
      "text/plain": [
       "(4, 4)"
      ]
     },
     "execution_count": 17,
     "metadata": {},
     "output_type": "execute_result"
    }
   ],
   "source": [
    "#検証\n",
    "calc_out_shape((6, 6), (3, 3))"
   ]
  },
  {
   "cell_type": "markdown",
   "metadata": {},
   "source": [
    "### 【問題3】最大プーリング層の作成\n",
    "最大プーリング層のクラスMaxPool2Dを作成してください。\n",
    "バックプロパゲーションのためには、フォワードプロパゲーションのときの最大値のインデックス $(p,q)$ を保持しておく必要があります。フォワード時に最大値を持っていた箇所にそのままの誤差を流し、そこ以外には0を入れるためです。\n",
    "\n"
   ]
  },
  {
   "cell_type": "markdown",
   "metadata": {},
   "source": [
    "#### 回答"
   ]
  },
  {
   "cell_type": "code",
   "execution_count": 30,
   "metadata": {},
   "outputs": [],
   "source": [
    "class MaxPool2D:\n",
    "    def __init__(self, pool_h=3, pool_w=3, stride=1, pad=0):\n",
    "        self.pool_h = pool_h\n",
    "        self.pool_w = pool_w\n",
    "        self.stride = stride\n",
    "        self.pad = pad\n",
    "        \n",
    "        self.X = None\n",
    "        self.arg_max = None\n",
    "\n",
    "    def forward(self, X):\n",
    "        N, C, H, W = X.shape\n",
    "        out_h = int(1 + (H - self.pool_h) / self.stride)\n",
    "        out_w = int(1 + (W - self.pool_w) / self.stride)\n",
    "\n",
    "        col = im2col(X, self.pool_h, self.pool_w, self.stride, self.pad)\n",
    "        col = col.reshape(-1, self.pool_h*self.pool_w)\n",
    "\n",
    "        arg_max = np.argmax(col, axis=1)\n",
    "        out = np.max(col, axis=1)\n",
    "        out = out.reshape(N, out_h, out_w, C).transpose(0, 3, 1, 2)\n",
    "\n",
    "        self.X = X\n",
    "        self.arg_max = arg_max\n",
    "\n",
    "        return out\n",
    "\n",
    "    def backward(self, dout):\n",
    "        dout = dout.transpose(0, 2, 3, 1)\n",
    "        \n",
    "        pool_size = self.pool_h * self.pool_w\n",
    "        dmax = np.zeros((dout.size, pool_size))\n",
    "        dmax[np.arange(self.arg_max.size), self.arg_max.flatten()] = dout.flatten()\n",
    "        dmax = dmax.reshape(dout.shape + (pool_size,)) \n",
    "        \n",
    "        dcol = dmax.reshape(dmax.shape[0] * dmax.shape[1] * dmax.shape[2], -1)\n",
    "        dx = col2im(dcol, self.X.shape, self.pool_h, self.pool_w, self.stride, self.pad)\n",
    "        \n",
    "        return dx"
   ]
  },
  {
   "cell_type": "markdown",
   "metadata": {},
   "source": [
    "### 【問題4】（アドバンス課題）平均プーリングの作成\n",
    "平均プーリング層のクラスAveragePool2Dを作成してください。\n",
    "\n",
    "\n",
    "範囲内の最大値ではなく、平均値を出力とするプーリング層です。\n",
    "\n",
    "\n",
    "画像認識関係では最大プーリング層が一般的で、平均プーリングはあまり使われません。\n",
    "\n"
   ]
  },
  {
   "cell_type": "markdown",
   "metadata": {},
   "source": [
    "### 【問題5】平滑化\n",
    "平滑化するためのFlattenクラスを作成してください。\n",
    "\n",
    "\n",
    "フォワードのときはチャンネル、高さ、幅の3次元を1次元にreshapeします。その値は記録しておき、バックワードのときに再びreshapeによって形を戻します。\n",
    "\n",
    "\n",
    "この平滑化のクラスを挟むことで出力前の全結合層に適した配列を作ることができます。"
   ]
  },
  {
   "cell_type": "markdown",
   "metadata": {},
   "source": [
    "#### 回答"
   ]
  },
  {
   "cell_type": "code",
   "execution_count": 34,
   "metadata": {},
   "outputs": [],
   "source": [
    "#(N, C, H ,W)\n",
    "\n",
    "class Flatten:\n",
    "    def __init__(self):\n",
    "        self.channel = None\n",
    "        self.height = None\n",
    "        self.width = None\n",
    "    \n",
    "    def forward(self, X):\n",
    "        self.channel = X.shape[1]\n",
    "        self.height = X.shape[2]\n",
    "        self.width = X.shape[3]\n",
    "        return X.reshape(X.shape[0], -1)\n",
    "\n",
    "    def backward(self, dout):\n",
    "        return dout.reshape(dout.shape[0], self.channel, self.height, self.width)"
   ]
  },
  {
   "cell_type": "markdown",
   "metadata": {},
   "source": [
    "### 【問題6】学習と推定\n",
    "作成したConv2dを使用してMNISTを学習・推定し、Accuracyを計算してください。\n",
    "\n",
    "\n",
    "精度は低くともまずは動くことを目指してください。"
   ]
  },
  {
   "cell_type": "markdown",
   "metadata": {},
   "source": [
    "#### 回答"
   ]
  },
  {
   "cell_type": "code",
   "execution_count": 39,
   "metadata": {},
   "outputs": [],
   "source": [
    "from collections import OrderedDict\n",
    "\n",
    "class ScratchDeepNeuralNetrowkClassifier():\n",
    "    def __init__(self, lr, batch_size=20, max_iter=3):\n",
    "        self.batch_size = batch_size\n",
    "        self.max_iter = max_iter\n",
    "        self.train_loss = []\n",
    "        self.test_loss = []\n",
    "        \n",
    "        # レイヤの生成\n",
    "        initializer = XavierInitializer()\n",
    "        initializer_conv = XavierInitializer_conv()\n",
    "        optimizer = SGD(lr=lr)\n",
    "        self.layers = OrderedDict()\n",
    "        self.layers[\"Conv2d_1\"] = Conv2d(initializer_conv, optimizer)\n",
    "        self.layers[\"ReLU_1\"] = Relu()\n",
    "        self.layers[\"Pooling_1\"] = MaxPool2D(stride=2)\n",
    "        self.layers[\"Flatten\"] = Flatten()\n",
    "        self.layers[\"FC1\"] = FC(16, 100, initializer, optimizer)\n",
    "        self.layers[\"ReLU_2\"] = Relu()\n",
    "        self.layers[\"FC2\"] = FC(100, 50, initializer, optimizer)\n",
    "        self.layers[\"ReLU_3\"] = Relu()\n",
    "        self.layers[\"FC3\"] = FC(50, 10, initializer, optimizer)\n",
    "        self.lastLayer = Softmax()\n",
    "    \n",
    "    def fit(self, X, y, X_val=None, y_val=None):\n",
    "        # 1エポックの繰り返し数\n",
    "        iter_num = int(len(X) / self.batch_size)\n",
    "            \n",
    "        # エポックを複数回繰り返す\n",
    "        for i_ in range(self.max_iter):\n",
    "            # 損失計算用\n",
    "            tmp_loss_train = []\n",
    "            tmp_loss_val = []\n",
    "\n",
    "            # 1エポック\n",
    "            for j_ in range(iter_num):\n",
    "                batch_mask = np.random.choice(X.shape[0], self.batch_size)\n",
    "                batch_mask_val = np.random.choice(X_val.shape[0], self.batch_size)\n",
    "                X_batch = X[batch_mask]\n",
    "                y_batch = y[batch_mask]\n",
    "                X_val_batch = X_val[batch_mask_val]\n",
    "                y_val_batch = y_val[batch_mask_val]\n",
    "                \n",
    "                self.gradient(X_batch, y_batch)\n",
    "                \n",
    "                loss = self.loss(X_batch, y_batch)\n",
    "                tmp_loss_train.append(loss)\n",
    "                if (X_val is not None) and (y_val is not None):\n",
    "                    loss_test = self.loss(X_val_batch, y_val_batch)\n",
    "                    tmp_loss_val.append(loss_test)\n",
    "            \n",
    "            self.train_loss.append(sum(tmp_loss_train)/len(tmp_loss_train))\n",
    "            self.test_loss.append(sum(tmp_loss_val)/len(tmp_loss_val))\n",
    "                \n",
    "    def predict(self, X):\n",
    "        \"\"\"\n",
    "        ニューラルネットワーク分類器を使い推定する。\n",
    "\n",
    "        Parameters\n",
    "        ----------\n",
    "        X : 次の形のndarray, shape (n_samples, n_features)\n",
    "            サンプル\n",
    "\n",
    "        Returns\n",
    "        -------\n",
    "            次の形のndarray, shape (n_samples, 1)\n",
    "            推定結果\n",
    "        \"\"\"\n",
    "        for layer in self.layers.values():\n",
    "            X = layer.forward(X)\n",
    "            \n",
    "        pred = np.argmax(X, axis=1)\n",
    "        \n",
    "        return pred\n",
    "    \n",
    "    def loss(self, X, t):\n",
    "        for layer in self.layers.values():\n",
    "            X = layer.forward(X)\n",
    "        \n",
    "        return self.lastLayer.forward(X, t)\n",
    "\n",
    "    def gradient(self, X, t):\n",
    "        self.loss(X, t)\n",
    "        \n",
    "        dout = 1\n",
    "        dout = self.lastLayer.backward(dout)\n",
    "        \n",
    "        layers = list(self.layers.values())\n",
    "        layers.reverse()\n",
    "        for layer in layers:\n",
    "            dout = layer.backward(dout)"
   ]
  },
  {
   "cell_type": "code",
   "execution_count": 40,
   "metadata": {},
   "outputs": [],
   "source": [
    "dnn = ScratchDeepNeuralNetrowkClassifier(lr=0.1, batch_size=20, max_iter=10)\n",
    "dnn.fit(X_train, y_train, X_val, y_val)"
   ]
  },
  {
   "cell_type": "code",
   "execution_count": 43,
   "metadata": {},
   "outputs": [
    {
     "name": "stdout",
     "output_type": "stream",
     "text": [
      "予測： [3 6 9 7 7 0 2 9 0 2 9 1 6 8 9 7 8 6 0 1 1 1 5 3 8 2 2 8 1 1 1 9 6 9 0 0 5\n",
      " 2 4 9 0 4 7 6 4 9 7 2 8 4 6 6 4 3 2 7 6 3 7 1 4 3 0 3 1 7 2 1 7 4 2 4 3 0\n",
      " 3 9 2 9 4 6 4 4 6 0 7 4 3 1 3 0 2 3 7 4 2 2 1 9 8 2]\n",
      "正答率:0.83\n"
     ]
    }
   ],
   "source": [
    "from sklearn.metrics import accuracy_score\n",
    "\n",
    "y_val = np.argmax(y_val, axis=1)\n",
    "y_pred = dnn.predict(X_val)\n",
    "\n",
    "print(\"予測：\", y_pred)\n",
    "print(\"正答率:{}\".format(accuracy_score(y_pred, y_val)))"
   ]
  },
  {
   "cell_type": "code",
   "execution_count": 44,
   "metadata": {},
   "outputs": [
    {
     "data": {
      "image/png": "[encoded data removed]",
      "text/plain": [
       "<Figure size 432x288 with 1 Axes>"
      ]
     },
     "metadata": {
      "needs_background": "light"
     },
     "output_type": "display_data"
    }
   ],
   "source": [
    "plt.plot(np.arange(1, len(dnn.train_loss)+1), dnn.train_loss, label=\"train_loss\")\n",
    "plt.plot(np.arange(1, len(dnn.train_loss)+1), dnn.test_loss, label=\"val_loss\")\n",
    "plt.legend()\n",
    "plt.show()"
   ]
  },
  {
   "cell_type": "markdown",
   "metadata": {},
   "source": [
    "### 【問題7】（アドバンス課題）LeNet\n",
    "CNNで画像認識を行う際は、フィルタサイズや層の数などを１から考えるのではなく、有名な構造を利用することが一般的です。現在では実用的に使われることはありませんが、歴史的に重要なのは1998年の LeNet です。この構造を再現してMNISTに対して動かし、Accuracyを計算してください。\n",
    "\n",
    "\n",
    "[Y. LeCun, L. Bottou, Y. Bengio, and P. Haffner. Gradient-based learning applied to document recognition. Proceedings of the IEEE, 86(11):2278–2324, 1998.](http://yann.lecun.com/exdb/publis/pdf/lecun-98.pdf)\n",
    "\n",
    "![](https://t.gyazo.com/teams/diveintocode/83358987a273743a589b9388dfdf59ac.png)\n",
    "\n",
    "※上記論文から引用\n",
    "\n",
    "\n",
    "サブサンプリングとは現在のプーリングに相当するものです。現代風に以下のように作ってみることにします。活性化関数も当時はシグモイド関数ですが、ReLUとします。\n",
    "\n",
    "\n",
    "1. 畳み込み層　出力チャンネル数6、フィルタサイズ5×5、ストライド1\n",
    "2. ReLU\n",
    "3. 最大プーリング\n",
    "4. 畳み込み層　出力チャンネル数16、フィルタサイズ5×5、ストライド1\n",
    "5. ReLU\n",
    "6. 最大プーリング\n",
    "7. 平滑化\n",
    "8. 全結合層　出力ノード数120\n",
    "9. ReLU\n",
    "10. 全結合層　出力ノード数84\n",
    "11. ReLU\n",
    "12. 全結合層　出力ノード数10\n",
    "13. ソフトマックス関数\n"
   ]
  },
  {
   "cell_type": "markdown",
   "metadata": {},
   "source": [
    "### 【問題8】（アドバンス課題）有名な画像認識モデルの調査\n",
    "CNNの代表的な構造としてははAlexNet(2012)、VGG16(2014)などがあります。こういったものはフレームワークで既に用意されていることも多いです。\n",
    "\n",
    "\n",
    "どういったものがあるか簡単に調べてまとめてください。名前だけでも見ておくと良いでしょう。\n",
    "\n",
    "\n",
    "《参考》\n",
    "\n",
    "\n",
    "[Applications - Keras Documentation](https://keras.io/ja/applications/)"
   ]
  },
  {
   "cell_type": "markdown",
   "metadata": {},
   "source": [
    "### 【問題9】出力サイズとパラメータ数の計算\n",
    "CNNモデルを構築する際には、全結合層に入力する段階で特徴量がいくつになっているかを事前に計算する必要があります。\n",
    "\n",
    "\n",
    "また、巨大なモデルを扱うようになると、メモリや計算速度の関係でパラメータ数の計算は必須になってきます。フレームワークでは各層のパラメータ数を表示させることが可能ですが、意味を理解していなくては適切な調整が行えません。\n",
    "\n",
    "\n",
    "以下の3つの畳み込み層の出力サイズとパラメータ数を計算してください。パラメータ数についてはバイアス項も考えてください。\n",
    "\n",
    "\n",
    "1.\n",
    "\n",
    "\n",
    "- 入力サイズ : 144×144, 3チャンネル\n",
    "- フィルタサイズ : 3×3, 6チャンネル\n",
    "- ストライド : 1\n",
    "- パディング : なし\n",
    "\n",
    "2.\n",
    "\n",
    "\n",
    "- 入力サイズ : 60×60, 24チャンネル\n",
    "- フィルタサイズ : 3×3, 48チャンネル\n",
    "- ストライド　: 1\n",
    "- パディング : なし\n",
    "\n",
    "3.\n",
    "\n",
    "\n",
    "- 入力サイズ : 20×20, 10チャンネル\n",
    "- フィルタサイズ: 3×3, 20チャンネル\n",
    "- ストライド : 2\n",
    "- パディング : なし\n",
    "\n",
    "＊最後の例は丁度良く畳み込みをすることができない場合です。フレームワークでは余ったピクセルを見ないという処理が行われることがあるので、その場合を考えて計算してください。端が欠けてしまうので、こういった設定は好ましくないという例です。"
   ]
  },
  {
   "cell_type": "markdown",
   "metadata": {},
   "source": [
    "#### 回答"
   ]
  },
  {
   "cell_type": "code",
   "execution_count": 2,
   "metadata": {},
   "outputs": [
    {
     "name": "stdout",
     "output_type": "stream",
     "text": [
      "出力サイズ： (142, 142)\n",
      "パラメータ数： 168\n"
     ]
    }
   ],
   "source": [
    "#1.\n",
    "print(\"出力サイズ：\", calc_out_shape((144, 144), (3, 3)))\n",
    "print(\"パラメータ数：\", 3*3*3*6 + 6)"
   ]
  },
  {
   "cell_type": "code",
   "execution_count": 3,
   "metadata": {},
   "outputs": [
    {
     "name": "stdout",
     "output_type": "stream",
     "text": [
      "出力サイズ： (58, 58)\n",
      "パラメータ数： 10416\n"
     ]
    }
   ],
   "source": [
    "#2.\n",
    "print(\"出力サイズ：\", calc_out_shape((60, 60), (3, 3)))\n",
    "print(\"パラメータ数：\", 24*3*3*48 + 48)"
   ]
  },
  {
   "cell_type": "code",
   "execution_count": 4,
   "metadata": {},
   "outputs": [
    {
     "name": "stdout",
     "output_type": "stream",
     "text": [
      "出力サイズ： (9, 9)\n",
      "パラメータ数： 1820\n"
     ]
    }
   ],
   "source": [
    "#3.\n",
    "print(\"出力サイズ：\", calc_out_shape((20, 20), (3, 3), stride=2))\n",
    "print(\"パラメータ数：\", 10*3*3*20 + 20)"
   ]
  },
  {
   "cell_type": "markdown",
   "metadata": {},
   "source": [
    "### 【問題10】（アドバンス課題）フィルタサイズに関する調査\n",
    "畳み込み層にはフィルタサイズというハイパーパラメータがありますが、2次元畳み込み層において現在では3×3と1×1の使用が大半です。以下のそれぞれを調べたり、自分なりに考えて説明してください。\n",
    "\n",
    "\n",
    "- 7×7などの大きめのものではなく、3×3のフィルタが一般的に使われる理由\n",
    "- 高さや幅方向を持たない1×1のフィルタの効果"
   ]
  }
 ],
 "metadata": {
  "kernelspec": {
   "display_name": "Python 3",
   "language": "python",
   "name": "python3"
  },
  "language_info": {
   "codemirror_mode": {
    "name": "ipython",
    "version": 3
   },
   "file_extension": ".py",
   "mimetype": "text/x-python",
   "name": "python",
   "nbconvert_exporter": "python",
   "pygments_lexer": "ipython3",
   "version": "3.7.2"
  },
  "toc": {
   "base_numbering": 1,
   "nav_menu": {},
   "number_sections": true,
   "sideBar": true,
   "skip_h1_title": false,
   "title_cell": "Table of Contents",
   "title_sidebar": "Contents",
   "toc_cell": false,
   "toc_position": {},
   "toc_section_display": true,
   "toc_window_display": false
  },
  "varInspector": {
   "cols": {
    "lenName": 16,
    "lenType": 16,
    "lenVar": 40
   },
   "kernels_config": {
    "python": {
     "delete_cmd_postfix": "",
     "delete_cmd_prefix": "del ",
     "library": "var_list.py",
     "varRefreshCmd": "print(var_dic_list())"
    },
    "r": {
     "delete_cmd_postfix": ") ",
     "delete_cmd_prefix": "rm(",
     "library": "var_list.r",
     "varRefreshCmd": "cat(var_dic_list()) "
    }
   },
   "types_to_exclude": [
    "module",
    "function",
    "builtin_function_or_method",
    "instance",
    "_Feature"
   ],
   "window_display": false
  }
 },
 "nbformat": 4,
 "nbformat_minor": 2
}
