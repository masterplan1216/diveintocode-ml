{
 "cells": [
  {
   "cell_type": "markdown",
   "metadata": {},
   "source": [
    "##### Sprintの目的\n",
    "- スクラッチを通してCNNの基礎を理解する"
   ]
  },
  {
   "cell_type": "code",
   "execution_count": 1,
   "metadata": {},
   "outputs": [],
   "source": [
    "import pandas as pd\n",
    "import matplotlib.pyplot as plt\n",
    "import seaborn as sns\n",
    "import numpy as np\n",
    "%matplotlib inline\n",
    "\n",
    "from decimal import Decimal, ROUND_HALF_UP\n",
    "\n",
    "from sklearn.model_selection import train_test_split\n",
    "from sklearn.model_selection import KFold\n",
    "from sklearn.preprocessing import StandardScaler\n",
    "\n",
    "#np.set_printoptions(threshold=0)"
   ]
  },
  {
   "cell_type": "markdown",
   "metadata": {},
   "source": [
    "畳み込みニューラルネットワーク（CNN） のクラスをスクラッチで作成していきます。NumPyなど最低限のライブラリのみを使いアルゴリズムを実装していきます。\n",
    "\n",
    "\n",
    "このSprintでは1次元の 畳み込み層 を作成し、畳み込みの基礎を理解することを目指します。次のSprintでは2次元畳み込み層とプーリング層を作成することで、一般的に画像に対して利用されるCNNを完成させます。\n",
    "\n",
    "\n",
    "クラスの名前はScratch1dCNNClassifierとしてください。クラスの構造などは前のSprintで作成したScratchDeepNeuralNetrowkClassifierを参考にしてください。\n",
    "\n"
   ]
  },
  {
   "cell_type": "markdown",
   "metadata": {},
   "source": [
    "#### 1次元畳み込み層とは\n",
    "CNNでは画像に対しての2次元畳み込み層が定番ですが、ここでは理解しやすくするためにまずは1次元畳み込み層を実装します。1次元畳み込みは実用上は自然言語や波形データなどの 系列データ で使われることが多いです。\n",
    "\n",
    "\n",
    "畳み込みは任意の次元に対して考えることができ、立体データに対しての3次元畳み込みまではフレームワークで一般的に用意されています。\n",
    "\n",
    "検証には引き続きMNISTデータセットを使用します。1次元畳み込みでは全結合のニューラルネットワークと同様に平滑化されたものを入力します。"
   ]
  },
  {
   "cell_type": "markdown",
   "metadata": {},
   "source": [
    "#### データセットの用意\n",
    "検証には引き続きMNISTデータセットを使用します。1次元畳み込みでは全結合のニューラルネットワークと同様に平滑化されたものを入力します。"
   ]
  },
  {
   "cell_type": "code",
   "execution_count": 2,
   "metadata": {},
   "outputs": [
    {
     "name": "stderr",
     "output_type": "stream",
     "text": [
      "Using TensorFlow backend.\n"
     ]
    },
    {
     "name": "stdout",
     "output_type": "stream",
     "text": [
      "(48000, 784) (48000, 10)\n",
      "(12000, 784) (12000, 10)\n"
     ]
    }
   ],
   "source": [
    "from keras.datasets import mnist\n",
    "(X_train, y_train), (X_test, y_test) = mnist.load_data()\n",
    "\n",
    "#平滑化、正規化\n",
    "X_train = X_train.reshape(-1, 784)\n",
    "X_test = X_test.reshape(-1, 784)\n",
    "X_train = X_train.astype(np.float)\n",
    "X_test = X_test.astype(np.float)\n",
    "X_train /= 255\n",
    "X_test /= 255\n",
    "\n",
    "#ワンホットエンコーディング\n",
    "from sklearn.preprocessing import OneHotEncoder\n",
    "enc = OneHotEncoder(handle_unknown='ignore', sparse=False)\n",
    "y_train_one_hot = enc.fit_transform(y_train[:, np.newaxis])\n",
    "y_test_one_hot = enc.transform(y_test[:, np.newaxis])\n",
    "\n",
    "X_train, X_val, y_train, y_val = train_test_split(X_train, y_train_one_hot, test_size=0.2)\n",
    "\n",
    "print(X_train.shape, y_train.shape) # (48000, 784)\n",
    "print(X_val.shape, y_val.shape)"
   ]
  },
  {
   "cell_type": "markdown",
   "metadata": {},
   "source": [
    "### 【問題1】チャンネル数を1に限定した1次元畳み込み層クラスの作成\n",
    "チャンネル数を1に限定した1次元畳み込み層のクラスSimpleConv1dを作成してください。基本構造は前のSprintで作成した全結合層のFCクラスと同じになります。なお、重みの初期化に関するクラスは必要に応じて作り変えてください。Xavierの初期値などを使う点は全結合層と同様です。\n",
    "\n",
    "\n",
    "ここでは パディング は考えず、ストライド も1に固定します。また、複数のデータを同時に処理することも考えなくて良く、バッチサイズは1のみに対応してください。この部分の拡張はアドバンス課題とします。\n",
    "\n",
    "\n",
    "フォワードプロパゲーションの数式は以下のようになります。\n",
    "\n",
    "$$\n",
    "a_i = \\sum_{s=0}^{F-1}x_{(i+s)}w_s + b\n",
    "$$\n",
    "$a_i$ : 出力される配列のi番目の値\n",
    "\n",
    "\n",
    "$F$ : フィルタのサイズ\n",
    "\n",
    "\n",
    "$x_{(i+s)}$ : 入力の配列の(i+s)番目の値\n",
    "\n",
    "\n",
    "$w_s$ : 重みの配列のs番目の値\n",
    "\n",
    "\n",
    "$b$ : バイアス項\n",
    "\n",
    "\n",
    "全てスカラーです。\n",
    "\n",
    "\n",
    "次に更新式です。ここがAdaGradなどに置き換えられる点は全結合層と同様です。\n",
    "\n",
    "$$\n",
    "w_s' = w_s - α\\frac{∂L}{∂w_s}\n",
    "$$\n",
    "\n",
    "$$\n",
    "b' = b - α\\frac{∂L}{∂b}\n",
    "$$\n",
    "\n",
    "$\\alpha$ : 学習率\n",
    "\n",
    "\n",
    "$\\frac{\\partial L}{\\partial w_s}$ : $w_s$ に関する損失 $L$ の勾配\n",
    "\n",
    "\n",
    "$\\frac{\\partial L}{\\partial b}$ : $b$ に関する損失 $L$ の勾配\n",
    "\n",
    "\n",
    "勾配 $\\frac{\\partial L}{\\partial w_s}$ や $\\frac{\\partial L}{\\partial b}$ を求めるためのバックプロパゲーションの数式が以下です。\n",
    "$$\n",
    "\\frac{∂L}{∂w_s} = \\sum_{i=0}^{N_{out} - 1}\\frac{∂L}{∂a_i}x_{(i + s)}\n",
    "$$\n",
    "$$\n",
    "\\frac{∂L}{∂b} = \\sum_{i=0}^{N_{out} - 1}\\frac{∂L}{∂a_i}\n",
    "$$\n",
    "\n",
    "$\\frac{\\partial L}{\\partial a_i}$ : 勾配の配列のi番目の値\n",
    "\n",
    "\n",
    "$N_{out}$ : 出力のサイズ\n",
    "\n",
    "\n",
    "前の層に流す誤差の数式は以下です。\n",
    "\n",
    "$$\n",
    "\\frac{∂L}{∂x_i} = \\sum_{s=0}^{F-1}\\frac{∂L}{∂a_{(j-s)}}w_s\n",
    "$$\n",
    "\n",
    "$\\frac{\\partial L}{\\partial x_j}$ : 前の層に流す誤差の配列のj番目の値\n",
    "\n",
    "\n",
    "ただし、 $j-s<0$ または $j-s>N_{out}-1$ のとき $\\frac{\\partial L}{\\partial a_{(j-s)}} =0$ です。\n",
    "\n",
    "\n",
    "全結合層との大きな違いは、重みが複数の特徴量に対して共有されていることです。この場合は共有されている分の誤差を全て足すことで勾配を求めます。計算グラフ上での分岐はバックプロパゲーションの際に誤差の足し算をすれば良いことになります。\n",
    "\n"
   ]
  },
  {
   "cell_type": "markdown",
   "metadata": {},
   "source": [
    "#### 回答"
   ]
  },
  {
   "cell_type": "code",
   "execution_count": 3,
   "metadata": {},
   "outputs": [],
   "source": [
    "class SimpleConv1d:\n",
    "    def __init__(self, initializer, optimizer, S=1, P=0):\n",
    "        self.w = initializer.W()\n",
    "        self.b = initializer.B()\n",
    "        self.optimizer = optimizer\n",
    "        self.S = S\n",
    "        self.P = P\n",
    "    \n",
    "    def forward(self, Z):\n",
    "        \"\"\"\n",
    "        Z : 順伝播された特徴量データ\n",
    "        \"\"\"\n",
    "        out_shape = calc_out_shape(Z, self.P, self.w, self.S)\n",
    "        #indexの配列作成\n",
    "        id_A = np.arange(out_shape).reshape(-1, 1)\n",
    "        id_w = np.arange(len(self.w))\n",
    "        id_array = id_A + id_w\n",
    "        A = Z[id_array] @ self.w.T + self.b\n",
    "        \n",
    "        #参考\n",
    "        #stride_data = np.array([X[i:i+3] for i in range(out_shape)]) \n",
    "        #A = stride_data @ self.w.T + self.b\n",
    "        \n",
    "        return A\n",
    "    \n",
    "    def backward(self, Z, dA):\n",
    "        \"\"\"\n",
    "        Z : 順伝播された特徴量データ\n",
    "        dA : 逆伝播されたAに関するLoss勾配\n",
    "        \"\"\"\n",
    "        #indexの配列作成\n",
    "        id_dA = np.arange(len(dA))\n",
    "        id_w = np.arange(len(self.w))\n",
    "        \n",
    "        #db\n",
    "        self.db = np.sum(dA, axis=0)\n",
    "        \n",
    "        #dw\n",
    "        id_array_dw = id_dA.reshape(-1, 1) + id_w\n",
    "        self.dw = dA @ Z[id_array_dw]\n",
    "        \n",
    "        #dZ\n",
    "        id_array_dZ = id_Z - id_dA\n",
    "        mask = np.where((id_array_dZ < 0) | (id_array_dZ > n_out)) # | はorの意味\n",
    "        id_array_dZ[mask] = 0\n",
    "        w_mask = w[id_array_dZ]\n",
    "        w_mask[mask] = 0\n",
    "        self.dZ = dA @ w_mask.T\n",
    "        \n",
    "        return self.dZ"
   ]
  },
  {
   "cell_type": "code",
   "execution_count": 4,
   "metadata": {},
   "outputs": [],
   "source": [
    "def calc_out_shape(IN, P, F, S):\n",
    "    \"\"\"\n",
    "    「入力データ、パディング、フィルタ、ストライド」を受け取り、出力データのサイズを返す\n",
    "    2次元データまで対応\n",
    "    \"\"\"\n",
    "    if IN.ndim == 1:\n",
    "        out_shape = int((len(IN) + 2*P - len(F))/S + 1)\n",
    "    else:\n",
    "        in_h, in_w = IN.shape\n",
    "        f_h, f_w = F.shape\n",
    "        out_h = int((in_h + 2*P - f_h)/S + 1)\n",
    "        out_w = int((in_w + 2*P - f_w)/S + 1)\n",
    "        out_shape = out_h, out_w\n",
    "    \n",
    "    return out_shape"
   ]
  },
  {
   "cell_type": "code",
   "execution_count": 5,
   "metadata": {},
   "outputs": [
    {
     "name": "stdout",
     "output_type": "stream",
     "text": [
      "id_dA：\n",
      " [0 1]\n",
      "id_Z：\n",
      " [[0]\n",
      " [1]\n",
      " [2]\n",
      " [3]]\n",
      "id_w：\n",
      " [[0]\n",
      " [1]\n",
      " [2]]\n",
      "[[ 0 -1]\n",
      " [ 1  0]\n",
      " [ 2  1]\n",
      " [ 3  2]]\n",
      "(array([0, 3]), array([1, 0]))\n",
      "id_array_dZ:\n",
      " [[0 0]\n",
      " [1 0]\n",
      " [2 1]\n",
      " [0 2]]\n",
      "w_mask1:\n",
      " [[3 3]\n",
      " [5 3]\n",
      " [7 5]\n",
      " [3 7]]\n",
      "w_mask2:\n",
      " [[3 0]\n",
      " [5 3]\n",
      " [7 5]\n",
      " [0 7]]\n",
      "dZ:\n",
      " [ 30 110 170 140]\n"
     ]
    }
   ],
   "source": [
    "#参考\n",
    "P = 0\n",
    "S = 1\n",
    "x = np.array([1,2,3,4])\n",
    "w = np.array([3, 5, 7])\n",
    "b = np.array([1])\n",
    "dA = np.array([10, 20])\n",
    "\n",
    "n_out = calc_out_shape(x, P, w, S)\n",
    "\n",
    "id_dA = np.arange(dA.shape[0])  #dA分のindexを生成\n",
    "print(\"id_dA：\\n\", id_dA)\n",
    "id_Z = np.arange(x.shape[0])[:,None]  #出力層分のindexを生成\n",
    "print(\"id_Z：\\n\", id_Z)\n",
    "id_w = np.arange(w.shape[0])[:,None]  #フィルタ数分のindexを生成\n",
    "print(\"id_w：\\n\", id_w)\n",
    "\n",
    "# dZ計算\n",
    "id_array_dZ = id_Z - id_dA  #ブロードキャスト用index\n",
    "print(id_array_dZ)\n",
    "mask = np.where((id_array_dZ < 0) | (id_array_dZ > n_out))\n",
    "print(mask)\n",
    "id_array_dZ[mask] = 0\n",
    "print(\"id_array_dZ:\\n\", id_array_dZ)\n",
    "w_mask = w[id_array_dZ]\n",
    "print(\"w_mask1:\\n\", w_mask)\n",
    "w_mask[mask] = 0\n",
    "print(\"w_mask2:\\n\", w_mask)\n",
    "dZ = np.sum(w_mask * dA, axis = 1)\n",
    "print(\"dZ:\\n\", dZ)"
   ]
  },
  {
   "cell_type": "markdown",
   "metadata": {},
   "source": [
    "### 【問題2】1次元畳み込み後の出力サイズの計算\n",
    "畳み込みを行うと特徴量の数が変化します。どのように変化するかは以下の数式から求められます。パディングやストライドも含めています。この計算を行う関数を作成してください。\n",
    "\n",
    "$$\n",
    "N_{out} = \\frac{N_{in} + 2P - F}{S} + 1\n",
    "$$\n",
    "\n",
    "$N_{out}$ : 出力のサイズ（特徴量の数）\n",
    "\n",
    "\n",
    "$N_{in}$ : 入力のサイズ（特徴量の数）\n",
    "\n",
    "\n",
    "$P$ : ある方向へのパディングの数\n",
    "\n",
    "\n",
    "$F$ : フィルタのサイズ\n",
    "\n",
    "\n",
    "$S$ : ストライドのサイズ\n",
    "\n"
   ]
  },
  {
   "cell_type": "markdown",
   "metadata": {},
   "source": [
    "#### 回答"
   ]
  },
  {
   "cell_type": "code",
   "execution_count": 6,
   "metadata": {},
   "outputs": [],
   "source": [
    "def calc_out_shape(IN, P, F, S):\n",
    "    \"\"\"\n",
    "    「入力データ、パディング、フィルタ、ストライド」を受け取り、出力データのサイズを返す\n",
    "    2次元データまで対応\n",
    "    \"\"\"\n",
    "    if IN.ndim == 1:\n",
    "        out_shape = int((len(IN) + 2*P - len(F))/S + 1)\n",
    "    else:\n",
    "        in_h, in_w = IN.shape\n",
    "        f_h, f_w = F.shape\n",
    "        out_h = int((in_h + 2*P - f_h)/S + 1)\n",
    "        out_w = int((in_w + 2*P - f_w)/S + 1)\n",
    "        out_shape = out_h, out_w\n",
    "    \n",
    "    return out_shape"
   ]
  },
  {
   "cell_type": "code",
   "execution_count": 7,
   "metadata": {},
   "outputs": [
    {
     "data": {
      "text/plain": [
       "2"
      ]
     },
     "execution_count": 7,
     "metadata": {},
     "output_type": "execute_result"
    }
   ],
   "source": [
    "#検証（1次元データの場合）\n",
    "P = 0\n",
    "S = 1\n",
    "x = np.array([1,2,3,4])\n",
    "w = np.array([3, 5, 7])\n",
    "b = np.array([1])\n",
    "\n",
    "calc_out_shape(x, P, w, S) #2"
   ]
  },
  {
   "cell_type": "code",
   "execution_count": 8,
   "metadata": {},
   "outputs": [
    {
     "data": {
      "text/plain": [
       "(4, 4)"
      ]
     },
     "execution_count": 8,
     "metadata": {},
     "output_type": "execute_result"
    }
   ],
   "source": [
    "#検証(2次元データの場合)\n",
    "IN = np.arange(16).reshape(4, 4)\n",
    "P = 1\n",
    "F = np.arange(9).reshape(3, 3)\n",
    "S = 1\n",
    "\n",
    "calc_out_shape(IN, P, F, S) #(4, 4)"
   ]
  },
  {
   "cell_type": "code",
   "execution_count": 9,
   "metadata": {},
   "outputs": [],
   "source": [
    "def get_out_shape(IN, f_size, S=1, P=0):\n",
    "    return int((IN + 2*P - f_size) // S + 1)"
   ]
  },
  {
   "cell_type": "markdown",
   "metadata": {},
   "source": [
    "### 【問題3】小さな配列での1次元畳み込み層の実験\n",
    "次に示す小さな配列でフォワードプロパゲーションとバックプロパゲーションが正しく行えているか確認してください。\n",
    "\n",
    "\n",
    "入力x、重みw、バイアスbを次のようにします。"
   ]
  },
  {
   "cell_type": "code",
   "execution_count": 10,
   "metadata": {},
   "outputs": [],
   "source": [
    "class SimpleConv1d_test:\n",
    "    def __init__(self, w, b, S=1, P=0):\n",
    "        self.w = w\n",
    "        self.b = b\n",
    "        self.S = S\n",
    "        self.P = P\n",
    "    \n",
    "    def forward(self, Z):\n",
    "        \"\"\"\n",
    "        Z : 順伝播された特徴量データ\n",
    "        \"\"\"\n",
    "        out_shape = calc_out_shape(Z, self.P, self.w, self.S)\n",
    "        #indexの配列作成\n",
    "        id_A = np.arange(out_shape).reshape(-1, 1)\n",
    "        id_w = np.arange(len(self.w))\n",
    "        id_array = id_A + id_w\n",
    "        A = Z[id_array] @ self.w.T + self.b\n",
    "        \n",
    "        #参考\n",
    "        #stride_data = np.array([X[i:i+3] for i in range(out_shape)]) \n",
    "        #A = stride_data @ self.w.T + self.b\n",
    "        \n",
    "        return A\n",
    "    \n",
    "    def backward(self, Z, dA):\n",
    "        \"\"\"\n",
    "        Z : 順伝播された特徴量データ\n",
    "        dA : 逆伝播されたAに関するLoss勾配\n",
    "        \"\"\"\n",
    "        #indexの配列作成\n",
    "        id_dA = np.arange(len(dA))\n",
    "        id_w = np.arange(len(self.w))\n",
    "        \n",
    "        #db\n",
    "        self.db = np.sum(dA, axis=0)\n",
    "        \n",
    "        #dw\n",
    "        id_array_dw = id_dA.reshape(-1, 1) + id_w\n",
    "        self.dw = dA @ Z[id_array_dw]\n",
    "        \n",
    "        #dZ\n",
    "        id_array_dZ = id_Z - id_dA\n",
    "        mask = np.where((id_array_dZ < 0) | (id_array_dZ > n_out)) # | はorの意味\n",
    "        id_array_dZ[mask] = 0\n",
    "        w_mask = w[id_array_dZ]\n",
    "        w_mask[mask] = 0\n",
    "        self.dZ = dA @ w_mask.T\n",
    "        \n",
    "        return self.db, self.dw, self.dZ"
   ]
  },
  {
   "cell_type": "markdown",
   "metadata": {},
   "source": [
    "#### 回答"
   ]
  },
  {
   "cell_type": "code",
   "execution_count": 11,
   "metadata": {},
   "outputs": [
    {
     "data": {
      "text/plain": [
       "array([35, 50])"
      ]
     },
     "execution_count": 11,
     "metadata": {},
     "output_type": "execute_result"
    }
   ],
   "source": [
    "#検証\n",
    "x = np.array([1,2,3,4])\n",
    "w = np.array([3, 5, 7])\n",
    "b = np.array([1])\n",
    "dA = np.array([10, 20])\n",
    "\n",
    "test = SimpleConv1d_test(w, b)\n",
    "test.forward(x)"
   ]
  },
  {
   "cell_type": "code",
   "execution_count": 12,
   "metadata": {},
   "outputs": [
    {
     "data": {
      "text/plain": [
       "(30, array([ 50,  80, 110]), array([ 30, 110, 170, 140]))"
      ]
     },
     "execution_count": 12,
     "metadata": {},
     "output_type": "execute_result"
    }
   ],
   "source": [
    "test.backward(x, dA)"
   ]
  },
  {
   "cell_type": "markdown",
   "metadata": {},
   "source": [
    "diverの例と一致している"
   ]
  },
  {
   "cell_type": "markdown",
   "metadata": {},
   "source": [
    "### 【問題4】チャンネル数を限定しない1次元畳み込み層クラスの作成\n",
    "チャンネル数を1に限定しない1次元畳み込み層のクラスConv1dを作成してください。  \n",
    "例えば以下の入力があった場合、"
   ]
  },
  {
   "cell_type": "code",
   "execution_count": 13,
   "metadata": {},
   "outputs": [
    {
     "data": {
      "text/plain": [
       "array([[1, 2, 3, 4],\n",
       "       [2, 3, 4, 5]])"
      ]
     },
     "metadata": {},
     "output_type": "display_data"
    },
    {
     "data": {
      "text/plain": [
       "array([[[1., 1., 1.],\n",
       "        [1., 1., 1.]],\n",
       "\n",
       "       [[1., 1., 1.],\n",
       "        [1., 1., 1.]],\n",
       "\n",
       "       [[1., 1., 1.],\n",
       "        [1., 1., 1.]]])"
      ]
     },
     "metadata": {},
     "output_type": "display_data"
    },
    {
     "data": {
      "text/plain": [
       "array([1, 2, 3])"
      ]
     },
     "metadata": {},
     "output_type": "display_data"
    }
   ],
   "source": [
    "x = np.array([[1, 2, 3, 4], [2, 3, 4, 5]]) # shape(2, 4)で、（入力チャンネル数、特徴量数）である。\n",
    "display(x)\n",
    "w = np.ones((3, 2, 3)) # 例の簡略化のため全て1とする。(出力チャンネル数、入力チャンネル数、フィルタサイズ)である。\n",
    "display(w)\n",
    "b = np.array([1, 2, 3]) # （出力チャンネル数）\n",
    "display(b)"
   ]
  },
  {
   "cell_type": "markdown",
   "metadata": {},
   "source": [
    "出力は以下のようになる。"
   ]
  },
  {
   "cell_type": "code",
   "execution_count": 14,
   "metadata": {},
   "outputs": [
    {
     "data": {
      "text/plain": [
       "array([[16, 22],\n",
       "       [17, 23],\n",
       "       [18, 24]])"
      ]
     },
     "metadata": {},
     "output_type": "display_data"
    }
   ],
   "source": [
    "a = np.array([[16, 22], [17, 23], [18, 24]]) # shape(3, 2)で、（出力チャンネル数、特徴量数）である。\n",
    "display(a)"
   ]
  },
  {
   "cell_type": "code",
   "execution_count": 15,
   "metadata": {},
   "outputs": [],
   "source": [
    "#魚本より\n",
    "\n",
    "def im2col(input_data, filter_h, filter_w, stride=1, pad=0):\n",
    "    \"\"\"\n",
    "    Parameters\n",
    "    ----------\n",
    "    input_data : (データ数, チャンネル, 高さ, 幅)の4次元配列からなる入力データ\n",
    "    filter_h : フィルターの高さ\n",
    "    filter_w : フィルターの幅\n",
    "    stride : ストライド\n",
    "    pad : パディング\n",
    "    Returns\n",
    "    -------\n",
    "    col : 2次元配列\n",
    "    \"\"\"\n",
    "    N, C, H, W = input_data.shape\n",
    "    out_h = (H + 2*pad - filter_h)//stride + 1\n",
    "    out_w = (W + 2*pad - filter_w)//stride + 1\n",
    "\n",
    "    img = np.pad(input_data, [(0,0), (0,0), (pad, pad), (pad, pad)], 'constant')\n",
    "    col = np.zeros((N, C, filter_h, filter_w, out_h, out_w))\n",
    "\n",
    "    for y in range(filter_h):\n",
    "        y_max = y + stride*out_h\n",
    "        for x in range(filter_w):\n",
    "            x_max = x + stride*out_w\n",
    "            col[:, :, y, x, :, :] = img[:, :, y:y_max:stride, x:x_max:stride]\n",
    "\n",
    "    col = col.transpose(0, 4, 5, 1, 2, 3).reshape(N*out_h*out_w, -1)\n",
    "    return col\n",
    "\n",
    "\n",
    "def col2im(col, input_shape, filter_h, filter_w, stride=1, pad=0):\n",
    "    \"\"\"\n",
    "    Parameters\n",
    "    ----------\n",
    "    col :\n",
    "    input_shape : 入力データの形状（例：(10, 1, 28, 28)）\n",
    "    filter_h :\n",
    "    filter_w\n",
    "    stride\n",
    "    pad\n",
    "    Returns\n",
    "    -------\n",
    "    \"\"\"\n",
    "    N, C, H, W = input_shape\n",
    "    out_h = (H + 2*pad - filter_h)//stride + 1\n",
    "    out_w = (W + 2*pad - filter_w)//stride + 1\n",
    "    col = col.reshape(N, out_h, out_w, C, filter_h, filter_w).transpose(0, 3, 4, 5, 1, 2)\n",
    "\n",
    "    img = np.zeros((N, C, H + 2*pad + stride - 1, W + 2*pad + stride - 1))\n",
    "    for y in range(filter_h):\n",
    "        y_max = y + stride*out_h\n",
    "        for x in range(filter_w):\n",
    "            x_max = x + stride*out_w\n",
    "            img[:, :, y:y_max:stride, x:x_max:stride] += col[:, :, y, x, :, :]\n",
    "\n",
    "    return img[:, :, pad:H + pad, pad:W + pad]"
   ]
  },
  {
   "cell_type": "code",
   "execution_count": 16,
   "metadata": {},
   "outputs": [],
   "source": [
    "def im2col_1d(input_data, filter_w, stride=1, pad=0):\n",
    "    \"\"\"\n",
    "    Parameters\n",
    "    ----------\n",
    "    input_data : (データ数, チャンネル, 幅)の3次元配列からなる入力データ\n",
    "    filter_w : フィルターの幅\n",
    "    stride : ストライド\n",
    "    pad : パディング\n",
    "    Returns\n",
    "    -------\n",
    "    col : 2次元配列\n",
    "    \"\"\"\n",
    "    N, C, W = input_data.shape\n",
    "    out_size = get_out_shape(W, filter_w, stride, pad)\n",
    "\n",
    "    img = np.pad(input_data, [(0, 0), (0, 0), (pad, pad)], 'constant')\n",
    "    col = np.zeros((N, C, filter_w, out_size))\n",
    "\n",
    "    for x in range(filter_w):\n",
    "        x_max = x + stride * out_size\n",
    "        col[:, :, x, :] = img[:, :, x:x_max:stride]\n",
    "\n",
    "    col = col.transpose(0, 3, 1, 2)\n",
    "    col = col.reshape(N * out_size, -1)\n",
    "    return col\n",
    "\n",
    "\n",
    "def col2im_1d(col, input_shape, filter_w, stride=1, pad=0):\n",
    "    \"\"\"\n",
    "    Parameters\n",
    "    ----------\n",
    "    col :\n",
    "    input_shape : 入力データの形状（例：(10, 1, 28, 28)）\n",
    "    filter_w\n",
    "    stride\n",
    "    pad\n",
    "    Returns\n",
    "    -------\n",
    "    \"\"\"\n",
    "    N, C, W = input_shape\n",
    "    out_size = get_out_shape(W, filter_w, stride, pad)\n",
    "\n",
    "    col = col.reshape(N, out_size, C, filter_w).transpose(0, 2, 3, 1)\n",
    "    img = np.zeros((N, C, W + 2 * pad +  stride - 1))\n",
    "    for x in range(filter_w):\n",
    "        x_max = x + stride * out_size\n",
    "        img[:, :, x:x_max:stride] += col[:, :, x, :]\n",
    "\n",
    "    return img[:, :, pad:W + pad]"
   ]
  },
  {
   "cell_type": "code",
   "execution_count": 17,
   "metadata": {},
   "outputs": [
    {
     "name": "stdout",
     "output_type": "stream",
     "text": [
      "x__ :\n",
      " [[[[1 2 3 4]]\n",
      "\n",
      "  [[2 3 4 5]]]]\n",
      "(1, 2, 1, 4)\n",
      "\n",
      "\n",
      "[[1. 2. 3. 2. 3. 4.]\n",
      " [2. 3. 4. 3. 4. 5.]]\n",
      "[[[[1. 4. 6. 4.]]\n",
      "\n",
      "  [[2. 6. 8. 5.]]]]\n",
      "-----------------------------\n",
      "x_ :\n",
      " [[[1 2 3 4]\n",
      "  [2 3 4 5]]]\n",
      "(1, 2, 4)\n",
      "\n",
      "\n",
      "[[1. 2. 3. 2. 3. 4.]\n",
      " [2. 3. 4. 3. 4. 5.]]\n",
      "[[[1. 4. 6. 4.]\n",
      "  [2. 6. 8. 5.]]]\n"
     ]
    }
   ],
   "source": [
    "# 「im2col と im2col_1d」 及び 「col2im と col2im_1d」の整合性確認\n",
    "\n",
    "x__ = x[np.newaxis, :, np.newaxis, :]\n",
    "print(\"x__ :\\n\", x__)\n",
    "print(x__.shape)\n",
    "print(\"\\n\")\n",
    "print(im2col(x__, 1, 3))\n",
    "print(col2im(im2col(x__, 1, 3), x__.shape, 1, 3))\n",
    "\n",
    "print(\"-----------------------------\")\n",
    "\n",
    "x_ = x[np.newaxis, :, :]\n",
    "print(\"x_ :\\n\", x_)\n",
    "print(x_.shape)\n",
    "print(\"\\n\")\n",
    "print(im2col_1d(x_, 3))\n",
    "print(col2im_1d(im2col_1d(x_, 3), x_.shape, 3))"
   ]
  },
  {
   "cell_type": "code",
   "execution_count": 18,
   "metadata": {},
   "outputs": [],
   "source": [
    "x = np.array([[1, 2, 3, 4], [2, 3, 4, 5]]) # shape(2, 4)で、（入力チャンネル数、特徴量数）である。\n",
    "w = np.ones((3, 2, 3)) # 例の簡略化のため全て1とする。(出力チャンネル数、入力チャンネル数、フィルタサイズ)である。\n",
    "b = np.array([1, 2, 3]) # （出力チャンネル数）\n",
    "\n",
    "def get_out_shape(IN, f_size, S=1, P=0):\n",
    "    return int((IN + 2*P - f_size) // S + 1)"
   ]
  },
  {
   "cell_type": "markdown",
   "metadata": {},
   "source": [
    "#### 回答"
   ]
  },
  {
   "cell_type": "code",
   "execution_count": 19,
   "metadata": {},
   "outputs": [],
   "source": [
    "class Conv1d:\n",
    "    def __init__(self, w, b, stride=1, pad=0):\n",
    "        self.w = w\n",
    "        self.b = b\n",
    "        self.stride = stride\n",
    "        self.pad = pad\n",
    "        \n",
    "        # 中間データ（backward時に使用）\n",
    "        self.X =None\n",
    "        self.col = None\n",
    "        self.col_w = None\n",
    "        \n",
    "        # 重み・バイアスパラメータの勾配\n",
    "        self.dw = None\n",
    "        self.db = None\n",
    "\n",
    "    def forward(self, X):\n",
    "\n",
    "        FN, C, FL = self.w.shape #n_filters(=out_channels), n_channels, filter_length\n",
    "        N, C, L = X.shape #n_samples, n_channels, n_features\n",
    "        out_size = get_out_shape(L, FL, self.stride, self.pad)\n",
    "        \n",
    "        col = im2col_1d(X, FL, self.stride, self.pad)\n",
    "        col_w = self.w.reshape(FN, -1).T\n",
    "\n",
    "        out = col @ col_w + self.b\n",
    "        out = out.reshape(N, out_size, -1).transpose(0, 2, 1)\n",
    "        \n",
    "        # バックワード用\n",
    "        self.X = X\n",
    "        self.col = col\n",
    "        self.col_w = col_w\n",
    "        return out\n",
    "\n",
    "\n",
    "    def backward(self, dout):\n",
    "        FN, C, FL = self.w.shape #n_filters, n_channels, filter_length\n",
    "        dout = dout.transpose(0, 2, 1).reshape(-1, FN)\n",
    "\n",
    "        self.db = np.sum(dout, axis=0)\n",
    "        self.dw = self.col.T @ dout\n",
    "        self.dw = self.dw.transpose(1, 0).reshape(FN, C, FL)\n",
    "        \n",
    "        dcol = dout @ self.col_w.T\n",
    "        dx = col2im_1d(dcol, self.X.shape, FL, self.stride, self.pad)\n",
    "        return dx"
   ]
  },
  {
   "cell_type": "code",
   "execution_count": 20,
   "metadata": {
    "scrolled": true
   },
   "outputs": [
    {
     "name": "stdout",
     "output_type": "stream",
     "text": [
      "[[[16. 22.]\n",
      "  [17. 23.]\n",
      "  [18. 24.]]]\n",
      "(1, 3, 2)\n"
     ]
    }
   ],
   "source": [
    "X = np.array([[[1, 2, 3, 4], [2, 3, 4, 5]]])\n",
    "test = Conv1d(w, b)\n",
    "print(test.forward(X))\n",
    "print(test.forward(X).shape)"
   ]
  },
  {
   "cell_type": "code",
   "execution_count": 21,
   "metadata": {},
   "outputs": [],
   "source": [
    "#参考\n",
    "\n",
    "class Conv1d_:\n",
    "    def __init__(self, w, b, S=1, P=0):\n",
    "        self.w = w\n",
    "        self.b = b\n",
    "        self.S = S\n",
    "        self.P = P\n",
    "    \n",
    "    def forward(self, Z):\n",
    "        self.out_shape = calc_out_shape(Z[0], self.P, self.w[0][0], self.S)\n",
    "        \n",
    "        self.Z = Z\n",
    "        \n",
    "        #格納用\n",
    "        A = np.zeros((self.w.shape[0], self.out_shape))\n",
    "        \n",
    "        for i in range(self.w.shape[0]):\n",
    "            for j in range(self.Z.shape[0]):\n",
    "                for s in range(self.out_shape):\n",
    "                    A[i, j] = A[i, j] + np.dot(self.Z[j, s: s+self.w.shape[2]], self.w[i, j])\n",
    "                    \n",
    "        A = A + self.b.reshape(-1, 1)\n",
    "\n",
    "        return A"
   ]
  },
  {
   "cell_type": "code",
   "execution_count": 22,
   "metadata": {},
   "outputs": [
    {
     "data": {
      "text/plain": [
       "array([[16., 22.],\n",
       "       [17., 23.],\n",
       "       [18., 24.]])"
      ]
     },
     "execution_count": 22,
     "metadata": {},
     "output_type": "execute_result"
    }
   ],
   "source": [
    "test2 = Conv1d_(w, b)\n",
    "test2.forward(x)"
   ]
  },
  {
   "cell_type": "markdown",
   "metadata": {},
   "source": [
    "diverの例と一致している"
   ]
  },
  {
   "cell_type": "markdown",
   "metadata": {},
   "source": [
    "### 【問題5】（アドバンス課題）パディングの実装\n",
    "畳み込み層にパディングの機能を加えてください。1次元配列の場合、前後にn個特徴量を増やせるようにしてください。\n",
    "\n",
    "\n",
    "最も単純なパディングは全て0で埋める ゼロパディング であり、CNNでは一般的です。他に端の値を繰り返す方法などもあります。\n",
    "\n",
    "\n",
    "フレームワークによっては、元の入力のサイズを保つようにという指定をすることができます。この機能も持たせておくと便利です。なお、NumPyにはパディングの関数が存在します。\n",
    "\n",
    "\n",
    "[numpy.pad — NumPy v1.17 Manual](https://docs.scipy.org/doc/numpy/reference/generated/numpy.pad.html)"
   ]
  },
  {
   "cell_type": "markdown",
   "metadata": {},
   "source": [
    "### 【問題6】（アドバンス課題）ミニバッチへの対応\n",
    "ここまでの課題はバッチサイズ1で良いとしてきました。しかし、実際は全結合層同様にミニバッチ学習が行われます。Conv1dクラスを複数のデータが同時に計算できるように変更してください。"
   ]
  },
  {
   "cell_type": "markdown",
   "metadata": {},
   "source": [
    "### 【問題7】（アドバンス課題）任意のストライド数\n",
    "ストライドは1限定の実装をしてきましたが、任意のストライド数に対応できるようにしてください。"
   ]
  },
  {
   "cell_type": "markdown",
   "metadata": {},
   "source": [
    "### 【問題8】学習と推定\n",
    "これまで使ってきたニューラルネットワークの全結合層の一部をConv1dに置き換えてMNISTを学習・推定し、Accuracyを計算してください。\n",
    "\n",
    "\n",
    "出力層だけは全結合層をそのまま使ってください。ただし、チャンネルが複数ある状態では全結合層への入力は行えません。その段階でのチャンネルは1になるようにするか、 平滑化 を行なってください。\n",
    "\n",
    "\n",
    "画像に対しての1次元畳み込みは実用上は行わないことのため、精度は問いません。"
   ]
  },
  {
   "cell_type": "code",
   "execution_count": 23,
   "metadata": {},
   "outputs": [],
   "source": [
    "#Full Connected Layer Class\n",
    "class FC:\n",
    "    \"\"\"\n",
    "    ノード数n_nodes1からn_nodes2への全結合層\n",
    "    Parameters\n",
    "    ----------\n",
    "    n_nodes1 : int\n",
    "      前の層のノード数\n",
    "    n_nodes2 : int\n",
    "      後の層のノード数\n",
    "    initializer : 初期化方法のインスタンス\n",
    "    optimizer : 最適化手法のインスタンス\n",
    "    \"\"\"\n",
    "    def __init__(self, n_nodes1, n_nodes2, initializer, optimizer):\n",
    "        self.optimizer = optimizer\n",
    "        # 初期化\n",
    "        # initializerのメソッドを使い、self.wとself.bを初期化する\n",
    "        self.w = initializer.W(n_nodes1, n_nodes2)\n",
    "        self.b = initializer.B(n_nodes2)\n",
    "        \n",
    "    def forward(self, X):\n",
    "        self.X = X\n",
    "        out = np.dot(self.X, self.w) + self.b\n",
    "        return out\n",
    "    \n",
    "    def backward(self, dout):\n",
    "        dX = np.dot(dout, self.w.T)\n",
    "        self.dw = np.dot(self.X.T, dout)\n",
    "        self.db = np.sum(dout, axis=0, keepdims=True)\n",
    "        \n",
    "        # 重みとバイアスの更新\n",
    "        self = self.optimizer.update(self)\n",
    "        return dX\n",
    "    \n",
    "##########################################\n",
    "class Conv1d:\n",
    "    def __init__(self, initializer, optimizer, stride=1, pad=0):\n",
    "        self.w = initializer.w(n_in=1, n_out=1, fillter_size=700)\n",
    "        self.b = initializer.b(n_out=1)\n",
    "        self.optimizer = optimizer\n",
    "        self.stride = stride\n",
    "        self.pad = pad\n",
    "        \n",
    "        # 中間データ（backward時に使用）\n",
    "        self.X =None\n",
    "        self.col = None\n",
    "        self.col_w = None\n",
    "        \n",
    "        # 重み・バイアスパラメータの勾配\n",
    "        self.dw = None\n",
    "        self.db = None\n",
    "\n",
    "    def forward(self, X):\n",
    "        X_ = X[:, np.newaxis, :]\n",
    "        #print(X_.shape)\n",
    "        FN, C, FL = self.w.shape #n_filters(=out_channels), n_channels, filter_length\n",
    "        N, C, L = X_.shape #n_samples, n_channels, n_features\n",
    "        out_size = get_out_shape(L, FL, self.stride, self.pad)\n",
    "        \n",
    "        col = im2col_1d(X_, FL, self.stride, self.pad)\n",
    "        col_w = self.w.reshape(FN, -1).T\n",
    "        \n",
    "#         print(col.shape)\n",
    "#         print(col_w.shape)\n",
    "#         print((col@col_w).shape)\n",
    "#         print((col@col_w + self.b).shape)\n",
    "        \n",
    "        out = col @ col_w + self.b\n",
    "        out = out.reshape(N, out_size, -1).transpose(0, 2, 1)\n",
    "        #print(out.shape)\n",
    "        out = out.reshape(X.shape[0], -1)\n",
    "        #print(out.shape)\n",
    "        \n",
    "        # バックワード用\n",
    "        self.X_ = X_\n",
    "        self.col = col\n",
    "        self.col_w = col_w\n",
    "        return out\n",
    "\n",
    "\n",
    "    def backward(self, dout):\n",
    "        FN, C, FL = self.w.shape #n_filters, n_channels, filter_length\n",
    "        dout = dout[:, np.newaxis, :]\n",
    "        #print(\"dout\", dout.shape)\n",
    "        dout = dout.transpose(0, 2, 1).reshape(-1, FN)\n",
    "\n",
    "        self.db = np.sum(dout, axis=0)\n",
    "        self.dw = self.col.T @ dout\n",
    "        self.dw = self.dw.transpose(1, 0).reshape(FN, C, FL)\n",
    "        \n",
    "        dcol = dout @ self.col_w.T\n",
    "        dx = col2im_1d(dcol, self.X_.shape, FL, self.stride, self.pad)\n",
    "        \n",
    "        self.optimizer.update(self)\n",
    "        \n",
    "        return dx\n",
    "\n",
    "###########################\n",
    "class SGD:\n",
    "    \"\"\"\n",
    "    確率的勾配降下法\n",
    "    Parameters\n",
    "    ----------\n",
    "    lr : 学習率\n",
    "    \"\"\"\n",
    "    def __init__(self, lr):\n",
    "        self.lr = lr\n",
    "        \n",
    "    def update(self, layer):\n",
    "        \"\"\"\n",
    "        ある層の重みやバイアスの更新\n",
    "        Parameters\n",
    "        ----------\n",
    "        layer : 更新前の層のインスタンス\n",
    "        \"\"\"\n",
    "        layer.w = layer.w - self.lr*layer.dw\n",
    "        layer.b = layer.b - self.lr*layer.db\n",
    "\n",
    "class AdaGrad:\n",
    "    def __init__(self, lr):\n",
    "        self.lr = lr\n",
    "        self.h_w = 0\n",
    "        self.h_b = 0\n",
    "        \n",
    "    def update(self, layer):\n",
    "        self.h_w = self.h_w + (layer.dw**2).sum()\n",
    "        self.h_b = self.h_b + (layer.db**2).sum()\n",
    "        \n",
    "        layer.w = layer.w - self.lr*(1/np.sqrt(self.h_w) + 1e-7)*layer.dw #「1e-7」で0での除算を防ぐ\n",
    "        layer.b = layer.b - self.lr*(1/np.sqrt(self.h_b) + 1e-7)*layer.db\n",
    "        \n",
    "#################################\n",
    "class XavierInitializer:\n",
    "    def __init__(self):\n",
    "        self.sigma = None\n",
    "    \n",
    "    def W(self, n_nodes1, n_nodes2):\n",
    "        self.sigma = 1/np.sqrt(n_nodes1)\n",
    "        W = self.sigma*np.random.randn(n_nodes1, n_nodes2)\n",
    "        \n",
    "        return W\n",
    "    \n",
    "    def B(self, n_nodes2):\n",
    "        B = np.zeros(n_nodes2)\n",
    "        return B\n",
    "\n",
    "class XavierInitializer_conv:\n",
    "    def __init__(self):\n",
    "        self.sigma = None\n",
    "        \n",
    "    def w(self, n_in, n_out, fillter_size):\n",
    "        sigma = 1/np.sqrt(n_in)\n",
    "        if fillter_size == None:\n",
    "            w = sigma * np.random.randn(n_in, n_out) #重みの初期値(全結合層)\n",
    "        else:\n",
    "            w = sigma * np.random.randn(n_out, n_in, fillter_size) #重みの初期値（畳み込み層）\n",
    "        return w\n",
    "\n",
    "    def b(self, n_out):\n",
    "        sigma = 1/np.sqrt(n_out)\n",
    "        b = sigma * np.random.randn(n_out) #バイアスの初期値\n",
    "        return b\n",
    "\n",
    "###############################\n",
    "class Relu:\n",
    "    def __init__(self):\n",
    "        self.mask = None\n",
    "        \n",
    "    def forward(self, x):\n",
    "        self.mask = (x < 0)\n",
    "        out = x.copy()\n",
    "        out[self.mask] = 0\n",
    "        \n",
    "        return out\n",
    "    \n",
    "    def backward(self, dout):\n",
    "        dout[self.mask] = 0\n",
    "        dx = dout\n",
    "        \n",
    "        return dx\n",
    "\n",
    "##################################\n",
    "class Softmax:\n",
    "    def __init__(self):\n",
    "        self.loss = None\n",
    "        self.y = None\n",
    "        self.t = None\n",
    "        \n",
    "    def _softmax(self, X):\n",
    "        X = X - np.max(X, axis=-1, keepdims=True)\n",
    "        y = np.exp(X) / np.sum(np.exp(X), axis=-1, keepdims=True)\n",
    "        \n",
    "        return y\n",
    "    \n",
    "    def forward(self, X, t):\n",
    "        self.t = t\n",
    "        self.y = self._softmax(X)\n",
    "        self.loss = self._cross_entropy_error(self.y, self.t)\n",
    "        return self.loss\n",
    "    \n",
    "    def _cross_entropy_error(self, y, t):     \n",
    "        batch_size = y.shape[0]\n",
    "        return -np.sum(t * np.log(y + 1e-7)) / batch_size\n",
    "    \n",
    "    def backward(self, dout=1):\n",
    "        batch_size = self.t.shape[0]\n",
    "        dX = (self.y - self.t)/batch_size\n",
    "        return dX"
   ]
  },
  {
   "cell_type": "code",
   "execution_count": 24,
   "metadata": {},
   "outputs": [],
   "source": [
    "from collections import OrderedDict\n",
    "\n",
    "class ScratchDeepNeuralNetrowkClassifier():\n",
    "    def __init__(self, lr, fillter_size=3, batch_size=20, max_iter=3):\n",
    "        self.fillter_size = fillter_size\n",
    "        self.batch_size = batch_size\n",
    "        self.max_iter = max_iter\n",
    "        self.train_loss = []\n",
    "        self.test_loss = []\n",
    "        \n",
    "        # レイヤの生成\n",
    "        initializer = XavierInitializer()\n",
    "        initializer_conv = XavierInitializer_conv()\n",
    "        optimizer = SGD(lr=lr)\n",
    "        self.layers = OrderedDict()\n",
    "        self.layers[\"Conv1d\"] = Conv1d(initializer_conv, optimizer, pad=0, stride=1)\n",
    "        self.layers[\"ReLU\"] = Relu()\n",
    "        self.layers[\"FC1\"] = FC(85, 100, initializer, optimizer)\n",
    "        self.layers[\"ReLU_2\"] = Relu()\n",
    "        self.layers[\"FC2\"] = FC(100, 50, initializer, optimizer)\n",
    "        self.layers[\"ReLU_3\"] = Relu()\n",
    "        self.layers[\"FC3\"] = FC(50, 10, initializer, optimizer)\n",
    "        self.lastLayer = Softmax()\n",
    "    \n",
    "    def fit(self, X, y, X_val=None, y_val=None):\n",
    "        # 1エポックの繰り返し数\n",
    "        iter_num = int(len(X) / self.batch_size)\n",
    "            \n",
    "        # エポックを複数回繰り返す\n",
    "        for i_ in range(self.max_iter):\n",
    "            # 損失計算用\n",
    "            tmp_loss_train = []\n",
    "            tmp_loss_val = []\n",
    "\n",
    "            # 1エポック\n",
    "            for j_ in range(iter_num):\n",
    "                batch_mask = np.random.choice(X.shape[0], self.batch_size)\n",
    "                batch_mask_val = np.random.choice(X_val.shape[0], self.batch_size)\n",
    "                X_batch = X[batch_mask]\n",
    "                y_batch = y[batch_mask]\n",
    "                X_val_batch = X_val[batch_mask_val]\n",
    "                y_val_batch = y_val[batch_mask_val]\n",
    "                \n",
    "                #勾配\n",
    "                self.gradient(X_batch, y_batch)\n",
    "                \n",
    "                #更新\n",
    "                loss = self.loss(X_batch, y_batch)\n",
    "                tmp_loss_train.append(loss)\n",
    "                if (X_val is not None) and (y_val is not None):\n",
    "                    loss_test = self.loss(X_val_batch, y_val_batch)\n",
    "                    tmp_loss_val.append(loss_test)\n",
    "                \n",
    "                #print(i_, j_)\n",
    "                    \n",
    "            self.train_loss.append(sum(tmp_loss_train)/len(tmp_loss_train))\n",
    "            self.test_loss.append(sum(tmp_loss_val)/len(tmp_loss_val))\n",
    "                \n",
    "    def predict(self, X):\n",
    "        \"\"\"\n",
    "        ニューラルネットワーク分類器を使い推定する。\n",
    "\n",
    "        Parameters\n",
    "        ----------\n",
    "        X : 次の形のndarray, shape (n_samples, n_features)\n",
    "            サンプル\n",
    "\n",
    "        Returns\n",
    "        -------\n",
    "            次の形のndarray, shape (n_samples, 1)\n",
    "            推定結果\n",
    "        \"\"\"\n",
    "        for layer in self.layers.values():\n",
    "            X = layer.forward(X)\n",
    "            \n",
    "        pred = np.argmax(X, axis=1)\n",
    "        \n",
    "        return pred\n",
    "    \n",
    "    def loss(self, X, t):\n",
    "        for layer in self.layers.values():\n",
    "            X = layer.forward(X)\n",
    "\n",
    "        return self.lastLayer.forward(X, t)\n",
    "\n",
    "    def gradient(self, X, t):\n",
    "        #forward\n",
    "        self.loss(X, t)\n",
    "        \n",
    "        #backward\n",
    "        dout = 1\n",
    "        dout = self.lastLayer.backward(dout)\n",
    "        \n",
    "        layers = list(self.layers.values())\n",
    "        layers.reverse()\n",
    "        for layer in layers:\n",
    "            dout = layer.backward(dout)"
   ]
  },
  {
   "cell_type": "code",
   "execution_count": 25,
   "metadata": {},
   "outputs": [
    {
     "name": "stdout",
     "output_type": "stream",
     "text": [
      "(400, 784) (400, 10)\n",
      "(100, 784) (100, 10)\n"
     ]
    }
   ],
   "source": [
    "from keras.datasets import mnist\n",
    "(X_train, y_train), (X_test, y_test) = mnist.load_data()\n",
    "\n",
    "#平滑化、正規化\n",
    "X_train = X_train.reshape(-1, 784)\n",
    "X_test = X_test.reshape(-1, 784)\n",
    "X_train = X_train.astype(np.float)\n",
    "X_test = X_test.astype(np.float)\n",
    "X_train /= 255\n",
    "X_test /= 255\n",
    "\n",
    "#ワンホットエンコーディング\n",
    "from sklearn.preprocessing import OneHotEncoder\n",
    "enc = OneHotEncoder(handle_unknown='ignore', sparse=False)\n",
    "y_train_one_hot = enc.fit_transform(y_train[:, np.newaxis])\n",
    "y_test_one_hot = enc.transform(y_test[:, np.newaxis])\n",
    "\n",
    "X_train, X_val, y_train, y_val = train_test_split(X_train[:500], y_train_one_hot[:500], test_size=0.2)\n",
    "\n",
    "print(X_train.shape, y_train.shape) # (48000, 784)\n",
    "print(X_val.shape, y_val.shape)"
   ]
  },
  {
   "cell_type": "markdown",
   "metadata": {},
   "source": [
    "デフォルトのデータ数だと学習に時間がかかりすぎるので、流れを確認できれば良いと思いデータ数を減らした。"
   ]
  },
  {
   "cell_type": "code",
   "execution_count": 26,
   "metadata": {},
   "outputs": [],
   "source": [
    "dnn = ScratchDeepNeuralNetrowkClassifier(lr=0.1, batch_size=20, max_iter=10)\n",
    "dnn.fit(X_train, y_train, X_val, y_val)"
   ]
  },
  {
   "cell_type": "code",
   "execution_count": 27,
   "metadata": {
    "code_folding": []
   },
   "outputs": [
    {
     "name": "stdout",
     "output_type": "stream",
     "text": [
      "予測： [9 9 2 6 4 8 6 6 3 3 0 3 5 7 1 3 5 5 7 6 3 4 2 8 5 5 6 4 9 6 1 6 6 1 1 1 8\n",
      " 1 9 2 3 9 1 4 4 4 2 9 3 1 5 9 3 2 7 1 7 8 5 3 7 3 1 1 3 6 0 0 1 3 5 9 4 5\n",
      " 0 4 4 8 0 8 3 4 9 8 7 4 5 0 7 7 7 6 0 8 2 1 5 4 3 8]\n",
      "正答率:0.68\n"
     ]
    }
   ],
   "source": [
    "from sklearn.metrics import accuracy_score\n",
    "\n",
    "y_val = np.argmax(y_val, axis=1)\n",
    "y_pred = dnn.predict(X_val)\n",
    "\n",
    "print(\"予測：\", y_pred)\n",
    "print(\"正答率:{}\".format(accuracy_score(y_pred, y_val)))"
   ]
  },
  {
   "cell_type": "code",
   "execution_count": 28,
   "metadata": {},
   "outputs": [
    {
     "data": {
      "image/png": "[encoded data removed]",
      "text/plain": [
       "<Figure size 432x288 with 1 Axes>"
      ]
     },
     "metadata": {
      "needs_background": "light"
     },
     "output_type": "display_data"
    }
   ],
   "source": [
    "plt.plot(np.arange(1, len(dnn.train_loss)+1), dnn.train_loss, label=\"train_loss\")\n",
    "plt.plot(np.arange(1, len(dnn.train_loss)+1), dnn.test_loss, label=\"val_loss\")\n",
    "plt.legend()\n",
    "plt.show()"
   ]
  }
 ],
 "metadata": {
  "kernelspec": {
   "display_name": "Python 3",
   "language": "python",
   "name": "python3"
  },
  "language_info": {
   "codemirror_mode": {
    "name": "ipython",
    "version": 3
   },
   "file_extension": ".py",
   "mimetype": "text/x-python",
   "name": "python",
   "nbconvert_exporter": "python",
   "pygments_lexer": "ipython3",
   "version": "3.7.2"
  },
  "toc": {
   "base_numbering": 1,
   "nav_menu": {},
   "number_sections": true,
   "sideBar": true,
   "skip_h1_title": false,
   "title_cell": "Table of Contents",
   "title_sidebar": "Contents",
   "toc_cell": false,
   "toc_position": {},
   "toc_section_display": true,
   "toc_window_display": false
  },
  "varInspector": {
   "cols": {
    "lenName": 16,
    "lenType": 16,
    "lenVar": 40
   },
   "kernels_config": {
    "python": {
     "delete_cmd_postfix": "",
     "delete_cmd_prefix": "del ",
     "library": "var_list.py",
     "varRefreshCmd": "print(var_dic_list())"
    },
    "r": {
     "delete_cmd_postfix": ") ",
     "delete_cmd_prefix": "rm(",
     "library": "var_list.r",
     "varRefreshCmd": "cat(var_dic_list()) "
    }
   },
   "types_to_exclude": [
    "module",
    "function",
    "builtin_function_or_method",
    "instance",
    "_Feature"
   ],
   "window_display": false
  }
 },
 "nbformat": 4,
 "nbformat_minor": 2
}
