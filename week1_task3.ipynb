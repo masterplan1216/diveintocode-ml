{
 "cells": [
  {
   "cell_type": "markdown",
   "metadata": {},
   "source": [
    "## **栗まんじゅう問題**  \n",
    "漫画ドラえもんには「バイバイン」という道具が登場する、2のn乗に関する有名なエピソード[1]があります。\n",
    "\n",
    "\n",
    "[1] 藤子・Ｆ・不二雄(1979)『ドラえもん（１７）』小学館.\n",
    "\n",
    "\n",
    "「バイバイン」は薬品で、これを振掛けるとその物体は5分ごとに倍に増えるという働きがあります。作中では栗まんじゅうを増やしますが、食べきれなくなったためロケットを使い宇宙に捨てました。\n",
    "\n",
    "\n",
    "ここで度々話題になるのが、栗まんじゅうはその後宇宙でどのように増えていくのかについてです。様々な議論がされていますが、今回は単純に栗まんじゅうの体積がどう増えるかを計算してみましょう。"
   ]
  },
  {
   "cell_type": "markdown",
   "metadata": {},
   "source": [
    "**【問題】栗まんじゅうが太陽系を覆う日**  \n",
    "1個の栗まんじゅうにバイバインを振りかけた場合、太陽系が栗まんじゅうで覆われるのは何分後でしょうか。これを計算するプログラムを作成してください。\n",
    "\n",
    "\n",
    "栗まんじゅうや太陽系の体積を調査した上で仮定して計算してください。栗まんじゅうの隙間や重力などは考えず、問題を単純化して構いません。\n",
    "\n",
    "\n",
    "ボールにバイバインを振りかけた時、東京ドームが一杯になる時間など他の状況にも適用できるような汎用的なプログラムを作成してください。また、グラフを表示するなど分かりやすいノートブックを作成してください。"
   ]
  },
  {
   "cell_type": "markdown",
   "metadata": {},
   "source": [
    "●関数の作成"
   ]
  },
  {
   "cell_type": "code",
   "execution_count": 1,
   "metadata": {},
   "outputs": [],
   "source": [
    "import math\n",
    "\n",
    "def sphere_volume(r):\n",
    "    \"\"\"\n",
    "    球体の半径を与えると、体積を返す関数\n",
    "    \n",
    "    Parameter\n",
    "    ---------\n",
    "    r: 半径\n",
    "    \n",
    "    Return\n",
    "    --------\n",
    "    volume: 体積\n",
    "    \"\"\"\n",
    "    volume = (4/3)*math.pi*r**3\n",
    "    \n",
    "    return volume"
   ]
  },
  {
   "cell_type": "markdown",
   "metadata": {},
   "source": [
    "●栗まんじゅうの体積   \n",
    "$$60mm × 40mm × 30mm = 72000[mm^3]$$  \n",
    "[km]換算すると、$$7.2×10^{-14}[km^3]$$\n",
    ">参考http://www.suya-honke.co.jp/products/detail.php?product_id=31"
   ]
  },
  {
   "cell_type": "code",
   "execution_count": 2,
   "metadata": {},
   "outputs": [],
   "source": [
    "KURI = 7.2*10**-14"
   ]
  },
  {
   "cell_type": "markdown",
   "metadata": {},
   "source": [
    "●太陽系の体積  \n",
    "半径1光年の球体の大きさとする。1光年＝約9兆5000億km  \n",
    ">参考http://earth38moon.blog115.fc2.com/blog-entry-27.html"
   ]
  },
  {
   "cell_type": "code",
   "execution_count": 3,
   "metadata": {},
   "outputs": [
    {
     "name": "stdout",
     "output_type": "stream",
     "text": [
      "太陽系の体積は、3.5913640018287316e+39[k㎥]\n"
     ]
    }
   ],
   "source": [
    "TAIYOUKEI = sphere_volume(9.5*10**12)\n",
    "print(\"太陽系の体積は、{}[k㎥]\".format(TAIYOUKEI))"
   ]
  },
  {
   "cell_type": "markdown",
   "metadata": {},
   "source": [
    "●関数の作成"
   ]
  },
  {
   "cell_type": "code",
   "execution_count": 4,
   "metadata": {},
   "outputs": [],
   "source": [
    "def calculate_time(unit_time, volume, target_volume):\n",
    "    \"\"\"\n",
    "    「（A）が倍になる単位時間」「任意の体積（A）」「対象となる任意の体積（B）」を与えると、\n",
    "    単位時間辺りに倍に増える（A）が、（B）の体積を超えるのに必要な時間を返す関数\n",
    "    \n",
    "    Parameter\n",
    "    --------\n",
    "    unit_time：倍になる単位時間\n",
    "    volume：任意の体積（A）\n",
    "    target_volume：対象となる任意の体積（B）\n",
    "    \n",
    "    Return\n",
    "    -------\n",
    "    necessary_time：必要な時間\n",
    "    \"\"\"\n",
    "    num = 0 #繰り返し回数\n",
    "    change_volume = volume\n",
    "    \n",
    "    while change_volume <= target_volume:\n",
    "        change_volume *= 2\n",
    "        if change_volume > target_volume:\n",
    "            break\n",
    "        num += 1\n",
    "    \n",
    "    necessary_time = num*unit_time\n",
    "    \n",
    "    return necessary_time"
   ]
  },
  {
   "cell_type": "markdown",
   "metadata": {},
   "source": [
    "●栗まんじゅうが太陽系を覆うのにかかる時間"
   ]
  },
  {
   "cell_type": "code",
   "execution_count": 5,
   "metadata": {},
   "outputs": [
    {
     "name": "stdout",
     "output_type": "stream",
     "text": [
      "875分\n",
      "時間換算で14時間35分\n"
     ]
    }
   ],
   "source": [
    "necessary_time = calculate_time(5, KURI, TAIYOUKEI)\n",
    "print(\"{}分\".format(necessary_time))\n",
    "print(\"時間換算で{}時間{}分\".format(necessary_time//60, necessary_time%60))"
   ]
  },
  {
   "cell_type": "markdown",
   "metadata": {},
   "source": [
    "関数を作成したので、栗まんじゅうが太陽系を覆う時間に限らず、あらゆる場合に対応できる。"
   ]
  },
  {
   "cell_type": "markdown",
   "metadata": {},
   "source": [
    "●グラフの作成  \n",
    "栗まんじゅうの単位時間辺りの体積の増え方をグラフ化"
   ]
  },
  {
   "cell_type": "code",
   "execution_count": 8,
   "metadata": {},
   "outputs": [
    {
     "data": {
      "image/png": "[encoded data removed]",
      "text/plain": [
       "<Figure size 432x288 with 1 Axes>"
      ]
     },
     "metadata": {
      "needs_background": "light"
     },
     "output_type": "display_data"
    }
   ],
   "source": [
    "import numpy as np\n",
    "import matplotlib.pyplot as plt\n",
    "from matplotlib.ticker import ScalarFormatter\n",
    "\n",
    "unit_time = 5 #単位時間\n",
    "\n",
    "x = np.arange(0, 875, unit_time) #0〜875を5で分割\n",
    "y = KURI*2**(x/unit_time) #栗の体積の増え方の式\n",
    "\n",
    "#figureの設定\n",
    "fig = plt.figure()\n",
    "\n",
    "#axesの作成\n",
    "ax = fig.add_subplot(1, 1, 1, \\\n",
    "                    title=\"How to increase 'kurimanju'\", \\\n",
    "                    xlabel=\"time\", \\\n",
    "                    ylabel=\"volume\", \\\n",
    "                    xlim=(0,900)) #横軸の範囲\n",
    "ax.yaxis.set_major_formatter(ScalarFormatter(useMathText=True)) #指数表記の変更\n",
    "ax.grid()\n",
    "ax.plot(x, y) #折れ線グラフのプロット\n",
    "plt.show() #プロットの表示"
   ]
  }
 ],
 "metadata": {
  "kernelspec": {
   "display_name": "Python 3",
   "language": "python",
   "name": "python3"
  },
  "language_info": {
   "codemirror_mode": {
    "name": "ipython",
    "version": 3
   },
   "file_extension": ".py",
   "mimetype": "text/x-python",
   "name": "python",
   "nbconvert_exporter": "python",
   "pygments_lexer": "ipython3",
   "version": "3.7.2"
  }
 },
 "nbformat": 4,
 "nbformat_minor": 2
}
