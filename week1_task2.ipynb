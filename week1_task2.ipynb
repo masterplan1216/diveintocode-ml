{
 "cells": [
  {
   "cell_type": "markdown",
   "metadata": {},
   "source": [
    "## **何回折ったら富士山を超えるか問題**"
   ]
  },
  {
   "cell_type": "markdown",
   "metadata": {},
   "source": [
    "**【問題1】富士山を超える最小の折る回数**  \n",
    "厚さが「富士山(3776m)」を超えるのは何回紙を折った時か計算するプログラムを作成してください。  \n",
    "n回折った紙の厚さ $t_n$ は以下のように表せます。\n",
    "\n",
    "$$\n",
    "t_n=t_0×2^n\n",
    "$$\n",
    "\n",
    "折る前の紙の厚さ $t_0$ は0.00008mとします。一般的なコピー用紙の厚さです。"
   ]
  },
  {
   "cell_type": "code",
   "execution_count": 1,
   "metadata": {},
   "outputs": [
    {
     "name": "stdout",
     "output_type": "stream",
     "text": [
      "26回折ったら富士山を超える\n"
     ]
    }
   ],
   "source": [
    "FUJI = 3776 #富士山の高さ[m]\n",
    "THICKNESS = 0.00008 #折る前の紙の厚さ[m]\n",
    "folded_thickness = THICKNESS #0回折った時の紙の厚さ[m]\n",
    "folded_num = 0 #折った回数\n",
    "\n",
    "while folded_thickness <= FUJI: #富士山を超えない限り繰り返す\n",
    "    folded_thickness = THICKNESS*(2**folded_num)\n",
    "    if folded_thickness > FUJI: #富士山を超えたらbreakする\n",
    "        break\n",
    "    folded_num += 1\n",
    "\n",
    "print(\"{}回折ったら富士山を超える\".format(folded_num))\n",
    "#print(THICKNESS*(2**26))\n",
    "#print(THICKNESS*(2**25))"
   ]
  },
  {
   "cell_type": "markdown",
   "metadata": {},
   "source": [
    "**【問題2】任意の厚さに対応した関数を作成**  \n",
    "距離を入力すると、何回折った時に超えるかを出力する関数を作成してください。引数として、折る前の厚さ$t_0$も設定できるようにしましょう。\n",
    "\n",
    "この関数を利用して、「最も近い太陽以外の恒星」に到達するには紙を何回折る必要があるか計算してください。「最も近い太陽以外の恒星」の距離は調査してください。\n",
    "\n"
   ]
  },
  {
   "cell_type": "markdown",
   "metadata": {},
   "source": [
    "●関数の作成"
   ]
  },
  {
   "cell_type": "code",
   "execution_count": 2,
   "metadata": {},
   "outputs": [],
   "source": [
    "def calculate_folded_num(thickness, distance):\n",
    "    \"\"\"\n",
    "    「元の紙の厚み」と「任意の距離」を与えると、\n",
    "    その距離を超えるまでに、何回紙を折ったかを出力する関数\n",
    "    \n",
    "    Parameters\n",
    "    ----------\n",
    "    thickness: 元の紙の厚み\n",
    "    distance: 距離\n",
    "    \n",
    "    Return\n",
    "    ----------\n",
    "    folded_num: 折った回数\n",
    "    \"\"\"\n",
    "    folded_thickness = thickness\n",
    "    folded_num = 0\n",
    "    \n",
    "    while folded_thickness <= distance:\n",
    "        folded_thickness = thickness*(2**folded_num)\n",
    "        if folded_thickness > distance:\n",
    "            break\n",
    "        folded_num += 1\n",
    "    \n",
    "    return folded_num"
   ]
  },
  {
   "cell_type": "markdown",
   "metadata": {},
   "source": [
    "●最も近い太陽以外の恒星とその距離  \n",
    "  \n",
    "最も近い太陽以外の恒星は「プロキシマ・ケンタウリ」で、地球からの距離は「4.22光年」  \n",
    "1光年 = 約9兆5000億km\n",
    ">参考\n",
    "http://spaceinfo.jaxa.jp/ja/vast_universe.html"
   ]
  },
  {
   "cell_type": "markdown",
   "metadata": {},
   "source": [
    "●プロキシマ・ケンタウリに到達するのに必要な紙を折る回数"
   ]
  },
  {
   "cell_type": "code",
   "execution_count": 3,
   "metadata": {},
   "outputs": [
    {
     "name": "stdout",
     "output_type": "stream",
     "text": [
      "厚さ0.00008の紙を69回折ると、プロキシマ・ケンタウリに到達する\n"
     ]
    }
   ],
   "source": [
    "folded_num = calculate_folded_num(THICKNESS, 4.22*9.5*(10**15))\n",
    "print(\"厚さ0.00008の紙を{}回折ると、プロキシマ・ケンタウリに到達する\".format(folded_num))"
   ]
  },
  {
   "cell_type": "markdown",
   "metadata": {},
   "source": [
    "**【問題3】必要な紙の長さ**  \n",
    "実際のところ身近にある紙は43回はおろか10回も折れません。しかし、大きな紙ほどたくさん折ることができ、トイレットペーパーのような長い紙を一方向に折ることを考えた時に、~~折れる回数~~n回折るために必要な紙の長さを求める公式が存在します。\n",
    "\n",
    "厚さ $t_{0}$ の紙をn回折るために必要な紙の長さLは以下の公式で求まります。\n",
    "$$\n",
    "L=\\frac{πt_0}{6}(2^n+4)(2^n-1)\n",
    "$$\n",
    "この公式を利用して、実際に紙を折り任意の厚さに到達するために必要な紙の長さを求める関数を作成してください。\n",
    "\n",
    "\n",
    "そしてこれを使って「月」「富士山」「最も近い太陽以外の恒星」に届くために必要な紙の長さを求めてください。"
   ]
  },
  {
   "cell_type": "markdown",
   "metadata": {},
   "source": [
    "●関数の作成"
   ]
  },
  {
   "cell_type": "code",
   "execution_count": 4,
   "metadata": {},
   "outputs": [],
   "source": [
    "import math\n",
    "math.pi\n",
    "\n",
    "def calculate_length(thickness, distance):\n",
    "    \"\"\"\n",
    "    「元の紙の厚さ」と「任意の距離」を与えると、\n",
    "    「その距離を超えるまで紙を折り続けるために必要な紙の長さ」を返す関数\n",
    "    ※長い紙を一方向に折ることとする\n",
    "    \n",
    "    Parameters\n",
    "    -----------\n",
    "    thickness: 元の紙の厚さ\n",
    "    distance: 任意の距離\n",
    "    \n",
    "    Return\n",
    "    ---------\n",
    "    necessary_length: 必要な紙の長さ\n",
    "    \"\"\"\n",
    "    folded_num = calculate_folded_num(thickness, distance)\n",
    "    necessary_length = (math.pi*thickness/6)*(2**folded_num + 4)*(2**folded_num - 1)\n",
    "\n",
    "    return necessary_length"
   ]
  },
  {
   "cell_type": "markdown",
   "metadata": {},
   "source": [
    "●「月」「富士山」「最も近い太陽以外の恒星」に届くために必要な紙の長さ  \n",
    "地球から月までの距離は約38万km  \n",
    ">http://spaceinfo.jaxa.jp/ja/distance_moon.html  \n",
    "\n",
    "富士山の高さは3776m  \n",
    "最も近い太陽以外の恒星（プロキシマ・ケンタウリ）までの距離は4.22光年"
   ]
  },
  {
   "cell_type": "code",
   "execution_count": 5,
   "metadata": {},
   "outputs": [
    {
     "name": "stdout",
     "output_type": "stream",
     "text": [
      "月に到達するまで折り続けるために必要な紙の長さは、3.240919444170781e+21m\n",
      "富士山を超えるまで折り続けるために必要な紙の長さは、188646348487.24017m\n",
      "プロキシマ・ケンタウリに到達するまで折り続けるために必要な紙の長さは、1.4595803601100348e+37m\n"
     ]
    }
   ],
   "source": [
    "#月\n",
    "necessary_len_moon = calculate_length(THICKNESS, 380000000)\n",
    "print(\"月に到達するまで折り続けるために必要な紙の長さは、{}m\".format(necessary_len_moon))\n",
    "\n",
    "#富士山\n",
    "necessary_len_fuji = calculate_length(THICKNESS, 3776)\n",
    "print(\"富士山を超えるまで折り続けるために必要な紙の長さは、{}m\".format(necessary_len_fuji))\n",
    "\n",
    "#プロキシマ・ケンタウリ\n",
    "necessary_len_proxi = calculate_length(THICKNESS, 4.22*9.5*(10**15))\n",
    "print(\"プロキシマ・ケンタウリに到達するまで折り続けるために必要な紙の長さは、{}m\".format(necessary_len_proxi))"
   ]
  }
 ],
 "metadata": {
  "kernelspec": {
   "display_name": "Python 3",
   "language": "python",
   "name": "python3"
  },
  "language_info": {
   "codemirror_mode": {
    "name": "ipython",
    "version": 3
   },
   "file_extension": ".py",
   "mimetype": "text/x-python",
   "name": "python",
   "nbconvert_exporter": "python",
   "pygments_lexer": "ipython3",
   "version": "3.7.2"
  }
 },
 "nbformat": 4,
 "nbformat_minor": 2
}
